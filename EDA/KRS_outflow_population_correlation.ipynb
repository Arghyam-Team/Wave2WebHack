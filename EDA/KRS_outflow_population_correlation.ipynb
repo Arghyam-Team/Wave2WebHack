{
 "cells": [
  {
   "cell_type": "code",
   "execution_count": 6,
   "metadata": {},
   "outputs": [],
   "source": [
    "import pandas as pd\n",
    "import matplotlib.pyplot as plt\n",
    "import numpy as np\n",
    "from datetime import datetime"
   ]
  },
  {
   "cell_type": "code",
   "execution_count": 202,
   "metadata": {},
   "outputs": [],
   "source": [
    "krs = pd.read_csv(\"C:\\\\personal\\\\projects\\\\wave2web\\\\KRS.csv\")"
   ]
  },
  {
   "cell_type": "code",
   "execution_count": 21,
   "metadata": {},
   "outputs": [
    {
     "name": "stdout",
     "output_type": "stream",
     "text": [
      "<class 'pandas.core.frame.DataFrame'>\n",
      "RangeIndex: 3313 entries, 0 to 3312\n",
      "Data columns (total 10 columns):\n",
      " #   Column               Non-Null Count  Dtype  \n",
      "---  ------               --------------  -----  \n",
      " 0   SL_NO                3313 non-null   int64  \n",
      " 1   RESERVOIR            3313 non-null   object \n",
      " 2   YEAR                 3313 non-null   int64  \n",
      " 3   WEEK_NO              3313 non-null   int64  \n",
      " 4   FLOW_DATE            3313 non-null   object \n",
      " 5   PRESENT_STORAGE_TMC  3313 non-null   float64\n",
      " 6   RES_LEVEL_FT         3313 non-null   object \n",
      " 7   INFLOW_CUSECS        3313 non-null   object \n",
      " 8   OUTFLOW_CUECS        3313 non-null   int64  \n",
      " 9   UNIQUE_KEY           3313 non-null   object \n",
      "dtypes: float64(1), int64(4), object(5)\n",
      "memory usage: 259.0+ KB\n"
     ]
    }
   ],
   "source": [
    "krs.info()"
   ]
  },
  {
   "cell_type": "code",
   "execution_count": 22,
   "metadata": {},
   "outputs": [
    {
     "data": {
      "text/html": [
       "<div>\n",
       "<style scoped>\n",
       "    .dataframe tbody tr th:only-of-type {\n",
       "        vertical-align: middle;\n",
       "    }\n",
       "\n",
       "    .dataframe tbody tr th {\n",
       "        vertical-align: top;\n",
       "    }\n",
       "\n",
       "    .dataframe thead th {\n",
       "        text-align: right;\n",
       "    }\n",
       "</style>\n",
       "<table border=\"1\" class=\"dataframe\">\n",
       "  <thead>\n",
       "    <tr style=\"text-align: right;\">\n",
       "      <th></th>\n",
       "      <th>SL_NO</th>\n",
       "      <th>YEAR</th>\n",
       "      <th>WEEK_NO</th>\n",
       "      <th>PRESENT_STORAGE_TMC</th>\n",
       "      <th>OUTFLOW_CUECS</th>\n",
       "    </tr>\n",
       "  </thead>\n",
       "  <tbody>\n",
       "    <tr>\n",
       "      <th>count</th>\n",
       "      <td>3313.000000</td>\n",
       "      <td>3313.000000</td>\n",
       "      <td>3313.000000</td>\n",
       "      <td>3313.000000</td>\n",
       "      <td>3313.000000</td>\n",
       "    </tr>\n",
       "    <tr>\n",
       "      <th>mean</th>\n",
       "      <td>22243.906731</td>\n",
       "      <td>2015.733172</td>\n",
       "      <td>27.738605</td>\n",
       "      <td>28.056453</td>\n",
       "      <td>4841.711138</td>\n",
       "    </tr>\n",
       "    <tr>\n",
       "      <th>std</th>\n",
       "      <td>12762.354003</td>\n",
       "      <td>2.827366</td>\n",
       "      <td>14.926730</td>\n",
       "      <td>14.358629</td>\n",
       "      <td>9499.776372</td>\n",
       "    </tr>\n",
       "    <tr>\n",
       "      <th>min</th>\n",
       "      <td>51.000000</td>\n",
       "      <td>2010.000000</td>\n",
       "      <td>1.000000</td>\n",
       "      <td>0.000000</td>\n",
       "      <td>0.000000</td>\n",
       "    </tr>\n",
       "    <tr>\n",
       "      <th>25%</th>\n",
       "      <td>11135.000000</td>\n",
       "      <td>2014.000000</td>\n",
       "      <td>15.000000</td>\n",
       "      <td>14.310000</td>\n",
       "      <td>715.000000</td>\n",
       "    </tr>\n",
       "    <tr>\n",
       "      <th>50%</th>\n",
       "      <td>22489.000000</td>\n",
       "      <td>2016.000000</td>\n",
       "      <td>29.000000</td>\n",
       "      <td>27.380000</td>\n",
       "      <td>3703.000000</td>\n",
       "    </tr>\n",
       "    <tr>\n",
       "      <th>75%</th>\n",
       "      <td>33274.000000</td>\n",
       "      <td>2018.000000</td>\n",
       "      <td>41.000000</td>\n",
       "      <td>42.100000</td>\n",
       "      <td>5161.000000</td>\n",
       "    </tr>\n",
       "    <tr>\n",
       "      <th>max</th>\n",
       "      <td>43919.000000</td>\n",
       "      <td>2020.000000</td>\n",
       "      <td>52.000000</td>\n",
       "      <td>49.450000</td>\n",
       "      <td>151365.000000</td>\n",
       "    </tr>\n",
       "  </tbody>\n",
       "</table>\n",
       "</div>"
      ],
      "text/plain": [
       "              SL_NO         YEAR      WEEK_NO  PRESENT_STORAGE_TMC  \\\n",
       "count   3313.000000  3313.000000  3313.000000          3313.000000   \n",
       "mean   22243.906731  2015.733172    27.738605            28.056453   \n",
       "std    12762.354003     2.827366    14.926730            14.358629   \n",
       "min       51.000000  2010.000000     1.000000             0.000000   \n",
       "25%    11135.000000  2014.000000    15.000000            14.310000   \n",
       "50%    22489.000000  2016.000000    29.000000            27.380000   \n",
       "75%    33274.000000  2018.000000    41.000000            42.100000   \n",
       "max    43919.000000  2020.000000    52.000000            49.450000   \n",
       "\n",
       "       OUTFLOW_CUECS  \n",
       "count    3313.000000  \n",
       "mean     4841.711138  \n",
       "std      9499.776372  \n",
       "min         0.000000  \n",
       "25%       715.000000  \n",
       "50%      3703.000000  \n",
       "75%      5161.000000  \n",
       "max    151365.000000  "
      ]
     },
     "execution_count": 22,
     "metadata": {},
     "output_type": "execute_result"
    }
   ],
   "source": [
    "krs.describe()"
   ]
  },
  {
   "cell_type": "code",
   "execution_count": 203,
   "metadata": {},
   "outputs": [],
   "source": [
    "popu = pd.read_csv(\"C:\\\\personal\\\\projects\\\\wave2web\\\\Bangalore-population-2021-07-17.csv\")"
   ]
  },
  {
   "cell_type": "code",
   "execution_count": 131,
   "metadata": {},
   "outputs": [
    {
     "data": {
      "text/html": [
       "<div>\n",
       "<style scoped>\n",
       "    .dataframe tbody tr th:only-of-type {\n",
       "        vertical-align: middle;\n",
       "    }\n",
       "\n",
       "    .dataframe tbody tr th {\n",
       "        vertical-align: top;\n",
       "    }\n",
       "\n",
       "    .dataframe thead th {\n",
       "        text-align: right;\n",
       "    }\n",
       "</style>\n",
       "<table border=\"1\" class=\"dataframe\">\n",
       "  <thead>\n",
       "    <tr style=\"text-align: right;\">\n",
       "      <th></th>\n",
       "      <th>SL_NO</th>\n",
       "      <th>RESERVOIR</th>\n",
       "      <th>YEAR</th>\n",
       "      <th>WEEK_NO</th>\n",
       "      <th>FLOW_DATE</th>\n",
       "      <th>PRESENT_STORAGE_TMC</th>\n",
       "      <th>RES_LEVEL_FT</th>\n",
       "      <th>INFLOW_CUSECS</th>\n",
       "      <th>OUTFLOW_CUECS</th>\n",
       "      <th>UNIQUE_KEY</th>\n",
       "    </tr>\n",
       "  </thead>\n",
       "  <tbody>\n",
       "    <tr>\n",
       "      <th>0</th>\n",
       "      <td>51</td>\n",
       "      <td>K.R.S</td>\n",
       "      <td>2011</td>\n",
       "      <td>1</td>\n",
       "      <td>2011-01-01</td>\n",
       "      <td>46.42</td>\n",
       "      <td>122.59</td>\n",
       "      <td>2029</td>\n",
       "      <td>2000</td>\n",
       "      <td>K.R.S-2011-01-01</td>\n",
       "    </tr>\n",
       "    <tr>\n",
       "      <th>1</th>\n",
       "      <td>52</td>\n",
       "      <td>K.R.S</td>\n",
       "      <td>2011</td>\n",
       "      <td>1</td>\n",
       "      <td>2011-01-02</td>\n",
       "      <td>46.54</td>\n",
       "      <td>122.68</td>\n",
       "      <td>3084</td>\n",
       "      <td>1490</td>\n",
       "      <td>K.R.S-2011-01-02</td>\n",
       "    </tr>\n",
       "    <tr>\n",
       "      <th>2</th>\n",
       "      <td>53</td>\n",
       "      <td>K.R.S</td>\n",
       "      <td>2011</td>\n",
       "      <td>1</td>\n",
       "      <td>2011-01-03</td>\n",
       "      <td>46.64</td>\n",
       "      <td>122.75</td>\n",
       "      <td>2776</td>\n",
       "      <td>1491</td>\n",
       "      <td>K.R.S-2011-01-03</td>\n",
       "    </tr>\n",
       "    <tr>\n",
       "      <th>3</th>\n",
       "      <td>54</td>\n",
       "      <td>K.R.S</td>\n",
       "      <td>2011</td>\n",
       "      <td>1</td>\n",
       "      <td>2011-01-04</td>\n",
       "      <td>46.69</td>\n",
       "      <td>122.79</td>\n",
       "      <td>2311</td>\n",
       "      <td>1491</td>\n",
       "      <td>K.R.S-2011-01-04</td>\n",
       "    </tr>\n",
       "    <tr>\n",
       "      <th>4</th>\n",
       "      <td>55</td>\n",
       "      <td>K.R.S</td>\n",
       "      <td>2011</td>\n",
       "      <td>1</td>\n",
       "      <td>2011-01-05</td>\n",
       "      <td>46.70</td>\n",
       "      <td>122.80</td>\n",
       "      <td>1847</td>\n",
       "      <td>1491</td>\n",
       "      <td>K.R.S-2011-01-05</td>\n",
       "    </tr>\n",
       "  </tbody>\n",
       "</table>\n",
       "</div>"
      ],
      "text/plain": [
       "   SL_NO RESERVOIR  YEAR  WEEK_NO   FLOW_DATE  PRESENT_STORAGE_TMC  \\\n",
       "0     51     K.R.S  2011        1  2011-01-01                46.42   \n",
       "1     52     K.R.S  2011        1  2011-01-02                46.54   \n",
       "2     53     K.R.S  2011        1  2011-01-03                46.64   \n",
       "3     54     K.R.S  2011        1  2011-01-04                46.69   \n",
       "4     55     K.R.S  2011        1  2011-01-05                46.70   \n",
       "\n",
       "  RES_LEVEL_FT INFLOW_CUSECS  OUTFLOW_CUECS        UNIQUE_KEY  \n",
       "0       122.59          2029           2000  K.R.S-2011-01-01  \n",
       "1       122.68          3084           1490  K.R.S-2011-01-02  \n",
       "2       122.75          2776           1491  K.R.S-2011-01-03  \n",
       "3       122.79          2311           1491  K.R.S-2011-01-04  \n",
       "4       122.80          1847           1491  K.R.S-2011-01-05  "
      ]
     },
     "execution_count": 131,
     "metadata": {},
     "output_type": "execute_result"
    }
   ],
   "source": [
    "krs.head(5)"
   ]
  },
  {
   "cell_type": "code",
   "execution_count": 132,
   "metadata": {},
   "outputs": [
    {
     "data": {
      "text/html": [
       "<div>\n",
       "<style scoped>\n",
       "    .dataframe tbody tr th:only-of-type {\n",
       "        vertical-align: middle;\n",
       "    }\n",
       "\n",
       "    .dataframe tbody tr th {\n",
       "        vertical-align: top;\n",
       "    }\n",
       "\n",
       "    .dataframe thead th {\n",
       "        text-align: right;\n",
       "    }\n",
       "</style>\n",
       "<table border=\"1\" class=\"dataframe\">\n",
       "  <thead>\n",
       "    <tr style=\"text-align: right;\">\n",
       "      <th></th>\n",
       "      <th>date</th>\n",
       "      <th>Population</th>\n",
       "      <th>Annual Change</th>\n",
       "    </tr>\n",
       "  </thead>\n",
       "  <tbody>\n",
       "    <tr>\n",
       "      <th>0</th>\n",
       "      <td>31-12-1950</td>\n",
       "      <td>746000</td>\n",
       "      <td>NaN</td>\n",
       "    </tr>\n",
       "    <tr>\n",
       "      <th>1</th>\n",
       "      <td>31-12-1951</td>\n",
       "      <td>790000</td>\n",
       "      <td>5.90</td>\n",
       "    </tr>\n",
       "    <tr>\n",
       "      <th>2</th>\n",
       "      <td>31-12-1952</td>\n",
       "      <td>825000</td>\n",
       "      <td>4.43</td>\n",
       "    </tr>\n",
       "    <tr>\n",
       "      <th>3</th>\n",
       "      <td>31-12-1953</td>\n",
       "      <td>862000</td>\n",
       "      <td>4.48</td>\n",
       "    </tr>\n",
       "    <tr>\n",
       "      <th>4</th>\n",
       "      <td>31-12-1954</td>\n",
       "      <td>900000</td>\n",
       "      <td>4.41</td>\n",
       "    </tr>\n",
       "  </tbody>\n",
       "</table>\n",
       "</div>"
      ],
      "text/plain": [
       "         date   Population   Annual Change\n",
       "0  31-12-1950       746000             NaN\n",
       "1  31-12-1951       790000            5.90\n",
       "2  31-12-1952       825000            4.43\n",
       "3  31-12-1953       862000            4.48\n",
       "4  31-12-1954       900000            4.41"
      ]
     },
     "execution_count": 132,
     "metadata": {},
     "output_type": "execute_result"
    }
   ],
   "source": [
    "popu.head(5)"
   ]
  },
  {
   "cell_type": "code",
   "execution_count": 133,
   "metadata": {},
   "outputs": [],
   "source": [
    "krs.set_index(pd.to_datetime(krs['FLOW_DATE']),inplace = True)\n",
    "popu.set_index(pd.to_datetime(popu['date']),inplace = True)"
   ]
  },
  {
   "cell_type": "code",
   "execution_count": 168,
   "metadata": {},
   "outputs": [],
   "source": [
    "krs = krs.loc['2011':]"
   ]
  },
  {
   "cell_type": "code",
   "execution_count": 169,
   "metadata": {},
   "outputs": [
    {
     "data": {
      "text/html": [
       "<div>\n",
       "<style scoped>\n",
       "    .dataframe tbody tr th:only-of-type {\n",
       "        vertical-align: middle;\n",
       "    }\n",
       "\n",
       "    .dataframe tbody tr th {\n",
       "        vertical-align: top;\n",
       "    }\n",
       "\n",
       "    .dataframe thead th {\n",
       "        text-align: right;\n",
       "    }\n",
       "</style>\n",
       "<table border=\"1\" class=\"dataframe\">\n",
       "  <thead>\n",
       "    <tr style=\"text-align: right;\">\n",
       "      <th></th>\n",
       "      <th>PRESENT_STORAGE_TMC</th>\n",
       "      <th>RES_LEVEL_FT</th>\n",
       "      <th>INFLOW_CUSECS</th>\n",
       "      <th>OUTFLOW_CUECS</th>\n",
       "    </tr>\n",
       "    <tr>\n",
       "      <th>FLOW_DATE</th>\n",
       "      <th></th>\n",
       "      <th></th>\n",
       "      <th></th>\n",
       "      <th></th>\n",
       "    </tr>\n",
       "  </thead>\n",
       "  <tbody>\n",
       "    <tr>\n",
       "      <th>2011-01-01</th>\n",
       "      <td>46.42</td>\n",
       "      <td>122.59</td>\n",
       "      <td>2029</td>\n",
       "      <td>2000</td>\n",
       "    </tr>\n",
       "    <tr>\n",
       "      <th>2011-01-02</th>\n",
       "      <td>46.54</td>\n",
       "      <td>122.68</td>\n",
       "      <td>3084</td>\n",
       "      <td>1490</td>\n",
       "    </tr>\n",
       "    <tr>\n",
       "      <th>2011-01-03</th>\n",
       "      <td>46.64</td>\n",
       "      <td>122.75</td>\n",
       "      <td>2776</td>\n",
       "      <td>1491</td>\n",
       "    </tr>\n",
       "    <tr>\n",
       "      <th>2011-01-04</th>\n",
       "      <td>46.69</td>\n",
       "      <td>122.79</td>\n",
       "      <td>2311</td>\n",
       "      <td>1491</td>\n",
       "    </tr>\n",
       "    <tr>\n",
       "      <th>2011-01-05</th>\n",
       "      <td>46.70</td>\n",
       "      <td>122.80</td>\n",
       "      <td>1847</td>\n",
       "      <td>1491</td>\n",
       "    </tr>\n",
       "    <tr>\n",
       "      <th>...</th>\n",
       "      <td>...</td>\n",
       "      <td>...</td>\n",
       "      <td>...</td>\n",
       "      <td>...</td>\n",
       "    </tr>\n",
       "    <tr>\n",
       "      <th>2020-12-12</th>\n",
       "      <td>43.04</td>\n",
       "      <td>120</td>\n",
       "      <td>3496</td>\n",
       "      <td>3308</td>\n",
       "    </tr>\n",
       "    <tr>\n",
       "      <th>2020-12-13</th>\n",
       "      <td>43.02</td>\n",
       "      <td>119.98</td>\n",
       "      <td>3197</td>\n",
       "      <td>3300</td>\n",
       "    </tr>\n",
       "    <tr>\n",
       "      <th>2020-12-14</th>\n",
       "      <td>42.98</td>\n",
       "      <td>119.95</td>\n",
       "      <td>3026</td>\n",
       "      <td>3273</td>\n",
       "    </tr>\n",
       "    <tr>\n",
       "      <th>2020-12-15</th>\n",
       "      <td>42.92</td>\n",
       "      <td>119.90</td>\n",
       "      <td>2530</td>\n",
       "      <td>3068</td>\n",
       "    </tr>\n",
       "    <tr>\n",
       "      <th>2020-12-16</th>\n",
       "      <td>42.83</td>\n",
       "      <td>119.83</td>\n",
       "      <td>2416</td>\n",
       "      <td>3243</td>\n",
       "    </tr>\n",
       "  </tbody>\n",
       "</table>\n",
       "<p>3313 rows × 4 columns</p>\n",
       "</div>"
      ],
      "text/plain": [
       "            PRESENT_STORAGE_TMC RES_LEVEL_FT INFLOW_CUSECS  OUTFLOW_CUECS\n",
       "FLOW_DATE                                                                \n",
       "2011-01-01                46.42       122.59          2029           2000\n",
       "2011-01-02                46.54       122.68          3084           1490\n",
       "2011-01-03                46.64       122.75          2776           1491\n",
       "2011-01-04                46.69       122.79          2311           1491\n",
       "2011-01-05                46.70       122.80          1847           1491\n",
       "...                         ...          ...           ...            ...\n",
       "2020-12-12                43.04          120          3496           3308\n",
       "2020-12-13                43.02       119.98          3197           3300\n",
       "2020-12-14                42.98       119.95          3026           3273\n",
       "2020-12-15                42.92       119.90          2530           3068\n",
       "2020-12-16                42.83       119.83          2416           3243\n",
       "\n",
       "[3313 rows x 4 columns]"
      ]
     },
     "execution_count": 169,
     "metadata": {},
     "output_type": "execute_result"
    }
   ],
   "source": [
    "krs"
   ]
  },
  {
   "cell_type": "code",
   "execution_count": 170,
   "metadata": {},
   "outputs": [],
   "source": [
    "krs = krs[['PRESENT_STORAGE_TMC','RES_LEVEL_FT'\t,'INFLOW_CUSECS','OUTFLOW_CUECS']]"
   ]
  },
  {
   "cell_type": "code",
   "execution_count": 171,
   "metadata": {},
   "outputs": [],
   "source": [
    "krs_yearly = krs.resample('Y').sum()"
   ]
  },
  {
   "cell_type": "code",
   "execution_count": 172,
   "metadata": {},
   "outputs": [],
   "source": [
    "krs_yearly['year'] = krs_yearly.index.year\n",
    "popu['year'] = popu.index.year"
   ]
  },
  {
   "cell_type": "code",
   "execution_count": 173,
   "metadata": {},
   "outputs": [],
   "source": [
    "popu['year'] = popu.index.year"
   ]
  },
  {
   "cell_type": "code",
   "execution_count": 174,
   "metadata": {},
   "outputs": [
    {
     "name": "stdout",
     "output_type": "stream",
     "text": [
      "            PRESENT_STORAGE_TMC  OUTFLOW_CUECS  year\n",
      "FLOW_DATE                                           \n",
      "2010-12-31                91.99          13635  2010\n",
      "2011-12-31             13403.17        2151348  2011\n",
      "2012-12-31              4249.94         851843  2012\n",
      "2013-12-31              8266.85        1553290  2013\n",
      "2014-12-31             11639.04        1525766  2014\n",
      "                  date   Population   Annual Change  year\n",
      "date                                                     \n",
      "1950-12-31  31-12-1950       746000             NaN  1950\n",
      "1951-12-31  31-12-1951       790000            5.90  1951\n",
      "1952-12-31  31-12-1952       825000            4.43  1952\n",
      "1953-12-31  31-12-1953       862000            4.48  1953\n",
      "1954-12-31  31-12-1954       900000            4.41  1954\n"
     ]
    }
   ],
   "source": [
    "print(krs_yearly.head(5))\n",
    "print(popu.head(5))"
   ]
  },
  {
   "cell_type": "code",
   "execution_count": 107,
   "metadata": {
    "scrolled": true
   },
   "outputs": [],
   "source": [
    "joint = krs_yearly.merge(popu)\n"
   ]
  },
  {
   "cell_type": "code",
   "execution_count": 193,
   "metadata": {},
   "outputs": [],
   "source": [
    "res = joint[['year',' Population',' Annual Change','OUTFLOW_CUECS']]"
   ]
  },
  {
   "cell_type": "code",
   "execution_count": 186,
   "metadata": {},
   "outputs": [],
   "source": [
    "res = res.iloc[1:]"
   ]
  },
  {
   "cell_type": "code",
   "execution_count": 195,
   "metadata": {},
   "outputs": [
    {
     "data": {
      "text/html": [
       "<div>\n",
       "<style scoped>\n",
       "    .dataframe tbody tr th:only-of-type {\n",
       "        vertical-align: middle;\n",
       "    }\n",
       "\n",
       "    .dataframe tbody tr th {\n",
       "        vertical-align: top;\n",
       "    }\n",
       "\n",
       "    .dataframe thead th {\n",
       "        text-align: right;\n",
       "    }\n",
       "</style>\n",
       "<table border=\"1\" class=\"dataframe\">\n",
       "  <thead>\n",
       "    <tr style=\"text-align: right;\">\n",
       "      <th></th>\n",
       "      <th>year</th>\n",
       "      <th>Population</th>\n",
       "      <th>Annual Change</th>\n",
       "      <th>OUTFLOW_CUECS</th>\n",
       "    </tr>\n",
       "  </thead>\n",
       "  <tbody>\n",
       "    <tr>\n",
       "      <th>0</th>\n",
       "      <td>2010</td>\n",
       "      <td>8296000</td>\n",
       "      <td>4.10</td>\n",
       "      <td>13635</td>\n",
       "    </tr>\n",
       "    <tr>\n",
       "      <th>1</th>\n",
       "      <td>2011</td>\n",
       "      <td>8636000</td>\n",
       "      <td>4.10</td>\n",
       "      <td>2151348</td>\n",
       "    </tr>\n",
       "    <tr>\n",
       "      <th>2</th>\n",
       "      <td>2012</td>\n",
       "      <td>8990000</td>\n",
       "      <td>4.10</td>\n",
       "      <td>851843</td>\n",
       "    </tr>\n",
       "    <tr>\n",
       "      <th>3</th>\n",
       "      <td>2013</td>\n",
       "      <td>9358000</td>\n",
       "      <td>4.09</td>\n",
       "      <td>1553290</td>\n",
       "    </tr>\n",
       "    <tr>\n",
       "      <th>4</th>\n",
       "      <td>2014</td>\n",
       "      <td>9742000</td>\n",
       "      <td>4.10</td>\n",
       "      <td>1525766</td>\n",
       "    </tr>\n",
       "    <tr>\n",
       "      <th>5</th>\n",
       "      <td>2015</td>\n",
       "      <td>10141000</td>\n",
       "      <td>4.10</td>\n",
       "      <td>1906556</td>\n",
       "    </tr>\n",
       "    <tr>\n",
       "      <th>6</th>\n",
       "      <td>2016</td>\n",
       "      <td>10557000</td>\n",
       "      <td>4.10</td>\n",
       "      <td>1073246</td>\n",
       "    </tr>\n",
       "    <tr>\n",
       "      <th>7</th>\n",
       "      <td>2017</td>\n",
       "      <td>10990000</td>\n",
       "      <td>4.10</td>\n",
       "      <td>861124</td>\n",
       "    </tr>\n",
       "    <tr>\n",
       "      <th>8</th>\n",
       "      <td>2018</td>\n",
       "      <td>11440000</td>\n",
       "      <td>4.09</td>\n",
       "      <td>2678541</td>\n",
       "    </tr>\n",
       "    <tr>\n",
       "      <th>9</th>\n",
       "      <td>2019</td>\n",
       "      <td>11883000</td>\n",
       "      <td>3.87</td>\n",
       "      <td>2062007</td>\n",
       "    </tr>\n",
       "    <tr>\n",
       "      <th>10</th>\n",
       "      <td>2020</td>\n",
       "      <td>12327000</td>\n",
       "      <td>3.74</td>\n",
       "      <td>1363233</td>\n",
       "    </tr>\n",
       "  </tbody>\n",
       "</table>\n",
       "</div>"
      ],
      "text/plain": [
       "    year   Population   Annual Change  OUTFLOW_CUECS\n",
       "0   2010      8296000            4.10          13635\n",
       "1   2011      8636000            4.10        2151348\n",
       "2   2012      8990000            4.10         851843\n",
       "3   2013      9358000            4.09        1553290\n",
       "4   2014      9742000            4.10        1525766\n",
       "5   2015     10141000            4.10        1906556\n",
       "6   2016     10557000            4.10        1073246\n",
       "7   2017     10990000            4.10         861124\n",
       "8   2018     11440000            4.09        2678541\n",
       "9   2019     11883000            3.87        2062007\n",
       "10  2020     12327000            3.74        1363233"
      ]
     },
     "execution_count": 195,
     "metadata": {},
     "output_type": "execute_result"
    }
   ],
   "source": [
    "res"
   ]
  },
  {
   "cell_type": "code",
   "execution_count": 196,
   "metadata": {},
   "outputs": [
    {
     "data": {
      "text/plain": [
       "0.39836098412061854"
      ]
     },
     "execution_count": 196,
     "metadata": {},
     "output_type": "execute_result"
    }
   ],
   "source": [
    "res[' Population'].corr(res['OUTFLOW_CUECS'])"
   ]
  },
  {
   "cell_type": "code",
   "execution_count": 197,
   "metadata": {},
   "outputs": [
    {
     "data": {
      "text/plain": [
       "0.17274485640256243"
      ]
     },
     "execution_count": 197,
     "metadata": {},
     "output_type": "execute_result"
    }
   ],
   "source": [
    "res[' Annual Change'].corr(res['OUTFLOW_CUECS'].pct_change())"
   ]
  },
  {
   "cell_type": "code",
   "execution_count": 190,
   "metadata": {},
   "outputs": [],
   "source": [
    "res_diff = res.diff()\n",
    "res_diff = res_diff.dropna()"
   ]
  },
  {
   "cell_type": "code",
   "execution_count": 191,
   "metadata": {},
   "outputs": [
    {
     "data": {
      "text/html": [
       "<div>\n",
       "<style scoped>\n",
       "    .dataframe tbody tr th:only-of-type {\n",
       "        vertical-align: middle;\n",
       "    }\n",
       "\n",
       "    .dataframe tbody tr th {\n",
       "        vertical-align: top;\n",
       "    }\n",
       "\n",
       "    .dataframe thead th {\n",
       "        text-align: right;\n",
       "    }\n",
       "</style>\n",
       "<table border=\"1\" class=\"dataframe\">\n",
       "  <thead>\n",
       "    <tr style=\"text-align: right;\">\n",
       "      <th></th>\n",
       "      <th>year</th>\n",
       "      <th>Population</th>\n",
       "      <th>Annual Change</th>\n",
       "      <th>OUTFLOW_CUECS</th>\n",
       "    </tr>\n",
       "  </thead>\n",
       "  <tbody>\n",
       "    <tr>\n",
       "      <th>2</th>\n",
       "      <td>1.0</td>\n",
       "      <td>354000.0</td>\n",
       "      <td>0.00</td>\n",
       "      <td>-1299505.0</td>\n",
       "    </tr>\n",
       "    <tr>\n",
       "      <th>3</th>\n",
       "      <td>1.0</td>\n",
       "      <td>368000.0</td>\n",
       "      <td>-0.01</td>\n",
       "      <td>701447.0</td>\n",
       "    </tr>\n",
       "    <tr>\n",
       "      <th>4</th>\n",
       "      <td>1.0</td>\n",
       "      <td>384000.0</td>\n",
       "      <td>0.01</td>\n",
       "      <td>-27524.0</td>\n",
       "    </tr>\n",
       "    <tr>\n",
       "      <th>5</th>\n",
       "      <td>1.0</td>\n",
       "      <td>399000.0</td>\n",
       "      <td>0.00</td>\n",
       "      <td>380790.0</td>\n",
       "    </tr>\n",
       "    <tr>\n",
       "      <th>6</th>\n",
       "      <td>1.0</td>\n",
       "      <td>416000.0</td>\n",
       "      <td>0.00</td>\n",
       "      <td>-833310.0</td>\n",
       "    </tr>\n",
       "    <tr>\n",
       "      <th>7</th>\n",
       "      <td>1.0</td>\n",
       "      <td>433000.0</td>\n",
       "      <td>0.00</td>\n",
       "      <td>-212122.0</td>\n",
       "    </tr>\n",
       "    <tr>\n",
       "      <th>8</th>\n",
       "      <td>1.0</td>\n",
       "      <td>450000.0</td>\n",
       "      <td>-0.01</td>\n",
       "      <td>1817417.0</td>\n",
       "    </tr>\n",
       "    <tr>\n",
       "      <th>9</th>\n",
       "      <td>1.0</td>\n",
       "      <td>443000.0</td>\n",
       "      <td>-0.22</td>\n",
       "      <td>-616534.0</td>\n",
       "    </tr>\n",
       "    <tr>\n",
       "      <th>10</th>\n",
       "      <td>1.0</td>\n",
       "      <td>444000.0</td>\n",
       "      <td>-0.13</td>\n",
       "      <td>-698774.0</td>\n",
       "    </tr>\n",
       "  </tbody>\n",
       "</table>\n",
       "</div>"
      ],
      "text/plain": [
       "    year   Population   Annual Change  OUTFLOW_CUECS\n",
       "2    1.0     354000.0            0.00     -1299505.0\n",
       "3    1.0     368000.0           -0.01       701447.0\n",
       "4    1.0     384000.0            0.01       -27524.0\n",
       "5    1.0     399000.0            0.00       380790.0\n",
       "6    1.0     416000.0            0.00      -833310.0\n",
       "7    1.0     433000.0            0.00      -212122.0\n",
       "8    1.0     450000.0           -0.01      1817417.0\n",
       "9    1.0     443000.0           -0.22      -616534.0\n",
       "10   1.0     444000.0           -0.13      -698774.0"
      ]
     },
     "execution_count": 191,
     "metadata": {},
     "output_type": "execute_result"
    }
   ],
   "source": [
    "res_diff"
   ]
  },
  {
   "cell_type": "code",
   "execution_count": 198,
   "metadata": {},
   "outputs": [
    {
     "data": {
      "text/plain": [
       "0.21786026551780138"
      ]
     },
     "execution_count": 198,
     "metadata": {},
     "output_type": "execute_result"
    }
   ],
   "source": [
    "res_diff[' Population'].corr(res_diff['OUTFLOW_CUECS'])"
   ]
  },
  {
   "cell_type": "code",
   "execution_count": 205,
   "metadata": {},
   "outputs": [
    {
     "data": {
      "text/plain": [
       "[<matplotlib.lines.Line2D at 0x1b7fc420308>]"
      ]
     },
     "execution_count": 205,
     "metadata": {},
     "output_type": "execute_result"
    },
    {
     "data": {
      "image/png": "[encoded data removed]",
      "text/plain": [
       "<Figure size 432x288 with 1 Axes>"
      ]
     },
     "metadata": {
      "needs_background": "light"
     },
     "output_type": "display_data"
    }
   ],
   "source": [
    "plt.sc(res[' Population'], res['OUTFLOW_CUECS'])"
   ]
  },
  {
   "cell_type": "code",
   "execution_count": null,
   "metadata": {},
   "outputs": [],
   "source": []
  }
 ],
 "metadata": {
  "kernelspec": {
   "display_name": "Python 3",
   "language": "python",
   "name": "python3"
  },
  "language_info": {
   "codemirror_mode": {
    "name": "ipython",
    "version": 3
   },
   "file_extension": ".py",
   "mimetype": "text/x-python",
   "name": "python",
   "nbconvert_exporter": "python",
   "pygments_lexer": "ipython3",
   "version": "3.7.6"
  }
 },
 "nbformat": 4,
 "nbformat_minor": 4
}
