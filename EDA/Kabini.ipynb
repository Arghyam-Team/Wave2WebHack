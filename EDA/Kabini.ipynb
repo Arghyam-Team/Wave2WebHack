{
  "nbformat": 4,
  "nbformat_minor": 0,
  "metadata": {
    "colab": {
      "name": "Kabini.ipynb",
      "provenance": [],
      "collapsed_sections": [],
      "authorship_tag": "ABX9TyNFVE4HgwADSMtrphwQwt3y",
      "include_colab_link": true
    },
    "kernelspec": {
      "name": "python3",
      "display_name": "Python 3"
    },
    "language_info": {
      "name": "python"
    }
  },
  "cells": [
    {
      "cell_type": "markdown",
      "metadata": {
        "id": "view-in-github",
        "colab_type": "text"
      },
      "source": [
        "<a href=\"https://colab.research.google.com/github/Apollo9999/Wave2WEBHACK/blob/main/EDA/Kabini.ipynb\" target=\"_parent\"><img src=\"https://colab.research.google.com/assets/colab-badge.svg\" alt=\"Open In Colab\"/></a>"
      ]
    },
    {
      "cell_type": "code",
      "metadata": {
        "id": "Oj-ro0rxTT0W"
      },
      "source": [
        ""
      ],
      "execution_count": null,
      "outputs": []
    },
    {
      "cell_type": "markdown",
      "metadata": {
        "id": "96_rUWMdZizI"
      },
      "source": [
        "### Problem Statement \n",
        "##### Important to understand Problem Statement as EDA depends on what you are trying to solve or find.  (should sync EDA with respect to problem)\n",
        "\n",
        "Developing a predictive model that estimates reservoir water availability atleast 1-3 months in advance using hydro-meteorological parameters and reservoir water level data."
      ]
    },
    {
      "cell_type": "markdown",
      "metadata": {
        "id": "d3UXxWA5UNg6"
      },
      "source": [
        "Hydrometeorology is a branch of meteorology and hydrology that studies the transfer of water and energy between the land surface and the lower atmosphere.\n",
        "\n",
        "What are various Hydro-meteorological parameters?\n",
        "- Air Temperature\n",
        "- Rainfall\n",
        "- Windspeed or direction\n",
        "- cloudness\n",
        "- Humidity\n",
        "- River flow\n",
        "- Flood Statistics"
      ]
    },
    {
      "cell_type": "code",
      "metadata": {
        "id": "oZUoHjBRcE5S"
      },
      "source": [
        "import numpy as np\n",
        "import pandas as pd\n",
        "import plotly.express as px\n",
        "import seaborn as sns"
      ],
      "execution_count": null,
      "outputs": []
    },
    {
      "cell_type": "code",
      "metadata": {
        "colab": {
          "base_uri": "https://localhost:8080/"
        },
        "id": "-TajgkPBZ6Wn",
        "outputId": "7b054afd-0e15-405d-c39c-54752e056ab4"
      },
      "source": [
        "from google.colab import drive\n",
        "drive.mount('/content/gdrive')"
      ],
      "execution_count": null,
      "outputs": [
        {
          "output_type": "stream",
          "text": [
            "Mounted at /content/gdrive\n"
          ],
          "name": "stdout"
        }
      ]
    },
    {
      "cell_type": "code",
      "metadata": {
        "colab": {
          "base_uri": "https://localhost:8080/"
        },
        "id": "EjZ_6FbVbPdv",
        "outputId": "fc5e39ab-298d-4c35-92f1-0f5d464e77a0"
      },
      "source": [
        "!ls '/content/gdrive/My Drive/Wave2web/'"
      ],
      "execution_count": null,
      "outputs": [
        {
          "output_type": "stream",
          "text": [
            "'2019-20 Agri excel.xlsx'\n",
            "'District-wise Depth to water Level and Distribution of Percentage of Wells for the Period of Premonsoon, 2018 in Karnataka (2).xlsx'\n",
            "'DIST-WISE FRQ TEALE OF MAY2019 for website.xlsx.xlsx'\n",
            " GroundwaterLevelSpatialDataProject-master.zip\n",
            " Harangi.csv\n",
            " Hemavathi.csv\n",
            " kabini.csv\n",
            " KRS.csv\n",
            "'_Preparation for Concept Note.docx'\n",
            "'rainfall-data-for-karnataka_2008-2018 (4).xls'\n",
            " rainfall_vs_ksr.csv\n"
          ],
          "name": "stdout"
        }
      ]
    },
    {
      "cell_type": "code",
      "metadata": {
        "id": "YYTf1ECGb6YF"
      },
      "source": [
        "kabini = pd.read_csv('/content/gdrive/My Drive/Wave2web/kabini.csv')\n",
        "harangi = pd.read_csv('/content/gdrive/My Drive/Wave2web/Harangi.csv')\n",
        "hemavathi = pd.read_csv('/content/gdrive/My Drive/Wave2web/Hemavathi.csv')\n",
        "krs = pd.read_csv('/content/gdrive/My Drive/Wave2web/KRS.csv')"
      ],
      "execution_count": null,
      "outputs": []
    },
    {
      "cell_type": "markdown",
      "metadata": {
        "id": "NCCLwQp-Z7kA"
      },
      "source": [
        "- All the datasets have 3300+ records and same number of colums.\n",
        "- Column names are same"
      ]
    },
    {
      "cell_type": "code",
      "metadata": {
        "colab": {
          "base_uri": "https://localhost:8080/"
        },
        "id": "qJpoqWVbYaKR",
        "outputId": "2904b02b-d512-4a2b-aeb7-efd0c105acff"
      },
      "source": [
        "print(\"KRS : \", krs.shape)\n",
        "print(\"Hemavathi : \", hemavathi.shape)\n",
        "print(\"Kabini : \", kabini.shape)\n",
        "print(\"Harangi :\", harangi.shape)"
      ],
      "execution_count": null,
      "outputs": [
        {
          "output_type": "stream",
          "text": [
            "KRS :  (3313, 10)\n",
            "Hemavathi :  (3314, 10)\n",
            "Kabini :  (3314, 10)\n",
            "Harangi : (3321, 10)\n"
          ],
          "name": "stdout"
        }
      ]
    },
    {
      "cell_type": "code",
      "metadata": {
        "colab": {
          "base_uri": "https://localhost:8080/"
        },
        "id": "mB82BwF5aUxh",
        "outputId": "dc5b4281-8bbd-4985-c87b-5ff00fb3ff04"
      },
      "source": [
        "print(krs.columns.tolist())\n",
        "print(harangi.columns.tolist())\n",
        "print(kabini.columns.tolist())\n",
        "print(hemavathi.columns.tolist())"
      ],
      "execution_count": null,
      "outputs": [
        {
          "output_type": "stream",
          "text": [
            "['SL_NO', 'RESERVOIR', 'YEAR', 'WEEK_NO', 'FLOW_DATE', 'PRESENT_STORAGE_TMC', 'RES_LEVEL_FT', 'INFLOW_CUSECS', 'OUTFLOW_CUECS', 'UNIQUE_KEY']\n",
            "['SL_NO', 'RESERVOIR', 'YEAR', 'WEEK_NO', 'FLOW_DATE', 'PRESENT_STORAGE_TMC', 'RES_LEVEL_FT', 'INFLOW_CUSECS', 'OUTFLOW_CUECS', 'UNIQUE_KEY']\n",
            "['SL_NO', 'RESERVOIR', 'YEAR', 'WEEK_NO', 'FLOW_DATE', 'PRESENT_STORAGE_TMC', 'RES_LEVEL_FT', 'INFLOW_CUSECS', 'OUTFLOW_CUECS', 'UNIQUE_KEY']\n",
            "['SL_NO', 'RESERVOIR', 'YEAR', 'WEEK_NO', 'FLOW_DATE', 'PRESENT_STORAGE_TMC', 'RES_LEVEL_FT', 'INFLOW_CUSECS', 'OUTFLOW_CUECS', 'UNIQUE_KEY']\n"
          ],
          "name": "stdout"
        }
      ]
    },
    {
      "cell_type": "code",
      "metadata": {
        "colab": {
          "base_uri": "https://localhost:8080/"
        },
        "id": "oHWn5C27py2z",
        "outputId": "686455e0-033b-4f85-bc98-7725cd008a1c"
      },
      "source": [
        "krs.info()"
      ],
      "execution_count": null,
      "outputs": [
        {
          "output_type": "stream",
          "text": [
            "<class 'pandas.core.frame.DataFrame'>\n",
            "RangeIndex: 3313 entries, 0 to 3312\n",
            "Data columns (total 10 columns):\n",
            " #   Column               Non-Null Count  Dtype  \n",
            "---  ------               --------------  -----  \n",
            " 0   SL_NO                3313 non-null   int64  \n",
            " 1   RESERVOIR            3313 non-null   object \n",
            " 2   YEAR                 3313 non-null   int64  \n",
            " 3   WEEK_NO              3313 non-null   int64  \n",
            " 4   FLOW_DATE            3313 non-null   object \n",
            " 5   PRESENT_STORAGE_TMC  3313 non-null   float64\n",
            " 6   RES_LEVEL_FT         3313 non-null   object \n",
            " 7   INFLOW_CUSECS        3313 non-null   object \n",
            " 8   OUTFLOW_CUECS        3313 non-null   int64  \n",
            " 9   UNIQUE_KEY           3313 non-null   object \n",
            "dtypes: float64(1), int64(4), object(5)\n",
            "memory usage: 259.0+ KB\n"
          ],
          "name": "stdout"
        }
      ]
    },
    {
      "cell_type": "code",
      "metadata": {
        "colab": {
          "base_uri": "https://localhost:8080/"
        },
        "id": "jmT1_zPtsmlK",
        "outputId": "6c51cc33-c01d-4392-ffc6-de1a30966abf"
      },
      "source": [
        "hemavathi.info()"
      ],
      "execution_count": null,
      "outputs": [
        {
          "output_type": "stream",
          "text": [
            "<class 'pandas.core.frame.DataFrame'>\n",
            "RangeIndex: 3314 entries, 0 to 3313\n",
            "Data columns (total 10 columns):\n",
            " #   Column               Non-Null Count  Dtype  \n",
            "---  ------               --------------  -----  \n",
            " 0   SL_NO                3314 non-null   int64  \n",
            " 1   RESERVOIR            3314 non-null   object \n",
            " 2   YEAR                 3314 non-null   int64  \n",
            " 3   WEEK_NO              3314 non-null   int64  \n",
            " 4   FLOW_DATE            3314 non-null   object \n",
            " 5   PRESENT_STORAGE_TMC  3314 non-null   float64\n",
            " 6   RES_LEVEL_FT         3314 non-null   object \n",
            " 7   INFLOW_CUSECS        3314 non-null   object \n",
            " 8   OUTFLOW_CUECS        3314 non-null   float64\n",
            " 9   UNIQUE_KEY           3314 non-null   object \n",
            "dtypes: float64(2), int64(3), object(5)\n",
            "memory usage: 259.0+ KB\n"
          ],
          "name": "stdout"
        }
      ]
    },
    {
      "cell_type": "code",
      "metadata": {
        "colab": {
          "base_uri": "https://localhost:8080/"
        },
        "id": "WYPfsZjmsrPf",
        "outputId": "754586ca-c81b-4b08-fb32-98e51bdfc35c"
      },
      "source": [
        "kabini.info()"
      ],
      "execution_count": null,
      "outputs": [
        {
          "output_type": "stream",
          "text": [
            "<class 'pandas.core.frame.DataFrame'>\n",
            "RangeIndex: 3314 entries, 0 to 3313\n",
            "Data columns (total 10 columns):\n",
            " #   Column               Non-Null Count  Dtype  \n",
            "---  ------               --------------  -----  \n",
            " 0   SL_NO                3314 non-null   int64  \n",
            " 1   RESERVOIR            3314 non-null   object \n",
            " 2   YEAR                 3314 non-null   int64  \n",
            " 3   WEEK_NO              3314 non-null   int64  \n",
            " 4   FLOW_DATE            3314 non-null   object \n",
            " 5   PRESENT_STORAGE_TMC  3314 non-null   float64\n",
            " 6   RES_LEVEL_FT         3314 non-null   object \n",
            " 7   INFLOW_CUSECS        3314 non-null   object \n",
            " 8   OUTFLOW_CUECS        3314 non-null   int64  \n",
            " 9   UNIQUE_KEY           3314 non-null   object \n",
            "dtypes: float64(1), int64(4), object(5)\n",
            "memory usage: 259.0+ KB\n"
          ],
          "name": "stdout"
        }
      ]
    },
    {
      "cell_type": "code",
      "metadata": {
        "colab": {
          "base_uri": "https://localhost:8080/"
        },
        "id": "mLx6H1I6sxtG",
        "outputId": "95334a15-e04f-4796-8b64-47e3d971d2a5"
      },
      "source": [
        "harangi.info()"
      ],
      "execution_count": null,
      "outputs": [
        {
          "output_type": "stream",
          "text": [
            "<class 'pandas.core.frame.DataFrame'>\n",
            "RangeIndex: 3321 entries, 0 to 3320\n",
            "Data columns (total 10 columns):\n",
            " #   Column               Non-Null Count  Dtype  \n",
            "---  ------               --------------  -----  \n",
            " 0   SL_NO                3321 non-null   int64  \n",
            " 1   RESERVOIR            3321 non-null   object \n",
            " 2   YEAR                 3321 non-null   int64  \n",
            " 3   WEEK_NO              3321 non-null   int64  \n",
            " 4   FLOW_DATE            3321 non-null   object \n",
            " 5   PRESENT_STORAGE_TMC  3321 non-null   float64\n",
            " 6   RES_LEVEL_FT         3321 non-null   object \n",
            " 7   INFLOW_CUSECS        3321 non-null   object \n",
            " 8   OUTFLOW_CUECS        3321 non-null   object \n",
            " 9   UNIQUE_KEY           3321 non-null   object \n",
            "dtypes: float64(1), int64(3), object(6)\n",
            "memory usage: 259.6+ KB\n"
          ],
          "name": "stdout"
        }
      ]
    },
    {
      "cell_type": "markdown",
      "metadata": {
        "id": "pZbOz5kNtRz8"
      },
      "source": [
        "FLOW_DATE, RES_LEVEL_FT, INFLOW_CUECS are object datatyp in all the 4 datasets\n",
        "\n",
        "OUTFLOW_CUECS is also object in harangi dataset\n",
        "\n",
        "Let us first change it for kabini data"
      ]
    },
    {
      "cell_type": "code",
      "metadata": {
        "colab": {
          "base_uri": "https://localhost:8080/",
          "height": 199
        },
        "id": "S5ZoDno2cYtH",
        "outputId": "39530b3e-de12-444b-b317-ffa37c28f979"
      },
      "source": [
        "kabini.head()"
      ],
      "execution_count": null,
      "outputs": [
        {
          "output_type": "execute_result",
          "data": {
            "text/html": [
              "<div>\n",
              "<style scoped>\n",
              "    .dataframe tbody tr th:only-of-type {\n",
              "        vertical-align: middle;\n",
              "    }\n",
              "\n",
              "    .dataframe tbody tr th {\n",
              "        vertical-align: top;\n",
              "    }\n",
              "\n",
              "    .dataframe thead th {\n",
              "        text-align: right;\n",
              "    }\n",
              "</style>\n",
              "<table border=\"1\" class=\"dataframe\">\n",
              "  <thead>\n",
              "    <tr style=\"text-align: right;\">\n",
              "      <th></th>\n",
              "      <th>SL_NO</th>\n",
              "      <th>RESERVOIR</th>\n",
              "      <th>YEAR</th>\n",
              "      <th>WEEK_NO</th>\n",
              "      <th>FLOW_DATE</th>\n",
              "      <th>PRESENT_STORAGE_TMC</th>\n",
              "      <th>RES_LEVEL_FT</th>\n",
              "      <th>INFLOW_CUSECS</th>\n",
              "      <th>OUTFLOW_CUECS</th>\n",
              "      <th>UNIQUE_KEY</th>\n",
              "    </tr>\n",
              "  </thead>\n",
              "  <tbody>\n",
              "    <tr>\n",
              "      <th>0</th>\n",
              "      <td>226</td>\n",
              "      <td>Kabini</td>\n",
              "      <td>2011</td>\n",
              "      <td>3</td>\n",
              "      <td>2011-01-21</td>\n",
              "      <td>16.56</td>\n",
              "      <td>2279.14</td>\n",
              "      <td>252</td>\n",
              "      <td>50</td>\n",
              "      <td>KABINI-2011-01-21</td>\n",
              "    </tr>\n",
              "    <tr>\n",
              "      <th>1</th>\n",
              "      <td>227</td>\n",
              "      <td>Kabini</td>\n",
              "      <td>2011</td>\n",
              "      <td>3</td>\n",
              "      <td>2011-01-20</td>\n",
              "      <td>16.54</td>\n",
              "      <td>2279.12</td>\n",
              "      <td>318</td>\n",
              "      <td>50</td>\n",
              "      <td>KABINI-2011-01-20</td>\n",
              "    </tr>\n",
              "    <tr>\n",
              "      <th>2</th>\n",
              "      <td>312</td>\n",
              "      <td>Kabini</td>\n",
              "      <td>2011</td>\n",
              "      <td>4</td>\n",
              "      <td>2011-01-22</td>\n",
              "      <td>16.57</td>\n",
              "      <td>2279.16</td>\n",
              "      <td>252</td>\n",
              "      <td>50</td>\n",
              "      <td>KABINI-2011-01-22</td>\n",
              "    </tr>\n",
              "    <tr>\n",
              "      <th>3</th>\n",
              "      <td>313</td>\n",
              "      <td>Kabini</td>\n",
              "      <td>2011</td>\n",
              "      <td>4</td>\n",
              "      <td>2011-01-23</td>\n",
              "      <td>16.58</td>\n",
              "      <td>2279.18</td>\n",
              "      <td>252</td>\n",
              "      <td>50</td>\n",
              "      <td>KABINI-2011-01-23</td>\n",
              "    </tr>\n",
              "    <tr>\n",
              "      <th>4</th>\n",
              "      <td>314</td>\n",
              "      <td>Kabini</td>\n",
              "      <td>2011</td>\n",
              "      <td>4</td>\n",
              "      <td>2011-01-24</td>\n",
              "      <td>16.59</td>\n",
              "      <td>2279.20</td>\n",
              "      <td>252</td>\n",
              "      <td>50</td>\n",
              "      <td>KABINI-2011-01-24</td>\n",
              "    </tr>\n",
              "  </tbody>\n",
              "</table>\n",
              "</div>"
            ],
            "text/plain": [
              "   SL_NO RESERVOIR  YEAR  ...  INFLOW_CUSECS OUTFLOW_CUECS         UNIQUE_KEY\n",
              "0    226    Kabini  2011  ...            252            50  KABINI-2011-01-21\n",
              "1    227    Kabini  2011  ...            318            50  KABINI-2011-01-20\n",
              "2    312    Kabini  2011  ...            252            50  KABINI-2011-01-22\n",
              "3    313    Kabini  2011  ...            252            50  KABINI-2011-01-23\n",
              "4    314    Kabini  2011  ...            252            50  KABINI-2011-01-24\n",
              "\n",
              "[5 rows x 10 columns]"
            ]
          },
          "metadata": {
            "tags": []
          },
          "execution_count": 47
        }
      ]
    },
    {
      "cell_type": "code",
      "metadata": {
        "id": "wj-h3Xv1uNOL"
      },
      "source": [
        "kabini.FLOW_DATE = pd.to_datetime(kabini.FLOW_DATE)"
      ],
      "execution_count": null,
      "outputs": []
    },
    {
      "cell_type": "code",
      "metadata": {
        "id": "W7IzhCYcx_eA"
      },
      "source": [
        "# convert object to numeric\n",
        "kabini['INFLOW_CUSECS'] = pd.to_numeric(kabini.INFLOW_CUSECS, errors='coerce')"
      ],
      "execution_count": null,
      "outputs": []
    },
    {
      "cell_type": "code",
      "metadata": {
        "id": "U_6q2ItbyLdU"
      },
      "source": [
        "kabini['RES_LEVEL_FT'] = pd.to_numeric(kabini.RES_LEVEL_FT, errors='coerce')"
      ],
      "execution_count": null,
      "outputs": []
    },
    {
      "cell_type": "code",
      "metadata": {
        "colab": {
          "base_uri": "https://localhost:8080/",
          "height": 199
        },
        "id": "dDnruLFoygLg",
        "outputId": "c3fb6e54-6554-4761-f740-e9ff8409242a"
      },
      "source": [
        "kabini.head()"
      ],
      "execution_count": null,
      "outputs": [
        {
          "output_type": "execute_result",
          "data": {
            "text/html": [
              "<div>\n",
              "<style scoped>\n",
              "    .dataframe tbody tr th:only-of-type {\n",
              "        vertical-align: middle;\n",
              "    }\n",
              "\n",
              "    .dataframe tbody tr th {\n",
              "        vertical-align: top;\n",
              "    }\n",
              "\n",
              "    .dataframe thead th {\n",
              "        text-align: right;\n",
              "    }\n",
              "</style>\n",
              "<table border=\"1\" class=\"dataframe\">\n",
              "  <thead>\n",
              "    <tr style=\"text-align: right;\">\n",
              "      <th></th>\n",
              "      <th>SL_NO</th>\n",
              "      <th>RESERVOIR</th>\n",
              "      <th>YEAR</th>\n",
              "      <th>WEEK_NO</th>\n",
              "      <th>FLOW_DATE</th>\n",
              "      <th>PRESENT_STORAGE_TMC</th>\n",
              "      <th>RES_LEVEL_FT</th>\n",
              "      <th>INFLOW_CUSECS</th>\n",
              "      <th>OUTFLOW_CUECS</th>\n",
              "      <th>UNIQUE_KEY</th>\n",
              "    </tr>\n",
              "  </thead>\n",
              "  <tbody>\n",
              "    <tr>\n",
              "      <th>0</th>\n",
              "      <td>226</td>\n",
              "      <td>Kabini</td>\n",
              "      <td>2011</td>\n",
              "      <td>3</td>\n",
              "      <td>2011-01-21</td>\n",
              "      <td>16.56</td>\n",
              "      <td>2279.14</td>\n",
              "      <td>252.0</td>\n",
              "      <td>50</td>\n",
              "      <td>KABINI-2011-01-21</td>\n",
              "    </tr>\n",
              "    <tr>\n",
              "      <th>1</th>\n",
              "      <td>227</td>\n",
              "      <td>Kabini</td>\n",
              "      <td>2011</td>\n",
              "      <td>3</td>\n",
              "      <td>2011-01-20</td>\n",
              "      <td>16.54</td>\n",
              "      <td>2279.12</td>\n",
              "      <td>318.0</td>\n",
              "      <td>50</td>\n",
              "      <td>KABINI-2011-01-20</td>\n",
              "    </tr>\n",
              "    <tr>\n",
              "      <th>2</th>\n",
              "      <td>312</td>\n",
              "      <td>Kabini</td>\n",
              "      <td>2011</td>\n",
              "      <td>4</td>\n",
              "      <td>2011-01-22</td>\n",
              "      <td>16.57</td>\n",
              "      <td>2279.16</td>\n",
              "      <td>252.0</td>\n",
              "      <td>50</td>\n",
              "      <td>KABINI-2011-01-22</td>\n",
              "    </tr>\n",
              "    <tr>\n",
              "      <th>3</th>\n",
              "      <td>313</td>\n",
              "      <td>Kabini</td>\n",
              "      <td>2011</td>\n",
              "      <td>4</td>\n",
              "      <td>2011-01-23</td>\n",
              "      <td>16.58</td>\n",
              "      <td>2279.18</td>\n",
              "      <td>252.0</td>\n",
              "      <td>50</td>\n",
              "      <td>KABINI-2011-01-23</td>\n",
              "    </tr>\n",
              "    <tr>\n",
              "      <th>4</th>\n",
              "      <td>314</td>\n",
              "      <td>Kabini</td>\n",
              "      <td>2011</td>\n",
              "      <td>4</td>\n",
              "      <td>2011-01-24</td>\n",
              "      <td>16.59</td>\n",
              "      <td>2279.20</td>\n",
              "      <td>252.0</td>\n",
              "      <td>50</td>\n",
              "      <td>KABINI-2011-01-24</td>\n",
              "    </tr>\n",
              "  </tbody>\n",
              "</table>\n",
              "</div>"
            ],
            "text/plain": [
              "   SL_NO RESERVOIR  YEAR  ...  INFLOW_CUSECS OUTFLOW_CUECS         UNIQUE_KEY\n",
              "0    226    Kabini  2011  ...          252.0            50  KABINI-2011-01-21\n",
              "1    227    Kabini  2011  ...          318.0            50  KABINI-2011-01-20\n",
              "2    312    Kabini  2011  ...          252.0            50  KABINI-2011-01-22\n",
              "3    313    Kabini  2011  ...          252.0            50  KABINI-2011-01-23\n",
              "4    314    Kabini  2011  ...          252.0            50  KABINI-2011-01-24\n",
              "\n",
              "[5 rows x 10 columns]"
            ]
          },
          "metadata": {
            "tags": []
          },
          "execution_count": 51
        }
      ]
    },
    {
      "cell_type": "markdown",
      "metadata": {
        "id": "2ZLmyxt3ytu5"
      },
      "source": [
        "### Meteorological Seasons\n",
        "According to the meteorological definition, the seasons begin on the first day of the months that include the equinoxes and solstices. In the Northern Hemisphere, for example,\n",
        "\n",
        "- spring runs from March 1 to May 31;\n",
        "- summer runs from June 1 to August 31;\n",
        "- fall (autumn) runs from September 1 to November 30; and\n",
        "- winter runs from December 1 to February 28 (February 29 in a leap year).\n",
        "\n",
        "![Seasons](https://c.tadst.com/gfx/900x506/equinoxes-and-solstice.png?1)\n"
      ]
    },
    {
      "cell_type": "markdown",
      "metadata": {
        "id": "i3YNkYQ80Fe4"
      },
      "source": [
        "we can use months to identify trend  - 3 months a season\n",
        "\n",
        "or we can use weeks also to identify the trend - 13 weeks a season"
      ]
    },
    {
      "cell_type": "code",
      "metadata": {
        "colab": {
          "base_uri": "https://localhost:8080/",
          "height": 290
        },
        "id": "kskkgSNucaQs",
        "outputId": "79c99164-802b-4412-f159-f587464efe5e"
      },
      "source": [
        "kabini.describe()"
      ],
      "execution_count": null,
      "outputs": [
        {
          "output_type": "execute_result",
          "data": {
            "text/html": [
              "<div>\n",
              "<style scoped>\n",
              "    .dataframe tbody tr th:only-of-type {\n",
              "        vertical-align: middle;\n",
              "    }\n",
              "\n",
              "    .dataframe tbody tr th {\n",
              "        vertical-align: top;\n",
              "    }\n",
              "\n",
              "    .dataframe thead th {\n",
              "        text-align: right;\n",
              "    }\n",
              "</style>\n",
              "<table border=\"1\" class=\"dataframe\">\n",
              "  <thead>\n",
              "    <tr style=\"text-align: right;\">\n",
              "      <th></th>\n",
              "      <th>SL_NO</th>\n",
              "      <th>YEAR</th>\n",
              "      <th>WEEK_NO</th>\n",
              "      <th>PRESENT_STORAGE_TMC</th>\n",
              "      <th>RES_LEVEL_FT</th>\n",
              "      <th>INFLOW_CUSECS</th>\n",
              "      <th>OUTFLOW_CUECS</th>\n",
              "    </tr>\n",
              "  </thead>\n",
              "  <tbody>\n",
              "    <tr>\n",
              "      <th>count</th>\n",
              "      <td>3314.000000</td>\n",
              "      <td>3314.000000</td>\n",
              "      <td>3314.000000</td>\n",
              "      <td>3314.000000</td>\n",
              "      <td>3313.000000</td>\n",
              "      <td>3313.000000</td>\n",
              "      <td>3314.000000</td>\n",
              "    </tr>\n",
              "    <tr>\n",
              "      <th>mean</th>\n",
              "      <td>22281.950513</td>\n",
              "      <td>2015.734158</td>\n",
              "      <td>27.939046</td>\n",
              "      <td>12.814357</td>\n",
              "      <td>2271.455946</td>\n",
              "      <td>3113.368156</td>\n",
              "      <td>2962.761014</td>\n",
              "    </tr>\n",
              "    <tr>\n",
              "      <th>std</th>\n",
              "      <td>12712.048863</td>\n",
              "      <td>2.824518</td>\n",
              "      <td>14.815657</td>\n",
              "      <td>4.611703</td>\n",
              "      <td>13.953381</td>\n",
              "      <td>7420.683351</td>\n",
              "      <td>7123.188134</td>\n",
              "    </tr>\n",
              "    <tr>\n",
              "      <th>min</th>\n",
              "      <td>226.000000</td>\n",
              "      <td>2010.000000</td>\n",
              "      <td>1.000000</td>\n",
              "      <td>0.000000</td>\n",
              "      <td>2241.680000</td>\n",
              "      <td>10.000000</td>\n",
              "      <td>0.000000</td>\n",
              "    </tr>\n",
              "    <tr>\n",
              "      <th>25%</th>\n",
              "      <td>11078.250000</td>\n",
              "      <td>2014.000000</td>\n",
              "      <td>15.000000</td>\n",
              "      <td>9.330000</td>\n",
              "      <td>2264.920000</td>\n",
              "      <td>171.000000</td>\n",
              "      <td>500.000000</td>\n",
              "    </tr>\n",
              "    <tr>\n",
              "      <th>50%</th>\n",
              "      <td>22495.500000</td>\n",
              "      <td>2016.000000</td>\n",
              "      <td>29.000000</td>\n",
              "      <td>13.490000</td>\n",
              "      <td>2273.600000</td>\n",
              "      <td>617.000000</td>\n",
              "      <td>1050.000000</td>\n",
              "    </tr>\n",
              "    <tr>\n",
              "      <th>75%</th>\n",
              "      <td>33280.750000</td>\n",
              "      <td>2018.000000</td>\n",
              "      <td>41.000000</td>\n",
              "      <td>16.770000</td>\n",
              "      <td>2279.590000</td>\n",
              "      <td>2579.000000</td>\n",
              "      <td>2290.000000</td>\n",
              "    </tr>\n",
              "    <tr>\n",
              "      <th>max</th>\n",
              "      <td>43926.000000</td>\n",
              "      <td>2020.000000</td>\n",
              "      <td>52.000000</td>\n",
              "      <td>19.520000</td>\n",
              "      <td>2837.200000</td>\n",
              "      <td>112511.000000</td>\n",
              "      <td>121000.000000</td>\n",
              "    </tr>\n",
              "  </tbody>\n",
              "</table>\n",
              "</div>"
            ],
            "text/plain": [
              "              SL_NO         YEAR  ...  INFLOW_CUSECS  OUTFLOW_CUECS\n",
              "count   3314.000000  3314.000000  ...    3313.000000    3314.000000\n",
              "mean   22281.950513  2015.734158  ...    3113.368156    2962.761014\n",
              "std    12712.048863     2.824518  ...    7420.683351    7123.188134\n",
              "min      226.000000  2010.000000  ...      10.000000       0.000000\n",
              "25%    11078.250000  2014.000000  ...     171.000000     500.000000\n",
              "50%    22495.500000  2016.000000  ...     617.000000    1050.000000\n",
              "75%    33280.750000  2018.000000  ...    2579.000000    2290.000000\n",
              "max    43926.000000  2020.000000  ...  112511.000000  121000.000000\n",
              "\n",
              "[8 rows x 7 columns]"
            ]
          },
          "metadata": {
            "tags": []
          },
          "execution_count": 52
        }
      ]
    },
    {
      "cell_type": "markdown",
      "metadata": {
        "id": "4tTNG6zx0_JV"
      },
      "source": [
        "- present_storage_tmc, res_level_ft, inflow_cusecs are ok.\n",
        "- ouflow cusecs maximum value is 121000 (need to be analyzed further)"
      ]
    },
    {
      "cell_type": "markdown",
      "metadata": {
        "id": "P_Gbn8ZY2Yr9"
      },
      "source": [
        "https://www.deccanherald.com/state/karnataka-districts/outflow-increased-to-60000-cusecs-from-kabini-870533.html\n",
        "\n",
        "maximum storage capacity is - 19.52 TMC\n",
        "\n",
        "it can store upto - 2284 ft.\n",
        "\n",
        "max outflow was 56,600 cusec \n",
        "\n",
        "It is clear that some human error is there.\n"
      ]
    },
    {
      "cell_type": "code",
      "metadata": {
        "colab": {
          "base_uri": "https://localhost:8080/",
          "height": 78
        },
        "id": "XeXGN7Mq3O7s",
        "outputId": "a69abfa5-eadd-4238-ac9c-767d7eed7c3b"
      },
      "source": [
        "kabini.loc[kabini['OUTFLOW_CUECS'] == 121000]\n"
      ],
      "execution_count": null,
      "outputs": [
        {
          "output_type": "execute_result",
          "data": {
            "text/html": [
              "<div>\n",
              "<style scoped>\n",
              "    .dataframe tbody tr th:only-of-type {\n",
              "        vertical-align: middle;\n",
              "    }\n",
              "\n",
              "    .dataframe tbody tr th {\n",
              "        vertical-align: top;\n",
              "    }\n",
              "\n",
              "    .dataframe thead th {\n",
              "        text-align: right;\n",
              "    }\n",
              "</style>\n",
              "<table border=\"1\" class=\"dataframe\">\n",
              "  <thead>\n",
              "    <tr style=\"text-align: right;\">\n",
              "      <th></th>\n",
              "      <th>SL_NO</th>\n",
              "      <th>RESERVOIR</th>\n",
              "      <th>YEAR</th>\n",
              "      <th>WEEK_NO</th>\n",
              "      <th>FLOW_DATE</th>\n",
              "      <th>PRESENT_STORAGE_TMC</th>\n",
              "      <th>RES_LEVEL_FT</th>\n",
              "      <th>INFLOW_CUSECS</th>\n",
              "      <th>OUTFLOW_CUECS</th>\n",
              "      <th>UNIQUE_KEY</th>\n",
              "    </tr>\n",
              "  </thead>\n",
              "  <tbody>\n",
              "    <tr>\n",
              "      <th>1636</th>\n",
              "      <td>22223</td>\n",
              "      <td>Kabini</td>\n",
              "      <td>2019</td>\n",
              "      <td>32</td>\n",
              "      <td>2019-08-11</td>\n",
              "      <td>13.3</td>\n",
              "      <td>2280.18</td>\n",
              "      <td>104084.0</td>\n",
              "      <td>121000</td>\n",
              "      <td>KABINI-2019-08-11</td>\n",
              "    </tr>\n",
              "  </tbody>\n",
              "</table>\n",
              "</div>"
            ],
            "text/plain": [
              "      SL_NO RESERVOIR  YEAR  ...  INFLOW_CUSECS OUTFLOW_CUECS         UNIQUE_KEY\n",
              "1636  22223    Kabini  2019  ...       104084.0        121000  KABINI-2019-08-11\n",
              "\n",
              "[1 rows x 10 columns]"
            ]
          },
          "metadata": {
            "tags": []
          },
          "execution_count": 53
        }
      ]
    },
    {
      "cell_type": "markdown",
      "metadata": {
        "id": "uSxKrMOH4RpA"
      },
      "source": [
        "https://weather.com/en-IN/india/news/news/2020-01-08-top-5-biggest-floods-affect-india-2019\n",
        "\n",
        "Floods at above date. but there is no proof that kabini outflow is that much.\n"
      ]
    },
    {
      "cell_type": "code",
      "metadata": {
        "colab": {
          "base_uri": "https://localhost:8080/",
          "height": 542
        },
        "id": "StGq-I0rcvld",
        "outputId": "2c06beb2-4222-491d-ae4b-f103669a207d"
      },
      "source": [
        "fig = px.box(x = kabini[\"OUTFLOW_CUECS\"] )\n",
        "fig.show()"
      ],
      "execution_count": null,
      "outputs": [
        {
          "output_type": "display_data",
          "data": {
            "text/html": [
              "<html>\n",
              "<head><meta charset=\"utf-8\" /></head>\n",
              "<body>\n",
              "    <div>\n",
              "            <script src=\"https://cdnjs.cloudflare.com/ajax/libs/mathjax/2.7.5/MathJax.js?config=TeX-AMS-MML_SVG\"></script><script type=\"text/javascript\">if (window.MathJax) {MathJax.Hub.Config({SVG: {font: \"STIX-Web\"}});}</script>\n",
              "                <script type=\"text/javascript\">window.PlotlyConfig = {MathJaxConfig: 'local'};</script>\n",
              "        <script src=\"https://cdn.plot.ly/plotly-latest.min.js\"></script>    \n",
              "            <div id=\"e56bc508-10c5-444b-aa62-965cca12cc2e\" class=\"plotly-graph-div\" style=\"height:525px; width:100%;\"></div>\n",
              "            <script type=\"text/javascript\">\n",
              "                \n",
              "                    window.PLOTLYENV=window.PLOTLYENV || {};\n",
              "                    \n",
              "                if (document.getElementById(\"e56bc508-10c5-444b-aa62-965cca12cc2e\")) {\n",
              "                    Plotly.newPlot(\n",
              "                        'e56bc508-10c5-444b-aa62-965cca12cc2e',\n",
              "                        [{\"alignmentgroup\": \"True\", \"hoverlabel\": {\"namelength\": 0}, \"hovertemplate\": \"x=%{x}\", \"legendgroup\": \"\", \"marker\": {\"color\": \"#636efa\"}, \"name\": \"\", \"notched\": false, \"offsetgroup\": \"\", \"orientation\": \"v\", \"showlegend\": false, \"type\": \"box\", \"x\": [50, 50, 50, 50, 50, 50, 50, 50, 881, 1000, 725, 700, 700, 700, 700, 131, 50, 50, 50, 50, 50, 50, 433, 750, 750, 770, 770, 770, 770, 770, 683, 670, 670, 670, 670, 670, 870, 1728, 1795, 1303, 1207, 1563, 1680, 1680, 1680, 1880, 1880, 1793, 1780, 1780, 1720, 1683, 1600, 1600, 1600, 1640, 1640, 1640, 1640, 1540, 1440, 1440, 1440, 890, 890, 50, 50, 50, 50, 50, 381, 600, 600, 1350, 1113, 1050, 1075, 1450, 1517, 1650, 1650, 350, 1650, 1650, 1450, 1450, 1450, 1450, 1450, 1450, 1450, 1440, 740, 159, 90, 90, 90, 110, 110, 755, 680, 640, 640, 640, 660, 660, 1868, 1660, 1735, 1860, 1860, 1860, 1860, 1860, 1860, 1693, 1660, 1640, 1640, 573, 90, 90, 90, 90, 90, 90, 90, 90, 236, 415, 440, 1656, 1490, 1265, 882, 1053, 1240, 1240, 1240, 1240, 1040, 686, 500, 500, 500, 500, 938, 1200, 1200, 1000, 1000, 1200, 867, 700, 700, 700, 700, 700, 1650, 2917, 9042, 12000, 6979, 5000, 5000, 4000, 2646, 2000, 1500, 1958, 4790, 12519, 23081, 27915, 20665, 18040, 15540, 15540, 15540, 15540, 15540, 15540, 10123, 5686, 5540, 3228, 2540, 1582, 1540, 2040, 4040, 6540, 15373, 12790, 11540, 8332, 8540, 6873, 6540, 6540, 6540, 6540, 6540, 2957, 2540, 4957, 3623, 3498, 4998, 5040, 5040, 5040, 5040, 5540, 6040, 6040, 8403, 19852, 39277, 18466, 23623, 25393, 7893, 9977, 10560, 7206, 50, 50, 50, 50, 50, 7090, 7090, 7090, 7090, 7090, 7090, 7090, 50, 50, 50, 50, 50, 50, 50, 7090, 5173, 5090, 4132, 4090, 4090, 3132, 50, 50, 50, 50, 50, 50, 50, 2790, 2790, 2790, 2790, 2790, 2490, 2490, 2490, 2490, 2490, 2490, 2490, 2490, 2690, 2690, 2690, 2690, 2690, 2690, 2690, 2470, 2470, 2270, 2270, 2270, 2690, 2690, 2590, 2390, 2490, 2370, 2470, 2370, 2370, 2370, 2590, 2590, 2370, 2370, 2370, 2150, 2150, 1340, 1090, 740, 1269, 2170, 2170, 2170, 2170, 2170, 2170, 2170, 2170, 2170, 2170, 1940, 1940, 1940, 2040, 2140, 2040, 1840, 1540, 1540, 1540, 790, 1334, 790, 550, 550, 550, 550, 1050, 1050, 750, 750, 750, 750, 1200, 863, 750, 750, 750, 750, 458, 50, 50, 50, 2040, 50, 50, 50, 50, 50, 50, 50, 50, 50, 50, 50, 50, 50, 50, 50, 50, 50, 50, 50, 50, 50, 50, 50, 50, 50, 50, 50, 50, 50, 50, 50, 50, 50, 50, 50, 50, 50, 50, 50, 50, 50, 50, 50, 50, 50, 50, 50, 50, 50, 50, 50, 50, 50, 50, 50, 50, 50, 50, 50, 50, 50, 50, 50, 440, 600, 600, 600, 600, 691, 750, 750, 750, 750, 750, 750, 750, 750, 750, 750, 750, 750, 750, 750, 750, 750, 783, 800, 800, 800, 800, 800, 800, 800, 985, 985, 985, 852, 800, 796, 850, 850, 1202, 1500, 1500, 1500, 946, 943, 960, 960, 960, 960, 925, 925, 925, 925, 1000, 1000, 1000, 1015, 1015, 1015, 1015, 1015, 1015, 1015, 940, 940, 940, 940, 940, 940, 940, 920, 920, 920, 920, 920, 920, 770, 920, 940, 940, 965, 0, 990, 990, 990, 990, 990, 990, 990, 990, 990, 990, 990, 990, 990, 990, 990, 990, 990, 990, 990, 715, 840, 990, 990, 990, 990, 990, 990, 990, 990, 990, 990, 945, 900, 100, 100, 100, 100, 100, 100, 100, 100, 200, 300, 650, 1000, 1000, 1000, 4300, 12767, 31167, 36458, 31708, 5979, 2000, 2000, 1152, 6150, 49633, 34967, 25900, 39650, 31900, 17400, 10900, 13400, 15900, 16200, 16500, 10666, 13958, 17000, 14333, 28417, 35542, 18250, 14917, 14083, 21375, 35978, 37040, 28082, 27040, 16840, 16840, 28403, 46007, 46840, 36632, 23915, 26840, 19132, 16840, 8507, 6850, 6850, 6850, 6850, 6850, 6850, 6850, 4558, 4350, 4350, 4227, 4160, 3660, 3360, 3360, 3360, 3360, 3360, 3110, 2860, 2860, 2860, 2860, 2860, 2760, 2760, 2760, 2860, 2673, 2673, 2760, 2498, 2560, 2560, 2303, 1608, 1400, 1600, 7802, 1910, 1910, 1910, 1910, 1810, 6280, 2552, 2760, 2360, 2360, 2360, 2360, 2360, 2360, 2360, 2285, 2260, 2260, 2260, 2260, 2260, 2260, 2260, 2260, 2260, 2260, 2260, 1740, 2290, 2290, 2260, 2140, 2140, 2007, 1640, 1590, 1590, 1590, 1590, 2110, 2110, 2110, 2260, 2290, 2290, 2290, 2290, 2290, 2290, 2290, 2290, 2060, 2060, 2060, 2060, 2060, 2060, 2060, 2060, 1968, 1748, 790, 1059, 1290, 1407, 1953, 868, 690, 882, 1090, 923, 590, 590, 590, 590, 590, 590, 590, 590, 590, 590, 590, 590, 590, 590, 590, 550, 300, 50, 50, 50, 50, 50, 50, 50, 50, 50, 50, 50, 50, 50, 50, 50, 800, 950, 800, 800, 800, 950, 950, 950, 800, 800, 842, 950, 950, 850, 950, 950, 950, 850, 850, 850, 850, 850, 850, 850, 850, 500, 500, 850, 800, 850, 500, 342, 300, 369, 400, 400, 400, 400, 400, 400, 400, 400, 400, 400, 400, 400, 400, 400, 400, 400, 400, 400, 400, 400, 458, 550, 550, 550, 550, 550, 550, 550, 550, 550, 550, 550, 0, 0, 0, 0, 0, 0, 0, 17190, 13123, 4015, 3390, 3390, 3090, 3090, 3090, 3090, 3060, 2860, 2860, 2860, 2860, 2860, 2860, 2860, 2860, 2860, 2860, 6860, 6860, 6860, 6860, 7890, 8040, 8040, 7840, 7840, 7840, 10419, 11390, 11911, 12786, 12894, 12598, 11473, 11473, 7206, 3090, 3090, 3090, 2890, 2840, 2790, 2790, 2790, 2790, 4165, 7390, 7390, 7190, 5003, 4015, 3378, 2690, 2503, 2100, 1800, 1800, 1800, 1800, 1860, 1960, 1960, 1567, 1500, 1860, 1860, 1860, 1860, 1860, 1860, 1860, 1860, 1860, 1860, 1560, 1550, 175, 50, 50, 1739, 1660, 1952, 80, 623, 2023, 2060, 2060, 2060, 1960, 1960, 1860, 1860, 1860, 1860, 1960, 1798, 1710, 1710, 1710, 1710, 1710, 1652, 1610, 1410, 1410, 1410, 1410, 1410, 1410, 1350, 1250, 1250, 1110, 1110, 1110, 1110, 1110, 1000, 1000, 900, 850, 850, 890, 910, 910, 910, 910, 860, 600, 550, 550, 550, 133, 550, 550, 550, 550, 550, 2490, 2490, 1000, 1200, 1200, 3383, 4321, 4963, 5000, 5000, 4208, 4438, 5000, 8563, 2500, 2398, 1870, 1750, 1750, 1750, 1750, 1000, 1000, 1900, 50, 50, 50, 50, 50, 50, 50, 50, 50, 50, 50, 50, 50, 50, 50, 50, 50, 50, 50, 50, 200, 200, 200, 200, 200, 200, 200, 200, 200, 438, 500, 500, 500, 500, 500, 50, 50, 50, 50, 50, 50, 50, 50, 50, 50, 50, 50, 50, 500, 500, 500, 500, 500, 500, 500, 500, 500, 500, 500, 500, 500, 500, 500, 500, 500, 500, 500, 500, 500, 500, 500, 83, 500, 500, 500, 500, 500, 500, 500, 500, 500, 500, 700, 500, 500, 500, 500, 500, 300, 300, 300, 300, 300, 300, 300, 300, 300, 300, 300, 300, 300, 300, 300, 300, 0, 0, 0, 0, 0, 281, 500, 300, 300, 300, 300, 300, 300, 400, 400, 400, 400, 400, 600, 600, 600, 600, 600, 2125, 2125, 2125, 2125, 2125, 2150, 2150, 2150, 2150, 2150, 2150, 1325, 1275, 750, 1000, 1000, 800, 800, 800, 800, 800, 800, 800, 700, 700, 700, 700, 1650, 1950, 1950, 1950, 1950, 1950, 1950, 1850, 1750, 1750, 500, 275, 200, 200, 200, 200, 400, 600, 600, 550, 500, 550, 600, 600, 600, 600, 600, 600, 600, 600, 600, 1300, 1350, 1350, 1350, 1350, 1450, 1650, 1650, 1600, 1550, 500, 500, 500, 500, 500, 600, 600, 600, 600, 600, 600, 600, 600, 600, 600, 600, 600, 600, 600, 600, 600, 600, 600, 600, 600, 600, 600, 600, 600, 600, 600, 600, 600, 600, 600, 600, 600, 600, 600, 600, 375, 300, 300, 300, 300, 300, 300, 300, 217, 100, 100, 100, 100, 100, 100, 100, 100, 100, 100, 100, 16208, 35000, 18750, 500, 500, 12375, 24713, 15025, 6667, 729, 250, 500, 500, 6167, 22083, 19583, 7292, 5000, 5000, 5000, 5000, 1000, 4462, 25375, 36000, 36875, 39667, 48375, 47250, 45800, 41216, 33300, 35800, 40800, 35800, 36425, 15483, 34533, 31200, 27138, 30075, 27033, 26200, 26200, 19117, 16200, 16200, 16200, 21200, 19325, 16200, 16200, 10783, 6200, 7700, 44054, 75321, 81200, 81200, 51408, 41250, 43542, 51667, 69583, 79375, 62917, 46667, 27083, 21250, 16250, 16250, 12708, 11250, 6250, 6250, 9250, 11417, 11583, 7750, 3000, 2250, 2750, 4250, 4250, 2150, 1550, 1550, 1550, 1500, 1500, 1500, 1500, 1500, 1500, 1500, 1500, 1950, 2350, 2350, 2350, 2350, 2350, 2350, 2350, 2350, 2350, 2350, 2000, 2000, 2050, 2050, 2050, 2050, 2050, 2050, 2050, 2050, 2258, 2092, 2050, 2050, 1550, 1550, 1550, 1550, 3300, 2821, 1800, 1716, 2021, 1500, 1500, 1500, 1500, 1500, 1800, 2000, 2000, 2000, 2050, 2050, 2050, 1550, 1550, 1550, 1550, 1550, 1550, 1750, 1600, 1700, 1700, 1525, 1450, 1450, 1650, 1500, 1500, 1250, 1000, 850, 900, 996, 1050, 1050, 1250, 1350, 1400, 750, 950, 575, 500, 300, 150, 150, 150, 150, 300, 150, 300, 450, 900, 1150, 550, 300, 250, 300, 450, 500, 375, 200, 0, 0, 0, 0, 0, 0, 0, 0, 0, 500, 500, 500, 375, 250, 250, 200, 200, 200, 350, 500, 500, 500, 500, 500, 500, 500, 187, 0, 0, 75, 125, 297, 500, 500, 500, 500, 500, 500, 333, 250, 250, 250, 375, 500, 500, 500, 500, 500, 700, 1500, 1281, 250, 500, 500, 500, 500, 700, 700, 775, 833, 900, 900, 800, 800, 783, 825, 800, 800, 800, 800, 800, 800, 800, 800, 800, 800, 1000, 858, 800, 800, 800, 1717, 1800, 1800, 1300, 1850, 825, 1850, 2300, 1850, 1825, 1825, 1325, 800, 700, 750, 750, 625, 400, 400, 650, 1717, 1700, 1800, 1800, 1800, 1800, 1800, 1800, 1800, 1300, 800, 800, 800, 800, 800, 800, 800, 800, 850, 900, 900, 900, 600, 500, 700, 700, 700, 1616, 1700, 1700, 1700, 1700, 1700, 1700, 1700, 1800, 800, 800, 800, 800, 800, 800, 800, 800, 1017, 1092, 1200, 900, 900, 900, 850, 800, 800, 800, 800, 1600, 800, 775, 700, 700, 700, 775, 700, 700, 700, 700, 700, 700, 700, 700, 700, 633, 600, 600, 600, 600, 600, 600, 600, 600, 510, 500, 500, 500, 500, 500, 500, 500, 500, 500, 500, 500, 500, 500, 500, 500, 500, 500, 500, 500, 500, 2000, 3458, 4813, 5000, 5000, 5000, 6500, 7000, 5333, 5000, 1000, 1025, 1030, 3292, 1625, 1271, 642, 1020, 2131, 10949, 77979, 103083, 121000, 53791, 23292, 33708, 17208, 6292, 8875, 7750, 4708, 6000, 6000, 4083, 4000, 4025, 6025, 4025, 5442, 8567, 13025, 6025, 6025, 6025, 5025, 7608, 12025, 26650, 22692, 24358, 24358, 26025, 26025, 13733, 8525, 9567, 4192, 4025, 4025, 4025, 4025, 2213, 4275, 2108, 2025, 2025, 2025, 3358, 2775, 3025, 3090, 3590, 2423, 2090, 1590, 1590, 1590, 1590, 1590, 1590, 1590, 1590, 1590, 1590, 1590, 1590, 1590, 1590, 1590, 550, 550, 550, 3258, 2467, 4800, 5050, 2425, 4758, 9050, 9050, 2925, 2050, 2050, 1050, 3675, 2050, 2342, 1633, 1550, 1717, 1750, 1750, 1725, 1725, 1725, 1725, 1725, 1725, 1725, 2025, 2025, 2025, 2025, 2108, 2250, 2250, 2200, 2200, 2200, 2200, 2200, 2200, 2200, 2200, 2200, 2200, 2200, 1700, 1700, 1700, 1700, 1700, 1700, 1700, 1700, 1700, 1700, 1400, 1000, 1000, 1000, 1000, 1000, 1000, 1000, 1050, 1050, 550, 50, 50, 50, 50, 50, 50, 50, 700, 700, 700, 700, 700, 700, 700, 700, 500, 500, 500, 500, 500, 700, 700, 700, 700, 700, 700, 700, 700, 700, 700, 800, 800, 800, 800, 800, 800, 800, 800, 0, 100, 100, 100, 100, 100, 100, 100, 100, 100, 100, 100, 100, 100, 100, 100, 100, 100, 100, 100, 100, 100, 100, 100, 100, 100, 100, 100, 100, 100, 100, 100, 100, 100, 100, 100, 100, 100, 100, 100, 100, 100, 100, 100, 100, 100, 50, 50, 50, 50, 50, 50, 50, 50, 50, 50, 50, 50, 100, 100, 100, 100, 100, 100, 100, 100, 100, 100, 100, 100, 100, 100, 100, 100, 100, 100, 100, 100, 100, 100, 100, 100, 100, 100, 100, 100, 100, 100, 100, 100, 100, 100, 100, 100, 100, 100, 100, 100, 100, 100, 100, 100, 100, 100, 100, 100, 100, 100, 100, 3000, 100, 100, 100, 100, 100, 1067, 2646, 2000, 2000, 2000, 2000, 2000, 2000, 2000, 2000, 2000, 2000, 2000, 2000, 2000, 2000, 2000, 2000, 2000, 2000, 2000, 3792, 6000, 6000, 6000, 6000, 6000, 6000, 6000, 6000, 6000, 6000, 6000, 6000, 6000, 6000, 6000, 5250, 4000, 4000, 4000, 5417, 6225, 3825, 6025, 6025, 5408, 4471, 3825, 3825, 3825, 3825, 3825, 3825, 3825, 3825, 3025, 3025, 3025, 3025, 2250, 3333, 4000, 4000, 3250, 2000, 2000, 2000, 2000, 2000, 2000, 2000, 2000, 2000, 2000, 2000, 1700, 1700, 1669, 1825, 7875, 14833, 9025, 10850, 11050, 11050, 6675, 5067, 5025, 4775, 4525, 4525, 4025, 3317, 3025, 3025, 3025, 3025, 2025, 2025, 2025, 2025, 2025, 733, 25, 25, 25, 25, 25, 25, 325, 325, 325, 325, 575, 625, 925, 1325, 1325, 1525, 1525, 1525, 1525, 1525, 1525, 1525, 1525, 1525, 1525, 1025, 525, 525, 525, 525, 525, 525, 525, 525, 525, 525, 525, 525, 525, 1275, 2025, 1725, 1725, 1725, 1725, 1725, 2025, 2000, 2000, 2000, 1700, 1700, 1100, 500, 500, 500, 500, 500, 500, 500, 500, 500, 500, 500, 500, 550, 550, 1275, 1275, 1525, 1525, 1525, 1525, 1525, 1067, 754, 525, 525, 525, 500, 50, 369, 500, 500, 500, 500, 500, 500, 275, 200, 200, 200, 200, 200, 200, 200, 200, 200, 200, 200, 200, 500, 500, 948, 948, 1000, 1417, 1500, 1271, 1000, 1000, 1000, 1000, 1000, 1000, 1000, 1000, 1000, 1000, 1000, 750, 600, 600, 600, 600, 600, 600, 600, 600, 600, 600, 600, 600, 600, 600, 600, 600, 500, 600, 600, 600, 600, 538, 500, 563, 600, 600, 600, 600, 975, 575, 400, 1042, 1500, 1063, 1000, 1000, 1000, 1000, 1000, 1000, 1000, 1000, 1000, 1000, 1000, 1000, 1000, 1000, 1000, 1000, 1000, 1000, 1000, 1000, 1000, 1000, 1000, 1000, 1000, 500, 500, 500, 917, 1000, 1000, 1000, 1000, 1000, 1000, 1000, 1000, 1000, 1000, 563, 500, 500, 500, 500, 200, 263, 383, 500, 500, 658, 500, 500, 238, 200, 200, 200, 200, 500, 500, 200, 200, 200, 200, 200, 200, 200, 200, 200, 200, 200, 200, 200, 200, 200, 1000, 1000, 1000, 1000, 1000, 2031, 2500, 2500, 2500, 2500, 2500, 3188, 3500, 3500, 3500, 3500, 3500, 3500, 3500, 3500, 3500, 3500, 3500, 2500, 2500, 2000, 2500, 2000, 2000, 2000, 2873, 3040, 3457, 3113, 3050, 3050, 3050, 3050, 3050, 3050, 3279, 3850, 3850, 3850, 3850, 3850, 4350, 4600, 4350, 4350, 4350, 4850, 4850, 4850, 5621, 5850, 5850, 5454, 5350, 4350, 4350, 4350, 4350, 4350, 4350, 3892, 3850, 2050, 2050, 2050, 1133, 1050, 1050, 1925, 4508, 6008, 5529, 4800, 4550, 4196, 4050, 4050, 4050, 4050, 3113, 2550, 2342, 1175, 550, 550, 550, 550, 550, 550, 550, 550, 550, 550, 550, 550, 1800, 4050, 4050, 4050, 4050, 4717, 5050, 2633, 863, 550, 550, 500, 500, 500, 500, 300, 300, 300, 300, 350, 1100, 2350, 2350, 2350, 2150, 2150, 1250, 300, 300, 300, 300, 300, 300, 300, 483, 633, 600, 1287, 2200, 2200, 2200, 2200, 1250, 300, 300, 300, 300, 303, 300, 435, 500, 500, 500, 775, 750, 542, 500, 500, 433, 300, 300, 300, 300, 450, 500, 500, 579, 600, 600, 600, 600, 600, 600, 542, 500, 500, 500, 500, 500, 500, 500, 500, 500, 500, 500, 500, 500, 500, 500, 50, 50, 50, 50, 50, 50, 50, 50, 50, 50, 50, 50, 50, 50, 50, 50, 50, 50, 50, 50, 50, 50, 50, 50, 50, 146, 550, 825, 555, 50, 90, 240, 390, 598, 1299, 1740, 1550, 1069, 950, 950, 950, 950, 950, 883, 750, 313, 250, 594, 977, 1000, 1000, 1000, 1000, 1000, 290, 290, 290, 290, 290, 290, 290, 290, 290, 290, 540, 800, 800, 915, 1050, 1050, 1050, 1050, 1050, 950, 950, 940, 940, 640, 390, 440, 440, 440, 440, 440, 440, 440, 519, 1003, 1150, 1150, 1150, 1150, 1050, 603, 540, 540, 540, 550, 550, 550, 1050, 1050, 1050, 1050, 1050, 1050, 1050, 1050, 1050, 1050, 1050, 1050, 1050, 1050, 1050, 1050, 1050, 1050, 1350, 1350, 1350, 1350, 1350, 1350, 1350, 1350, 1350, 1350, 1350, 1350, 1350, 1350, 1350, 1350, 1350, 1350, 1350, 1350, 692, 550, 550, 550, 550, 550, 550, 550, 550, 550, 550, 550, 500, 500, 500, 3000, 5917, 7646, 19167, 9264, 10365, 18542, 10625, 5833, 4625, 3708, 0, 3000, 2500, 2500, 2500, 3125, 4000, 3542, 4906, 5000, 3688, 3000, 3000, 3958, 13542, 20000, 20000, 12167, 5700, 6350, 7000, 6792, 6500, 6292, 6000, 6600, 5192, 3800, 3800, 2924, 2830, 2657, 2657, 2450, 2450, 2450, 2450, 2450, 2450, 4350, 5038, 5350, 4892, 4850, 4850, 4392, 4808, 4850, 4746, 5850, 6325, 6050, 4913, 3600, 3459, 3350, 3350, 2450, 2250, 2171, 2150, 2150, 2150, 2063, 2050, 1992, 1950, 1950, 1950, 1950, 1950, 1950, 1950, 2050, 2350, 2350, 3900, 5650, 5650, 5650, 5650, 3983, 4400, 5050, 4550, 4550, 2250, 2196, 2050, 2050, 2050, 2050, 2050, 2050, 1491, 1350, 1800, 1850, 1850, 1850, 1850, 1350, 1850, 1850, 1850, 1850, 1850, 1850, 1850, 1750, 1750, 1750, 1750, 1750, 1750, 1750, 1750, 1750, 1750, 1750, 1750, 1750, 1750, 1479, 1250, 1050, 1050, 1020, 1050, 1050, 1050, 1050, 1050, 1050, 1250, 1700, 1700, 1750, 1250, 1250, 1250, 1250, 1250, 1708, 1750, 1750, 2217, 2550, 2195, 1950, 1950, 1950, 1950, 1750, 1313, 1250, 1250, 1200, 617, 908, 1200, 1200, 900, 900, 900, 900, 900, 900, 900, 900, 900, 900, 900, 900, 200, 200, 200, 200, 200, 200, 1000, 1000, 1000, 1000, 1000, 1000, 3667, 9600, 11500, 17608, 18700, 7375, 27875, 33596, 1200, 1200, 1200, 1783, 2000, 2000, 2000, 13000, 11833, 15458, 31238, 32863, 27030, 22030, 24530, 33176, 36665, 28977, 19768, 13414, 12060, 16852, 11789, 12393, 18727, 5143, 3560, 3560, 3560, 3160, 3160, 3160, 3160, 3160, 3240, 3160, 3160, 3160, 3160, 3160, 9973, 23077, 17535, 15848, 14525, 17535, 4723, 3160, 6743, 6660, 6660, 5535, 3327, 3160, 3160, 3160, 3200, 3200, 3200, 3200, 3410, 3390, 3200, 4030, 2880, 2299, 3322, 3530, 3530, 4030, 4380, 3355, 3230, 3230, 3230, 3230, 3230, 3230, 3130, 3130, 3130, 3130, 3130, 2763, 2730, 2730, 2538, 2530, 2530, 2530, 2530, 2530, 2530, 2530, 2530, 2263, 2030, 2030, 1730, 2105, 2330, 2430, 2400, 2440, 2440, 2440, 2440, 2440, 2440, 2365, 2350, 2350, 2250, 2250, 2250, 2250, 2350, 2260, 2250, 2250, 2250, 2250, 2138, 2000, 1900, 1900, 2150, 2150, 2028, 2000, 1950, 1900, 1900, 1900, 1900, 1900, 1621, 1400, 1400, 1350, 1350, 1290, 1080, 1080, 1080, 1080, 1050, 1050, 1050, 550, 50, 50, 50, 50, 50, 50, 50, 50, 50, 50, 50, 50, 500, 500, 500, 500, 500, 500, 500, 500, 500, 500, 500, 500, 500, 500, 50, 50, 50, 50, 50, 50, 50, 50, 50, 50, 50, 50, 50, 0, 0, 0, 0, 0, 0, 0, 0, 0, 0, 0, 0, 0, 0, 0, 0, 0, 0, 0, 0, 0, 0, 0, 0, 0, 0, 0, 250, 250, 250, 250, 250, 0, 0, 0, 0, 0, 0, 0, 0, 0, 250, 250, 742, 2241, 2700, 1700, 1700, 1700, 1725, 1725, 1725, 1725, 1725, 1725, 1725, 1725, 1375, 750, 750, 750, 750, 725, 700, 700, 700, 700, 700, 700, 700, 700, 700, 700, 700, 700, 700, 1025, 1025, 1175, 1325, 1325, 1325, 1325, 1325, 1325, 1325, 1013, 700, 700, 700, 700, 700, 700, 700, 700, 700, 700, 700, 700, 975, 1000, 1000, 725, 700, 700, 700, 700, 700, 700, 700, 700, 700, 700, 700, 1000, 1525, 1525, 1525, 1525, 1525, 1525, 1525, 1800, 1825, 1900, 1925, 1925, 1133, 600, 600, 600, 600, 600, 600, 600, 775, 800, 800, 800, 800, 800, 800, 800, 800, 800, 800, 800, 800, 800, 800, 1325, 1500, 1500, 1500, 1500, 1500, 1500, 1500, 1500, 1500, 2062, 2500, 2500, 1625, 1500, 1500, 1500, 1500, 1500, 1500, 1500, 1500, 1500, 1500, 1500, 1500, 1500, 1500, 1500, 1500, 1500, 1885, 2271, 2500, 2500, 1633, 1300, 1663, 2500, 2500, 2500, 2500, 3521, 22058, 24063, 15625, 15625, 8760, 2125, 2125, 2125, 3271, 4063, 2917, 2708, 2125, 2125, 2125, 2125, 2625, 2625, 2625, 2625, 2625, 2125, 2125, 2125, 2125, 2125, 2125, 2125, 2125, 2125, 2125, 2563, 3813, 5094, 5625, 2427, 4656, 3208, 3813, 11479, 35625, 30208, 4469, 18104, 2948, 3219, 3677, 3292, 1813, 2521, 1938, 2050, 2050, 1850, 1850, 2050, 2050, 2050, 2050, 1750, 1650, 1475, 1650, 4275, 3392, 2350, 1923, 1850, 1850, 1850, 1850, 1850, 1850, 1850, 2050, 2050, 2050, 2050, 2050, 2100, 2340, 2290, 2140, 2090, 1940, 1890, 1890, 1890, 1890, 1890, 1990, 1990, 2290, 2440, 2390, 2090, 2390, 2190, 1890, 2190, 2150, 2350, 2450, 2450, 2600, 2600, 2550, 1675, 1490, 1763, 1950, 1950, 2000, 2000, 1950, 1950, 1950, 1950, 1950, 1050, 750, 750, 250, 250, 250, 450, 675], \"x0\": \" \", \"xaxis\": \"x\", \"y0\": \" \", \"yaxis\": \"y\"}],\n",
              "                        {\"boxmode\": \"group\", \"legend\": {\"tracegroupgap\": 0}, \"margin\": {\"t\": 60}, \"template\": {\"data\": {\"bar\": [{\"error_x\": {\"color\": \"#2a3f5f\"}, \"error_y\": {\"color\": \"#2a3f5f\"}, \"marker\": {\"line\": {\"color\": \"#E5ECF6\", \"width\": 0.5}}, \"type\": \"bar\"}], \"barpolar\": [{\"marker\": {\"line\": {\"color\": \"#E5ECF6\", \"width\": 0.5}}, \"type\": \"barpolar\"}], \"carpet\": [{\"aaxis\": {\"endlinecolor\": \"#2a3f5f\", \"gridcolor\": \"white\", \"linecolor\": \"white\", \"minorgridcolor\": \"white\", \"startlinecolor\": \"#2a3f5f\"}, \"baxis\": {\"endlinecolor\": \"#2a3f5f\", \"gridcolor\": \"white\", \"linecolor\": \"white\", \"minorgridcolor\": \"white\", \"startlinecolor\": \"#2a3f5f\"}, \"type\": \"carpet\"}], \"choropleth\": [{\"colorbar\": {\"outlinewidth\": 0, \"ticks\": \"\"}, \"type\": \"choropleth\"}], \"contour\": [{\"colorbar\": {\"outlinewidth\": 0, \"ticks\": \"\"}, \"colorscale\": [[0.0, \"#0d0887\"], [0.1111111111111111, \"#46039f\"], [0.2222222222222222, \"#7201a8\"], [0.3333333333333333, \"#9c179e\"], [0.4444444444444444, \"#bd3786\"], [0.5555555555555556, \"#d8576b\"], [0.6666666666666666, \"#ed7953\"], [0.7777777777777778, \"#fb9f3a\"], [0.8888888888888888, \"#fdca26\"], [1.0, \"#f0f921\"]], \"type\": \"contour\"}], \"contourcarpet\": [{\"colorbar\": {\"outlinewidth\": 0, \"ticks\": \"\"}, \"type\": \"contourcarpet\"}], \"heatmap\": [{\"colorbar\": {\"outlinewidth\": 0, \"ticks\": \"\"}, \"colorscale\": [[0.0, \"#0d0887\"], [0.1111111111111111, \"#46039f\"], [0.2222222222222222, \"#7201a8\"], [0.3333333333333333, \"#9c179e\"], [0.4444444444444444, \"#bd3786\"], [0.5555555555555556, \"#d8576b\"], [0.6666666666666666, \"#ed7953\"], [0.7777777777777778, \"#fb9f3a\"], [0.8888888888888888, \"#fdca26\"], [1.0, \"#f0f921\"]], \"type\": \"heatmap\"}], \"heatmapgl\": [{\"colorbar\": {\"outlinewidth\": 0, \"ticks\": \"\"}, \"colorscale\": [[0.0, \"#0d0887\"], [0.1111111111111111, \"#46039f\"], [0.2222222222222222, \"#7201a8\"], [0.3333333333333333, \"#9c179e\"], [0.4444444444444444, \"#bd3786\"], [0.5555555555555556, \"#d8576b\"], [0.6666666666666666, \"#ed7953\"], [0.7777777777777778, \"#fb9f3a\"], [0.8888888888888888, \"#fdca26\"], [1.0, \"#f0f921\"]], \"type\": \"heatmapgl\"}], \"histogram\": [{\"marker\": {\"colorbar\": {\"outlinewidth\": 0, \"ticks\": \"\"}}, \"type\": \"histogram\"}], \"histogram2d\": [{\"colorbar\": {\"outlinewidth\": 0, \"ticks\": \"\"}, \"colorscale\": [[0.0, \"#0d0887\"], [0.1111111111111111, \"#46039f\"], [0.2222222222222222, \"#7201a8\"], [0.3333333333333333, \"#9c179e\"], [0.4444444444444444, \"#bd3786\"], [0.5555555555555556, \"#d8576b\"], [0.6666666666666666, \"#ed7953\"], [0.7777777777777778, \"#fb9f3a\"], [0.8888888888888888, \"#fdca26\"], [1.0, \"#f0f921\"]], \"type\": \"histogram2d\"}], \"histogram2dcontour\": [{\"colorbar\": {\"outlinewidth\": 0, \"ticks\": \"\"}, \"colorscale\": [[0.0, \"#0d0887\"], [0.1111111111111111, \"#46039f\"], [0.2222222222222222, \"#7201a8\"], [0.3333333333333333, \"#9c179e\"], [0.4444444444444444, \"#bd3786\"], [0.5555555555555556, \"#d8576b\"], [0.6666666666666666, \"#ed7953\"], [0.7777777777777778, \"#fb9f3a\"], [0.8888888888888888, \"#fdca26\"], [1.0, \"#f0f921\"]], \"type\": \"histogram2dcontour\"}], \"mesh3d\": [{\"colorbar\": {\"outlinewidth\": 0, \"ticks\": \"\"}, \"type\": \"mesh3d\"}], \"parcoords\": [{\"line\": {\"colorbar\": {\"outlinewidth\": 0, \"ticks\": \"\"}}, \"type\": \"parcoords\"}], \"pie\": [{\"automargin\": true, \"type\": \"pie\"}], \"scatter\": [{\"marker\": {\"colorbar\": {\"outlinewidth\": 0, \"ticks\": \"\"}}, \"type\": \"scatter\"}], \"scatter3d\": [{\"line\": {\"colorbar\": {\"outlinewidth\": 0, \"ticks\": \"\"}}, \"marker\": {\"colorbar\": {\"outlinewidth\": 0, \"ticks\": \"\"}}, \"type\": \"scatter3d\"}], \"scattercarpet\": [{\"marker\": {\"colorbar\": {\"outlinewidth\": 0, \"ticks\": \"\"}}, \"type\": \"scattercarpet\"}], \"scattergeo\": [{\"marker\": {\"colorbar\": {\"outlinewidth\": 0, \"ticks\": \"\"}}, \"type\": \"scattergeo\"}], \"scattergl\": [{\"marker\": {\"colorbar\": {\"outlinewidth\": 0, \"ticks\": \"\"}}, \"type\": \"scattergl\"}], \"scattermapbox\": [{\"marker\": {\"colorbar\": {\"outlinewidth\": 0, \"ticks\": \"\"}}, \"type\": \"scattermapbox\"}], \"scatterpolar\": [{\"marker\": {\"colorbar\": {\"outlinewidth\": 0, \"ticks\": \"\"}}, \"type\": \"scatterpolar\"}], \"scatterpolargl\": [{\"marker\": {\"colorbar\": {\"outlinewidth\": 0, \"ticks\": \"\"}}, \"type\": \"scatterpolargl\"}], \"scatterternary\": [{\"marker\": {\"colorbar\": {\"outlinewidth\": 0, \"ticks\": \"\"}}, \"type\": \"scatterternary\"}], \"surface\": [{\"colorbar\": {\"outlinewidth\": 0, \"ticks\": \"\"}, \"colorscale\": [[0.0, \"#0d0887\"], [0.1111111111111111, \"#46039f\"], [0.2222222222222222, \"#7201a8\"], [0.3333333333333333, \"#9c179e\"], [0.4444444444444444, \"#bd3786\"], [0.5555555555555556, \"#d8576b\"], [0.6666666666666666, \"#ed7953\"], [0.7777777777777778, \"#fb9f3a\"], [0.8888888888888888, \"#fdca26\"], [1.0, \"#f0f921\"]], \"type\": \"surface\"}], \"table\": [{\"cells\": {\"fill\": {\"color\": \"#EBF0F8\"}, \"line\": {\"color\": \"white\"}}, \"header\": {\"fill\": {\"color\": \"#C8D4E3\"}, \"line\": {\"color\": \"white\"}}, \"type\": \"table\"}]}, \"layout\": {\"annotationdefaults\": {\"arrowcolor\": \"#2a3f5f\", \"arrowhead\": 0, \"arrowwidth\": 1}, \"coloraxis\": {\"colorbar\": {\"outlinewidth\": 0, \"ticks\": \"\"}}, \"colorscale\": {\"diverging\": [[0, \"#8e0152\"], [0.1, \"#c51b7d\"], [0.2, \"#de77ae\"], [0.3, \"#f1b6da\"], [0.4, \"#fde0ef\"], [0.5, \"#f7f7f7\"], [0.6, \"#e6f5d0\"], [0.7, \"#b8e186\"], [0.8, \"#7fbc41\"], [0.9, \"#4d9221\"], [1, \"#276419\"]], \"sequential\": [[0.0, \"#0d0887\"], [0.1111111111111111, \"#46039f\"], [0.2222222222222222, \"#7201a8\"], [0.3333333333333333, \"#9c179e\"], [0.4444444444444444, \"#bd3786\"], [0.5555555555555556, \"#d8576b\"], [0.6666666666666666, \"#ed7953\"], [0.7777777777777778, \"#fb9f3a\"], [0.8888888888888888, \"#fdca26\"], [1.0, \"#f0f921\"]], \"sequentialminus\": [[0.0, \"#0d0887\"], [0.1111111111111111, \"#46039f\"], [0.2222222222222222, \"#7201a8\"], [0.3333333333333333, \"#9c179e\"], [0.4444444444444444, \"#bd3786\"], [0.5555555555555556, \"#d8576b\"], [0.6666666666666666, \"#ed7953\"], [0.7777777777777778, \"#fb9f3a\"], [0.8888888888888888, \"#fdca26\"], [1.0, \"#f0f921\"]]}, \"colorway\": [\"#636efa\", \"#EF553B\", \"#00cc96\", \"#ab63fa\", \"#FFA15A\", \"#19d3f3\", \"#FF6692\", \"#B6E880\", \"#FF97FF\", \"#FECB52\"], \"font\": {\"color\": \"#2a3f5f\"}, \"geo\": {\"bgcolor\": \"white\", \"lakecolor\": \"white\", \"landcolor\": \"#E5ECF6\", \"showlakes\": true, \"showland\": true, \"subunitcolor\": \"white\"}, \"hoverlabel\": {\"align\": \"left\"}, \"hovermode\": \"closest\", \"mapbox\": {\"style\": \"light\"}, \"paper_bgcolor\": \"white\", \"plot_bgcolor\": \"#E5ECF6\", \"polar\": {\"angularaxis\": {\"gridcolor\": \"white\", \"linecolor\": \"white\", \"ticks\": \"\"}, \"bgcolor\": \"#E5ECF6\", \"radialaxis\": {\"gridcolor\": \"white\", \"linecolor\": \"white\", \"ticks\": \"\"}}, \"scene\": {\"xaxis\": {\"backgroundcolor\": \"#E5ECF6\", \"gridcolor\": \"white\", \"gridwidth\": 2, \"linecolor\": \"white\", \"showbackground\": true, \"ticks\": \"\", \"zerolinecolor\": \"white\"}, \"yaxis\": {\"backgroundcolor\": \"#E5ECF6\", \"gridcolor\": \"white\", \"gridwidth\": 2, \"linecolor\": \"white\", \"showbackground\": true, \"ticks\": \"\", \"zerolinecolor\": \"white\"}, \"zaxis\": {\"backgroundcolor\": \"#E5ECF6\", \"gridcolor\": \"white\", \"gridwidth\": 2, \"linecolor\": \"white\", \"showbackground\": true, \"ticks\": \"\", \"zerolinecolor\": \"white\"}}, \"shapedefaults\": {\"line\": {\"color\": \"#2a3f5f\"}}, \"ternary\": {\"aaxis\": {\"gridcolor\": \"white\", \"linecolor\": \"white\", \"ticks\": \"\"}, \"baxis\": {\"gridcolor\": \"white\", \"linecolor\": \"white\", \"ticks\": \"\"}, \"bgcolor\": \"#E5ECF6\", \"caxis\": {\"gridcolor\": \"white\", \"linecolor\": \"white\", \"ticks\": \"\"}}, \"title\": {\"x\": 0.05}, \"xaxis\": {\"automargin\": true, \"gridcolor\": \"white\", \"linecolor\": \"white\", \"ticks\": \"\", \"title\": {\"standoff\": 15}, \"zerolinecolor\": \"white\", \"zerolinewidth\": 2}, \"yaxis\": {\"automargin\": true, \"gridcolor\": \"white\", \"linecolor\": \"white\", \"ticks\": \"\", \"title\": {\"standoff\": 15}, \"zerolinecolor\": \"white\", \"zerolinewidth\": 2}}}, \"xaxis\": {\"anchor\": \"y\", \"domain\": [0.0, 1.0], \"title\": {\"text\": \"x\"}}, \"yaxis\": {\"anchor\": \"x\", \"domain\": [0.0, 1.0]}},\n",
              "                        {\"responsive\": true}\n",
              "                    ).then(function(){\n",
              "                            \n",
              "var gd = document.getElementById('e56bc508-10c5-444b-aa62-965cca12cc2e');\n",
              "var x = new MutationObserver(function (mutations, observer) {{\n",
              "        var display = window.getComputedStyle(gd).display;\n",
              "        if (!display || display === 'none') {{\n",
              "            console.log([gd, 'removed!']);\n",
              "            Plotly.purge(gd);\n",
              "            observer.disconnect();\n",
              "        }}\n",
              "}});\n",
              "\n",
              "// Listen for the removal of the full notebook cells\n",
              "var notebookContainer = gd.closest('#notebook-container');\n",
              "if (notebookContainer) {{\n",
              "    x.observe(notebookContainer, {childList: true});\n",
              "}}\n",
              "\n",
              "// Listen for the clearing of the current output cell\n",
              "var outputEl = gd.closest('.output');\n",
              "if (outputEl) {{\n",
              "    x.observe(outputEl, {childList: true});\n",
              "}}\n",
              "\n",
              "                        })\n",
              "                };\n",
              "                \n",
              "            </script>\n",
              "        </div>\n",
              "</body>\n",
              "</html>"
            ]
          },
          "metadata": {
            "tags": []
          }
        }
      ]
    },
    {
      "cell_type": "markdown",
      "metadata": {
        "id": "421hbHuMfGFa"
      },
      "source": [
        "lot of outlier points are there.\n",
        "\n"
      ]
    },
    {
      "cell_type": "code",
      "metadata": {
        "colab": {
          "base_uri": "https://localhost:8080/",
          "height": 597
        },
        "id": "JmlE3cxKqM2V",
        "outputId": "28713b9d-81e6-4282-b27f-410cee371007"
      },
      "source": [
        "print(kabini[\"YEAR\"].value_counts())\n",
        "sns.countplot(kabini[\"YEAR\"])\n"
      ],
      "execution_count": null,
      "outputs": [
        {
          "output_type": "stream",
          "text": [
            "2016    366\n",
            "2019    365\n",
            "2017    365\n",
            "2015    365\n",
            "2018    365\n",
            "2014    364\n",
            "2011    358\n",
            "2020    333\n",
            "2013    216\n",
            "2012    215\n",
            "2010      2\n",
            "Name: YEAR, dtype: int64\n"
          ],
          "name": "stdout"
        },
        {
          "output_type": "stream",
          "text": [
            "/usr/local/lib/python3.7/dist-packages/seaborn/_decorators.py:43: FutureWarning:\n",
            "\n",
            "Pass the following variable as a keyword arg: x. From version 0.12, the only valid positional argument will be `data`, and passing other arguments without an explicit keyword will result in an error or misinterpretation.\n",
            "\n"
          ],
          "name": "stderr"
        },
        {
          "output_type": "execute_result",
          "data": {
            "text/plain": [
              "<matplotlib.axes._subplots.AxesSubplot at 0x7f926f542050>"
            ]
          },
          "metadata": {
            "tags": []
          },
          "execution_count": 57
        },
        {
          "output_type": "display_data",
          "data": {
            "image/png": "[encoded data removed]",
            "text/plain": [
              "<Figure size 432x288 with 1 Axes>"
            ]
          },
          "metadata": {
            "tags": [],
            "needs_background": "light"
          }
        }
      ]
    },
    {
      "cell_type": "markdown",
      "metadata": {
        "id": "3v382KxU6Y6Y"
      },
      "source": [
        "Only 2 months data and few less records for 2012 and 2013 for kabini"
      ]
    },
    {
      "cell_type": "code",
      "metadata": {
        "id": "9WZIfVtp69j9"
      },
      "source": [
        "kabini_indexed = kabini.set_index('FLOW_DATE')"
      ],
      "execution_count": null,
      "outputs": []
    },
    {
      "cell_type": "code",
      "metadata": {
        "colab": {
          "base_uri": "https://localhost:8080/",
          "height": 230
        },
        "id": "lZdcRZJd7EKt",
        "outputId": "478afa2b-3b67-4def-9a7d-2c2b79a753e1"
      },
      "source": [
        "kabini_indexed.head()"
      ],
      "execution_count": null,
      "outputs": [
        {
          "output_type": "execute_result",
          "data": {
            "text/html": [
              "<div>\n",
              "<style scoped>\n",
              "    .dataframe tbody tr th:only-of-type {\n",
              "        vertical-align: middle;\n",
              "    }\n",
              "\n",
              "    .dataframe tbody tr th {\n",
              "        vertical-align: top;\n",
              "    }\n",
              "\n",
              "    .dataframe thead th {\n",
              "        text-align: right;\n",
              "    }\n",
              "</style>\n",
              "<table border=\"1\" class=\"dataframe\">\n",
              "  <thead>\n",
              "    <tr style=\"text-align: right;\">\n",
              "      <th></th>\n",
              "      <th>SL_NO</th>\n",
              "      <th>RESERVOIR</th>\n",
              "      <th>YEAR</th>\n",
              "      <th>WEEK_NO</th>\n",
              "      <th>PRESENT_STORAGE_TMC</th>\n",
              "      <th>RES_LEVEL_FT</th>\n",
              "      <th>INFLOW_CUSECS</th>\n",
              "      <th>OUTFLOW_CUECS</th>\n",
              "      <th>UNIQUE_KEY</th>\n",
              "    </tr>\n",
              "    <tr>\n",
              "      <th>FLOW_DATE</th>\n",
              "      <th></th>\n",
              "      <th></th>\n",
              "      <th></th>\n",
              "      <th></th>\n",
              "      <th></th>\n",
              "      <th></th>\n",
              "      <th></th>\n",
              "      <th></th>\n",
              "      <th></th>\n",
              "    </tr>\n",
              "  </thead>\n",
              "  <tbody>\n",
              "    <tr>\n",
              "      <th>2011-01-21</th>\n",
              "      <td>226</td>\n",
              "      <td>Kabini</td>\n",
              "      <td>2011</td>\n",
              "      <td>3</td>\n",
              "      <td>16.56</td>\n",
              "      <td>2279.14</td>\n",
              "      <td>252.0</td>\n",
              "      <td>50</td>\n",
              "      <td>KABINI-2011-01-21</td>\n",
              "    </tr>\n",
              "    <tr>\n",
              "      <th>2011-01-20</th>\n",
              "      <td>227</td>\n",
              "      <td>Kabini</td>\n",
              "      <td>2011</td>\n",
              "      <td>3</td>\n",
              "      <td>16.54</td>\n",
              "      <td>2279.12</td>\n",
              "      <td>318.0</td>\n",
              "      <td>50</td>\n",
              "      <td>KABINI-2011-01-20</td>\n",
              "    </tr>\n",
              "    <tr>\n",
              "      <th>2011-01-22</th>\n",
              "      <td>312</td>\n",
              "      <td>Kabini</td>\n",
              "      <td>2011</td>\n",
              "      <td>4</td>\n",
              "      <td>16.57</td>\n",
              "      <td>2279.16</td>\n",
              "      <td>252.0</td>\n",
              "      <td>50</td>\n",
              "      <td>KABINI-2011-01-22</td>\n",
              "    </tr>\n",
              "    <tr>\n",
              "      <th>2011-01-23</th>\n",
              "      <td>313</td>\n",
              "      <td>Kabini</td>\n",
              "      <td>2011</td>\n",
              "      <td>4</td>\n",
              "      <td>16.58</td>\n",
              "      <td>2279.18</td>\n",
              "      <td>252.0</td>\n",
              "      <td>50</td>\n",
              "      <td>KABINI-2011-01-23</td>\n",
              "    </tr>\n",
              "    <tr>\n",
              "      <th>2011-01-24</th>\n",
              "      <td>314</td>\n",
              "      <td>Kabini</td>\n",
              "      <td>2011</td>\n",
              "      <td>4</td>\n",
              "      <td>16.59</td>\n",
              "      <td>2279.20</td>\n",
              "      <td>252.0</td>\n",
              "      <td>50</td>\n",
              "      <td>KABINI-2011-01-24</td>\n",
              "    </tr>\n",
              "  </tbody>\n",
              "</table>\n",
              "</div>"
            ],
            "text/plain": [
              "            SL_NO RESERVOIR  ...  OUTFLOW_CUECS         UNIQUE_KEY\n",
              "FLOW_DATE                    ...                                  \n",
              "2011-01-21    226    Kabini  ...             50  KABINI-2011-01-21\n",
              "2011-01-20    227    Kabini  ...             50  KABINI-2011-01-20\n",
              "2011-01-22    312    Kabini  ...             50  KABINI-2011-01-22\n",
              "2011-01-23    313    Kabini  ...             50  KABINI-2011-01-23\n",
              "2011-01-24    314    Kabini  ...             50  KABINI-2011-01-24\n",
              "\n",
              "[5 rows x 9 columns]"
            ]
          },
          "metadata": {
            "tags": []
          },
          "execution_count": 59
        }
      ]
    },
    {
      "cell_type": "code",
      "metadata": {
        "colab": {
          "base_uri": "https://localhost:8080/",
          "height": 542
        },
        "id": "xoAMK8-msKGb",
        "outputId": "f84be909-b58d-4422-d046-35eb36b4e43b"
      },
      "source": [
        "fig = px.line(data_frame = kabini, x = 'FLOW_DATE', y='INFLOW_CUSECS')\n",
        "\n",
        "fig.update_xaxes(rangeslider_visible=True)\n",
        "fig.show()"
      ],
      "execution_count": null,
      "outputs": [
        {
          "output_type": "display_data",
          "data": {
            "text/html": [
              "<html>\n",
              "<head><meta charset=\"utf-8\" /></head>\n",
              "<body>\n",
              "    <div>\n",
              "            <script src=\"https://cdnjs.cloudflare.com/ajax/libs/mathjax/2.7.5/MathJax.js?config=TeX-AMS-MML_SVG\"></script><script type=\"text/javascript\">if (window.MathJax) {MathJax.Hub.Config({SVG: {font: \"STIX-Web\"}});}</script>\n",
              "                <script type=\"text/javascript\">window.PlotlyConfig = {MathJaxConfig: 'local'};</script>\n",
              "        <script src=\"https://cdn.plot.ly/plotly-latest.min.js\"></script>    \n",
              "            <div id=\"bb4f584c-116c-4027-b670-c97fae1eee9b\" class=\"plotly-graph-div\" style=\"height:525px; width:100%;\"></div>\n",
              "            <script type=\"text/javascript\">\n",
              "                \n",
              "                    window.PLOTLYENV=window.PLOTLYENV || {};\n",
              "                    \n",
              "                if (document.getElementById(\"bb4f584c-116c-4027-b670-c97fae1eee9b\")) {\n",
              "                    Plotly.newPlot(\n",
              "                        'bb4f584c-116c-4027-b670-c97fae1eee9b',\n",
              "                        [{\"hoverlabel\": {\"namelength\": 0}, \"hovertemplate\": \"FLOW_DATE=%{x}<br>INFLOW_CUSECS=%{y}\", \"legendgroup\": \"\", \"line\": {\"color\": \"#636efa\", \"dash\": \"solid\"}, \"mode\": \"lines\", \"name\": \"\", \"showlegend\": false, \"type\": \"scattergl\", \"x\": [\"2011-01-21T00:00:00\", \"2011-01-20T00:00:00\", \"2011-01-22T00:00:00\", \"2011-01-23T00:00:00\", \"2011-01-24T00:00:00\", \"2011-01-25T00:00:00\", \"2011-01-26T00:00:00\", \"2011-01-27T00:00:00\", \"2011-01-28T00:00:00\", \"2011-01-29T00:00:00\", \"2011-01-30T00:00:00\", \"2011-01-31T00:00:00\", \"2011-02-01T00:00:00\", \"2011-02-02T00:00:00\", \"2011-02-03T00:00:00\", \"2011-02-04T00:00:00\", \"2011-02-05T00:00:00\", \"2011-02-06T00:00:00\", \"2011-02-07T00:00:00\", \"2011-02-08T00:00:00\", \"2011-02-09T00:00:00\", \"2011-02-10T00:00:00\", \"2011-02-11T00:00:00\", \"2011-02-12T00:00:00\", \"2011-02-13T00:00:00\", \"2011-02-14T00:00:00\", \"2011-02-15T00:00:00\", \"2011-02-16T00:00:00\", \"2011-02-17T00:00:00\", \"2011-02-18T00:00:00\", \"2011-02-19T00:00:00\", \"2011-02-20T00:00:00\", \"2011-02-21T00:00:00\", \"2011-02-22T00:00:00\", \"2011-02-23T00:00:00\", \"2011-02-24T00:00:00\", \"2011-02-25T00:00:00\", \"2011-02-26T00:00:00\", \"2011-02-27T00:00:00\", \"2011-02-28T00:00:00\", \"2011-03-01T00:00:00\", \"2011-03-02T00:00:00\", \"2011-03-03T00:00:00\", \"2011-03-04T00:00:00\", \"2011-03-05T00:00:00\", \"2011-03-06T00:00:00\", \"2011-03-07T00:00:00\", \"2011-03-08T00:00:00\", \"2011-03-09T00:00:00\", \"2011-03-10T00:00:00\", \"2011-03-11T00:00:00\", \"2011-03-12T00:00:00\", \"2011-03-13T00:00:00\", \"2011-03-14T00:00:00\", \"2011-03-15T00:00:00\", \"2011-03-16T00:00:00\", \"2011-03-17T00:00:00\", \"2011-03-18T00:00:00\", \"2011-03-19T00:00:00\", \"2011-03-20T00:00:00\", \"2011-03-21T00:00:00\", \"2011-03-22T00:00:00\", \"2011-03-23T00:00:00\", \"2011-03-24T00:00:00\", \"2011-03-25T00:00:00\", \"2011-03-26T00:00:00\", \"2011-03-27T00:00:00\", \"2011-03-28T00:00:00\", \"2011-03-29T00:00:00\", \"2011-03-30T00:00:00\", \"2011-03-31T00:00:00\", \"2011-04-01T00:00:00\", \"2011-04-02T00:00:00\", \"2011-04-03T00:00:00\", \"2011-04-04T00:00:00\", \"2011-04-05T00:00:00\", \"2011-04-06T00:00:00\", \"2011-04-07T00:00:00\", \"2011-04-08T00:00:00\", \"2011-04-09T00:00:00\", \"2011-04-10T00:00:00\", \"2011-04-11T00:00:00\", \"2011-04-12T00:00:00\", \"2011-04-13T00:00:00\", \"2011-04-14T00:00:00\", \"2011-04-15T00:00:00\", \"2011-04-16T00:00:00\", \"2011-04-17T00:00:00\", \"2011-04-18T00:00:00\", \"2011-04-19T00:00:00\", \"2011-04-20T00:00:00\", \"2011-04-21T00:00:00\", \"2011-04-22T00:00:00\", \"2011-04-23T00:00:00\", \"2011-04-24T00:00:00\", \"2011-04-25T00:00:00\", \"2011-04-26T00:00:00\", \"2011-04-27T00:00:00\", \"2011-04-28T00:00:00\", \"2011-04-29T00:00:00\", \"2011-04-30T00:00:00\", \"2011-05-01T00:00:00\", \"2011-05-02T00:00:00\", \"2011-05-03T00:00:00\", \"2011-05-04T00:00:00\", \"2011-05-05T00:00:00\", \"2011-05-06T00:00:00\", \"2011-05-07T00:00:00\", \"2011-05-08T00:00:00\", \"2011-05-09T00:00:00\", \"2011-05-10T00:00:00\", \"2011-05-11T00:00:00\", \"2011-05-12T00:00:00\", \"2011-05-13T00:00:00\", \"2011-05-14T00:00:00\", \"2011-05-15T00:00:00\", \"2011-05-16T00:00:00\", \"2011-05-17T00:00:00\", \"2011-05-18T00:00:00\", \"2011-05-19T00:00:00\", \"2011-05-20T00:00:00\", \"2011-05-21T00:00:00\", \"2011-05-22T00:00:00\", \"2011-05-23T00:00:00\", \"2011-05-24T00:00:00\", \"2011-05-25T00:00:00\", \"2011-05-26T00:00:00\", \"2011-05-27T00:00:00\", \"2011-05-28T00:00:00\", \"2011-05-29T00:00:00\", \"2011-05-30T00:00:00\", \"2011-05-31T00:00:00\", \"2011-06-01T00:00:00\", \"2011-06-02T00:00:00\", \"2011-06-03T00:00:00\", \"2011-06-04T00:00:00\", \"2011-06-05T00:00:00\", \"2011-06-06T00:00:00\", \"2011-06-07T00:00:00\", \"2011-06-08T00:00:00\", \"2011-06-09T00:00:00\", \"2011-06-10T00:00:00\", \"2011-06-11T00:00:00\", \"2011-06-12T00:00:00\", \"2011-06-13T00:00:00\", \"2011-06-14T00:00:00\", \"2011-06-15T00:00:00\", \"2011-06-16T00:00:00\", \"2011-06-17T00:00:00\", \"2011-06-18T00:00:00\", \"2011-06-19T00:00:00\", \"2011-06-20T00:00:00\", \"2011-06-21T00:00:00\", \"2011-06-22T00:00:00\", \"2011-06-23T00:00:00\", \"2011-06-24T00:00:00\", \"2011-06-25T00:00:00\", \"2011-06-26T00:00:00\", \"2011-06-27T00:00:00\", \"2011-06-28T00:00:00\", \"2011-06-29T00:00:00\", \"2011-06-30T00:00:00\", \"2011-07-01T00:00:00\", \"2011-07-02T00:00:00\", \"2011-07-03T00:00:00\", \"2011-07-04T00:00:00\", \"2011-07-05T00:00:00\", \"2011-07-06T00:00:00\", \"2011-07-07T00:00:00\", \"2011-07-08T00:00:00\", \"2011-07-16T00:00:00\", \"2011-07-17T00:00:00\", \"2011-07-18T00:00:00\", \"2011-07-19T00:00:00\", \"2011-07-20T00:00:00\", \"2011-07-21T00:00:00\", \"2011-07-22T00:00:00\", \"2011-07-23T00:00:00\", \"2011-07-24T00:00:00\", \"2011-07-25T00:00:00\", \"2011-07-26T00:00:00\", \"2011-07-27T00:00:00\", \"2011-07-28T00:00:00\", \"2011-07-29T00:00:00\", \"2011-07-30T00:00:00\", \"2011-07-31T00:00:00\", \"2011-08-01T00:00:00\", \"2011-08-02T00:00:00\", \"2011-08-03T00:00:00\", \"2011-08-04T00:00:00\", \"2011-08-05T00:00:00\", \"2011-08-06T00:00:00\", \"2011-08-07T00:00:00\", \"2011-08-08T00:00:00\", \"2011-08-09T00:00:00\", \"2011-08-10T00:00:00\", \"2011-08-11T00:00:00\", \"2011-08-12T00:00:00\", \"2011-08-13T00:00:00\", \"2011-08-14T00:00:00\", \"2011-08-15T00:00:00\", \"2011-08-16T00:00:00\", \"2011-08-17T00:00:00\", \"2011-08-18T00:00:00\", \"2011-08-19T00:00:00\", \"2011-08-20T00:00:00\", \"2011-08-21T00:00:00\", \"2011-08-22T00:00:00\", \"2011-08-23T00:00:00\", \"2011-08-24T00:00:00\", \"2011-08-25T00:00:00\", \"2011-08-26T00:00:00\", \"2011-08-27T00:00:00\", \"2011-08-28T00:00:00\", \"2011-08-29T00:00:00\", \"2011-08-30T00:00:00\", \"2011-08-31T00:00:00\", \"2011-09-01T00:00:00\", \"2011-09-02T00:00:00\", \"2011-09-03T00:00:00\", \"2011-09-04T00:00:00\", \"2011-09-05T00:00:00\", \"2011-09-06T00:00:00\", \"2011-09-07T00:00:00\", \"2011-09-08T00:00:00\", \"2011-09-09T00:00:00\", \"2011-01-01T00:00:00\", \"2011-01-02T00:00:00\", \"2011-01-03T00:00:00\", \"2011-01-04T00:00:00\", \"2011-01-05T00:00:00\", \"2011-09-10T00:00:00\", \"2011-09-11T00:00:00\", \"2011-09-12T00:00:00\", \"2011-09-13T00:00:00\", \"2011-09-14T00:00:00\", \"2011-09-15T00:00:00\", \"2011-09-16T00:00:00\", \"2011-01-06T00:00:00\", \"2011-01-07T00:00:00\", \"2011-01-08T00:00:00\", \"2011-01-09T00:00:00\", \"2011-01-10T00:00:00\", \"2011-01-11T00:00:00\", \"2011-01-12T00:00:00\", \"2011-09-17T00:00:00\", \"2011-09-18T00:00:00\", \"2011-09-19T00:00:00\", \"2011-09-20T00:00:00\", \"2011-09-21T00:00:00\", \"2011-09-22T00:00:00\", \"2011-09-23T00:00:00\", \"2011-01-13T00:00:00\", \"2011-01-14T00:00:00\", \"2011-01-15T00:00:00\", \"2011-01-16T00:00:00\", \"2011-01-17T00:00:00\", \"2011-01-18T00:00:00\", \"2011-01-19T00:00:00\", \"2011-09-24T00:00:00\", \"2011-09-25T00:00:00\", \"2011-09-26T00:00:00\", \"2011-09-27T00:00:00\", \"2011-09-28T00:00:00\", \"2011-09-29T00:00:00\", \"2011-09-30T00:00:00\", \"2011-10-01T00:00:00\", \"2011-10-02T00:00:00\", \"2011-10-03T00:00:00\", \"2011-10-04T00:00:00\", \"2011-10-05T00:00:00\", \"2011-10-06T00:00:00\", \"2011-10-07T00:00:00\", \"2011-10-08T00:00:00\", \"2011-10-09T00:00:00\", \"2011-10-10T00:00:00\", \"2011-10-11T00:00:00\", \"2011-10-12T00:00:00\", \"2011-10-13T00:00:00\", \"2011-10-14T00:00:00\", \"2011-10-15T00:00:00\", \"2011-10-16T00:00:00\", \"2011-10-17T00:00:00\", \"2011-10-18T00:00:00\", \"2011-10-19T00:00:00\", \"2011-10-20T00:00:00\", \"2011-10-21T00:00:00\", \"2011-10-22T00:00:00\", \"2011-10-23T00:00:00\", \"2011-10-24T00:00:00\", \"2011-10-25T00:00:00\", \"2011-10-26T00:00:00\", \"2011-10-27T00:00:00\", \"2011-10-28T00:00:00\", \"2011-10-29T00:00:00\", \"2011-10-30T00:00:00\", \"2011-10-31T00:00:00\", \"2011-11-01T00:00:00\", \"2011-11-02T00:00:00\", \"2011-11-03T00:00:00\", \"2011-11-04T00:00:00\", \"2011-11-05T00:00:00\", \"2011-11-06T00:00:00\", \"2011-11-07T00:00:00\", \"2011-11-08T00:00:00\", \"2011-11-09T00:00:00\", \"2011-11-10T00:00:00\", \"2011-11-11T00:00:00\", \"2011-11-12T00:00:00\", \"2011-11-13T00:00:00\", \"2011-11-14T00:00:00\", \"2011-11-15T00:00:00\", \"2011-11-16T00:00:00\", \"2011-11-17T00:00:00\", \"2011-11-18T00:00:00\", \"2011-11-19T00:00:00\", \"2011-11-20T00:00:00\", \"2011-11-21T00:00:00\", \"2011-11-22T00:00:00\", \"2011-11-23T00:00:00\", \"2011-11-24T00:00:00\", \"2011-11-25T00:00:00\", \"2011-11-26T00:00:00\", \"2011-11-27T00:00:00\", \"2011-11-28T00:00:00\", \"2011-11-29T00:00:00\", \"2011-11-30T00:00:00\", \"2011-12-01T00:00:00\", \"2011-12-02T00:00:00\", \"2011-12-03T00:00:00\", \"2011-12-04T00:00:00\", \"2011-12-05T00:00:00\", \"2011-12-06T00:00:00\", \"2011-12-07T00:00:00\", \"2011-12-08T00:00:00\", \"2011-12-09T00:00:00\", \"2011-12-10T00:00:00\", \"2011-12-11T00:00:00\", \"2011-12-12T00:00:00\", \"2011-12-13T00:00:00\", \"2011-12-14T00:00:00\", \"2011-12-15T00:00:00\", \"2011-12-16T00:00:00\", \"2011-12-17T00:00:00\", \"2011-12-18T00:00:00\", \"2011-12-19T00:00:00\", \"2011-12-20T00:00:00\", \"2011-12-21T00:00:00\", \"2011-12-22T00:00:00\", \"2011-12-23T00:00:00\", \"2011-12-24T00:00:00\", \"2011-12-25T00:00:00\", \"2011-12-26T00:00:00\", \"2011-12-27T00:00:00\", \"2011-12-28T00:00:00\", \"2011-12-29T00:00:00\", \"2011-12-30T00:00:00\", \"2011-12-31T00:00:00\", \"2012-01-01T00:00:00\", \"2014-01-01T00:00:00\", \"2014-01-02T00:00:00\", \"2014-01-03T00:00:00\", \"2014-01-04T00:00:00\", \"2014-01-05T00:00:00\", \"2014-01-06T00:00:00\", \"2014-01-07T00:00:00\", \"2014-01-08T00:00:00\", \"2014-01-09T00:00:00\", \"2014-01-10T00:00:00\", \"2014-01-11T00:00:00\", \"2014-01-12T00:00:00\", \"2014-01-13T00:00:00\", \"2014-01-14T00:00:00\", \"2014-01-15T00:00:00\", \"2014-01-16T00:00:00\", \"2014-01-17T00:00:00\", \"2014-01-18T00:00:00\", \"2014-01-19T00:00:00\", \"2014-01-20T00:00:00\", \"2014-01-21T00:00:00\", \"2014-01-22T00:00:00\", \"2014-01-23T00:00:00\", \"2014-01-24T00:00:00\", \"2014-01-25T00:00:00\", \"2014-01-26T00:00:00\", \"2014-01-27T00:00:00\", \"2014-01-28T00:00:00\", \"2014-01-29T00:00:00\", \"2014-01-30T00:00:00\", \"2014-01-31T00:00:00\", \"2014-02-01T00:00:00\", \"2014-02-02T00:00:00\", \"2014-02-03T00:00:00\", \"2014-02-04T00:00:00\", \"2014-02-07T00:00:00\", \"2014-02-05T00:00:00\", \"2014-02-06T00:00:00\", \"2014-02-08T00:00:00\", \"2014-02-09T00:00:00\", \"2014-02-10T00:00:00\", \"2014-02-11T00:00:00\", \"2014-02-12T00:00:00\", \"2014-02-13T00:00:00\", \"2014-02-14T00:00:00\", \"2014-02-15T00:00:00\", \"2014-02-16T00:00:00\", \"2014-02-17T00:00:00\", \"2014-02-18T00:00:00\", \"2014-02-19T00:00:00\", \"2014-02-20T00:00:00\", \"2014-02-21T00:00:00\", \"2014-02-22T00:00:00\", \"2014-02-23T00:00:00\", \"2014-02-24T00:00:00\", \"2014-02-25T00:00:00\", \"2014-02-26T00:00:00\", \"2014-02-27T00:00:00\", \"2014-02-28T00:00:00\", \"2014-03-01T00:00:00\", \"2014-03-02T00:00:00\", \"2014-03-03T00:00:00\", \"2014-03-04T00:00:00\", \"2014-03-05T00:00:00\", \"2014-03-06T00:00:00\", \"2014-03-07T00:00:00\", \"2014-03-08T00:00:00\", \"2014-03-09T00:00:00\", \"2014-03-10T00:00:00\", \"2014-03-11T00:00:00\", \"2014-03-12T00:00:00\", \"2014-03-13T00:00:00\", \"2014-03-14T00:00:00\", \"2014-03-15T00:00:00\", \"2014-03-16T00:00:00\", \"2014-03-17T00:00:00\", \"2014-03-18T00:00:00\", \"2014-03-19T00:00:00\", \"2014-03-21T00:00:00\", \"2014-03-22T00:00:00\", \"2014-03-23T00:00:00\", \"2014-03-24T00:00:00\", \"2014-03-25T00:00:00\", \"2014-03-26T00:00:00\", \"2014-03-27T00:00:00\", \"2014-03-28T00:00:00\", \"2014-03-29T00:00:00\", \"2014-03-30T00:00:00\", \"2014-03-31T00:00:00\", \"2014-04-01T00:00:00\", \"2014-04-02T00:00:00\", \"2014-04-03T00:00:00\", \"2014-04-04T00:00:00\", \"2014-04-05T00:00:00\", \"2014-04-06T00:00:00\", \"2014-04-07T00:00:00\", \"2014-04-08T00:00:00\", \"2014-04-09T00:00:00\", \"2014-04-10T00:00:00\", \"2014-04-11T00:00:00\", \"2014-04-12T00:00:00\", \"2014-04-13T00:00:00\", \"2014-04-14T00:00:00\", \"2014-04-15T00:00:00\", \"2014-04-16T00:00:00\", \"2014-04-17T00:00:00\", \"2014-04-18T00:00:00\", \"2014-04-19T00:00:00\", \"2014-04-20T00:00:00\", \"2014-04-21T00:00:00\", \"2014-04-22T00:00:00\", \"2014-04-23T00:00:00\", \"2014-04-24T00:00:00\", \"2014-04-25T00:00:00\", \"2014-04-26T00:00:00\", \"2014-04-27T00:00:00\", \"2014-04-28T00:00:00\", \"2014-04-29T00:00:00\", \"2014-04-30T00:00:00\", \"2014-05-01T00:00:00\", \"2014-05-02T00:00:00\", \"2014-05-03T00:00:00\", \"2014-05-04T00:00:00\", \"2014-05-05T00:00:00\", \"2014-05-06T00:00:00\", \"2014-05-07T00:00:00\", \"2014-05-08T00:00:00\", \"2014-05-09T00:00:00\", \"2014-05-10T00:00:00\", \"2014-05-11T00:00:00\", \"2014-05-12T00:00:00\", \"2014-05-13T00:00:00\", \"2014-05-14T00:00:00\", \"2014-05-15T00:00:00\", \"2014-05-16T00:00:00\", \"2014-05-17T00:00:00\", \"2014-05-18T00:00:00\", \"2014-05-19T00:00:00\", \"2014-05-20T00:00:00\", \"2014-05-21T00:00:00\", \"2014-05-22T00:00:00\", \"2014-05-23T00:00:00\", \"2014-05-24T00:00:00\", \"2014-05-25T00:00:00\", \"2014-05-26T00:00:00\", \"2014-05-27T00:00:00\", \"2014-05-28T00:00:00\", \"2014-05-29T00:00:00\", \"2014-05-30T00:00:00\", \"2014-05-31T00:00:00\", \"2014-06-01T00:00:00\", \"2014-06-02T00:00:00\", \"2014-06-03T00:00:00\", \"2014-06-04T00:00:00\", \"2014-06-05T00:00:00\", \"2014-06-06T00:00:00\", \"2014-06-07T00:00:00\", \"2014-06-08T00:00:00\", \"2014-06-09T00:00:00\", \"2014-06-10T00:00:00\", \"2014-06-11T00:00:00\", \"2014-06-12T00:00:00\", \"2014-06-13T00:00:00\", \"2014-06-14T00:00:00\", \"2014-06-15T00:00:00\", \"2014-06-16T00:00:00\", \"2014-06-17T00:00:00\", \"2013-06-11T00:00:00\", \"2013-06-12T00:00:00\", \"2013-06-13T00:00:00\", \"2013-06-14T00:00:00\", \"2013-06-15T00:00:00\", \"2013-06-16T00:00:00\", \"2013-06-17T00:00:00\", \"2013-06-18T00:00:00\", \"2013-06-19T00:00:00\", \"2013-06-20T00:00:00\", \"2013-06-21T00:00:00\", \"2013-06-22T00:00:00\", \"2013-06-23T00:00:00\", \"2013-06-24T00:00:00\", \"2013-06-25T00:00:00\", \"2013-06-26T00:00:00\", \"2013-06-27T00:00:00\", \"2013-06-28T00:00:00\", \"2013-06-29T00:00:00\", \"2013-06-30T00:00:00\", \"2013-07-01T00:00:00\", \"2013-07-02T00:00:00\", \"2013-07-03T00:00:00\", \"2013-07-04T00:00:00\", \"2013-07-05T00:00:00\", \"2013-07-06T00:00:00\", \"2013-07-07T00:00:00\", \"2013-07-08T00:00:00\", \"2013-07-09T00:00:00\", \"2013-07-10T00:00:00\", \"2013-07-11T00:00:00\", \"2013-07-12T00:00:00\", \"2013-07-13T00:00:00\", \"2013-07-14T00:00:00\", \"2013-07-15T00:00:00\", \"2013-07-16T00:00:00\", \"2013-07-17T00:00:00\", \"2013-07-18T00:00:00\", \"2013-07-19T00:00:00\", \"2013-07-20T00:00:00\", \"2013-07-21T00:00:00\", \"2013-07-22T00:00:00\", \"2013-07-23T00:00:00\", \"2013-07-24T00:00:00\", \"2013-07-25T00:00:00\", \"2013-07-26T00:00:00\", \"2013-07-27T00:00:00\", \"2013-07-28T00:00:00\", \"2013-07-29T00:00:00\", \"2013-07-31T00:00:00\", \"2013-08-01T00:00:00\", \"2013-08-02T00:00:00\", \"2013-08-03T00:00:00\", \"2013-08-04T00:00:00\", \"2013-08-05T00:00:00\", \"2013-07-30T00:00:00\", \"2013-08-06T00:00:00\", \"2013-08-07T00:00:00\", \"2013-08-08T00:00:00\", \"2013-08-09T00:00:00\", \"2013-08-10T00:00:00\", \"2013-08-11T00:00:00\", \"2013-08-12T00:00:00\", \"2013-08-13T00:00:00\", \"2013-08-14T00:00:00\", \"2013-08-15T00:00:00\", \"2013-08-16T00:00:00\", \"2013-08-17T00:00:00\", \"2013-08-18T00:00:00\", \"2013-08-19T00:00:00\", \"2013-08-20T00:00:00\", \"2013-08-21T00:00:00\", \"2013-08-22T00:00:00\", \"2013-08-23T00:00:00\", \"2013-08-24T00:00:00\", \"2013-08-25T00:00:00\", \"2013-08-26T00:00:00\", \"2013-08-27T00:00:00\", \"2013-08-28T00:00:00\", \"2013-08-29T00:00:00\", \"2013-08-30T00:00:00\", \"2013-08-31T00:00:00\", \"2013-09-01T00:00:00\", \"2013-09-02T00:00:00\", \"2013-09-07T00:00:00\", \"2013-09-08T00:00:00\", \"2013-09-09T00:00:00\", \"2013-09-03T00:00:00\", \"2013-09-04T00:00:00\", \"2013-09-05T00:00:00\", \"2013-09-06T00:00:00\", \"2013-09-10T00:00:00\", \"2013-09-11T00:00:00\", \"2013-09-12T00:00:00\", \"2013-09-13T00:00:00\", \"2013-09-14T00:00:00\", \"2013-09-15T00:00:00\", \"2013-09-16T00:00:00\", \"2013-09-23T00:00:00\", \"2013-09-17T00:00:00\", \"2013-09-18T00:00:00\", \"2013-09-19T00:00:00\", \"2013-09-20T00:00:00\", \"2013-09-21T00:00:00\", \"2013-09-22T00:00:00\", \"2013-09-24T00:00:00\", \"2013-09-25T00:00:00\", \"2013-09-26T00:00:00\", \"2013-09-27T00:00:00\", \"2013-09-28T00:00:00\", \"2013-09-29T00:00:00\", \"2013-09-30T00:00:00\", \"2013-10-01T00:00:00\", \"2013-10-02T00:00:00\", \"2013-10-03T00:00:00\", \"2013-10-04T00:00:00\", \"2013-10-05T00:00:00\", \"2013-10-06T00:00:00\", \"2013-10-07T00:00:00\", \"2013-10-14T00:00:00\", \"2013-10-08T00:00:00\", \"2013-10-09T00:00:00\", \"2013-10-10T00:00:00\", \"2013-10-11T00:00:00\", \"2013-10-12T00:00:00\", \"2013-10-13T00:00:00\", \"2013-10-21T00:00:00\", \"2013-10-15T00:00:00\", \"2013-10-16T00:00:00\", \"2013-10-17T00:00:00\", \"2013-10-18T00:00:00\", \"2013-10-19T00:00:00\", \"2013-10-20T00:00:00\", \"2013-10-22T00:00:00\", \"2013-10-23T00:00:00\", \"2013-10-24T00:00:00\", \"2013-10-25T00:00:00\", \"2013-10-26T00:00:00\", \"2013-10-28T00:00:00\", \"2013-10-29T00:00:00\", \"2013-10-30T00:00:00\", \"2013-11-01T00:00:00\", \"2013-11-02T00:00:00\", \"2013-11-03T00:00:00\", \"2013-11-04T00:00:00\", \"2013-11-05T00:00:00\", \"2013-11-06T00:00:00\", \"2013-11-07T00:00:00\", \"2013-11-08T00:00:00\", \"2013-11-09T00:00:00\", \"2013-11-10T00:00:00\", \"2013-11-11T00:00:00\", \"2013-11-12T00:00:00\", \"2013-11-13T00:00:00\", \"2013-11-14T00:00:00\", \"2013-11-15T00:00:00\", \"2013-11-16T00:00:00\", \"2013-11-17T00:00:00\", \"2013-11-18T00:00:00\", \"2013-11-19T00:00:00\", \"2013-11-20T00:00:00\", \"2013-11-21T00:00:00\", \"2013-11-22T00:00:00\", \"2013-11-23T00:00:00\", \"2013-11-24T00:00:00\", \"2013-11-25T00:00:00\", \"2013-11-26T00:00:00\", \"2013-11-27T00:00:00\", \"2013-11-28T00:00:00\", \"2013-11-29T00:00:00\", \"2013-11-30T00:00:00\", \"2013-12-02T00:00:00\", \"2013-12-01T00:00:00\", \"2013-12-05T00:00:00\", \"2013-12-06T00:00:00\", \"2013-12-07T00:00:00\", \"2013-12-03T00:00:00\", \"2013-12-04T00:00:00\", \"2013-12-08T00:00:00\", \"2013-12-09T00:00:00\", \"2013-12-10T00:00:00\", \"2013-12-11T00:00:00\", \"2013-12-12T00:00:00\", \"2013-12-13T00:00:00\", \"2013-12-14T00:00:00\", \"2013-12-15T00:00:00\", \"2013-12-16T00:00:00\", \"2013-12-17T00:00:00\", \"2013-12-18T00:00:00\", \"2013-12-19T00:00:00\", \"2013-12-20T00:00:00\", \"2013-12-21T00:00:00\", \"2013-12-22T00:00:00\", \"2013-12-23T00:00:00\", \"2013-12-24T00:00:00\", \"2013-12-25T00:00:00\", \"2013-12-26T00:00:00\", \"2013-12-27T00:00:00\", \"2013-12-28T00:00:00\", \"2013-12-29T00:00:00\", \"2013-12-30T00:00:00\", \"2013-12-31T00:00:00\", \"2012-05-31T00:00:00\", \"2012-06-07T00:00:00\", \"2012-06-01T00:00:00\", \"2012-06-02T00:00:00\", \"2012-06-03T00:00:00\", \"2012-06-08T00:00:00\", \"2012-06-10T00:00:00\", \"2012-06-09T00:00:00\", \"2012-06-04T00:00:00\", \"2012-06-05T00:00:00\", \"2012-06-06T00:00:00\", \"2012-06-11T00:00:00\", \"2012-06-15T00:00:00\", \"2012-06-17T00:00:00\", \"2012-06-16T00:00:00\", \"2012-06-12T00:00:00\", \"2012-06-13T00:00:00\", \"2012-06-20T00:00:00\", \"2012-06-21T00:00:00\", \"2012-06-22T00:00:00\", \"2012-06-18T00:00:00\", \"2012-06-23T00:00:00\", \"2012-06-24T00:00:00\", \"2012-06-25T00:00:00\", \"2012-06-19T00:00:00\", \"2012-06-30T00:00:00\", \"2012-06-29T00:00:00\", \"2012-06-28T00:00:00\", \"2012-06-27T00:00:00\", \"2012-06-26T00:00:00\", \"2012-07-01T00:00:00\", \"2012-07-02T00:00:00\", \"2012-07-03T00:00:00\", \"2012-07-04T00:00:00\", \"2012-07-05T00:00:00\", \"2012-07-06T00:00:00\", \"2012-07-07T00:00:00\", \"2012-07-08T00:00:00\", \"2012-07-11T00:00:00\", \"2012-07-09T00:00:00\", \"2012-07-10T00:00:00\", \"2012-07-15T00:00:00\", \"2012-07-14T00:00:00\", \"2012-07-13T00:00:00\", \"2012-07-12T00:00:00\", \"2012-07-19T00:00:00\", \"2012-07-18T00:00:00\", \"2012-07-17T00:00:00\", \"2012-07-16T00:00:00\", \"2012-07-20T00:00:00\", \"2012-07-21T00:00:00\", \"2012-07-22T00:00:00\", \"2012-07-23T00:00:00\", \"2012-07-24T00:00:00\", \"2012-07-25T00:00:00\", \"2012-07-26T00:00:00\", \"2012-07-28T00:00:00\", \"2012-07-29T00:00:00\", \"2012-07-27T00:00:00\", \"2012-07-31T00:00:00\", \"2012-08-01T00:00:00\", \"2012-07-30T00:00:00\", \"2012-08-03T00:00:00\", \"2012-08-02T00:00:00\", \"2012-08-04T00:00:00\", \"2012-08-05T00:00:00\", \"2012-08-06T00:00:00\", \"2012-08-07T00:00:00\", \"2012-08-08T00:00:00\", \"2012-08-09T00:00:00\", \"2012-08-10T00:00:00\", \"2012-08-11T00:00:00\", \"2012-08-12T00:00:00\", \"2012-08-13T00:00:00\", \"2012-08-14T00:00:00\", \"2012-08-15T00:00:00\", \"2012-08-16T00:00:00\", \"2012-08-17T00:00:00\", \"2012-08-18T00:00:00\", \"2012-08-19T00:00:00\", \"2012-08-20T00:00:00\", \"2012-08-21T00:00:00\", \"2012-08-22T00:00:00\", \"2012-08-23T00:00:00\", \"2012-08-24T00:00:00\", \"2012-08-25T00:00:00\", \"2012-08-26T00:00:00\", \"2012-08-27T00:00:00\", \"2012-08-28T00:00:00\", \"2012-08-29T00:00:00\", \"2012-08-30T00:00:00\", \"2012-08-31T00:00:00\", \"2012-09-01T00:00:00\", \"2012-09-02T00:00:00\", \"2012-09-03T00:00:00\", \"2012-09-04T00:00:00\", \"2012-09-05T00:00:00\", \"2012-09-06T00:00:00\", \"2012-09-07T00:00:00\", \"2012-09-08T00:00:00\", \"2012-09-09T00:00:00\", \"2012-09-10T00:00:00\", \"2012-09-11T00:00:00\", \"2012-09-12T00:00:00\", \"2012-09-13T00:00:00\", \"2012-09-14T00:00:00\", \"2012-09-15T00:00:00\", \"2012-09-16T00:00:00\", \"2012-09-17T00:00:00\", \"2012-09-18T00:00:00\", \"2012-09-19T00:00:00\", \"2012-09-20T00:00:00\", \"2012-09-21T00:00:00\", \"2012-09-22T00:00:00\", \"2012-09-23T00:00:00\", \"2012-09-24T00:00:00\", \"2012-09-25T00:00:00\", \"2012-09-26T00:00:00\", \"2012-09-27T00:00:00\", \"2012-09-28T00:00:00\", \"2012-09-29T00:00:00\", \"2012-09-30T00:00:00\", \"2012-10-01T00:00:00\", \"2012-10-02T00:00:00\", \"2012-10-03T00:00:00\", \"2012-10-04T00:00:00\", \"2012-10-05T00:00:00\", \"2012-10-06T00:00:00\", \"2012-10-07T00:00:00\", \"2012-10-08T00:00:00\", \"2012-10-09T00:00:00\", \"2012-10-10T00:00:00\", \"2012-10-11T00:00:00\", \"2012-10-12T00:00:00\", \"2012-10-13T00:00:00\", \"2012-10-14T00:00:00\", \"2012-10-15T00:00:00\", \"2012-10-16T00:00:00\", \"2012-10-17T00:00:00\", \"2012-10-18T00:00:00\", \"2012-10-19T00:00:00\", \"2012-10-20T00:00:00\", \"2012-10-21T00:00:00\", \"2012-10-22T00:00:00\", \"2012-10-23T00:00:00\", \"2012-10-24T00:00:00\", \"2012-10-25T00:00:00\", \"2012-10-26T00:00:00\", \"2012-10-27T00:00:00\", \"2012-10-28T00:00:00\", \"2012-10-31T00:00:00\", \"2012-11-01T00:00:00\", \"2012-11-02T00:00:00\", \"2012-11-03T00:00:00\", \"2012-11-04T00:00:00\", \"2012-10-29T00:00:00\", \"2012-10-30T00:00:00\", \"2012-11-11T00:00:00\", \"2012-11-05T00:00:00\", \"2012-11-06T00:00:00\", \"2012-11-07T00:00:00\", \"2012-11-08T00:00:00\", \"2012-11-09T00:00:00\", \"2012-11-10T00:00:00\", \"2012-11-13T00:00:00\", \"2012-11-14T00:00:00\", \"2012-11-15T00:00:00\", \"2012-11-16T00:00:00\", \"2012-11-17T00:00:00\", \"2012-11-18T00:00:00\", \"2012-11-12T00:00:00\", \"2012-11-19T00:00:00\", \"2012-11-20T00:00:00\", \"2012-11-21T00:00:00\", \"2012-11-22T00:00:00\", \"2012-11-23T00:00:00\", \"2012-11-24T00:00:00\", \"2012-11-25T00:00:00\", \"2012-11-26T00:00:00\", \"2012-11-27T00:00:00\", \"2012-11-28T00:00:00\", \"2012-11-29T00:00:00\", \"2012-11-30T00:00:00\", \"2012-12-01T00:00:00\", \"2012-12-02T00:00:00\", \"2012-12-03T00:00:00\", \"2012-12-04T00:00:00\", \"2012-12-05T00:00:00\", \"2012-12-06T00:00:00\", \"2012-12-07T00:00:00\", \"2012-12-08T00:00:00\", \"2012-12-09T00:00:00\", \"2012-12-10T00:00:00\", \"2012-12-11T00:00:00\", \"2012-12-12T00:00:00\", \"2012-12-13T00:00:00\", \"2012-12-14T00:00:00\", \"2012-12-15T00:00:00\", \"2012-12-16T00:00:00\", \"2012-12-17T00:00:00\", \"2012-12-18T00:00:00\", \"2012-12-19T00:00:00\", \"2012-12-20T00:00:00\", \"2012-12-21T00:00:00\", \"2012-12-22T00:00:00\", \"2012-12-23T00:00:00\", \"2012-12-29T00:00:00\", \"2012-12-30T00:00:00\", \"2012-12-31T00:00:00\", \"2012-12-24T00:00:00\", \"2012-12-25T00:00:00\", \"2012-12-26T00:00:00\", \"2012-12-27T00:00:00\", \"2012-12-28T00:00:00\", \"2010-09-30T00:00:00\", \"2010-12-31T00:00:00\", \"2014-06-18T00:00:00\", \"2014-06-19T00:00:00\", \"2014-06-20T00:00:00\", \"2014-06-21T00:00:00\", \"2014-06-22T00:00:00\", \"2014-06-23T00:00:00\", \"2014-06-24T00:00:00\", \"2014-06-25T00:00:00\", \"2014-06-26T00:00:00\", \"2014-06-27T00:00:00\", \"2014-06-28T00:00:00\", \"2014-06-29T00:00:00\", \"2014-06-30T00:00:00\", \"2014-07-01T00:00:00\", \"2014-07-02T00:00:00\", \"2014-07-03T00:00:00\", \"2014-07-04T00:00:00\", \"2014-07-05T00:00:00\", \"2014-07-06T00:00:00\", \"2014-07-07T00:00:00\", \"2014-07-08T00:00:00\", \"2015-01-01T00:00:00\", \"2015-01-02T00:00:00\", \"2015-01-03T00:00:00\", \"2015-01-04T00:00:00\", \"2015-01-05T00:00:00\", \"2015-01-06T00:00:00\", \"2015-01-07T00:00:00\", \"2015-01-08T00:00:00\", \"2015-01-09T00:00:00\", \"2015-01-10T00:00:00\", \"2015-01-11T00:00:00\", \"2015-01-12T00:00:00\", \"2015-01-13T00:00:00\", \"2015-01-14T00:00:00\", \"2015-01-15T00:00:00\", \"2015-01-16T00:00:00\", \"2015-01-17T00:00:00\", \"2015-01-18T00:00:00\", \"2015-01-19T00:00:00\", \"2015-01-20T00:00:00\", \"2015-01-21T00:00:00\", \"2016-01-01T00:00:00\", \"2016-01-02T00:00:00\", \"2016-01-03T00:00:00\", \"2016-01-04T00:00:00\", \"2016-01-05T00:00:00\", \"2016-01-06T00:00:00\", \"2016-01-07T00:00:00\", \"2016-01-08T00:00:00\", \"2016-01-09T00:00:00\", \"2016-01-10T00:00:00\", \"2016-01-11T00:00:00\", \"2016-01-12T00:00:00\", \"2016-01-13T00:00:00\", \"2016-01-14T00:00:00\", \"2016-01-15T00:00:00\", \"2016-01-16T00:00:00\", \"2016-01-17T00:00:00\", \"2016-01-18T00:00:00\", \"2016-01-19T00:00:00\", \"2016-01-20T00:00:00\", \"2016-01-21T00:00:00\", \"2016-01-22T00:00:00\", \"2016-01-23T00:00:00\", \"2016-01-24T00:00:00\", \"2016-01-25T00:00:00\", \"2016-01-26T00:00:00\", \"2016-01-27T00:00:00\", \"2016-01-28T00:00:00\", \"2017-01-01T00:00:00\", \"2017-01-02T00:00:00\", \"2017-01-03T00:00:00\", \"2017-01-04T00:00:00\", \"2017-01-05T00:00:00\", \"2017-01-06T00:00:00\", \"2017-01-07T00:00:00\", \"2017-01-08T00:00:00\", \"2017-01-09T00:00:00\", \"2017-01-10T00:00:00\", \"2017-01-11T00:00:00\", \"2017-01-12T00:00:00\", \"2017-01-13T00:00:00\", \"2017-01-14T00:00:00\", \"2017-01-15T00:00:00\", \"2017-01-16T00:00:00\", \"2017-01-17T00:00:00\", \"2017-01-18T00:00:00\", \"2017-01-19T00:00:00\", \"2017-01-20T00:00:00\", \"2017-01-21T00:00:00\", \"2017-01-22T00:00:00\", \"2017-01-23T00:00:00\", \"2017-01-24T00:00:00\", \"2017-01-25T00:00:00\", \"2017-01-26T00:00:00\", \"2017-01-27T00:00:00\", \"2017-01-28T00:00:00\", \"2017-01-29T00:00:00\", \"2017-01-30T00:00:00\", \"2017-01-31T00:00:00\", \"2017-02-01T00:00:00\", \"2017-02-02T00:00:00\", \"2017-02-03T00:00:00\", \"2017-02-04T00:00:00\", \"2018-01-01T00:00:00\", \"2018-01-02T00:00:00\", \"2018-01-03T00:00:00\", \"2018-01-04T00:00:00\", \"2018-01-05T00:00:00\", \"2018-01-06T00:00:00\", \"2018-01-07T00:00:00\", \"2018-01-08T00:00:00\", \"2018-01-09T00:00:00\", \"2018-01-10T00:00:00\", \"2018-01-11T00:00:00\", \"2018-01-12T00:00:00\", \"2018-01-13T00:00:00\", \"2018-01-14T00:00:00\", \"2018-01-15T00:00:00\", \"2018-01-16T00:00:00\", \"2018-01-17T00:00:00\", \"2018-01-18T00:00:00\", \"2018-01-19T00:00:00\", \"2018-01-20T00:00:00\", \"2018-01-21T00:00:00\", \"2019-01-01T00:00:00\", \"2019-01-02T00:00:00\", \"2019-01-03T00:00:00\", \"2019-01-04T00:00:00\", \"2019-01-05T00:00:00\", \"2019-01-06T00:00:00\", \"2019-01-07T00:00:00\", \"2018-01-22T00:00:00\", \"2018-01-23T00:00:00\", \"2018-01-24T00:00:00\", \"2018-01-25T00:00:00\", \"2018-01-26T00:00:00\", \"2018-01-27T00:00:00\", \"2018-01-28T00:00:00\", \"2018-01-29T00:00:00\", \"2018-01-30T00:00:00\", \"2018-01-31T00:00:00\", \"2018-02-01T00:00:00\", \"2018-02-02T00:00:00\", \"2018-02-03T00:00:00\", \"2018-02-04T00:00:00\", \"2018-02-05T00:00:00\", \"2018-02-06T00:00:00\", \"2018-02-07T00:00:00\", \"2018-02-08T00:00:00\", \"2018-02-09T00:00:00\", \"2018-02-10T00:00:00\", \"2018-02-11T00:00:00\", \"2018-02-12T00:00:00\", \"2018-02-13T00:00:00\", \"2018-02-14T00:00:00\", \"2018-02-15T00:00:00\", \"2018-02-16T00:00:00\", \"2018-02-17T00:00:00\", \"2018-02-18T00:00:00\", \"2018-02-19T00:00:00\", \"2018-02-20T00:00:00\", \"2018-02-21T00:00:00\", \"2018-02-22T00:00:00\", \"2018-02-23T00:00:00\", \"2018-02-24T00:00:00\", \"2018-02-25T00:00:00\", \"2018-02-26T00:00:00\", \"2018-02-27T00:00:00\", \"2018-02-28T00:00:00\", \"2018-03-01T00:00:00\", \"2018-03-02T00:00:00\", \"2018-03-03T00:00:00\", \"2018-03-04T00:00:00\", \"2018-03-05T00:00:00\", \"2018-03-06T00:00:00\", \"2018-03-07T00:00:00\", \"2018-03-08T00:00:00\", \"2018-03-09T00:00:00\", \"2018-03-10T00:00:00\", \"2018-03-11T00:00:00\", \"2018-03-12T00:00:00\", \"2018-03-13T00:00:00\", \"2018-03-14T00:00:00\", \"2018-03-15T00:00:00\", \"2018-03-16T00:00:00\", \"2018-03-17T00:00:00\", \"2018-03-18T00:00:00\", \"2018-03-19T00:00:00\", \"2018-03-20T00:00:00\", \"2018-03-21T00:00:00\", \"2018-03-22T00:00:00\", \"2018-03-23T00:00:00\", \"2018-03-24T00:00:00\", \"2018-03-25T00:00:00\", \"2018-03-26T00:00:00\", \"2018-03-27T00:00:00\", \"2018-03-28T00:00:00\", \"2018-03-29T00:00:00\", \"2018-03-30T00:00:00\", \"2018-03-31T00:00:00\", \"2018-04-01T00:00:00\", \"2018-04-02T00:00:00\", \"2018-04-03T00:00:00\", \"2018-04-04T00:00:00\", \"2018-04-05T00:00:00\", \"2018-04-06T00:00:00\", \"2018-04-07T00:00:00\", \"2018-04-08T00:00:00\", \"2018-04-09T00:00:00\", \"2018-04-10T00:00:00\", \"2018-04-11T00:00:00\", \"2018-04-12T00:00:00\", \"2018-04-13T00:00:00\", \"2018-04-14T00:00:00\", \"2018-04-15T00:00:00\", \"2018-04-16T00:00:00\", \"2018-04-17T00:00:00\", \"2018-04-18T00:00:00\", \"2018-04-19T00:00:00\", \"2018-04-20T00:00:00\", \"2018-04-21T00:00:00\", \"2018-04-22T00:00:00\", \"2018-04-23T00:00:00\", \"2018-04-24T00:00:00\", \"2018-04-25T00:00:00\", \"2018-04-26T00:00:00\", \"2018-04-27T00:00:00\", \"2018-04-28T00:00:00\", \"2018-04-29T00:00:00\", \"2018-04-30T00:00:00\", \"2018-05-01T00:00:00\", \"2018-05-02T00:00:00\", \"2018-05-03T00:00:00\", \"2018-05-04T00:00:00\", \"2018-05-05T00:00:00\", \"2018-05-06T00:00:00\", \"2018-05-07T00:00:00\", \"2018-05-08T00:00:00\", \"2018-05-09T00:00:00\", \"2018-05-10T00:00:00\", \"2018-05-11T00:00:00\", \"2018-05-12T00:00:00\", \"2018-05-13T00:00:00\", \"2018-05-14T00:00:00\", \"2018-05-15T00:00:00\", \"2018-05-16T00:00:00\", \"2018-05-17T00:00:00\", \"2018-05-18T00:00:00\", \"2018-05-19T00:00:00\", \"2018-05-20T00:00:00\", \"2018-05-21T00:00:00\", \"2018-05-22T00:00:00\", \"2018-05-23T00:00:00\", \"2018-05-24T00:00:00\", \"2018-05-25T00:00:00\", \"2018-05-26T00:00:00\", \"2018-05-27T00:00:00\", \"2018-05-28T00:00:00\", \"2018-05-29T00:00:00\", \"2018-05-30T00:00:00\", \"2018-05-31T00:00:00\", \"2018-06-01T00:00:00\", \"2018-06-02T00:00:00\", \"2018-06-03T00:00:00\", \"2018-06-04T00:00:00\", \"2018-06-05T00:00:00\", \"2018-06-06T00:00:00\", \"2018-06-07T00:00:00\", \"2018-06-08T00:00:00\", \"2018-06-09T00:00:00\", \"2018-06-10T00:00:00\", \"2018-06-11T00:00:00\", \"2018-06-12T00:00:00\", \"2018-06-13T00:00:00\", \"2018-06-14T00:00:00\", \"2018-06-15T00:00:00\", \"2018-06-16T00:00:00\", \"2018-06-17T00:00:00\", \"2018-06-19T00:00:00\", \"2018-06-20T00:00:00\", \"2018-06-21T00:00:00\", \"2018-06-22T00:00:00\", \"2018-06-23T00:00:00\", \"2018-06-24T00:00:00\", \"2018-06-18T00:00:00\", \"2018-06-25T00:00:00\", \"2018-06-26T00:00:00\", \"2018-06-27T00:00:00\", \"2018-06-28T00:00:00\", \"2018-06-29T00:00:00\", \"2018-06-30T00:00:00\", \"2018-07-01T00:00:00\", \"2018-07-02T00:00:00\", \"2018-07-03T00:00:00\", \"2018-07-04T00:00:00\", \"2018-07-05T00:00:00\", \"2018-07-06T00:00:00\", \"2018-07-07T00:00:00\", \"2018-07-08T00:00:00\", \"2018-07-09T00:00:00\", \"2018-07-10T00:00:00\", \"2018-07-11T00:00:00\", \"2018-07-12T00:00:00\", \"2018-07-13T00:00:00\", \"2018-07-14T00:00:00\", \"2018-07-15T00:00:00\", \"2018-07-16T00:00:00\", \"2018-07-17T00:00:00\", \"2018-07-18T00:00:00\", \"2018-07-19T00:00:00\", \"2018-07-20T00:00:00\", \"2018-07-21T00:00:00\", \"2018-07-22T00:00:00\", \"2018-07-23T00:00:00\", \"2018-07-24T00:00:00\", \"2018-07-25T00:00:00\", \"2018-07-26T00:00:00\", \"2018-07-27T00:00:00\", \"2018-07-28T00:00:00\", \"2018-07-29T00:00:00\", \"2018-07-30T00:00:00\", \"2018-07-31T00:00:00\", \"2018-08-01T00:00:00\", \"2018-08-02T00:00:00\", \"2018-08-03T00:00:00\", \"2018-08-04T00:00:00\", \"2018-08-05T00:00:00\", \"2018-08-06T00:00:00\", \"2018-08-07T00:00:00\", \"2018-08-08T00:00:00\", \"2018-08-09T00:00:00\", \"2018-08-10T00:00:00\", \"2018-08-11T00:00:00\", \"2018-08-12T00:00:00\", \"2018-08-13T00:00:00\", \"2018-08-14T00:00:00\", \"2018-08-15T00:00:00\", \"2018-08-16T00:00:00\", \"2018-08-17T00:00:00\", \"2018-08-18T00:00:00\", \"2018-08-19T00:00:00\", \"2018-08-20T00:00:00\", \"2018-08-21T00:00:00\", \"2018-08-22T00:00:00\", \"2018-08-23T00:00:00\", \"2018-08-24T00:00:00\", \"2018-08-25T00:00:00\", \"2018-08-26T00:00:00\", \"2018-08-27T00:00:00\", \"2018-08-28T00:00:00\", \"2018-08-29T00:00:00\", \"2018-08-30T00:00:00\", \"2018-08-31T00:00:00\", \"2018-09-01T00:00:00\", \"2018-09-02T00:00:00\", \"2018-09-03T00:00:00\", \"2018-09-04T00:00:00\", \"2018-09-05T00:00:00\", \"2018-09-06T00:00:00\", \"2018-09-07T00:00:00\", \"2018-09-08T00:00:00\", \"2018-09-09T00:00:00\", \"2018-09-10T00:00:00\", \"2018-09-11T00:00:00\", \"2018-09-12T00:00:00\", \"2018-09-13T00:00:00\", \"2018-09-14T00:00:00\", \"2018-09-15T00:00:00\", \"2018-09-16T00:00:00\", \"2018-09-17T00:00:00\", \"2018-09-18T00:00:00\", \"2018-09-19T00:00:00\", \"2018-09-20T00:00:00\", \"2018-09-21T00:00:00\", \"2018-09-22T00:00:00\", \"2018-09-23T00:00:00\", \"2018-09-24T00:00:00\", \"2018-09-25T00:00:00\", \"2018-09-26T00:00:00\", \"2018-09-27T00:00:00\", \"2018-09-28T00:00:00\", \"2018-09-29T00:00:00\", \"2018-09-30T00:00:00\", \"2018-10-01T00:00:00\", \"2018-10-02T00:00:00\", \"2018-10-03T00:00:00\", \"2018-10-04T00:00:00\", \"2018-10-05T00:00:00\", \"2018-10-06T00:00:00\", \"2018-10-07T00:00:00\", \"2018-10-08T00:00:00\", \"2018-10-09T00:00:00\", \"2018-10-10T00:00:00\", \"2018-10-11T00:00:00\", \"2018-10-12T00:00:00\", \"2018-10-13T00:00:00\", \"2018-10-14T00:00:00\", \"2018-10-15T00:00:00\", \"2018-10-16T00:00:00\", \"2018-10-17T00:00:00\", \"2018-10-18T00:00:00\", \"2018-10-19T00:00:00\", \"2018-10-20T00:00:00\", \"2018-10-21T00:00:00\", \"2018-10-22T00:00:00\", \"2018-10-23T00:00:00\", \"2018-10-24T00:00:00\", \"2018-10-25T00:00:00\", \"2018-10-26T00:00:00\", \"2018-10-27T00:00:00\", \"2018-10-28T00:00:00\", \"2018-10-29T00:00:00\", \"2018-10-30T00:00:00\", \"2018-10-31T00:00:00\", \"2018-11-01T00:00:00\", \"2018-11-02T00:00:00\", \"2018-11-03T00:00:00\", \"2018-11-04T00:00:00\", \"2018-11-05T00:00:00\", \"2018-11-06T00:00:00\", \"2018-11-07T00:00:00\", \"2018-11-08T00:00:00\", \"2018-11-09T00:00:00\", \"2018-11-10T00:00:00\", \"2018-11-11T00:00:00\", \"2018-11-12T00:00:00\", \"2018-11-13T00:00:00\", \"2018-11-14T00:00:00\", \"2018-11-15T00:00:00\", \"2018-11-16T00:00:00\", \"2018-11-17T00:00:00\", \"2018-11-18T00:00:00\", \"2018-11-19T00:00:00\", \"2018-11-20T00:00:00\", \"2018-11-21T00:00:00\", \"2018-11-22T00:00:00\", \"2018-11-23T00:00:00\", \"2018-11-24T00:00:00\", \"2018-11-25T00:00:00\", \"2018-11-26T00:00:00\", \"2018-11-27T00:00:00\", \"2018-11-28T00:00:00\", \"2018-11-29T00:00:00\", \"2018-11-30T00:00:00\", \"2018-12-01T00:00:00\", \"2018-12-02T00:00:00\", \"2018-12-03T00:00:00\", \"2018-12-04T00:00:00\", \"2018-12-05T00:00:00\", \"2018-12-06T00:00:00\", \"2018-12-07T00:00:00\", \"2018-12-08T00:00:00\", \"2018-12-09T00:00:00\", \"2018-12-10T00:00:00\", \"2018-12-11T00:00:00\", \"2018-12-12T00:00:00\", \"2018-12-13T00:00:00\", \"2018-12-14T00:00:00\", \"2018-12-15T00:00:00\", \"2018-12-16T00:00:00\", \"2018-12-17T00:00:00\", \"2018-12-18T00:00:00\", \"2018-12-19T00:00:00\", \"2018-12-20T00:00:00\", \"2018-12-21T00:00:00\", \"2018-12-22T00:00:00\", \"2018-12-23T00:00:00\", \"2018-12-24T00:00:00\", \"2018-12-25T00:00:00\", \"2018-12-26T00:00:00\", \"2018-12-27T00:00:00\", \"2018-12-28T00:00:00\", \"2018-12-29T00:00:00\", \"2018-12-30T00:00:00\", \"2018-12-31T00:00:00\", \"2019-01-08T00:00:00\", \"2019-01-09T00:00:00\", \"2019-01-10T00:00:00\", \"2019-01-11T00:00:00\", \"2019-01-12T00:00:00\", \"2019-01-13T00:00:00\", \"2019-01-14T00:00:00\", \"2019-01-15T00:00:00\", \"2019-01-16T00:00:00\", \"2019-01-17T00:00:00\", \"2019-01-18T00:00:00\", \"2019-01-19T00:00:00\", \"2019-01-20T00:00:00\", \"2019-01-21T00:00:00\", \"2019-01-22T00:00:00\", \"2019-01-23T00:00:00\", \"2019-01-24T00:00:00\", \"2019-01-25T00:00:00\", \"2019-01-26T00:00:00\", \"2019-01-27T00:00:00\", \"2019-01-28T00:00:00\", \"2019-01-29T00:00:00\", \"2019-01-30T00:00:00\", \"2019-01-31T00:00:00\", \"2019-02-01T00:00:00\", \"2019-02-02T00:00:00\", \"2019-02-03T00:00:00\", \"2019-02-04T00:00:00\", \"2019-02-05T00:00:00\", \"2019-02-06T00:00:00\", \"2019-02-07T00:00:00\", \"2019-02-08T00:00:00\", \"2019-02-09T00:00:00\", \"2019-02-10T00:00:00\", \"2019-02-11T00:00:00\", \"2019-02-12T00:00:00\", \"2019-02-13T00:00:00\", \"2019-02-14T00:00:00\", \"2019-02-15T00:00:00\", \"2019-02-16T00:00:00\", \"2019-02-17T00:00:00\", \"2019-02-18T00:00:00\", \"2019-02-19T00:00:00\", \"2019-02-20T00:00:00\", \"2019-02-21T00:00:00\", \"2019-02-22T00:00:00\", \"2019-02-23T00:00:00\", \"2019-02-24T00:00:00\", \"2019-02-25T00:00:00\", \"2019-03-01T00:00:00\", \"2019-03-02T00:00:00\", \"2019-03-03T00:00:00\", \"2019-03-04T00:00:00\", \"2019-02-26T00:00:00\", \"2019-02-27T00:00:00\", \"2019-02-28T00:00:00\", \"2019-03-05T00:00:00\", \"2019-03-06T00:00:00\", \"2019-03-07T00:00:00\", \"2019-03-08T00:00:00\", \"2019-03-09T00:00:00\", \"2019-03-10T00:00:00\", \"2019-03-11T00:00:00\", \"2019-03-12T00:00:00\", \"2019-03-13T00:00:00\", \"2019-03-14T00:00:00\", \"2019-03-15T00:00:00\", \"2019-03-16T00:00:00\", \"2019-03-17T00:00:00\", \"2019-03-18T00:00:00\", \"2019-03-19T00:00:00\", \"2019-03-20T00:00:00\", \"2019-03-21T00:00:00\", \"2019-03-22T00:00:00\", \"2019-03-23T00:00:00\", \"2019-03-24T00:00:00\", \"2019-03-25T00:00:00\", \"2019-04-01T00:00:00\", \"2019-03-26T00:00:00\", \"2019-03-27T00:00:00\", \"2019-03-28T00:00:00\", \"2019-03-29T00:00:00\", \"2019-03-30T00:00:00\", \"2019-03-31T00:00:00\", \"2019-04-02T00:00:00\", \"2019-04-03T00:00:00\", \"2019-04-04T00:00:00\", \"2019-04-05T00:00:00\", \"2019-04-06T00:00:00\", \"2019-04-07T00:00:00\", \"2019-04-08T00:00:00\", \"2019-04-09T00:00:00\", \"2019-04-10T00:00:00\", \"2019-04-11T00:00:00\", \"2019-04-12T00:00:00\", \"2019-04-13T00:00:00\", \"2019-04-14T00:00:00\", \"2019-04-15T00:00:00\", \"2019-04-16T00:00:00\", \"2019-04-17T00:00:00\", \"2019-04-18T00:00:00\", \"2019-04-19T00:00:00\", \"2019-04-20T00:00:00\", \"2019-04-21T00:00:00\", \"2019-04-22T00:00:00\", \"2019-04-23T00:00:00\", \"2019-04-24T00:00:00\", \"2019-04-25T00:00:00\", \"2019-04-26T00:00:00\", \"2019-04-27T00:00:00\", \"2019-04-28T00:00:00\", \"2019-04-29T00:00:00\", \"2019-04-30T00:00:00\", \"2019-05-01T00:00:00\", \"2019-05-02T00:00:00\", \"2019-05-03T00:00:00\", \"2019-05-04T00:00:00\", \"2019-05-05T00:00:00\", \"2019-05-06T00:00:00\", \"2019-05-07T00:00:00\", \"2019-05-08T00:00:00\", \"2019-05-09T00:00:00\", \"2019-05-10T00:00:00\", \"2019-05-11T00:00:00\", \"2019-05-12T00:00:00\", \"2019-05-13T00:00:00\", \"2019-05-14T00:00:00\", \"2019-05-15T00:00:00\", \"2019-05-16T00:00:00\", \"2019-05-17T00:00:00\", \"2019-05-18T00:00:00\", \"2019-05-19T00:00:00\", \"2019-05-20T00:00:00\", \"2019-05-21T00:00:00\", \"2019-05-22T00:00:00\", \"2019-05-23T00:00:00\", \"2019-05-24T00:00:00\", \"2019-05-25T00:00:00\", \"2019-05-26T00:00:00\", \"2019-05-27T00:00:00\", \"2019-05-28T00:00:00\", \"2019-05-29T00:00:00\", \"2019-05-30T00:00:00\", \"2019-05-31T00:00:00\", \"2019-06-01T00:00:00\", \"2019-06-02T00:00:00\", \"2019-06-03T00:00:00\", \"2019-06-04T00:00:00\", \"2019-06-05T00:00:00\", \"2019-06-06T00:00:00\", \"2019-06-07T00:00:00\", \"2019-06-08T00:00:00\", \"2019-06-09T00:00:00\", \"2019-06-10T00:00:00\", \"2019-06-11T00:00:00\", \"2019-06-12T00:00:00\", \"2019-06-13T00:00:00\", \"2019-06-14T00:00:00\", \"2019-06-15T00:00:00\", \"2019-06-16T00:00:00\", \"2019-06-17T00:00:00\", \"2019-06-18T00:00:00\", \"2019-06-19T00:00:00\", \"2019-06-20T00:00:00\", \"2019-06-21T00:00:00\", \"2019-06-22T00:00:00\", \"2019-06-23T00:00:00\", \"2019-06-24T00:00:00\", \"2019-06-25T00:00:00\", \"2019-06-26T00:00:00\", \"2019-06-27T00:00:00\", \"2019-06-28T00:00:00\", \"2019-06-29T00:00:00\", \"2019-06-30T00:00:00\", \"2019-07-01T00:00:00\", \"2019-07-02T00:00:00\", \"2019-07-03T00:00:00\", \"2019-07-04T00:00:00\", \"2019-07-05T00:00:00\", \"2019-07-06T00:00:00\", \"2019-07-07T00:00:00\", \"2019-07-08T00:00:00\", \"2019-07-09T00:00:00\", \"2019-07-10T00:00:00\", \"2019-07-11T00:00:00\", \"2019-07-12T00:00:00\", \"2019-07-13T00:00:00\", \"2019-07-14T00:00:00\", \"2019-07-15T00:00:00\", \"2019-07-16T00:00:00\", \"2019-07-17T00:00:00\", \"2019-07-18T00:00:00\", \"2019-07-19T00:00:00\", \"2019-07-20T00:00:00\", \"2019-07-21T00:00:00\", \"2019-07-22T00:00:00\", \"2019-07-23T00:00:00\", \"2019-07-24T00:00:00\", \"2019-07-25T00:00:00\", \"2019-07-26T00:00:00\", \"2019-07-27T00:00:00\", \"2019-07-28T00:00:00\", \"2019-07-29T00:00:00\", \"2019-08-03T00:00:00\", \"2019-08-04T00:00:00\", \"2019-08-05T00:00:00\", \"2019-07-30T00:00:00\", \"2019-07-31T00:00:00\", \"2019-08-01T00:00:00\", \"2019-08-02T00:00:00\", \"2019-08-06T00:00:00\", \"2019-08-07T00:00:00\", \"2019-08-08T00:00:00\", \"2019-08-09T00:00:00\", \"2019-08-10T00:00:00\", \"2019-08-11T00:00:00\", \"2019-08-12T00:00:00\", \"2019-08-13T00:00:00\", \"2019-08-14T00:00:00\", \"2019-08-15T00:00:00\", \"2019-08-16T00:00:00\", \"2019-08-17T00:00:00\", \"2019-08-18T00:00:00\", \"2019-08-19T00:00:00\", \"2019-08-20T00:00:00\", \"2019-08-21T00:00:00\", \"2019-08-22T00:00:00\", \"2019-08-23T00:00:00\", \"2019-08-24T00:00:00\", \"2019-08-25T00:00:00\", \"2019-08-26T00:00:00\", \"2019-08-27T00:00:00\", \"2019-08-28T00:00:00\", \"2019-08-29T00:00:00\", \"2019-08-30T00:00:00\", \"2019-08-31T00:00:00\", \"2019-09-01T00:00:00\", \"2019-09-02T00:00:00\", \"2019-09-03T00:00:00\", \"2019-09-04T00:00:00\", \"2019-09-05T00:00:00\", \"2019-09-06T00:00:00\", \"2019-09-07T00:00:00\", \"2019-09-08T00:00:00\", \"2019-09-09T00:00:00\", \"2019-09-10T00:00:00\", \"2019-09-11T00:00:00\", \"2019-09-12T00:00:00\", \"2019-09-13T00:00:00\", \"2019-09-14T00:00:00\", \"2019-09-15T00:00:00\", \"2019-09-16T00:00:00\", \"2019-09-17T00:00:00\", \"2019-09-18T00:00:00\", \"2019-09-19T00:00:00\", \"2019-09-20T00:00:00\", \"2019-09-21T00:00:00\", \"2019-09-22T00:00:00\", \"2019-09-23T00:00:00\", \"2019-09-24T00:00:00\", \"2019-09-25T00:00:00\", \"2019-09-26T00:00:00\", \"2019-09-27T00:00:00\", \"2019-09-28T00:00:00\", \"2019-09-29T00:00:00\", \"2019-09-30T00:00:00\", \"2019-10-01T00:00:00\", \"2019-10-02T00:00:00\", \"2019-10-03T00:00:00\", \"2019-10-04T00:00:00\", \"2019-10-05T00:00:00\", \"2019-10-06T00:00:00\", \"2019-10-07T00:00:00\", \"2019-10-08T00:00:00\", \"2019-10-09T00:00:00\", \"2019-10-10T00:00:00\", \"2019-10-11T00:00:00\", \"2019-10-12T00:00:00\", \"2019-10-13T00:00:00\", \"2019-10-14T00:00:00\", \"2019-10-15T00:00:00\", \"2019-10-16T00:00:00\", \"2019-10-17T00:00:00\", \"2019-10-18T00:00:00\", \"2019-10-19T00:00:00\", \"2019-10-20T00:00:00\", \"2019-10-21T00:00:00\", \"2019-10-22T00:00:00\", \"2019-10-23T00:00:00\", \"2019-10-24T00:00:00\", \"2019-10-25T00:00:00\", \"2019-10-26T00:00:00\", \"2019-10-27T00:00:00\", \"2019-10-28T00:00:00\", \"2019-10-29T00:00:00\", \"2019-10-30T00:00:00\", \"2019-10-31T00:00:00\", \"2019-11-01T00:00:00\", \"2019-11-02T00:00:00\", \"2019-11-03T00:00:00\", \"2019-11-04T00:00:00\", \"2019-11-05T00:00:00\", \"2019-11-06T00:00:00\", \"2019-11-07T00:00:00\", \"2019-11-08T00:00:00\", \"2019-11-09T00:00:00\", \"2019-11-10T00:00:00\", \"2019-11-11T00:00:00\", \"2019-12-11T00:00:00\", \"2019-11-13T00:00:00\", \"2019-11-14T00:00:00\", \"2019-11-15T00:00:00\", \"2019-11-16T00:00:00\", \"2019-11-17T00:00:00\", \"2019-11-18T00:00:00\", \"2019-11-19T00:00:00\", \"2019-11-20T00:00:00\", \"2019-11-21T00:00:00\", \"2019-11-22T00:00:00\", \"2019-11-23T00:00:00\", \"2019-11-24T00:00:00\", \"2019-11-25T00:00:00\", \"2019-11-26T00:00:00\", \"2019-11-27T00:00:00\", \"2019-11-28T00:00:00\", \"2019-11-29T00:00:00\", \"2019-11-30T00:00:00\", \"2019-12-01T00:00:00\", \"2019-12-02T00:00:00\", \"2019-12-03T00:00:00\", \"2019-12-04T00:00:00\", \"2019-12-05T00:00:00\", \"2019-12-06T00:00:00\", \"2019-12-07T00:00:00\", \"2019-12-08T00:00:00\", \"2019-12-09T00:00:00\", \"2019-12-10T00:00:00\", \"2019-12-11T00:00:00\", \"2019-12-12T00:00:00\", \"2019-12-13T00:00:00\", \"2019-12-14T00:00:00\", \"2019-12-15T00:00:00\", \"2019-12-16T00:00:00\", \"2019-12-17T00:00:00\", \"2019-12-18T00:00:00\", \"2019-12-19T00:00:00\", \"2019-12-20T00:00:00\", \"2019-12-21T00:00:00\", \"2019-12-22T00:00:00\", \"2019-12-23T00:00:00\", \"2019-12-24T00:00:00\", \"2019-12-25T00:00:00\", \"2019-12-26T00:00:00\", \"2019-12-27T00:00:00\", \"2019-12-28T00:00:00\", \"2019-12-29T00:00:00\", \"2019-12-30T00:00:00\", \"2019-12-31T00:00:00\", \"2017-02-05T00:00:00\", \"2017-02-06T00:00:00\", \"2017-02-07T00:00:00\", \"2017-02-08T00:00:00\", \"2017-02-09T00:00:00\", \"2017-02-10T00:00:00\", \"2017-02-11T00:00:00\", \"2017-02-12T00:00:00\", \"2017-02-13T00:00:00\", \"2017-02-14T00:00:00\", \"2017-02-15T00:00:00\", \"2017-02-16T00:00:00\", \"2017-02-17T00:00:00\", \"2017-02-18T00:00:00\", \"2017-02-19T00:00:00\", \"2017-02-20T00:00:00\", \"2017-02-21T00:00:00\", \"2017-02-22T00:00:00\", \"2017-02-23T00:00:00\", \"2017-02-24T00:00:00\", \"2017-02-25T00:00:00\", \"2017-02-26T00:00:00\", \"2017-02-27T00:00:00\", \"2017-02-28T00:00:00\", \"2017-03-01T00:00:00\", \"2017-03-02T00:00:00\", \"2017-03-03T00:00:00\", \"2017-03-04T00:00:00\", \"2017-03-05T00:00:00\", \"2017-03-06T00:00:00\", \"2017-03-07T00:00:00\", \"2017-03-08T00:00:00\", \"2017-03-09T00:00:00\", \"2017-03-10T00:00:00\", \"2017-03-11T00:00:00\", \"2017-03-12T00:00:00\", \"2017-03-13T00:00:00\", \"2017-03-14T00:00:00\", \"2017-03-15T00:00:00\", \"2017-03-16T00:00:00\", \"2017-03-17T00:00:00\", \"2017-03-18T00:00:00\", \"2017-03-19T00:00:00\", \"2017-03-20T00:00:00\", \"2017-03-21T00:00:00\", \"2017-03-22T00:00:00\", \"2017-03-23T00:00:00\", \"2017-03-24T00:00:00\", \"2017-03-25T00:00:00\", \"2017-03-26T00:00:00\", \"2017-03-27T00:00:00\", \"2017-03-28T00:00:00\", \"2017-03-29T00:00:00\", \"2017-03-30T00:00:00\", \"2017-03-31T00:00:00\", \"2017-04-01T00:00:00\", \"2017-04-02T00:00:00\", \"2017-04-03T00:00:00\", \"2017-04-04T00:00:00\", \"2017-04-05T00:00:00\", \"2017-04-06T00:00:00\", \"2017-04-07T00:00:00\", \"2017-04-08T00:00:00\", \"2017-04-09T00:00:00\", \"2017-04-10T00:00:00\", \"2017-04-11T00:00:00\", \"2017-04-12T00:00:00\", \"2017-04-13T00:00:00\", \"2017-04-14T00:00:00\", \"2017-04-15T00:00:00\", \"2017-04-16T00:00:00\", \"2017-04-17T00:00:00\", \"2017-04-18T00:00:00\", \"2017-04-19T00:00:00\", \"2017-04-20T00:00:00\", \"2017-04-21T00:00:00\", \"2017-04-22T00:00:00\", \"2017-04-23T00:00:00\", \"2017-04-24T00:00:00\", \"2017-04-25T00:00:00\", \"2017-04-26T00:00:00\", \"2017-04-27T00:00:00\", \"2017-04-28T00:00:00\", \"2017-04-29T00:00:00\", \"2017-04-30T00:00:00\", \"2017-05-01T00:00:00\", \"2017-05-02T00:00:00\", \"2017-05-03T00:00:00\", \"2017-05-04T00:00:00\", \"2017-05-05T00:00:00\", \"2017-05-06T00:00:00\", \"2017-05-07T00:00:00\", \"2017-05-08T00:00:00\", \"2017-05-09T00:00:00\", \"2017-05-10T00:00:00\", \"2017-05-11T00:00:00\", \"2017-05-12T00:00:00\", \"2017-05-13T00:00:00\", \"2017-05-14T00:00:00\", \"2017-05-15T00:00:00\", \"2017-05-16T00:00:00\", \"2017-05-17T00:00:00\", \"2017-05-18T00:00:00\", \"2017-05-19T00:00:00\", \"2017-05-20T00:00:00\", \"2017-05-21T00:00:00\", \"2017-05-22T00:00:00\", \"2017-05-23T00:00:00\", \"2017-05-24T00:00:00\", \"2017-05-25T00:00:00\", \"2017-05-26T00:00:00\", \"2017-05-27T00:00:00\", \"2017-06-01T00:00:00\", \"2017-06-02T00:00:00\", \"2017-06-03T00:00:00\", \"2017-05-29T00:00:00\", \"2017-05-30T00:00:00\", \"2017-05-31T00:00:00\", \"2017-05-28T00:00:00\", \"2017-06-04T00:00:00\", \"2017-06-05T00:00:00\", \"2017-06-06T00:00:00\", \"2017-06-07T00:00:00\", \"2017-06-08T00:00:00\", \"2017-06-09T00:00:00\", \"2017-06-10T00:00:00\", \"2017-06-11T00:00:00\", \"2017-06-12T00:00:00\", \"2017-06-13T00:00:00\", \"2017-06-14T00:00:00\", \"2017-06-15T00:00:00\", \"2017-06-16T00:00:00\", \"2017-06-17T00:00:00\", \"2017-06-18T00:00:00\", \"2017-06-19T00:00:00\", \"2017-06-20T00:00:00\", \"2017-06-21T00:00:00\", \"2017-06-22T00:00:00\", \"2017-06-23T00:00:00\", \"2017-06-24T00:00:00\", \"2017-07-01T00:00:00\", \"2017-06-25T00:00:00\", \"2017-06-26T00:00:00\", \"2017-06-27T00:00:00\", \"2017-06-28T00:00:00\", \"2017-06-29T00:00:00\", \"2017-06-30T00:00:00\", \"2017-07-02T00:00:00\", \"2017-07-03T00:00:00\", \"2017-07-04T00:00:00\", \"2017-07-05T00:00:00\", \"2017-07-06T00:00:00\", \"2017-07-07T00:00:00\", \"2017-07-08T00:00:00\", \"2017-07-09T00:00:00\", \"2017-07-10T00:00:00\", \"2017-07-11T00:00:00\", \"2017-07-12T00:00:00\", \"2017-07-13T00:00:00\", \"2017-07-14T00:00:00\", \"2017-07-15T00:00:00\", \"2017-07-16T00:00:00\", \"2017-07-17T00:00:00\", \"2017-07-18T00:00:00\", \"2017-07-19T00:00:00\", \"2017-07-20T00:00:00\", \"2017-07-21T00:00:00\", \"2017-07-22T00:00:00\", \"2017-07-23T00:00:00\", \"2017-07-24T00:00:00\", \"2017-07-25T00:00:00\", \"2017-07-26T00:00:00\", \"2017-07-27T00:00:00\", \"2017-07-28T00:00:00\", \"2017-07-29T00:00:00\", \"2017-07-30T00:00:00\", \"2017-07-31T00:00:00\", \"2017-08-01T00:00:00\", \"2017-08-02T00:00:00\", \"2017-08-03T00:00:00\", \"2017-08-04T00:00:00\", \"2017-08-05T00:00:00\", \"2017-08-06T00:00:00\", \"2017-08-07T00:00:00\", \"2017-08-08T00:00:00\", \"2017-08-09T00:00:00\", \"2017-08-10T00:00:00\", \"2017-08-11T00:00:00\", \"2017-08-12T00:00:00\", \"2017-08-19T00:00:00\", \"2017-08-13T00:00:00\", \"2017-08-14T00:00:00\", \"2017-08-15T00:00:00\", \"2017-08-16T00:00:00\", \"2017-08-17T00:00:00\", \"2017-08-18T00:00:00\", \"2017-08-20T00:00:00\", \"2017-08-21T00:00:00\", \"2017-08-22T00:00:00\", \"2017-08-23T00:00:00\", \"2017-08-24T00:00:00\", \"2017-08-25T00:00:00\", \"2017-08-26T00:00:00\", \"2017-08-27T00:00:00\", \"2017-08-28T00:00:00\", \"2017-08-29T00:00:00\", \"2017-08-30T00:00:00\", \"2017-08-31T00:00:00\", \"2017-09-01T00:00:00\", \"2017-09-02T00:00:00\", \"2017-09-03T00:00:00\", \"2017-09-04T00:00:00\", \"2017-09-05T00:00:00\", \"2017-09-06T00:00:00\", \"2017-09-07T00:00:00\", \"2017-09-08T00:00:00\", \"2017-09-09T00:00:00\", \"2017-09-10T00:00:00\", \"2017-09-11T00:00:00\", \"2017-09-12T00:00:00\", \"2017-09-13T00:00:00\", \"2017-09-14T00:00:00\", \"2017-09-15T00:00:00\", \"2017-09-16T00:00:00\", \"2017-09-17T00:00:00\", \"2017-09-18T00:00:00\", \"2017-09-19T00:00:00\", \"2017-09-20T00:00:00\", \"2017-09-21T00:00:00\", \"2017-09-22T00:00:00\", \"2017-09-23T00:00:00\", \"2017-09-24T00:00:00\", \"2017-09-25T00:00:00\", \"2017-09-26T00:00:00\", \"2017-09-27T00:00:00\", \"2017-09-28T00:00:00\", \"2017-09-29T00:00:00\", \"2017-09-30T00:00:00\", \"2017-10-01T00:00:00\", \"2017-10-02T00:00:00\", \"2017-10-03T00:00:00\", \"2017-10-04T00:00:00\", \"2017-10-05T00:00:00\", \"2017-10-06T00:00:00\", \"2017-10-07T00:00:00\", \"2017-10-08T00:00:00\", \"2017-10-09T00:00:00\", \"2017-10-10T00:00:00\", \"2017-10-11T00:00:00\", \"2017-10-12T00:00:00\", \"2017-10-13T00:00:00\", \"2017-10-14T00:00:00\", \"2017-10-15T00:00:00\", \"2017-10-16T00:00:00\", \"2017-10-17T00:00:00\", \"2017-10-18T00:00:00\", \"2017-10-19T00:00:00\", \"2017-10-20T00:00:00\", \"2017-10-21T00:00:00\", \"2017-10-22T00:00:00\", \"2017-10-23T00:00:00\", \"2017-10-24T00:00:00\", \"2017-10-25T00:00:00\", \"2017-10-26T00:00:00\", \"2017-10-27T00:00:00\", \"2017-10-28T00:00:00\", \"2017-10-29T00:00:00\", \"2017-10-30T00:00:00\", \"2017-10-31T00:00:00\", \"2017-11-01T00:00:00\", \"2017-11-02T00:00:00\", \"2017-11-03T00:00:00\", \"2017-11-04T00:00:00\", \"2017-11-05T00:00:00\", \"2017-11-06T00:00:00\", \"2017-11-07T00:00:00\", \"2017-11-08T00:00:00\", \"2017-11-09T00:00:00\", \"2017-11-10T00:00:00\", \"2017-11-11T00:00:00\", \"2017-11-12T00:00:00\", \"2017-11-13T00:00:00\", \"2017-11-14T00:00:00\", \"2017-11-15T00:00:00\", \"2017-11-16T00:00:00\", \"2017-11-17T00:00:00\", \"2017-11-18T00:00:00\", \"2017-11-19T00:00:00\", \"2017-11-20T00:00:00\", \"2017-11-21T00:00:00\", \"2017-11-22T00:00:00\", \"2017-11-23T00:00:00\", \"2017-11-24T00:00:00\", \"2017-11-25T00:00:00\", \"2017-11-26T00:00:00\", \"2017-11-27T00:00:00\", \"2017-11-28T00:00:00\", \"2017-11-29T00:00:00\", \"2017-11-30T00:00:00\", \"2017-12-01T00:00:00\", \"2017-12-02T00:00:00\", \"2017-12-03T00:00:00\", \"2017-12-04T00:00:00\", \"2017-12-05T00:00:00\", \"2017-12-06T00:00:00\", \"2017-12-07T00:00:00\", \"2017-12-08T00:00:00\", \"2017-12-09T00:00:00\", \"2017-12-10T00:00:00\", \"2017-12-11T00:00:00\", \"2017-12-12T00:00:00\", \"2017-12-13T00:00:00\", \"2017-12-14T00:00:00\", \"2017-12-15T00:00:00\", \"2017-12-16T00:00:00\", \"2017-12-17T00:00:00\", \"2017-12-18T00:00:00\", \"2017-12-19T00:00:00\", \"2017-12-20T00:00:00\", \"2017-12-21T00:00:00\", \"2017-12-22T00:00:00\", \"2017-12-23T00:00:00\", \"2017-12-24T00:00:00\", \"2017-12-25T00:00:00\", \"2017-12-26T00:00:00\", \"2017-12-27T00:00:00\", \"2017-12-28T00:00:00\", \"2017-12-29T00:00:00\", \"2017-12-30T00:00:00\", \"2017-12-31T00:00:00\", \"2016-01-29T00:00:00\", \"2016-01-30T00:00:00\", \"2016-01-31T00:00:00\", \"2016-02-01T00:00:00\", \"2016-02-02T00:00:00\", \"2016-02-03T00:00:00\", \"2016-02-04T00:00:00\", \"2016-02-05T00:00:00\", \"2016-02-06T00:00:00\", \"2016-02-07T00:00:00\", \"2016-02-08T00:00:00\", \"2016-02-09T00:00:00\", \"2016-02-10T00:00:00\", \"2016-02-11T00:00:00\", \"2016-02-12T00:00:00\", \"2016-02-13T00:00:00\", \"2016-02-14T00:00:00\", \"2016-02-15T00:00:00\", \"2016-02-16T00:00:00\", \"2016-02-17T00:00:00\", \"2016-02-18T00:00:00\", \"2016-02-19T00:00:00\", \"2016-02-20T00:00:00\", \"2016-02-21T00:00:00\", \"2016-02-22T00:00:00\", \"2016-02-23T00:00:00\", \"2016-02-24T00:00:00\", \"2016-02-25T00:00:00\", \"2016-02-26T00:00:00\", \"2016-02-27T00:00:00\", \"2016-02-28T00:00:00\", \"2016-02-29T00:00:00\", \"2016-03-01T00:00:00\", \"2016-03-02T00:00:00\", \"2016-03-03T00:00:00\", \"2016-03-04T00:00:00\", \"2016-03-05T00:00:00\", \"2016-03-06T00:00:00\", \"2016-03-07T00:00:00\", \"2016-03-08T00:00:00\", \"2016-03-09T00:00:00\", \"2016-03-10T00:00:00\", \"2016-03-11T00:00:00\", \"2016-03-12T00:00:00\", \"2016-03-13T00:00:00\", \"2016-03-14T00:00:00\", \"2016-03-15T00:00:00\", \"2016-03-16T00:00:00\", \"2016-03-17T00:00:00\", \"2016-03-18T00:00:00\", \"2016-03-19T00:00:00\", \"2016-03-20T00:00:00\", \"2016-03-21T00:00:00\", \"2016-03-22T00:00:00\", \"2016-03-23T00:00:00\", \"2016-03-24T00:00:00\", \"2016-03-25T00:00:00\", \"2016-04-01T00:00:00\", \"2016-03-26T00:00:00\", \"2016-03-27T00:00:00\", \"2016-03-28T00:00:00\", \"2016-03-29T00:00:00\", \"2016-03-30T00:00:00\", \"2016-03-31T00:00:00\", \"2016-04-02T00:00:00\", \"2016-04-03T00:00:00\", \"2016-04-04T00:00:00\", \"2016-04-05T00:00:00\", \"2016-04-06T00:00:00\", \"2016-04-07T00:00:00\", \"2016-04-08T00:00:00\", \"2016-04-09T00:00:00\", \"2016-04-10T00:00:00\", \"2016-04-11T00:00:00\", \"2016-04-12T00:00:00\", \"2016-04-13T00:00:00\", \"2016-04-14T00:00:00\", \"2016-04-15T00:00:00\", \"2016-04-16T00:00:00\", \"2016-04-17T00:00:00\", \"2016-04-18T00:00:00\", \"2016-04-19T00:00:00\", \"2016-04-20T00:00:00\", \"2016-04-21T00:00:00\", \"2016-04-22T00:00:00\", \"2016-04-23T00:00:00\", \"2016-04-24T00:00:00\", \"2016-04-25T00:00:00\", \"2016-04-26T00:00:00\", \"2016-04-27T00:00:00\", \"2016-04-28T00:00:00\", \"2016-04-29T00:00:00\", \"2016-04-30T00:00:00\", \"2016-05-01T00:00:00\", \"2016-05-02T00:00:00\", \"2016-05-03T00:00:00\", \"2016-05-04T00:00:00\", \"2016-05-05T00:00:00\", \"2016-05-06T00:00:00\", \"2016-05-07T00:00:00\", \"2016-05-08T00:00:00\", \"2016-05-09T00:00:00\", \"2016-05-10T00:00:00\", \"2016-05-11T00:00:00\", \"2016-05-12T00:00:00\", \"2016-05-13T00:00:00\", \"2016-05-14T00:00:00\", \"2016-05-15T00:00:00\", \"2016-05-16T00:00:00\", \"2016-05-17T00:00:00\", \"2016-05-18T00:00:00\", \"2016-05-19T00:00:00\", \"2016-05-20T00:00:00\", \"2016-05-21T00:00:00\", \"2016-05-22T00:00:00\", \"2016-05-23T00:00:00\", \"2016-05-24T00:00:00\", \"2016-05-25T00:00:00\", \"2016-05-26T00:00:00\", \"2016-05-27T00:00:00\", \"2016-05-28T00:00:00\", \"2016-05-29T00:00:00\", \"2016-05-30T00:00:00\", \"2016-05-31T00:00:00\", \"2016-06-01T00:00:00\", \"2016-06-02T00:00:00\", \"2016-06-03T00:00:00\", \"2016-06-06T00:00:00\", \"2016-06-07T00:00:00\", \"2016-06-08T00:00:00\", \"2016-06-09T00:00:00\", \"2016-06-10T00:00:00\", \"2016-06-04T00:00:00\", \"2016-06-05T00:00:00\", \"2016-06-11T00:00:00\", \"2016-06-12T00:00:00\", \"2016-06-13T00:00:00\", \"2016-06-14T00:00:00\", \"2016-06-15T00:00:00\", \"2016-06-16T00:00:00\", \"2016-06-17T00:00:00\", \"2016-06-18T00:00:00\", \"2016-06-19T00:00:00\", \"2016-06-20T00:00:00\", \"2016-06-21T00:00:00\", \"2016-06-22T00:00:00\", \"2016-06-23T00:00:00\", \"2016-06-24T00:00:00\", \"2016-06-25T00:00:00\", \"2016-06-26T00:00:00\", \"2016-06-27T00:00:00\", \"2016-06-28T00:00:00\", \"2016-06-29T00:00:00\", \"2016-06-30T00:00:00\", \"2016-07-01T00:00:00\", \"2016-07-02T00:00:00\", \"2016-07-03T00:00:00\", \"2016-07-04T00:00:00\", \"2016-07-05T00:00:00\", \"2016-07-06T00:00:00\", \"2016-07-07T00:00:00\", \"2016-07-08T00:00:00\", \"2016-07-09T00:00:00\", \"2016-07-10T00:00:00\", \"2016-07-11T00:00:00\", \"2016-07-12T00:00:00\", \"2016-07-13T00:00:00\", \"2016-07-14T00:00:00\", \"2016-07-15T00:00:00\", \"2016-07-16T00:00:00\", \"2016-07-17T00:00:00\", \"2016-07-18T00:00:00\", \"2016-07-19T00:00:00\", \"2016-07-20T00:00:00\", \"2016-07-21T00:00:00\", \"2016-07-22T00:00:00\", \"2016-07-23T00:00:00\", \"2016-07-24T00:00:00\", \"2016-07-25T00:00:00\", \"2016-07-26T00:00:00\", \"2016-07-27T00:00:00\", \"2016-07-28T00:00:00\", \"2016-07-29T00:00:00\", \"2016-07-30T00:00:00\", \"2016-07-31T00:00:00\", \"2016-08-01T00:00:00\", \"2016-08-02T00:00:00\", \"2016-08-03T00:00:00\", \"2016-08-04T00:00:00\", \"2016-08-05T00:00:00\", \"2016-08-06T00:00:00\", \"2016-08-07T00:00:00\", \"2016-08-08T00:00:00\", \"2016-08-09T00:00:00\", \"2016-08-10T00:00:00\", \"2016-08-11T00:00:00\", \"2016-08-12T00:00:00\", \"2016-08-13T00:00:00\", \"2016-08-14T00:00:00\", \"2016-08-15T00:00:00\", \"2016-08-16T00:00:00\", \"2016-08-17T00:00:00\", \"2016-08-18T00:00:00\", \"2016-08-19T00:00:00\", \"2016-08-20T00:00:00\", \"2016-08-21T00:00:00\", \"2016-08-22T00:00:00\", \"2016-08-23T00:00:00\", \"2016-08-24T00:00:00\", \"2016-08-25T00:00:00\", \"2016-08-26T00:00:00\", \"2016-08-27T00:00:00\", \"2016-08-28T00:00:00\", \"2016-08-29T00:00:00\", \"2016-08-30T00:00:00\", \"2016-08-31T00:00:00\", \"2016-09-01T00:00:00\", \"2016-09-02T00:00:00\", \"2016-09-03T00:00:00\", \"2016-09-04T00:00:00\", \"2016-09-05T00:00:00\", \"2016-09-06T00:00:00\", \"2016-09-07T00:00:00\", \"2016-09-08T00:00:00\", \"2016-09-09T00:00:00\", \"2016-09-10T00:00:00\", \"2016-09-11T00:00:00\", \"2016-09-12T00:00:00\", \"2016-09-13T00:00:00\", \"2016-09-14T00:00:00\", \"2016-09-15T00:00:00\", \"2016-09-16T00:00:00\", \"2016-09-17T00:00:00\", \"2016-09-18T00:00:00\", \"2016-09-19T00:00:00\", \"2016-09-20T00:00:00\", \"2016-09-21T00:00:00\", \"2016-09-22T00:00:00\", \"2016-09-23T00:00:00\", \"2016-09-24T00:00:00\", \"2016-09-25T00:00:00\", \"2016-09-26T00:00:00\", \"2016-09-27T00:00:00\", \"2016-09-28T00:00:00\", \"2016-09-29T00:00:00\", \"2016-09-30T00:00:00\", \"2016-10-01T00:00:00\", \"2016-10-02T00:00:00\", \"2016-10-03T00:00:00\", \"2016-10-04T00:00:00\", \"2016-10-05T00:00:00\", \"2016-10-06T00:00:00\", \"2016-10-07T00:00:00\", \"2016-10-08T00:00:00\", \"2016-10-09T00:00:00\", \"2016-10-10T00:00:00\", \"2016-10-11T00:00:00\", \"2016-10-12T00:00:00\", \"2016-10-13T00:00:00\", \"2016-10-14T00:00:00\", \"2016-10-15T00:00:00\", \"2016-10-16T00:00:00\", \"2016-10-17T00:00:00\", \"2016-10-18T00:00:00\", \"2016-10-19T00:00:00\", \"2016-10-20T00:00:00\", \"2016-10-21T00:00:00\", \"2016-10-22T00:00:00\", \"2016-10-23T00:00:00\", \"2016-10-24T00:00:00\", \"2016-10-25T00:00:00\", \"2016-10-26T00:00:00\", \"2016-10-27T00:00:00\", \"2016-10-28T00:00:00\", \"2016-10-29T00:00:00\", \"2016-10-30T00:00:00\", \"2016-10-31T00:00:00\", \"2016-11-01T00:00:00\", \"2016-11-02T00:00:00\", \"2016-11-03T00:00:00\", \"2016-11-04T00:00:00\", \"2016-11-05T00:00:00\", \"2016-11-06T00:00:00\", \"2016-11-07T00:00:00\", \"2016-11-08T00:00:00\", \"2016-11-09T00:00:00\", \"2016-11-10T00:00:00\", \"2016-11-11T00:00:00\", \"2016-11-12T00:00:00\", \"2016-11-13T00:00:00\", \"2016-11-14T00:00:00\", \"2016-11-15T00:00:00\", \"2016-11-16T00:00:00\", \"2016-11-17T00:00:00\", \"2016-11-18T00:00:00\", \"2016-11-19T00:00:00\", \"2016-11-20T00:00:00\", \"2016-11-21T00:00:00\", \"2016-11-22T00:00:00\", \"2016-11-23T00:00:00\", \"2016-11-24T00:00:00\", \"2016-11-25T00:00:00\", \"2016-11-26T00:00:00\", \"2016-11-27T00:00:00\", \"2016-11-28T00:00:00\", \"2016-11-29T00:00:00\", \"2016-11-30T00:00:00\", \"2016-12-01T00:00:00\", \"2016-12-02T00:00:00\", \"2016-12-03T00:00:00\", \"2016-12-04T00:00:00\", \"2016-12-05T00:00:00\", \"2016-12-06T00:00:00\", \"2016-12-07T00:00:00\", \"2016-12-08T00:00:00\", \"2016-12-09T00:00:00\", \"2016-12-10T00:00:00\", \"2016-12-11T00:00:00\", \"2016-12-12T00:00:00\", \"2016-12-13T00:00:00\", \"2016-12-14T00:00:00\", \"2016-12-15T00:00:00\", \"2016-12-16T00:00:00\", \"2016-12-17T00:00:00\", \"2016-12-18T00:00:00\", \"2016-12-19T00:00:00\", \"2016-12-20T00:00:00\", \"2016-12-21T00:00:00\", \"2016-12-22T00:00:00\", \"2016-12-23T00:00:00\", \"2016-12-24T00:00:00\", \"2016-12-25T00:00:00\", \"2016-12-26T00:00:00\", \"2016-12-27T00:00:00\", \"2016-12-28T00:00:00\", \"2016-12-29T00:00:00\", \"2016-12-30T00:00:00\", \"2016-12-31T00:00:00\", \"2015-01-22T00:00:00\", \"2015-01-23T00:00:00\", \"2015-01-24T00:00:00\", \"2015-01-25T00:00:00\", \"2015-01-26T00:00:00\", \"2015-01-27T00:00:00\", \"2015-01-28T00:00:00\", \"2015-01-29T00:00:00\", \"2015-01-30T00:00:00\", \"2015-01-31T00:00:00\", \"2015-02-01T00:00:00\", \"2015-02-02T00:00:00\", \"2015-02-03T00:00:00\", \"2015-02-04T00:00:00\", \"2015-02-08T00:00:00\", \"2015-02-09T00:00:00\", \"2015-02-10T00:00:00\", \"2015-02-11T00:00:00\", \"2015-02-05T00:00:00\", \"2015-02-06T00:00:00\", \"2015-02-07T00:00:00\", \"2015-02-12T00:00:00\", \"2015-02-13T00:00:00\", \"2015-02-14T00:00:00\", \"2015-02-15T00:00:00\", \"2015-02-16T00:00:00\", \"2015-02-17T00:00:00\", \"2015-02-18T00:00:00\", \"2015-02-19T00:00:00\", \"2015-02-20T00:00:00\", \"2015-02-21T00:00:00\", \"2015-02-22T00:00:00\", \"2015-02-23T00:00:00\", \"2015-02-24T00:00:00\", \"2015-02-25T00:00:00\", \"2015-02-26T00:00:00\", \"2015-02-27T00:00:00\", \"2015-02-28T00:00:00\", \"2015-03-01T00:00:00\", \"2015-03-02T00:00:00\", \"2015-03-03T00:00:00\", \"2015-03-04T00:00:00\", \"2015-03-05T00:00:00\", \"2015-03-06T00:00:00\", \"2015-03-07T00:00:00\", \"2015-03-08T00:00:00\", \"2015-03-09T00:00:00\", \"2015-03-10T00:00:00\", \"2015-03-11T00:00:00\", \"2015-03-12T00:00:00\", \"2015-03-13T00:00:00\", \"2015-03-14T00:00:00\", \"2015-03-15T00:00:00\", \"2015-03-16T00:00:00\", \"2015-03-17T00:00:00\", \"2015-03-18T00:00:00\", \"2015-03-19T00:00:00\", \"2015-03-20T00:00:00\", \"2015-03-21T00:00:00\", \"2015-03-22T00:00:00\", \"2015-03-23T00:00:00\", \"2015-03-24T00:00:00\", \"2015-03-25T00:00:00\", \"2015-03-26T00:00:00\", \"2015-03-27T00:00:00\", \"2015-03-28T00:00:00\", \"2015-03-29T00:00:00\", \"2015-03-30T00:00:00\", \"2015-03-31T00:00:00\", \"2015-04-01T00:00:00\", \"2015-04-02T00:00:00\", \"2015-04-03T00:00:00\", \"2015-04-04T00:00:00\", \"2015-04-05T00:00:00\", \"2015-04-06T00:00:00\", \"2015-04-07T00:00:00\", \"2015-04-08T00:00:00\", \"2015-04-09T00:00:00\", \"2015-04-10T00:00:00\", \"2015-04-11T00:00:00\", \"2015-04-12T00:00:00\", \"2015-04-13T00:00:00\", \"2015-04-14T00:00:00\", \"2015-04-15T00:00:00\", \"2015-04-16T00:00:00\", \"2015-04-17T00:00:00\", \"2015-04-18T00:00:00\", \"2015-04-19T00:00:00\", \"2015-04-20T00:00:00\", \"2015-04-21T00:00:00\", \"2015-04-22T00:00:00\", \"2015-04-23T00:00:00\", \"2015-04-24T00:00:00\", \"2015-04-25T00:00:00\", \"2015-04-26T00:00:00\", \"2015-04-27T00:00:00\", \"2015-04-28T00:00:00\", \"2015-04-29T00:00:00\", \"2015-04-30T00:00:00\", \"2015-05-01T00:00:00\", \"2015-05-02T00:00:00\", \"2015-05-03T00:00:00\", \"2015-05-04T00:00:00\", \"2015-05-05T00:00:00\", \"2015-05-06T00:00:00\", \"2015-05-07T00:00:00\", \"2015-05-08T00:00:00\", \"2015-05-09T00:00:00\", \"2015-05-10T00:00:00\", \"2015-05-11T00:00:00\", \"2015-05-12T00:00:00\", \"2015-05-13T00:00:00\", \"2015-05-14T00:00:00\", \"2015-05-15T00:00:00\", \"2015-05-16T00:00:00\", \"2015-05-17T00:00:00\", \"2015-05-18T00:00:00\", \"2015-05-19T00:00:00\", \"2015-05-20T00:00:00\", \"2015-05-21T00:00:00\", \"2015-05-22T00:00:00\", \"2015-05-23T00:00:00\", \"2015-05-24T00:00:00\", \"2015-05-25T00:00:00\", \"2015-05-26T00:00:00\", \"2015-05-27T00:00:00\", \"2015-05-28T00:00:00\", \"2015-05-29T00:00:00\", \"2015-05-30T00:00:00\", \"2015-05-31T00:00:00\", \"2015-06-01T00:00:00\", \"2015-06-02T00:00:00\", \"2015-06-03T00:00:00\", \"2015-06-04T00:00:00\", \"2015-06-05T00:00:00\", \"2015-06-06T00:00:00\", \"2015-06-07T00:00:00\", \"2015-06-08T00:00:00\", \"2015-06-09T00:00:00\", \"2015-06-10T00:00:00\", \"2015-06-15T00:00:00\", \"2015-06-16T00:00:00\", \"2015-06-17T00:00:00\", \"2015-06-11T00:00:00\", \"2015-06-12T00:00:00\", \"2015-06-13T00:00:00\", \"2015-06-14T00:00:00\", \"2015-06-18T00:00:00\", \"2015-06-19T00:00:00\", \"2015-06-20T00:00:00\", \"2015-06-21T00:00:00\", \"2015-06-22T00:00:00\", \"2015-06-23T00:00:00\", \"2015-06-24T00:00:00\", \"2015-06-25T00:00:00\", \"2015-06-26T00:00:00\", \"2015-06-27T00:00:00\", \"2015-06-28T00:00:00\", \"2015-06-29T00:00:00\", \"2015-06-30T00:00:00\", \"2015-07-01T00:00:00\", \"2015-07-02T00:00:00\", \"2015-07-03T00:00:00\", \"2015-07-04T00:00:00\", \"2015-07-05T00:00:00\", \"2015-07-06T00:00:00\", \"2015-07-07T00:00:00\", \"2015-07-08T00:00:00\", \"2015-07-09T00:00:00\", \"2015-07-10T00:00:00\", \"2015-07-11T00:00:00\", \"2015-07-12T00:00:00\", \"2015-07-13T00:00:00\", \"2015-07-14T00:00:00\", \"2015-07-15T00:00:00\", \"2015-07-16T00:00:00\", \"2015-07-17T00:00:00\", \"2015-07-18T00:00:00\", \"2015-07-19T00:00:00\", \"2015-07-20T00:00:00\", \"2015-07-21T00:00:00\", \"2015-07-22T00:00:00\", \"2015-07-23T00:00:00\", \"2015-07-24T00:00:00\", \"2015-07-25T00:00:00\", \"2015-07-26T00:00:00\", \"2015-07-27T00:00:00\", \"2015-07-28T00:00:00\", \"2015-07-29T00:00:00\", \"2015-07-30T00:00:00\", \"2015-07-31T00:00:00\", \"2015-08-01T00:00:00\", \"2015-08-02T00:00:00\", \"2015-08-03T00:00:00\", \"2015-08-04T00:00:00\", \"2015-08-05T00:00:00\", \"2015-08-06T00:00:00\", \"2015-08-07T00:00:00\", \"2015-08-08T00:00:00\", \"2015-08-09T00:00:00\", \"2015-08-10T00:00:00\", \"2015-08-11T00:00:00\", \"2015-08-12T00:00:00\", \"2015-08-13T00:00:00\", \"2015-08-14T00:00:00\", \"2015-08-15T00:00:00\", \"2015-08-16T00:00:00\", \"2015-08-17T00:00:00\", \"2015-08-18T00:00:00\", \"2015-08-19T00:00:00\", \"2015-08-20T00:00:00\", \"2015-08-21T00:00:00\", \"2015-08-22T00:00:00\", \"2015-08-23T00:00:00\", \"2015-08-24T00:00:00\", \"2015-08-25T00:00:00\", \"2015-08-26T00:00:00\", \"2015-08-27T00:00:00\", \"2015-08-28T00:00:00\", \"2015-08-29T00:00:00\", \"2015-08-30T00:00:00\", \"2015-08-31T00:00:00\", \"2015-09-01T00:00:00\", \"2015-09-02T00:00:00\", \"2015-09-03T00:00:00\", \"2015-09-04T00:00:00\", \"2015-09-05T00:00:00\", \"2015-09-06T00:00:00\", \"2015-09-07T00:00:00\", \"2015-09-08T00:00:00\", \"2015-09-09T00:00:00\", \"2015-09-10T00:00:00\", \"2015-09-11T00:00:00\", \"2015-09-12T00:00:00\", \"2015-09-13T00:00:00\", \"2015-09-14T00:00:00\", \"2015-09-15T00:00:00\", \"2015-09-16T00:00:00\", \"2015-09-17T00:00:00\", \"2015-09-18T00:00:00\", \"2015-09-19T00:00:00\", \"2015-09-20T00:00:00\", \"2015-09-21T00:00:00\", \"2015-09-22T00:00:00\", \"2015-09-23T00:00:00\", \"2015-09-24T00:00:00\", \"2015-09-25T00:00:00\", \"2015-09-26T00:00:00\", \"2015-09-27T00:00:00\", \"2015-09-28T00:00:00\", \"2015-09-29T00:00:00\", \"2015-09-30T00:00:00\", \"2015-10-01T00:00:00\", \"2015-10-02T00:00:00\", \"2015-10-03T00:00:00\", \"2015-10-04T00:00:00\", \"2015-10-05T00:00:00\", \"2015-10-06T00:00:00\", \"2015-10-07T00:00:00\", \"2015-10-09T00:00:00\", \"2015-10-10T00:00:00\", \"2015-10-11T00:00:00\", \"2015-10-12T00:00:00\", \"2015-10-13T00:00:00\", \"2015-10-14T00:00:00\", \"2015-10-08T00:00:00\", \"2015-10-15T00:00:00\", \"2015-10-16T00:00:00\", \"2015-10-17T00:00:00\", \"2015-10-18T00:00:00\", \"2015-10-19T00:00:00\", \"2015-10-20T00:00:00\", \"2015-10-21T00:00:00\", \"2015-10-22T00:00:00\", \"2015-10-23T00:00:00\", \"2015-10-24T00:00:00\", \"2015-10-25T00:00:00\", \"2015-10-26T00:00:00\", \"2015-10-27T00:00:00\", \"2015-10-28T00:00:00\", \"2015-10-29T00:00:00\", \"2015-10-30T00:00:00\", \"2015-10-31T00:00:00\", \"2015-11-01T00:00:00\", \"2015-11-02T00:00:00\", \"2015-11-03T00:00:00\", \"2015-11-04T00:00:00\", \"2015-11-05T00:00:00\", \"2015-11-06T00:00:00\", \"2015-11-07T00:00:00\", \"2015-11-08T00:00:00\", \"2015-11-09T00:00:00\", \"2015-11-10T00:00:00\", \"2015-11-11T00:00:00\", \"2015-11-12T00:00:00\", \"2015-11-13T00:00:00\", \"2015-11-14T00:00:00\", \"2015-11-15T00:00:00\", \"2015-11-16T00:00:00\", \"2015-11-17T00:00:00\", \"2015-11-18T00:00:00\", \"2015-11-19T00:00:00\", \"2015-11-20T00:00:00\", \"2015-11-21T00:00:00\", \"2015-11-22T00:00:00\", \"2015-11-23T00:00:00\", \"2015-11-24T00:00:00\", \"2015-11-25T00:00:00\", \"2015-11-26T00:00:00\", \"2015-11-27T00:00:00\", \"2015-11-28T00:00:00\", \"2015-11-29T00:00:00\", \"2015-11-30T00:00:00\", \"2015-12-01T00:00:00\", \"2015-12-02T00:00:00\", \"2015-12-03T00:00:00\", \"2015-12-04T00:00:00\", \"2015-12-05T00:00:00\", \"2015-12-06T00:00:00\", \"2015-12-07T00:00:00\", \"2015-12-08T00:00:00\", \"2015-12-09T00:00:00\", \"2015-12-10T00:00:00\", \"2015-12-11T00:00:00\", \"2015-12-12T00:00:00\", \"2015-12-13T00:00:00\", \"2015-12-14T00:00:00\", \"2015-12-15T00:00:00\", \"2015-12-16T00:00:00\", \"2015-12-17T00:00:00\", \"2015-12-18T00:00:00\", \"2015-12-19T00:00:00\", \"2015-12-20T00:00:00\", \"2015-12-21T00:00:00\", \"2015-12-22T00:00:00\", \"2015-12-23T00:00:00\", \"2015-12-24T00:00:00\", \"2015-12-25T00:00:00\", \"2015-12-26T00:00:00\", \"2015-12-27T00:00:00\", \"2015-12-28T00:00:00\", \"2015-12-29T00:00:00\", \"2015-12-30T00:00:00\", \"2015-12-31T00:00:00\", \"2014-07-09T00:00:00\", \"2014-07-10T00:00:00\", \"2014-07-11T00:00:00\", \"2014-07-12T00:00:00\", \"2014-07-13T00:00:00\", \"2014-07-14T00:00:00\", \"2014-07-15T00:00:00\", \"2014-07-16T00:00:00\", \"2014-07-17T00:00:00\", \"2014-07-18T00:00:00\", \"2014-07-19T00:00:00\", \"2014-07-20T00:00:00\", \"2014-07-21T00:00:00\", \"2014-07-22T00:00:00\", \"2014-07-23T00:00:00\", \"2014-07-24T00:00:00\", \"2014-07-25T00:00:00\", \"2014-07-26T00:00:00\", \"2014-07-27T00:00:00\", \"2014-07-28T00:00:00\", \"2014-07-29T00:00:00\", \"2014-07-30T00:00:00\", \"2014-07-31T00:00:00\", \"2014-08-01T00:00:00\", \"2014-08-02T00:00:00\", \"2014-08-03T00:00:00\", \"2014-08-04T00:00:00\", \"2014-08-05T00:00:00\", \"2014-08-06T00:00:00\", \"2014-08-07T00:00:00\", \"2014-08-08T00:00:00\", \"2014-08-09T00:00:00\", \"2014-08-10T00:00:00\", \"2014-08-11T00:00:00\", \"2014-08-12T00:00:00\", \"2014-08-13T00:00:00\", \"2014-08-14T00:00:00\", \"2014-08-15T00:00:00\", \"2014-08-16T00:00:00\", \"2014-08-17T00:00:00\", \"2014-08-18T00:00:00\", \"2014-08-19T00:00:00\", \"2014-08-20T00:00:00\", \"2014-08-21T00:00:00\", \"2014-08-22T00:00:00\", \"2014-08-23T00:00:00\", \"2014-08-24T00:00:00\", \"2014-08-25T00:00:00\", \"2014-08-26T00:00:00\", \"2014-08-27T00:00:00\", \"2014-08-28T00:00:00\", \"2014-08-29T00:00:00\", \"2014-08-30T00:00:00\", \"2014-08-31T00:00:00\", \"2014-09-01T00:00:00\", \"2014-09-02T00:00:00\", \"2014-09-03T00:00:00\", \"2014-09-04T00:00:00\", \"2014-09-05T00:00:00\", \"2014-09-06T00:00:00\", \"2014-09-07T00:00:00\", \"2014-09-08T00:00:00\", \"2014-09-09T00:00:00\", \"2014-09-10T00:00:00\", \"2014-09-11T00:00:00\", \"2014-09-12T00:00:00\", \"2014-09-13T00:00:00\", \"2014-09-14T00:00:00\", \"2014-09-15T00:00:00\", \"2014-09-16T00:00:00\", \"2014-09-20T00:00:00\", \"2014-09-21T00:00:00\", \"2014-09-22T00:00:00\", \"2014-09-23T00:00:00\", \"2014-09-17T00:00:00\", \"2014-09-18T00:00:00\", \"2014-09-19T00:00:00\", \"2014-09-30T00:00:00\", \"2014-09-24T00:00:00\", \"2014-09-25T00:00:00\", \"2014-09-26T00:00:00\", \"2014-09-27T00:00:00\", \"2014-09-28T00:00:00\", \"2014-09-29T00:00:00\", \"2014-10-01T00:00:00\", \"2014-10-02T00:00:00\", \"2014-10-03T00:00:00\", \"2014-10-04T00:00:00\", \"2014-10-05T00:00:00\", \"2014-10-06T00:00:00\", \"2014-10-07T00:00:00\", \"2014-10-08T00:00:00\", \"2014-10-09T00:00:00\", \"2014-10-10T00:00:00\", \"2014-10-11T00:00:00\", \"2014-10-12T00:00:00\", \"2014-10-13T00:00:00\", \"2014-10-14T00:00:00\", \"2014-10-15T00:00:00\", \"2014-10-16T00:00:00\", \"2014-10-17T00:00:00\", \"2014-10-18T00:00:00\", \"2014-10-19T00:00:00\", \"2014-10-20T00:00:00\", \"2014-10-21T00:00:00\", \"2014-10-22T00:00:00\", \"2014-10-23T00:00:00\", \"2014-10-24T00:00:00\", \"2014-10-25T00:00:00\", \"2014-10-26T00:00:00\", \"2014-10-27T00:00:00\", \"2014-10-28T00:00:00\", \"2014-10-29T00:00:00\", \"2014-10-30T00:00:00\", \"2014-10-31T00:00:00\", \"2014-11-01T00:00:00\", \"2014-11-02T00:00:00\", \"2014-11-03T00:00:00\", \"2014-11-04T00:00:00\", \"2014-11-05T00:00:00\", \"2014-11-06T00:00:00\", \"2014-11-07T00:00:00\", \"2014-11-08T00:00:00\", \"2014-11-09T00:00:00\", \"2014-11-10T00:00:00\", \"2014-11-11T00:00:00\", \"2014-11-15T00:00:00\", \"2014-11-16T00:00:00\", \"2014-11-17T00:00:00\", \"2014-11-18T00:00:00\", \"2014-11-12T00:00:00\", \"2014-11-13T00:00:00\", \"2014-11-14T00:00:00\", \"2014-11-19T00:00:00\", \"2014-11-20T00:00:00\", \"2014-11-21T00:00:00\", \"2014-11-22T00:00:00\", \"2014-11-23T00:00:00\", \"2014-11-24T00:00:00\", \"2014-11-25T00:00:00\", \"2014-11-26T00:00:00\", \"2014-11-27T00:00:00\", \"2014-11-28T00:00:00\", \"2014-11-29T00:00:00\", \"2014-11-30T00:00:00\", \"2014-12-01T00:00:00\", \"2014-12-02T00:00:00\", \"2014-12-03T00:00:00\", \"2014-12-04T00:00:00\", \"2014-12-05T00:00:00\", \"2014-12-06T00:00:00\", \"2014-12-07T00:00:00\", \"2014-12-08T00:00:00\", \"2014-12-09T00:00:00\", \"2014-12-10T00:00:00\", \"2014-12-11T00:00:00\", \"2014-12-12T00:00:00\", \"2014-12-13T00:00:00\", \"2014-12-14T00:00:00\", \"2014-12-15T00:00:00\", \"2014-12-16T00:00:00\", \"2014-12-17T00:00:00\", \"2014-12-18T00:00:00\", \"2014-12-19T00:00:00\", \"2014-12-20T00:00:00\", \"2014-12-21T00:00:00\", \"2014-12-22T00:00:00\", \"2014-12-23T00:00:00\", \"2014-12-24T00:00:00\", \"2014-12-25T00:00:00\", \"2014-12-26T00:00:00\", \"2014-12-27T00:00:00\", \"2014-12-28T00:00:00\", \"2014-12-29T00:00:00\", \"2014-12-30T00:00:00\", \"2014-12-31T00:00:00\", \"2013-01-22T00:00:00\", \"2013-01-23T00:00:00\", \"2013-01-24T00:00:00\", \"2013-01-25T00:00:00\", \"2013-01-26T00:00:00\", \"2013-01-27T00:00:00\", \"2013-01-28T00:00:00\", \"2013-01-29T00:00:00\", \"2013-01-30T00:00:00\", \"2013-01-31T00:00:00\", \"2013-02-01T00:00:00\", \"2013-02-02T00:00:00\", \"2013-02-03T00:00:00\", \"2013-02-04T00:00:00\", \"2020-01-07T00:00:00\", \"2020-01-04T00:00:00\", \"2020-01-05T00:00:00\", \"2020-01-06T00:00:00\", \"2020-01-01T00:00:00\", \"2020-01-02T00:00:00\", \"2020-01-03T00:00:00\", \"2020-01-08T00:00:00\", \"2020-01-09T00:00:00\", \"2020-01-10T00:00:00\", \"2020-01-11T00:00:00\", \"2020-01-12T00:00:00\", \"2020-01-13T00:00:00\", \"2020-01-14T00:00:00\", \"2020-01-15T00:00:00\", \"2020-01-16T00:00:00\", \"2020-01-17T00:00:00\", \"2020-01-18T00:00:00\", \"2020-01-19T00:00:00\", \"2020-01-20T00:00:00\", \"2020-01-21T00:00:00\", \"2020-01-22T00:00:00\", \"2020-01-23T00:00:00\", \"2020-01-24T00:00:00\", \"2020-01-25T00:00:00\", \"2020-01-26T00:00:00\", \"2020-01-27T00:00:00\", \"2020-01-28T00:00:00\", \"2020-01-29T00:00:00\", \"2020-01-30T00:00:00\", \"2020-01-31T00:00:00\", \"2020-02-01T00:00:00\", \"2020-02-02T00:00:00\", \"2020-02-03T00:00:00\", \"2020-02-04T00:00:00\", \"2020-02-05T00:00:00\", \"2020-02-06T00:00:00\", \"2020-02-07T00:00:00\", \"2020-02-08T00:00:00\", \"2020-02-09T00:00:00\", \"2020-02-10T00:00:00\", \"2020-02-11T00:00:00\", \"2020-02-12T00:00:00\", \"2020-02-13T00:00:00\", \"2020-02-14T00:00:00\", \"2020-02-15T00:00:00\", \"2020-02-16T00:00:00\", \"2020-02-17T00:00:00\", \"2020-02-18T00:00:00\", \"2020-02-19T00:00:00\", \"2020-02-20T00:00:00\", \"2020-02-21T00:00:00\", \"2020-02-22T00:00:00\", \"2020-02-23T00:00:00\", \"2020-02-24T00:00:00\", \"2020-02-25T00:00:00\", \"2020-02-26T00:00:00\", \"2020-02-27T00:00:00\", \"2020-02-28T00:00:00\", \"2020-02-29T00:00:00\", \"2020-03-01T00:00:00\", \"2020-03-02T00:00:00\", \"2020-03-03T00:00:00\", \"2020-03-04T00:00:00\", \"2020-03-05T00:00:00\", \"2020-03-06T00:00:00\", \"2020-03-07T00:00:00\", \"2020-03-08T00:00:00\", \"2020-03-09T00:00:00\", \"2020-03-10T00:00:00\", \"2020-03-11T00:00:00\", \"2020-03-12T00:00:00\", \"2020-03-13T00:00:00\", \"2020-03-14T00:00:00\", \"2020-03-15T00:00:00\", \"2020-03-16T00:00:00\", \"2020-03-17T00:00:00\", \"2020-03-18T00:00:00\", \"2020-03-19T00:00:00\", \"2020-03-20T00:00:00\", \"2020-03-21T00:00:00\", \"2020-03-22T00:00:00\", \"2020-03-23T00:00:00\", \"2020-03-24T00:00:00\", \"2020-03-25T00:00:00\", \"2020-03-26T00:00:00\", \"2020-03-27T00:00:00\", \"2020-03-28T00:00:00\", \"2020-03-29T00:00:00\", \"2020-03-30T00:00:00\", \"2020-03-31T00:00:00\", \"2020-04-01T00:00:00\", \"2020-04-02T00:00:00\", \"2020-04-03T00:00:00\", \"2020-04-04T00:00:00\", \"2020-04-05T00:00:00\", \"2020-04-06T00:00:00\", \"2020-04-07T00:00:00\", \"2020-04-08T00:00:00\", \"2020-04-09T00:00:00\", \"2020-04-10T00:00:00\", \"2020-04-11T00:00:00\", \"2020-04-12T00:00:00\", \"2020-04-13T00:00:00\", \"2020-04-14T00:00:00\", \"2020-04-15T00:00:00\", \"2020-04-16T00:00:00\", \"2020-04-17T00:00:00\", \"2020-04-18T00:00:00\", \"2020-04-19T00:00:00\", \"2020-04-20T00:00:00\", \"2020-04-21T00:00:00\", \"2020-04-22T00:00:00\", \"2020-04-23T00:00:00\", \"2020-04-24T00:00:00\", \"2020-04-25T00:00:00\", \"2020-04-26T00:00:00\", \"2020-04-27T00:00:00\", \"2020-04-28T00:00:00\", \"2020-04-29T00:00:00\", \"2020-04-30T00:00:00\", \"2020-05-01T00:00:00\", \"2020-05-02T00:00:00\", \"2020-05-03T00:00:00\", \"2020-05-04T00:00:00\", \"2020-05-05T00:00:00\", \"2020-05-06T00:00:00\", \"2020-05-07T00:00:00\", \"2020-05-08T00:00:00\", \"2020-05-09T00:00:00\", \"2020-05-10T00:00:00\", \"2020-05-11T00:00:00\", \"2020-05-12T00:00:00\", \"2020-05-13T00:00:00\", \"2020-05-14T00:00:00\", \"2020-05-15T00:00:00\", \"2020-05-16T00:00:00\", \"2020-05-17T00:00:00\", \"2020-05-18T00:00:00\", \"2020-05-19T00:00:00\", \"2020-05-20T00:00:00\", \"2020-05-21T00:00:00\", \"2020-05-22T00:00:00\", \"2020-05-23T00:00:00\", \"2020-05-24T00:00:00\", \"2020-05-25T00:00:00\", \"2020-05-26T00:00:00\", \"2020-05-27T00:00:00\", \"2020-05-28T00:00:00\", \"2020-05-29T00:00:00\", \"2020-05-30T00:00:00\", \"2020-05-31T00:00:00\", \"2020-06-01T00:00:00\", \"2020-06-02T00:00:00\", \"2020-06-03T00:00:00\", \"2020-06-01T00:00:00\", \"2020-06-02T00:00:00\", \"2020-06-03T00:00:00\", \"2020-06-04T00:00:00\", \"2020-06-05T00:00:00\", \"2020-06-06T00:00:00\", \"2020-06-07T00:00:00\", \"2020-06-08T00:00:00\", \"2020-06-09T00:00:00\", \"2020-06-10T00:00:00\", \"2020-06-11T00:00:00\", \"2020-06-12T00:00:00\", \"2020-06-13T00:00:00\", \"2020-06-14T00:00:00\", \"2020-06-15T00:00:00\", \"2020-06-16T00:00:00\", \"2020-06-17T00:00:00\", \"2020-06-18T00:00:00\", \"2020-06-19T00:00:00\", \"2020-06-20T00:00:00\", \"2020-06-21T00:00:00\", \"2020-06-22T00:00:00\", \"2020-06-23T00:00:00\", \"2020-06-24T00:00:00\", \"2020-06-25T00:00:00\", \"2020-06-26T00:00:00\", \"2020-06-27T00:00:00\", \"2020-06-28T00:00:00\", \"2020-06-29T00:00:00\", \"2020-06-30T00:00:00\", \"2020-07-01T00:00:00\", \"2020-07-02T00:00:00\", \"2020-07-03T00:00:00\", \"2020-07-04T00:00:00\", \"2020-07-05T00:00:00\", \"2020-07-06T00:00:00\", \"2020-07-07T00:00:00\", \"2020-07-08T00:00:00\", \"2020-07-23T00:00:00\", \"2020-07-24T00:00:00\", \"2020-07-25T00:00:00\", \"2020-07-26T00:00:00\", \"2020-07-27T00:00:00\", \"2020-07-28T00:00:00\", \"2020-07-29T00:00:00\", \"2020-07-30T00:00:00\", \"2020-07-31T00:00:00\", \"2020-08-01T00:00:00\", \"2020-08-02T00:00:00\", \"2020-08-03T00:00:00\", \"2020-08-04T00:00:00\", \"2020-08-05T00:00:00\", \"2020-08-13T00:00:00\", \"2020-08-14T00:00:00\", \"2020-08-15T00:00:00\", \"2020-08-16T00:00:00\", \"2020-08-17T00:00:00\", \"2020-08-18T00:00:00\", \"2020-08-19T00:00:00\", \"2020-08-20T00:00:00\", \"2020-08-21T00:00:00\", \"2020-08-22T00:00:00\", \"2020-08-23T00:00:00\", \"2020-08-24T00:00:00\", \"2020-08-25T00:00:00\", \"2020-08-26T00:00:00\", \"2020-08-27T00:00:00\", \"2020-08-28T00:00:00\", \"2020-08-29T00:00:00\", \"2020-08-30T00:00:00\", \"2020-08-31T00:00:00\", \"2020-09-01T00:00:00\", \"2020-09-02T00:00:00\", \"2020-09-03T00:00:00\", \"2020-09-04T00:00:00\", \"2020-09-05T00:00:00\", \"2020-09-06T00:00:00\", \"2020-09-07T00:00:00\", \"2020-09-08T00:00:00\", \"2020-09-09T00:00:00\", \"2020-09-10T00:00:00\", \"2020-09-11T00:00:00\", \"2020-09-12T00:00:00\", \"2020-09-13T00:00:00\", \"2020-09-14T00:00:00\", \"2020-09-15T00:00:00\", \"2020-09-16T00:00:00\", \"2020-09-17T00:00:00\", \"2020-09-18T00:00:00\", \"2020-09-19T00:00:00\", \"2020-09-20T00:00:00\", \"2020-09-21T00:00:00\", \"2020-09-22T00:00:00\", \"2020-09-23T00:00:00\", \"2020-09-24T00:00:00\", \"2020-09-25T00:00:00\", \"2020-09-26T00:00:00\", \"2020-09-27T00:00:00\", \"2020-09-28T00:00:00\", \"2020-09-29T00:00:00\", \"2020-09-30T00:00:00\", \"2020-10-01T00:00:00\", \"2020-10-02T00:00:00\", \"2020-10-03T00:00:00\", \"2020-10-04T00:00:00\", \"2020-10-05T00:00:00\", \"2020-10-06T00:00:00\", \"2020-10-07T00:00:00\", \"2020-10-08T00:00:00\", \"2020-10-09T00:00:00\", \"2020-10-10T00:00:00\", \"2020-10-11T00:00:00\", \"2020-10-12T00:00:00\", \"2020-10-13T00:00:00\", \"2020-10-14T00:00:00\", \"2020-10-15T00:00:00\", \"2020-10-16T00:00:00\", \"2020-10-17T00:00:00\", \"2020-10-18T00:00:00\", \"2020-10-19T00:00:00\", \"2020-10-20T00:00:00\", \"2020-10-21T00:00:00\", \"2020-10-22T00:00:00\", \"2020-10-23T00:00:00\", \"2020-10-24T00:00:00\", \"2020-10-25T00:00:00\", \"2020-10-26T00:00:00\", \"2020-10-27T00:00:00\", \"2020-10-28T00:00:00\", \"2020-10-29T00:00:00\", \"2020-10-30T00:00:00\", \"2020-10-31T00:00:00\", \"2020-11-01T00:00:00\", \"2020-11-02T00:00:00\", \"2020-11-03T00:00:00\", \"2020-11-04T00:00:00\", \"2020-11-05T00:00:00\", \"2020-11-06T00:00:00\", \"2020-11-07T00:00:00\", \"2020-11-08T00:00:00\", \"2020-11-09T00:00:00\", \"2020-11-10T00:00:00\", \"2020-11-11T00:00:00\", \"2020-11-12T00:00:00\", \"2020-11-13T00:00:00\", \"2020-11-14T00:00:00\", \"2020-11-15T00:00:00\", \"2020-11-16T00:00:00\", \"2020-11-17T00:00:00\", \"2020-11-18T00:00:00\", \"2020-11-19T00:00:00\", \"2020-11-20T00:00:00\", \"2020-11-21T00:00:00\", \"2020-11-22T00:00:00\", \"2020-11-23T00:00:00\", \"2020-11-24T00:00:00\", \"2020-11-25T00:00:00\", \"2020-11-26T00:00:00\", \"2020-11-27T00:00:00\", \"2020-11-28T00:00:00\", \"2020-11-29T00:00:00\", \"2020-11-30T00:00:00\", \"2020-12-01T00:00:00\", \"2020-12-02T00:00:00\", \"2020-12-03T00:00:00\", \"2020-12-04T00:00:00\", \"2020-12-05T00:00:00\", \"2020-12-06T00:00:00\", \"2020-12-07T00:00:00\", \"2020-12-08T00:00:00\", \"2020-12-09T00:00:00\", \"2020-12-10T00:00:00\", \"2020-12-11T00:00:00\", \"2020-12-12T00:00:00\", \"2020-12-13T00:00:00\", \"2020-12-14T00:00:00\", \"2020-12-15T00:00:00\", \"2020-12-16T00:00:00\"], \"xaxis\": \"x\", \"y\": [252.0, 318.0, 252.0, 252.0, 252.0, 252.0, 186.0, 186.0, 225.0, 148.0, 150.0, 125.0, 125.0, 128.0, 128.0, 139.0, 123.0, 123.0, 123.0, 123.0, 123.0, 123.0, 119.0, 114.0, 114.0, 133.0, 134.0, 138.0, 138.0, 138.0, 115.0, 102.0, 102.0, 101.0, 101.0, 101.0, 114.0, 341.0, 345.0, 170.0, 137.0, 107.0, 102.0, 102.0, 102.0, 127.0, 127.0, 102.0, 98.0, 102.0, 103.0, 70.0, 83.0, 82.0, 82.0, 83.0, 54.0, 53.0, 52.0, 46.0, 61.0, 61.0, 67.0, 47.0, 46.0, 44.0, 44.0, 44.0, 44.0, 43.0, 39.0, 35.0, 69.0, 45.0, 48.0, 39.0, 45.0, 58.0, 633.0, 230.0, 69.0, 10.0, 55.0, 54.0, 73.0, 91.0, 91.0, 90.0, 109.0, 717.0, 869.0, 1566.0, 866.0, 2105.0, 5128.0, 2602.0, 2471.0, 817.0, 556.0, 311.0, 184.0, 353.0, 257.0, 153.0, 120.0, 277.0, 206.0, 208.0, 179.0, 172.0, 176.0, 128.0, 118.0, 117.0, 145.0, 110.0, 218.0, 147.0, 130.0, 105.0, 573.0, 210.0, 210.0, 210.0, 210.0, 210.0, 210.0, 210.0, 585.0, 309.0, 107.0, 242.0, 245.0, 118.0, 1891.0, 7205.0, 6206.0, 6356.0, 4214.0, 3007.0, 2668.0, 2530.0, 2140.0, 3616.0, 3742.0, 4191.0, 6198.0, 5503.0, 3765.0, 7372.0, 16792.0, 17123.0, 9764.0, 4795.0, 2759.0, 2243.0, 2759.0, 4567.0, 6022.0, 9150.0, 13434.0, 10391.0, 5718.0, 3998.0, 3603.0, 2945.0, 2208.0, 1835.0, 1953.0, 2068.0, 8744.0, 13748.0, 22075.0, 23839.0, 21117.0, 16984.0, 15786.0, 15512.0, 15649.0, 15786.0, 17637.0, 15376.0, 9183.0, 5294.0, 4462.0, 2165.0, 2302.0, 2003.0, 4000.0, 5418.0, 7439.0, 11797.0, 17963.0, 15416.0, 13152.0, 10452.0, 8995.0, 7033.0, 6702.0, 8352.0, 7001.0, 5121.0, 4958.0, 2554.0, 5282.0, 4741.0, 3557.0, 6366.0, 4633.0, 4524.0, 3771.0, 3964.0, 4186.0, 6645.0, 6565.0, 7513.0, 12475.0, 20239.0, 28053.0, 25592.0, 26780.0, 23752.0, 14000.0, 11273.0, 10803.0, 7449.0, 570.0, 570.0, 635.0, 506.0, 506.0, 7333.0, 7333.0, 7333.0, 6280.0, 4699.0, 5375.0, 6126.0, 506.0, 506.0, 506.0, 506.0, 506.0, 442.0, 377.0, 8533.0, 4811.0, 3615.0, 3064.0, 2877.0, 2586.0, 2352.0, 377.0, 313.0, 313.0, 250.0, 252.0, 317.0, 317.0, 1720.0, 1628.0, 1627.0, 1347.0, 1067.0, 1066.0, 1007.0, 800.0, 777.0, 709.0, 716.0, 583.0, 678.0, 701.0, 701.0, 710.0, 972.0, 1291.0, 1547.0, 1432.0, 1594.0, 3051.0, 2851.0, 1520.0, 1140.0, 1496.0, 1500.0, 1200.0, 1460.0, 1245.0, 2256.0, 4115.0, 2947.0, 3010.0, 1942.0, 1659.0, 1219.0, 1219.0, 1946.0, 1184.0, 1836.0, 2896.0, 2710.0, 1899.0, 3940.0, 2648.0, 1037.0, 722.0, 601.0, 485.0, 364.0, 307.0, 260.0, 198.0, 137.0, 124.0, 135.0, 134.0, 188.0, 174.0, 157.0, 156.0, 188.0, 231.0, 745.0, 821.0, 1131.0, 894.0, 1411.0, 945.0, 1180.0, 1068.0, 1012.0, 939.0, 939.0, 925.0, 925.0, 925.0, 925.0, 918.0, 924.0, 925.0, 925.0, 868.0, 868.0, 805.0, 568.0, 511.0, 454.0, 174.0, 454.0, 454.0, 455.0, 455.0, 455.0, 455.0, 455.0, 398.0, 398.0, 520.0, 306.0, 367.0, 306.0, 306.0, 369.0, 306.0, 306.0, 306.0, 306.0, 306.0, 306.0, 306.0, 243.0, 243.0, 243.0, 243.0, 243.0, 243.0, 243.0, 243.0, 243.0, 180.0, 180.0, 180.0, 181.0, 181.0, 181.0, 180.0, 118.0, 118.0, 118.0, 118.0, 118.0, 118.0, 118.0, 125.0, 181.0, 125.0, 125.0, 125.0, 188.0, 125.0, 125.0, 125.0, 125.0, 107.0, 132.0, 107.0, 132.0, 132.0, 132.0, 132.0, 79.0, 102.0, 137.0, 136.0, 136.0, 136.0, 102.0, 98.0, 96.0, 99.0, 98.0, 98.0, 71.0, 71.0, 72.0, 78.0, 78.0, 77.0, 77.0, 76.0, 76.0, 97.0, 98.0, 70.0, 86.0, 86.0, 56.0, 58.0, 58.0, 56.0, 56.0, 65.0, 79.0, 79.0, 60.0, 64.0, 60.0, 63.0, 42.0, 58.0, 76.0, 76.0, 52.0, 44.0, 41.0, 57.0, 117.0, 237.0, 183.0, 309.0, 416.0, 201.0, 522.0, 587.0, 399.0, 609.0, 1251.0, 885.0, 729.0, 152.0, 99.0, 99.0, 729.0, 94.0, 94.0, 94.0, 93.0, 760.0, 820.0, 1334.0, 800.0, 652.0, 854.0, 652.0, 601.0, 3549.0, 5484.0, 2107.0, 923.0, 714.0, 686.0, null, 308.0, 205.0, 205.0, 204.0, 820.0, 358.0, 313.0, 520.0, 166.0, 266.0, 165.0, 164.0, 131.0, 581.0, 1469.0, 720.0, 876.0, 593.0, 938.0, 712.0, 787.0, 592.0, 345.0, 433.0, 207.0, 370.0, 702.0, 845.0, 845.0, 1035.0, 892.0, 752.0, 754.0, 1937.0, 2479.0, 3652.0, 2751.0, 5659.0, 9134.0, 14653.0, 15859.0, 15575.0, 9990.0, 13556.0, 11615.0, 8737.0, 10509.0, 17107.0, 28313.0, 35254.0, 32827.0, 25840.0, 10583.0, 5162.0, 3954.0, 6217.0, 22781.0, 42683.0, 36911.0, 31487.0, 29846.0, 24444.0, 15627.0, 12690.0, 15671.0, 15224.0, 14632.0, 15549.0, 11085.0, 15268.0, 16117.0, 15780.0, 29590.0, 33768.0, 24085.0, 23140.0, 20599.0, 22611.0, 30102.0, 31298.0, 27949.0, 27326.0, 18243.0, 19746.0, 30682.0, 43467.0, 4513.7, 35347.0, 23503.0, 26952.0, 20291.0, 17162.0, 9807.0, 8779.0, 7383.0, 6964.0, 6825.0, 5637.0, 5706.0, 5007.0, 4460.0, 4532.0, 4043.0, 3376.0, 2969.0, 3565.0, 3265.0, 3196.0, 2579.0, 3058.0, 1618.0, 2327.0, 2308.0, 1846.0, 2109.0, 2307.0, 2574.0, 2011.0, 2407.0, 2670.0, 3563.0, 2519.0, 2340.0, 2144.0, 3068.0, 2339.0, 2075.0, 2213.0, 3563.0, 2895.0, 2831.0, 8078.0, 3604.0, 4395.0, 6959.0, 6841.0, 9600.0, 12725.0, 2678.0, 2886.0, 2486.0, 2335.0, 1508.0, 1507.0, 1732.0, 1732.0, 1707.0, 1291.0, 1198.0, 907.0, 834.0, 1051.0, 1029.0, 1043.0, 1564.0, 1424.0, 1004.0, 864.0, 1073.0, 3651.0, 922.0, 784.0, 2261.0, 4129.0, 2347.0, 2524.0, 2260.0, 2764.0, 2078.0, 3056.0, 2777.0, 1901.0, 1342.0, 1202.0, 892.0, 837.0, 631.0, 476.0, 369.0, 236.0, 259.0, 222.0, 286.0, 258.0, 263.0, 263.0, 207.0, 218.0, 218.0, 223.0, 236.0, 269.0, 551.0, 1289.0, 1056.0, 661.0, 408.0, 767.0, 876.0, 1133.0, 1076.0, 660.0, 556.0, 846.0, 781.0, 971.0, 969.0, 657.0, 719.0, 969.0, 969.0, 657.0, 657.0, 657.0, 595.0, 657.0, 408.0, 657.0, 742.0, 492.0, 491.0, 429.0, 553.0, 242.0, 304.0, 304.0, 304.0, 305.0, 306.0, 306.0, 306.0, 306.0, 306.0, 369.0, 306.0, 72.0, 99.0, 67.0, 74.0, 74.0, 99.0, 407.0, 214.0, 74.0, 73.0, 56.0, 381.0, 268.0, 995.0, 542.0, 345.0, 231.0, 5724.0, 3807.0, 3247.0, 995.0, 2122.0, 1605.0, 1167.0, 4000.0, 2465.0, 1056.0, 1168.0, 879.0, 889.0, 2597.0, 2473.0, 2997.0, 5838.0, 5770.0, 3667.0, 2748.0, 1861.0, 3976.0, 1970.0, 2099.0, 1845.0, 1842.0, 2177.0, 3356.0, 1718.0, 1343.0, 1801.0, 2107.0, 1558.0, 1451.0, 2327.0, 5527.0, 5855.0, 4723.0, 3598.0, 7877.0, 6911.0, 5523.0, 3478.0, 1971.0, 5204.0, 1919.0, 2854.0, 1920.0, 2744.0, 4224.0, 13079.0, 19256.0, 17373.0, 17011.0, 13572.0, 12988.0, 13735.0, 12546.0, 4645.0, 3704.0, 3567.0, 3815.0, 3404.0, 2925.0, 2033.0, 1638.0, 1450.0, 1383.0, 1316.0, 1467.0, 1467.0, 2513.0, 2964.0, 4575.0, 8235.0, 8235.0, 8550.0, 6083.0, 7659.0, 9869.0, 9962.0, 8017.0, 7947.0, 7223.0, 7571.0, 13788.0, 9664.0, 8748.0, 7422.0, 7684.0, 7633.0, 7109.0, 5649.0, 5649.0, 3789.0, 2552.0, 2049.0, 2049.0, 1787.0, 1497.0, 1322.0, 1322.0, 1575.0, 1830.0, 1597.0, 1569.0, 1977.0, 2828.0, 2056.0, 1302.0, 1108.0, 957.0, 827.0, 970.0, 998.0, 1927.0, 800.0, 854.0, 1182.0, 1817.0, 2407.0, 1425.0, 1143.0, 699.0, 708.0, 780.0, 1460.0, 989.0, 884.0, 674.0, 544.0, 647.0, 698.0, 819.0, 1416.0, 1849.0, 4979.0, 2508.0, 730.0, 867.0, 932.0, 1394.0, 1205.0, 878.0, 750.0, 1490.0, 925.0, 786.0, 788.0, 754.0, 754.0, 753.0, 652.0, 837.0, 616.0, 630.0, 630.0, 629.0, 607.0, 860.0, 944.0, 807.0, 607.0, 524.0, 418.0, 282.0, 326.0, 331.0, 298.0, 373.0, 813.0, 629.0, 409.0, 379.0, 181.0, 181.0, 197.0, 187.0, 198.0, 195.0, 195.0, 193.0, 172.0, 176.0, 158.0, 158.0, 147.0, 166.0, 155.0, 151.0, 151.0, 175.0, 155.0, 153.0, 151.0, 151.0, 151.0, 1007.0, 800.0, 1071.0, 1309.0, 2254.0, 3723.0, 5171.0, 6461.0, 7251.0, 4822.0, 4147.0, 2855.0, 1780.0, 1955.0, 1772.0, 1893.0, 1625.0, 1952.0, 1505.0, 1114.0, 1438.0, 1201.0, 1201.0, 287.0, 306.0, 369.0, 369.0, 306.0, 369.0, 371.0, 309.0, 372.0, 372.0, 309.0, 309.0, 309.0, 309.0, 309.0, 309.0, 309.0, 245.0, 309.0, 309.0, 245.0, 409.0, 358.0, 358.0, 358.0, 358.0, 358.0, 358.0, 358.0, 358.0, 339.0, 299.0, 247.0, 247.0, 247.0, 247.0, 259.0, 259.0, 259.0, 259.0, 259.0, 208.0, 208.0, 208.0, 208.0, 208.0, 208.0, 259.0, 259.0, 152.0, 107.0, 151.0, 107.0, 151.0, 106.0, 150.0, 106.0, 122.0, 80.0, 122.0, 79.0, 121.0, 79.0, 121.0, 78.0, 120.0, 84.0, 92.0, 91.0, 92.0, 91.0, 92.0, 86.0, 91.0, 50.0, 50.0, 135.0, 139.0, 98.0, 58.0, 98.0, 62.0, 102.0, 59.0, 129.0, 130.0, 129.0, 130.0, 131.0, 119.0, 118.0, 119.0, 118.0, 119.0, 118.0, 119.0, 118.0, 119.0, 118.0, 119.0, 118.0, 119.0, 118.0, 117.0, 118.0, 195.0, 258.0, 195.0, 194.0, 258.0, 222.0, 188.0, 117.0, 118.0, 117.0, 118.0, 116.0, 117.0, 94.0, 96.0, 102.0, 103.0, 102.0, 128.0, 127.0, 128.0, 127.0, 127.0, 97.0, 89.0, 88.0, 109.0, 135.0, 160.0, 136.0, 151.0, 150.0, 137.0, 138.0, 132.0, 133.0, 117.0, 99.0, 100.0, 113.0, 112.0, 113.0, 126.0, 78.0, 77.0, 78.0, 66.0, 65.0, 66.0, 77.0, 54.0, 46.0, 62.0, 73.0, 70.0, 71.0, 68.0, 58.0, 129.0, 1649.0, 1064.0, 839.0, 479.0, 337.0, 242.0, 147.0, 109.0, 71.0, 70.0, 68.0, 65.0, 84.0, 97.0, 96.0, 95.0, 141.0, 140.0, 110.0, 123.0, 92.0, 95.0, 90.0, 95.0, 78.0, 99.0, 98.0, 91.0, 106.0, 105.0, 80.0, 72.0, 73.0, 154.0, 640.0, 362.0, 244.0, 305.0, 265.0, 304.0, 225.0, 186.0, 304.0, 225.0, 150.0, 118.0, 117.0, 156.0, 240.0, 278.0, 433.0, 355.0, 240.0, 212.0, 174.0, 626.0, 702.0, 475.0, 551.0, 702.0, 777.0, 588.0, 626.0, 664.0, 853.0, 777.0, 815.0, 777.0, 815.0, 777.0, 815.0, 740.0, 2349.0, 2450.0, 2240.0, 2378.0, 2405.0, 2635.0, 2043.0, 1203.0, 1038.0, 509.0, 551.0, 469.0, 510.0, 1017.0, 1878.0, 6932.0, 22937.0, 17921.0, 23487.0, 22098.0, 36650.0, 33153.0, 21517.0, 5805.0, 4436.0, 12153.0, 15690.0, 13788.0, 6115.0, 9593.0, 2440.0, 2591.0, 3919.0, 10591.0, 21353.0, 18997.0, 9028.0, 5334.0, 4681.0, 3956.0, 3956.0, 2278.0, 4361.0, 27814.0, 32635.0, 35685.0, 40363.0, 47547.0, 45455.0, 43400.0, 40002.0, 36137.0, 38289.0, 39568.0, 37311.0, 36400.0, 28573.0, 31420.0, 28838.0, 27558.0, 28079.0, 28022.0, 27262.0, 24215.0, 19815.0, 17044.0, 16174.0, 18541.0, 21094.0, 19520.0, 17222.0, 15568.0, 9925.0, 7072.0, 9776.0, 41692.0, 69471.0, 75380.0, 58229.0, 45750.0, 40589.0, 50618.0, 55960.0, 79577.0, 80032.0, 61449.0, 47529.0, 35251.0, 26182.0, 20645.0, 16803.0, 13116.0, 11368.0, 7021.0, 7457.0, 9296.0, 12489.0, 10749.0, 7578.0, 5118.0, 4932.0, 4756.0, 4075.0, 3774.0, 2426.0, 1977.0, 1751.0, 1752.0, 1626.0, 1551.0, 1701.0, 1476.0, 1175.0, 1099.0, 1098.0, 1023.0, 1022.0, 1045.0, 1006.0, 1021.0, 1020.0, 1673.0, 3849.0, 2036.0, 1890.0, 1745.0, 1890.0, 3063.0, 2701.0, 2655.0, 1495.0, 1494.0, 2147.0, 3163.0, 4542.0, 3092.0, 4008.0, 4163.0, 3095.0, 2151.0, 1173.0, 974.0, 1274.0, 1199.0, 2026.0, 7688.0, 2472.0, 3406.0, 2119.0, 1070.0, 1301.0, 1376.0, 1151.0, 699.0, 698.0, 472.0, 370.0, 339.0, 357.0, 261.0, 389.0, 219.0, 721.0, 511.0, 441.0, 440.0, 440.0, 253.0, 250.0, 236.0, 199.0, 219.0, 214.0, 204.0, 204.0, 205.0, 214.0, 218.0, 226.0, 234.0, 212.0, 198.0, 232.0, 929.0, 289.0, 233.0, 205.0, 191.0, 181.0, 188.0, 199.0, 188.0, 178.0, 218.0, 408.0, 408.0, 218.0, 178.0, 218.0, 178.0, 201.0, 207.0, 204.0, 174.0, 178.0, 191.0, 178.0, 201.0, 188.0, 189.0, 204.0, 195.0, 194.0, 195.0, 892.0, 258.0, 195.0, 194.0, 195.0, 194.0, 251.0, 187.0, 188.0, 189.0, 191.0, 190.0, 204.0, 205.0, 204.0, 164.0, 187.0, 188.0, 187.0, 188.0, 190.0, 191.0, 191.0, 191.0, 193.0, 194.0, 205.0, 194.0, 176.0, 190.0, 191.0, 198.0, 197.0, 198.0, 135.0, 156.0, 136.0, 137.0, 136.0, 135.0, 134.0, 135.0, 134.0, 136.0, 138.0, 151.0, 140.0, 108.0, 136.0, 137.0, 75.0, 74.0, 75.0, 91.0, 93.0, 45.0, 37.0, 29.0, 49.0, 70.0, 69.0, 53.0, 34.0, 69.0, 68.0, 67.0, 66.0, 69.0, 33.0, 32.0, 33.0, 32.0, 31.0, 55.0, 45.0, 50.0, 51.0, 49.0, 51.0, 47.0, 63.0, 64.0, 68.0, 35.0, 40.0, 39.0, 55.0, 50.0, 49.0, 47.0, 42.0, 46.0, 44.0, 43.0, 30.0, 67.0, 66.0, 61.0, 50.0, 39.0, 56.0, 55.0, 28.0, 48.0, 46.0, 60.0, 112.0, 228.0, 1106.0, 869.0, 726.0, 644.0, 643.0, 642.0, 597.0, 552.0, 556.0, 515.0, 1104.0, 832.0, 586.0, 486.0, 459.0, 458.0, 413.0, 682.0, 669.0, 1642.0, 1553.0, 1464.0, 1818.0, 1110.0, 1454.0, 993.0, 237.0, 491.0, 575.0, 574.0, 490.0, 617.0, 659.0, 616.0, 705.0, 653.0, 486.0, 471.0, 291.0, 248.0, 198.0, 155.0, 261.0, 231.0, 109.0, 68.0, 67.0, 98.0, 304.0, 383.0, 146.0, 106.0, 105.0, 146.0, 1247.0, 1407.0, 1486.0, 1408.0, 1013.0, 382.0, 658.0, 552.0, 677.0, 558.0, 1189.0, 1466.0, 1708.0, 1366.0, 1326.0, 1083.0, 588.0, 538.0, 740.0, 1294.0, 687.0, 1577.0, 2169.0, 4261.0, 12551.0, 10102.0, 5984.0, 4533.0, 6161.0, 4157.0, 3213.0, 2227.0, 1626.0, 2009.0, 1627.0, 1644.0, 1315.0, 5048.0, 7524.0, 8876.0, 10498.0, 10656.0, 6335.0, 6165.0, 7593.0, 5555.0, 3490.0, 2089.0, 3613.0, 3998.0, 3148.0, 3387.0, 2792.0, 2349.0, 11352.0, 18417.0, 29498.0, 76486.0, 112511.0, 104084.0, 57944.0, 39973.0, 30027.0, 18994.0, 12378.0, 9899.0, 6743.0, 6409.0, 6273.0, 5746.0, 4205.0, 4875.0, 4599.0, 5170.0, 4298.0, 5940.0, 9743.0, 10590.0, 6673.0, 7125.0, 5846.0, 5528.0, 8412.0, 11475.0, 21962.0, 24321.0, 27342.0, 27342.0, 23218.0, 24044.0, 17092.0, 10457.0, 7888.0, 5522.0, 4754.0, 3926.0, 4378.0, 3325.0, 3167.0, 4402.0, 2235.0, 2152.0, 2077.0, 2227.0, 3485.0, 2902.0, 3152.0, 3217.0, 3717.0, 2550.0, 2217.0, 1166.0, 1165.0, 1316.0, 1541.0, 1541.0, 1466.0, 1692.0, 1090.0, 1315.0, 1466.0, 1315.0, 1541.0, 1691.0, 2142.0, 1465.0, 1102.0, 952.0, 2382.0, 3360.0, 2720.0, 5278.0, 4099.0, 3054.0, 5462.0, 8551.0, 8626.0, 3930.0, 2378.0, 1776.0, 1303.0, 3176.0, 3037.0, 2276.0, 1567.0, 1259.0, 1049.0, 1233.0, 1082.0, 1433.0, 1809.0, 1733.0, 1884.0, 1583.0, 1056.0, 830.0, 754.0, 987.0, 946.0, 728.0, 593.0, 444.0, 401.0, 383.0, 312.0, 311.0, 292.0, 300.0, 299.0, 261.0, 229.0, 228.0, 1742.0, 2666.0, 1770.0, 912.0, 917.0, 480.0, 481.0, 738.0, 609.0, 480.0, 423.0, 361.0, 381.0, 941.0, 684.0, 620.0, 619.0, 556.0, 363.0, 307.0, 294.0, 294.0, 301.0, 308.0, 372.0, 373.0, 372.0, 371.0, 308.0, 372.0, 91.0, 65.0, 105.0, 65.0, 104.0, 64.0, 36.0, 90.0, 44.0, 83.0, 43.0, 82.0, 44.0, 56.0, 28.0, 66.0, 28.0, 65.0, 27.0, 16.0, 54.0, 17.0, 53.0, 43.0, 50.0, 17.0, 39.0, 38.0, 40.0, 19.0, 19.0, 28.0, 31.0, 63.0, 30.0, 63.0, 30.0, 62.0, 30.0, 62.0, 29.0, 62.0, 30.0, 61.0, 33.0, 37.0, 67.0, 36.0, 66.0, 36.0, 66.0, 35.0, 66.0, 35.0, 66.0, 35.0, 24.0, 55.0, 23.0, 53.0, 23.0, 53.0, 22.0, 53.0, 22.0, 52.0, 52.0, 52.0, 21.0, 30.0, 58.0, 29.0, 58.0, 29.0, 59.0, 29.0, 57.0, 36.0, 64.0, 35.0, 64.0, 35.0, 64.0, 35.0, 64.0, 35.0, 69.0, 40.0, 68.0, 33.0, 61.0, 32.0, 60.0, 31.0, 60.0, 31.0, 63.0, 37.0, 64.0, 37.0, 65.0, 36.0, 64.0, 36.0, 64.0, 64.0, 92.0, 64.0, 36.0, 64.0, 91.0, 64.0, 90.0, 118.0, 146.0, 63.0, 90.0, 118.0, 91.0, 118.0, 91.0, 118.0, 90.0, 118.0, 145.0, 118.0, 145.0, 502.0, 1601.0, 1423.0, 750.0, 492.0, 522.0, 551.0, 523.0, 552.0, 530.0, 639.0, 639.0, 1099.0, 5931.0, 1750.0, 1970.0, 4512.0, 13291.0, 9355.0, 7680.0, 4340.0, 3842.0, 3571.0, 3881.0, 3597.0, 3749.0, 3460.0, 3411.0, 2573.0, 2326.0, 2327.0, 3067.0, 2839.0, 4002.0, 3901.0, 4434.0, 5315.0, 7105.0, 13449.0, 17555.0, 13615.0, 9871.0, 6659.0, 5540.0, 4554.0, 4120.0, 3872.0, 4340.0, 4346.0, 3439.0, 3224.0, 3051.0, 2604.0, 3257.0, 4405.0, 7039.0, 8111.0, 5921.0, 3635.0, 3463.0, 3565.0, 3574.0, 2625.0, 2989.0, 2888.0, 3040.0, 3057.0, 2947.0, 2572.0, 4071.0, 7447.0, 7870.0, 8369.0, 7264.0, 5266.0, 3573.0, 3859.0, 7062.0, 10595.0, 14930.0, 12195.0, 8775.0, 4419.0, 3859.0, 4511.0, 4084.0, 6007.0, 4547.0, 3264.0, 3006.0, 3909.0, 2684.0, 2298.0, 1975.0, 1782.0, 2127.0, 2325.0, 4479.0, 12796.0, 18922.0, 19844.0, 15765.0, 10296.0, 8163.0, 6899.0, 4399.0, 3733.0, 3473.0, 3585.0, 3383.0, 2544.0, 2392.0, 2433.0, 2769.0, 2217.0, 2158.0, 1952.0, 2460.0, 1911.0, 1569.0, 1774.0, 1568.0, 2949.0, 2042.0, 1725.0, 1935.0, 1447.0, 1308.0, 1308.0, 1510.0, 1002.0, 785.0, 640.0, 672.0, 650.0, 587.0, 624.0, 623.0, 631.0, 2683.0, 1258.0, 991.0, 503.0, 556.0, 486.0, 485.0, 415.0, 424.0, 416.0, 602.0, 670.0, 633.0, 533.0, 464.0, 396.0, 327.0, 259.0, 258.0, 190.0, 189.0, 189.0, 258.0, 665.0, 1209.0, 500.0, 282.0, 281.0, 215.0, 214.0, 220.0, 203.0, 202.0, 207.0, 489.0, 809.0, 529.0, 249.0, 184.0, 184.0, 120.0, 120.0, 121.0, 120.0, 125.0, 124.0, 125.0, 124.0, 125.0, 111.0, 110.0, 138.0, 138.0, 144.0, 147.0, 148.0, 146.0, 151.0, 136.0, 135.0, 155.0, 93.0, 92.0, 130.0, 259.0, 219.0, 248.0, 196.0, 191.0, 215.0, 214.0, 163.0, 194.0, 171.0, 171.0, 171.0, 170.0, 119.0, 121.0, 121.0, 121.0, 121.0, 121.0, 121.0, 121.0, 118.0, 118.0, 110.0, 110.0, 112.0, 101.0, 91.0, 108.0, 83.0, 115.0, 118.0, 118.0, 91.0, 90.0, 89.0, 88.0, 88.0, 87.0, 100.0, 86.0, 67.0, 67.0, 66.0, 66.0, 65.0, 83.0, 87.0, 87.0, 86.0, 86.0, 85.0, 85.0, 54.0, 60.0, 60.0, 60.0, 58.0, 60.0, 59.0, 59.0, 40.0, 57.0, 59.0, 55.0, 52.0, 51.0, 46.0, 50.0, 59.0, 60.0, 45.0, 32.0, 41.0, 28.0, 17.0, 103.0, 140.0, 140.0, 198.0, 210.0, 245.0, 280.0, 257.0, 287.0, 252.0, 251.0, 254.0, 230.0, 229.0, 163.0, 120.0, 121.0, 89.0, 114.0, 159.0, 186.0, 186.0, 168.0, 140.0, 299.0, 518.0, 299.0, 562.0, 638.0, 433.0, 126.0, 117.0, 120.0, 119.0, 116.0, 106.0, 108.0, 105.0, 111.0, 97.0, 100.0, 98.0, 97.0, 123.0, 139.0, 165.0, 140.0, 169.0, 139.0, 157.0, 156.0, 141.0, 122.0, 141.0, 161.0, 180.0, 177.0, 176.0, 180.0, 200.0, 199.0, 513.0, 533.0, 470.0, 454.0, 540.0, 1269.0, 1255.0, 1202.0, 1237.0, 1283.0, 1111.0, 1251.0, 2567.0, 2705.0, 3128.0, 15097.0, 16573.0, 16184.0, 10738.0, 4806.0, 3906.0, 5142.0, 6746.0, 7429.0, 8165.0, 7398.0, 5887.0, 6431.0, 10875.0, 8109.0, 7218.0, 5875.0, 5250.0, 6650.0, 4647.0, 4583.0, 3237.0, 3264.0, 4022.0, 4992.0, 5701.0, 5246.0, 4638.0, 4192.0, 3674.0, 3517.0, 4390.0, 4452.0, 4639.0, 3580.0, 3892.0, 3268.0, 3310.0, 4756.0, 6456.0, 4885.0, 5136.0, 4822.0, 4506.0, 3813.0, 3882.0, 3882.0, 6144.0, 5702.0, 5827.0, 7735.0, 10802.0, 8444.0, 6011.0, 4271.0, 3590.0, 3365.0, 3496.0, 3052.0, 3052.0, 2736.0, 3002.0, 3172.0, 3507.0, 3026.0, 2715.0, 2841.0, 1987.0, 1464.0, 1213.0, 1334.0, 1341.0, 1229.0, 901.0, 941.0, 765.0, 636.0, 636.0, 1427.0, 1345.0, 1710.0, 1981.0, 2087.0, 2270.0, 1996.0, 1539.0, 1595.0, 1657.0, 1673.0, 1617.0, 1560.0, 2018.0, 1789.0, 2168.0, 1642.0, 1272.0, 1155.0, 825.0, 809.0, 811.0, 792.0, 776.0, 788.0, 794.0, 776.0, 666.0, 782.0, 782.0, 1375.0, 1000.0, 733.0, 625.0, 640.0, 586.0, 476.0, 529.0, 476.0, 422.0, 439.0, 418.0, 433.0, 389.0, 371.0, 344.0, 317.0, 522.0, 870.0, 973.0, 665.0, 614.0, 665.0, 592.0, 485.0, 452.0, 421.0, 410.0, 417.0, 386.0, 335.0, 350.0, 306.0, 355.0, 306.0, 355.0, 257.0, 306.0, 293.0, 259.0, 210.0, 259.0, 238.0, 213.0, 202.0, 209.0, 159.0, 191.0, 155.0, 204.0, 155.0, 204.0, 167.0, 172.0, 219.0, 155.0, 176.0, 223.0, 176.0, 223.0, 175.0, 270.0, 212.0, 176.0, 187.0, 141.0, 187.0, 141.0, 186.0, 141.0, 186.0, 140.0, 185.0, 140.0, 185.0, 147.0, 152.0, 108.0, 309.0, 245.0, 245.0, 245.0, 245.0, 309.0, 246.0, 245.0, 245.0, 182.0, 182.0, 253.0, 190.0, 190.0, 126.0, 126.0, 126.0, 190.0, 126.0, 126.0, 189.0, 126.0, 126.0, 126.0, 126.0, 159.0, 119.0, 141.0, 127.0, 126.0, 103.0, 126.0, 149.0, 103.0, 107.0, 116.0, 117.0, 139.0, 145.0, 125.0, 128.0, 444.0, 132.0, 128.0, 119.0, 305.0, 305.0, 586.0, 221.0, 182.0, 123.0, 127.0, 126.0, 188.0, 158.0, 158.0, 96.0, 95.0, 95.0, 95.0, 95.0, 95.0, 95.0, 97.0, 110.0, 128.0, 128.0, 122.0, 75.0, 75.0, 122.0, 86.0, 85.0, 101.0, 101.0, 324.0, 215.0, 98.0, 305.0, 698.0, 870.0, 756.0, 584.0, 527.0, 355.0, 241.0, 242.0, 346.0, 206.0, 149.0, 208.0, 174.0, 231.0, 129.0, 289.0, 121.0, 120.0, 130.0, 297.0, 244.0, 159.0, 104.0, 158.0, 103.0, 102.0, 231.0, 1195.0, 337.0, 122.0, 122.0, 122.0, 1353.0, 2158.0, 2533.0, 1462.0, 1891.0, 2642.0, 1958.0, 1277.0, 683.0, 370.0, 315.0, 315.0, 261.0, 387.0, 341.0, 1387.0, 1387.0, 1491.0, 1334.0, 654.0, 405.0, 354.0, 373.0, 578.0, 422.0, 371.0, 322.0, 233.0, 344.0, 344.0, 495.0, 445.0, 243.0, 142.0, 192.0, 142.0, 1912.0, 1659.0, 2119.0, 7934.0, 13109.0, 15459.0, 18795.0, 19190.0, 21809.0, 32738.0, 25991.0, 20136.0, 13423.0, 10018.0, 5201.0, 3702.0, 3246.0, 3208.0, 2755.0, 2255.0, 2037.0, 3198.0, 3968.0, 3247.0, 4966.0, 5387.0, 4683.0, 3226.0, 3263.0, 3400.0, 5982.0, 15166.0, 18314.0, 16728.0, 12647.0, 8430.0, 9543.0, 8324.0, 6687.0, 5267.0, 5058.0, 4288.0, 4541.0, 2842.0, 1704.0, 1400.0, 1500.0, 1825.0, 1931.0, 1931.0, 2562.0, 1670.0, 3110.0, 3184.0, 1871.0, 2561.0, 5720.0, 5640.0, 4485.0, 4166.0, 4054.0, 3453.0, 4023.0, 3685.0, 2149.0, 2514.0, 3648.0, 4253.0, 2983.0, 2439.0, 1966.0, 1770.0, 1341.0, 1278.0, 778.0, 768.0, 878.0, 794.0, 807.0, 995.0, 1285.0, 2591.0, 2156.0, 6081.0, 3700.0, 2939.0, 2496.0, 2179.0, 1925.0, 1033.0, 873.0, 2124.0, 1934.0, 1978.0, 2914.0, 2052.0, 1876.0, 1536.0, 893.0, 929.0, 2483.0, 2127.0, 1755.0, 5638.0, 3810.0, 2260.0, 2361.0, 1718.0, 1191.0, 957.0, 1954.0, 3554.0, 3442.0, 4140.0, 3314.0, 2348.0, 1624.0, 1261.0, 3358.0, 2106.0, 1684.0, 1684.0, 1623.0, 1442.0, 1045.0, 875.0, 774.0, 598.0, 598.0, 571.0, 514.0, 456.0, 457.0, 490.0, 657.0, 657.0, 541.0, 440.0, 1210.0, 1374.0, 2250.0, 2568.0, 1776.0, 1446.0, 1223.0, 1279.0, 1335.0, 1223.0, 1447.0, 2563.0, 1949.0, 1368.0, 1087.0, 696.0, 640.0, 753.0, 1702.0, 1591.0, 1144.0, 1312.0, 1211.0, 1255.0, 1155.0, 748.0, 698.0, 730.0, 617.0, 614.0, 614.0, 677.0, 655.0, 637.0, 626.0, 626.0, 733.0, 673.0, 650.0, 628.0, 587.0, 545.0, 699.0, 802.0, 699.0, 750.0, 648.0, 596.0, 596.0, 545.0, 545.0, 545.0, 544.0, 511.0, 511.0, 460.0, 460.0, 460.0, 408.0, 1089.0, 1927.0, 5417.0, 6779.0, 7829.0, 16255.0, 20580.0, 21453.0, 20744.0, 20186.0, 23805.0, 17085.0, 25338.0, 28086.0, 28640.0, 34872.0, 35159.0, 32565.0, 25842.0, 14574.0, 14090.0, 12820.0, 12576.0, 21679.0, 33467.0, 33358.0, 27805.0, 25948.0, 28080.0, 33248.0, 33351.0, 28007.0, 22220.0, 14540.0, 13047.0, 17937.0, 12369.0, 10060.0, 10003.0, 6112.0, 4804.0, 5833.0, 5452.0, 4145.0, 4844.0, 7384.0, 7151.0, 4177.0, 3089.0, 2581.0, 2500.0, 3451.0, 4612.0, 9052.0, 15007.0, 21873.0, 19565.0, 15622.0, 11741.0, 13347.0, 7100.0, 8649.0, 7721.0, 7262.0, 6660.0, 5460.0, 4305.0, 3461.0, 3461.0, 3386.0, 2597.0, 2747.0, 2296.0, 3800.0, 3786.0, 2713.0, 2447.0, 4556.0, 6263.0, 4104.0, 3623.0, 3681.0, 2703.0, 4406.0, 4206.0, 3457.0, 3332.0, 1827.0, 1827.0, 2804.0, 2804.0, 1826.0, 2485.0, 2576.0, 2140.0, 3519.0, 2140.0, 1918.0, 1522.0, 1739.0, 1909.0, 1829.0, 2409.0, 2336.0, 2263.0, 1788.0, 1438.0, 1927.0, 3393.0, 4314.0, 3360.0, 2562.0, 1972.0, 2420.0, 1484.0, 1298.0, 983.0, 1052.0, 982.0, 842.0, 792.0, 734.0, 597.0, 658.0, 567.0, 567.0, 1033.0, 1033.0, 517.0, 463.0, 444.0, 1081.0, 646.0, 337.0, 337.0, 284.0, 307.0, 296.0, 323.0, 337.0, 335.0, 272.0, 284.0, 261.0, 274.0, 287.0, 287.0, 297.0, 296.0, 371.0, 358.0, 317.0, 377.0, 448.0, 448.0, 1354.0, 3317.0, 2050.0, 3876.0, 4237.0, 4837.0, 3735.0, 3174.0, 1871.0, 1060.0, 871.0, 432.0, 306.0, 306.0, 306.0, 306.0, 369.0, 306.0, 306.0, 369.0, 369.0, 126.0, 126.0, 125.0, 125.0, 125.0, 125.0, 125.0, 125.0, 98.0, 104.0, 104.0, 107.0, 107.0, 107.0, 374.0, 309.0, 373.0, 310.0, 308.0, 371.0, 372.0, 310.0, 375.0, 311.0, 375.0, 310.0, 374.0, 324.0, 388.0, 325.0, 389.0, 324.0, 389.0, 325.0, 388.0, 324.0, 261.0, 325.0, 261.0, 325.0, 260.0, 388.0, 325.0, 261.0, 327.0, 262.0, 334.0, 270.0, 334.0, 270.0, 334.0, 270.0, 334.0, 270.0, 262.0, 261.0, 198.0, 262.0, 197.0, 205.0, 141.0, 142.0, 141.0, 142.0, 141.0, 140.0, 141.0, 142.0, 133.0, 132.0, 109.0, 132.0, 151.0, 112.0, 115.0, 171.0, 260.0, 196.0, 201.0, 209.0, 210.0, 209.0, 215.0, 159.0, 183.0, 181.0, 180.0, 119.0, 122.0, 161.0, 136.0, 135.0, 136.0, 196.0, 197.0, 134.0, 195.0, 319.0, 270.0, 210.0, 149.0, 148.0, 147.0, 171.0, 110.0, 147.0, 110.0, 109.0, 167.0, 108.0, 132.0, 252.0, 366.0, 339.0, 483.0, 140.0, 254.0, 323.0, 211.0, 155.0, 154.0, 210.0, 154.0, 153.0, 154.0, 102.0, 113.0, 138.0, 137.0, 135.0, 110.0, 329.0, 116.0, 606.0, 123.0, 122.0, 147.0, 254.0, 200.0, 253.0, 199.0, 247.0, 672.0, 881.0, 253.0, 262.0, 535.0, 278.0, 226.0, 208.0, 141.0, 114.0, 326.0, 380.0, 869.0, 287.0, 138.0, 146.0, 112.0, 110.0, 157.0, 109.0, 141.0, 165.0, 735.0, 687.0, 374.0, 572.0, 436.0, 374.0, 572.0, 436.0, 753.0, 980.0, 1026.0, 753.0, 3446.0, 1844.0, 641.0, 511.0, 909.0, 864.0, 999.0, 2451.0, 3329.0, 2399.0, 2019.0, 3104.0, 2212.0, 1499.0, 1146.0, 2066.0, 1543.0, 1163.0, 934.0, 773.0, 682.0, 681.0, 1225.0, 3222.0, 1907.0, 2847.0, 4997.0, 6315.0, 5992.0, 9045.0, 11324.0, 3250.0, 2875.0, 2754.0, 2729.0, 2476.0, 1862.0, 1719.0, 2084.0, 4459.0, 3115.0, 4331.0, 6133.0, 10564.0, 26056.0, 22912.0, 16112.0, 12546.0, 8732.0, 4782.0, 5154.0, 5480.0, 4597.0, 3960.0, 3265.0, 3265.0, 2248.0, 2473.0, 1646.0, 1420.0, 1242.0, 1241.0, 1166.0, 971.0, 1292.0, 1957.0, 2900.0, 1884.0, 2101.0, 2101.0, 2972.0, 4642.0, 2471.0, 2248.0, 3226.0, 5019.0, 6797.0, 5898.0, 5451.0, 3381.0, 3805.0, 3485.0, 4165.0, 12208.0, 28906.0, 26607.0, 15162.0, 14319.0, 5932.0, 4399.0, 3353.0, 2516.0, 2240.0, 2723.0, 1689.0, 1701.0, 1550.0, 1575.0, 1425.0, 1173.0, 947.0, 1172.0, 1097.0, 1632.0, 1967.0, 1725.0, 3329.0, 8136.0, 3193.0, 2451.0, 1648.0, 1274.0, 1048.0, 973.0, 972.0, 1047.0, 1138.0, 861.0, 770.0, 697.0, 478.0, 494.0, 489.0, 449.0, 409.0, 442.0, 434.0, 1001.0, 782.0, 526.0, 627.0, 1964.0, 975.0, 578.0, 546.0, 545.0, 485.0, 449.0, 463.0, 427.0, 413.0, 405.0, 553.0, 421.0, 446.0, 455.0, 439.0, 447.0, 408.0, 419.0, 437.0, 435.0, 437.0, 408.0, 411.0, 410.0, 396.0, 374.0, 384.0, 383.0, 574.0, 433.0, 492.0, 820.0, 813.0, 754.0, 584.0, 547.0, 488.0, 513.0, 503.0], \"yaxis\": \"y\"}],\n",
              "                        {\"legend\": {\"tracegroupgap\": 0}, \"margin\": {\"t\": 60}, \"template\": {\"data\": {\"bar\": [{\"error_x\": {\"color\": \"#2a3f5f\"}, \"error_y\": {\"color\": \"#2a3f5f\"}, \"marker\": {\"line\": {\"color\": \"#E5ECF6\", \"width\": 0.5}}, \"type\": \"bar\"}], \"barpolar\": [{\"marker\": {\"line\": {\"color\": \"#E5ECF6\", \"width\": 0.5}}, \"type\": \"barpolar\"}], \"carpet\": [{\"aaxis\": {\"endlinecolor\": \"#2a3f5f\", \"gridcolor\": \"white\", \"linecolor\": \"white\", \"minorgridcolor\": \"white\", \"startlinecolor\": \"#2a3f5f\"}, \"baxis\": {\"endlinecolor\": \"#2a3f5f\", \"gridcolor\": \"white\", \"linecolor\": \"white\", \"minorgridcolor\": \"white\", \"startlinecolor\": \"#2a3f5f\"}, \"type\": \"carpet\"}], \"choropleth\": [{\"colorbar\": {\"outlinewidth\": 0, \"ticks\": \"\"}, \"type\": \"choropleth\"}], \"contour\": [{\"colorbar\": {\"outlinewidth\": 0, \"ticks\": \"\"}, \"colorscale\": [[0.0, \"#0d0887\"], [0.1111111111111111, \"#46039f\"], [0.2222222222222222, \"#7201a8\"], [0.3333333333333333, \"#9c179e\"], [0.4444444444444444, \"#bd3786\"], [0.5555555555555556, \"#d8576b\"], [0.6666666666666666, \"#ed7953\"], [0.7777777777777778, \"#fb9f3a\"], [0.8888888888888888, \"#fdca26\"], [1.0, \"#f0f921\"]], \"type\": \"contour\"}], \"contourcarpet\": [{\"colorbar\": {\"outlinewidth\": 0, \"ticks\": \"\"}, \"type\": \"contourcarpet\"}], \"heatmap\": [{\"colorbar\": {\"outlinewidth\": 0, \"ticks\": \"\"}, \"colorscale\": [[0.0, \"#0d0887\"], [0.1111111111111111, \"#46039f\"], [0.2222222222222222, \"#7201a8\"], [0.3333333333333333, \"#9c179e\"], [0.4444444444444444, \"#bd3786\"], [0.5555555555555556, \"#d8576b\"], [0.6666666666666666, \"#ed7953\"], [0.7777777777777778, \"#fb9f3a\"], [0.8888888888888888, \"#fdca26\"], [1.0, \"#f0f921\"]], \"type\": \"heatmap\"}], \"heatmapgl\": [{\"colorbar\": {\"outlinewidth\": 0, \"ticks\": \"\"}, \"colorscale\": [[0.0, \"#0d0887\"], [0.1111111111111111, \"#46039f\"], [0.2222222222222222, \"#7201a8\"], [0.3333333333333333, \"#9c179e\"], [0.4444444444444444, \"#bd3786\"], [0.5555555555555556, \"#d8576b\"], [0.6666666666666666, \"#ed7953\"], [0.7777777777777778, \"#fb9f3a\"], [0.8888888888888888, \"#fdca26\"], [1.0, \"#f0f921\"]], \"type\": \"heatmapgl\"}], \"histogram\": [{\"marker\": {\"colorbar\": {\"outlinewidth\": 0, \"ticks\": \"\"}}, \"type\": \"histogram\"}], \"histogram2d\": [{\"colorbar\": {\"outlinewidth\": 0, \"ticks\": \"\"}, \"colorscale\": [[0.0, \"#0d0887\"], [0.1111111111111111, \"#46039f\"], [0.2222222222222222, \"#7201a8\"], [0.3333333333333333, \"#9c179e\"], [0.4444444444444444, \"#bd3786\"], [0.5555555555555556, \"#d8576b\"], [0.6666666666666666, \"#ed7953\"], [0.7777777777777778, \"#fb9f3a\"], [0.8888888888888888, \"#fdca26\"], [1.0, \"#f0f921\"]], \"type\": \"histogram2d\"}], \"histogram2dcontour\": [{\"colorbar\": {\"outlinewidth\": 0, \"ticks\": \"\"}, \"colorscale\": [[0.0, \"#0d0887\"], [0.1111111111111111, \"#46039f\"], [0.2222222222222222, \"#7201a8\"], [0.3333333333333333, \"#9c179e\"], [0.4444444444444444, \"#bd3786\"], [0.5555555555555556, \"#d8576b\"], [0.6666666666666666, \"#ed7953\"], [0.7777777777777778, \"#fb9f3a\"], [0.8888888888888888, \"#fdca26\"], [1.0, \"#f0f921\"]], \"type\": \"histogram2dcontour\"}], \"mesh3d\": [{\"colorbar\": {\"outlinewidth\": 0, \"ticks\": \"\"}, \"type\": \"mesh3d\"}], \"parcoords\": [{\"line\": {\"colorbar\": {\"outlinewidth\": 0, \"ticks\": \"\"}}, \"type\": \"parcoords\"}], \"pie\": [{\"automargin\": true, \"type\": \"pie\"}], \"scatter\": [{\"marker\": {\"colorbar\": {\"outlinewidth\": 0, \"ticks\": \"\"}}, \"type\": \"scatter\"}], \"scatter3d\": [{\"line\": {\"colorbar\": {\"outlinewidth\": 0, \"ticks\": \"\"}}, \"marker\": {\"colorbar\": {\"outlinewidth\": 0, \"ticks\": \"\"}}, \"type\": \"scatter3d\"}], \"scattercarpet\": [{\"marker\": {\"colorbar\": {\"outlinewidth\": 0, \"ticks\": \"\"}}, \"type\": \"scattercarpet\"}], \"scattergeo\": [{\"marker\": {\"colorbar\": {\"outlinewidth\": 0, \"ticks\": \"\"}}, \"type\": \"scattergeo\"}], \"scattergl\": [{\"marker\": {\"colorbar\": {\"outlinewidth\": 0, \"ticks\": \"\"}}, \"type\": \"scattergl\"}], \"scattermapbox\": [{\"marker\": {\"colorbar\": {\"outlinewidth\": 0, \"ticks\": \"\"}}, \"type\": \"scattermapbox\"}], \"scatterpolar\": [{\"marker\": {\"colorbar\": {\"outlinewidth\": 0, \"ticks\": \"\"}}, \"type\": \"scatterpolar\"}], \"scatterpolargl\": [{\"marker\": {\"colorbar\": {\"outlinewidth\": 0, \"ticks\": \"\"}}, \"type\": \"scatterpolargl\"}], \"scatterternary\": [{\"marker\": {\"colorbar\": {\"outlinewidth\": 0, \"ticks\": \"\"}}, \"type\": \"scatterternary\"}], \"surface\": [{\"colorbar\": {\"outlinewidth\": 0, \"ticks\": \"\"}, \"colorscale\": [[0.0, \"#0d0887\"], [0.1111111111111111, \"#46039f\"], [0.2222222222222222, \"#7201a8\"], [0.3333333333333333, \"#9c179e\"], [0.4444444444444444, \"#bd3786\"], [0.5555555555555556, \"#d8576b\"], [0.6666666666666666, \"#ed7953\"], [0.7777777777777778, \"#fb9f3a\"], [0.8888888888888888, \"#fdca26\"], [1.0, \"#f0f921\"]], \"type\": \"surface\"}], \"table\": [{\"cells\": {\"fill\": {\"color\": \"#EBF0F8\"}, \"line\": {\"color\": \"white\"}}, \"header\": {\"fill\": {\"color\": \"#C8D4E3\"}, \"line\": {\"color\": \"white\"}}, \"type\": \"table\"}]}, \"layout\": {\"annotationdefaults\": {\"arrowcolor\": \"#2a3f5f\", \"arrowhead\": 0, \"arrowwidth\": 1}, \"coloraxis\": {\"colorbar\": {\"outlinewidth\": 0, \"ticks\": \"\"}}, \"colorscale\": {\"diverging\": [[0, \"#8e0152\"], [0.1, \"#c51b7d\"], [0.2, \"#de77ae\"], [0.3, \"#f1b6da\"], [0.4, \"#fde0ef\"], [0.5, \"#f7f7f7\"], [0.6, \"#e6f5d0\"], [0.7, \"#b8e186\"], [0.8, \"#7fbc41\"], [0.9, \"#4d9221\"], [1, \"#276419\"]], \"sequential\": [[0.0, \"#0d0887\"], [0.1111111111111111, \"#46039f\"], [0.2222222222222222, \"#7201a8\"], [0.3333333333333333, \"#9c179e\"], [0.4444444444444444, \"#bd3786\"], [0.5555555555555556, \"#d8576b\"], [0.6666666666666666, \"#ed7953\"], [0.7777777777777778, \"#fb9f3a\"], [0.8888888888888888, \"#fdca26\"], [1.0, \"#f0f921\"]], \"sequentialminus\": [[0.0, \"#0d0887\"], [0.1111111111111111, \"#46039f\"], [0.2222222222222222, \"#7201a8\"], [0.3333333333333333, \"#9c179e\"], [0.4444444444444444, \"#bd3786\"], [0.5555555555555556, \"#d8576b\"], [0.6666666666666666, \"#ed7953\"], [0.7777777777777778, \"#fb9f3a\"], [0.8888888888888888, \"#fdca26\"], [1.0, \"#f0f921\"]]}, \"colorway\": [\"#636efa\", \"#EF553B\", \"#00cc96\", \"#ab63fa\", \"#FFA15A\", \"#19d3f3\", \"#FF6692\", \"#B6E880\", \"#FF97FF\", \"#FECB52\"], \"font\": {\"color\": \"#2a3f5f\"}, \"geo\": {\"bgcolor\": \"white\", \"lakecolor\": \"white\", \"landcolor\": \"#E5ECF6\", \"showlakes\": true, \"showland\": true, \"subunitcolor\": \"white\"}, \"hoverlabel\": {\"align\": \"left\"}, \"hovermode\": \"closest\", \"mapbox\": {\"style\": \"light\"}, \"paper_bgcolor\": \"white\", \"plot_bgcolor\": \"#E5ECF6\", \"polar\": {\"angularaxis\": {\"gridcolor\": \"white\", \"linecolor\": \"white\", \"ticks\": \"\"}, \"bgcolor\": \"#E5ECF6\", \"radialaxis\": {\"gridcolor\": \"white\", \"linecolor\": \"white\", \"ticks\": \"\"}}, \"scene\": {\"xaxis\": {\"backgroundcolor\": \"#E5ECF6\", \"gridcolor\": \"white\", \"gridwidth\": 2, \"linecolor\": \"white\", \"showbackground\": true, \"ticks\": \"\", \"zerolinecolor\": \"white\"}, \"yaxis\": {\"backgroundcolor\": \"#E5ECF6\", \"gridcolor\": \"white\", \"gridwidth\": 2, \"linecolor\": \"white\", \"showbackground\": true, \"ticks\": \"\", \"zerolinecolor\": \"white\"}, \"zaxis\": {\"backgroundcolor\": \"#E5ECF6\", \"gridcolor\": \"white\", \"gridwidth\": 2, \"linecolor\": \"white\", \"showbackground\": true, \"ticks\": \"\", \"zerolinecolor\": \"white\"}}, \"shapedefaults\": {\"line\": {\"color\": \"#2a3f5f\"}}, \"ternary\": {\"aaxis\": {\"gridcolor\": \"white\", \"linecolor\": \"white\", \"ticks\": \"\"}, \"baxis\": {\"gridcolor\": \"white\", \"linecolor\": \"white\", \"ticks\": \"\"}, \"bgcolor\": \"#E5ECF6\", \"caxis\": {\"gridcolor\": \"white\", \"linecolor\": \"white\", \"ticks\": \"\"}}, \"title\": {\"x\": 0.05}, \"xaxis\": {\"automargin\": true, \"gridcolor\": \"white\", \"linecolor\": \"white\", \"ticks\": \"\", \"title\": {\"standoff\": 15}, \"zerolinecolor\": \"white\", \"zerolinewidth\": 2}, \"yaxis\": {\"automargin\": true, \"gridcolor\": \"white\", \"linecolor\": \"white\", \"ticks\": \"\", \"title\": {\"standoff\": 15}, \"zerolinecolor\": \"white\", \"zerolinewidth\": 2}}}, \"xaxis\": {\"anchor\": \"y\", \"domain\": [0.0, 1.0], \"rangeslider\": {\"visible\": true}, \"title\": {\"text\": \"FLOW_DATE\"}}, \"yaxis\": {\"anchor\": \"x\", \"domain\": [0.0, 1.0], \"title\": {\"text\": \"INFLOW_CUSECS\"}}},\n",
              "                        {\"responsive\": true}\n",
              "                    ).then(function(){\n",
              "                            \n",
              "var gd = document.getElementById('bb4f584c-116c-4027-b670-c97fae1eee9b');\n",
              "var x = new MutationObserver(function (mutations, observer) {{\n",
              "        var display = window.getComputedStyle(gd).display;\n",
              "        if (!display || display === 'none') {{\n",
              "            console.log([gd, 'removed!']);\n",
              "            Plotly.purge(gd);\n",
              "            observer.disconnect();\n",
              "        }}\n",
              "}});\n",
              "\n",
              "// Listen for the removal of the full notebook cells\n",
              "var notebookContainer = gd.closest('#notebook-container');\n",
              "if (notebookContainer) {{\n",
              "    x.observe(notebookContainer, {childList: true});\n",
              "}}\n",
              "\n",
              "// Listen for the clearing of the current output cell\n",
              "var outputEl = gd.closest('.output');\n",
              "if (outputEl) {{\n",
              "    x.observe(outputEl, {childList: true});\n",
              "}}\n",
              "\n",
              "                        })\n",
              "                };\n",
              "                \n",
              "            </script>\n",
              "        </div>\n",
              "</body>\n",
              "</html>"
            ]
          },
          "metadata": {
            "tags": []
          }
        }
      ]
    },
    {
      "cell_type": "code",
      "metadata": {
        "id": "BvX0zOddCcSm"
      },
      "source": [
        "kabini_indexed['year'] = [x.year for x in kabini_indexed.index]"
      ],
      "execution_count": null,
      "outputs": []
    },
    {
      "cell_type": "code",
      "metadata": {
        "colab": {
          "base_uri": "https://localhost:8080/",
          "height": 542
        },
        "id": "VYmo-wuGBhu4",
        "outputId": "dbf9bcd8-9ef7-4236-fc4d-5edfdbbdf04f"
      },
      "source": [
        "fig = px.line(data_frame=kabini_indexed, y='INFLOW_CUSECS', color='year')\n",
        "fig.show()"
      ],
      "execution_count": null,
      "outputs": [
        {
          "output_type": "display_data",
          "data": {
            "text/html": [
              "<html>\n",
              "<head><meta charset=\"utf-8\" /></head>\n",
              "<body>\n",
              "    <div>\n",
              "            <script src=\"https://cdnjs.cloudflare.com/ajax/libs/mathjax/2.7.5/MathJax.js?config=TeX-AMS-MML_SVG\"></script><script type=\"text/javascript\">if (window.MathJax) {MathJax.Hub.Config({SVG: {font: \"STIX-Web\"}});}</script>\n",
              "                <script type=\"text/javascript\">window.PlotlyConfig = {MathJaxConfig: 'local'};</script>\n",
              "        <script src=\"https://cdn.plot.ly/plotly-latest.min.js\"></script>    \n",
              "            <div id=\"14ae20c5-f14f-4331-adec-b1afedccef75\" class=\"plotly-graph-div\" style=\"height:525px; width:100%;\"></div>\n",
              "            <script type=\"text/javascript\">\n",
              "                \n",
              "                    window.PLOTLYENV=window.PLOTLYENV || {};\n",
              "                    \n",
              "                if (document.getElementById(\"14ae20c5-f14f-4331-adec-b1afedccef75\")) {\n",
              "                    Plotly.newPlot(\n",
              "                        '14ae20c5-f14f-4331-adec-b1afedccef75',\n",
              "                        [{\"hoverlabel\": {\"namelength\": 0}, \"hovertemplate\": \"year=2011<br>INFLOW_CUSECS=%{y}\", \"legendgroup\": \"year=2011\", \"line\": {\"color\": \"#636efa\", \"dash\": \"solid\"}, \"mode\": \"lines\", \"name\": \"year=2011\", \"showlegend\": true, \"type\": \"scattergl\", \"xaxis\": \"x\", \"y\": [252.0, 318.0, 252.0, 252.0, 252.0, 252.0, 186.0, 186.0, 225.0, 148.0, 150.0, 125.0, 125.0, 128.0, 128.0, 139.0, 123.0, 123.0, 123.0, 123.0, 123.0, 123.0, 119.0, 114.0, 114.0, 133.0, 134.0, 138.0, 138.0, 138.0, 115.0, 102.0, 102.0, 101.0, 101.0, 101.0, 114.0, 341.0, 345.0, 170.0, 137.0, 107.0, 102.0, 102.0, 102.0, 127.0, 127.0, 102.0, 98.0, 102.0, 103.0, 70.0, 83.0, 82.0, 82.0, 83.0, 54.0, 53.0, 52.0, 46.0, 61.0, 61.0, 67.0, 47.0, 46.0, 44.0, 44.0, 44.0, 44.0, 43.0, 39.0, 35.0, 69.0, 45.0, 48.0, 39.0, 45.0, 58.0, 633.0, 230.0, 69.0, 10.0, 55.0, 54.0, 73.0, 91.0, 91.0, 90.0, 109.0, 717.0, 869.0, 1566.0, 866.0, 2105.0, 5128.0, 2602.0, 2471.0, 817.0, 556.0, 311.0, 184.0, 353.0, 257.0, 153.0, 120.0, 277.0, 206.0, 208.0, 179.0, 172.0, 176.0, 128.0, 118.0, 117.0, 145.0, 110.0, 218.0, 147.0, 130.0, 105.0, 573.0, 210.0, 210.0, 210.0, 210.0, 210.0, 210.0, 210.0, 585.0, 309.0, 107.0, 242.0, 245.0, 118.0, 1891.0, 7205.0, 6206.0, 6356.0, 4214.0, 3007.0, 2668.0, 2530.0, 2140.0, 3616.0, 3742.0, 4191.0, 6198.0, 5503.0, 3765.0, 7372.0, 16792.0, 17123.0, 9764.0, 4795.0, 2759.0, 2243.0, 2759.0, 4567.0, 6022.0, 9150.0, 13434.0, 10391.0, 5718.0, 3998.0, 3603.0, 2945.0, 2208.0, 1835.0, 1953.0, 2068.0, 8744.0, 13748.0, 22075.0, 23839.0, 21117.0, 16984.0, 15786.0, 15512.0, 15649.0, 15786.0, 17637.0, 15376.0, 9183.0, 5294.0, 4462.0, 2165.0, 2302.0, 2003.0, 4000.0, 5418.0, 7439.0, 11797.0, 17963.0, 15416.0, 13152.0, 10452.0, 8995.0, 7033.0, 6702.0, 8352.0, 7001.0, 5121.0, 4958.0, 2554.0, 5282.0, 4741.0, 3557.0, 6366.0, 4633.0, 4524.0, 3771.0, 3964.0, 4186.0, 6645.0, 6565.0, 7513.0, 12475.0, 20239.0, 28053.0, 25592.0, 26780.0, 23752.0, 14000.0, 11273.0, 10803.0, 7449.0, 570.0, 570.0, 635.0, 506.0, 506.0, 7333.0, 7333.0, 7333.0, 6280.0, 4699.0, 5375.0, 6126.0, 506.0, 506.0, 506.0, 506.0, 506.0, 442.0, 377.0, 8533.0, 4811.0, 3615.0, 3064.0, 2877.0, 2586.0, 2352.0, 377.0, 313.0, 313.0, 250.0, 252.0, 317.0, 317.0, 1720.0, 1628.0, 1627.0, 1347.0, 1067.0, 1066.0, 1007.0, 800.0, 777.0, 709.0, 716.0, 583.0, 678.0, 701.0, 701.0, 710.0, 972.0, 1291.0, 1547.0, 1432.0, 1594.0, 3051.0, 2851.0, 1520.0, 1140.0, 1496.0, 1500.0, 1200.0, 1460.0, 1245.0, 2256.0, 4115.0, 2947.0, 3010.0, 1942.0, 1659.0, 1219.0, 1219.0, 1946.0, 1184.0, 1836.0, 2896.0, 2710.0, 1899.0, 3940.0, 2648.0, 1037.0, 722.0, 601.0, 485.0, 364.0, 307.0, 260.0, 198.0, 137.0, 124.0, 135.0, 134.0, 188.0, 174.0, 157.0, 156.0, 188.0, 231.0, 745.0, 821.0, 1131.0, 894.0, 1411.0, 945.0, 1180.0, 1068.0, 1012.0, 939.0, 939.0, 925.0, 925.0, 925.0, 925.0, 918.0, 924.0, 925.0, 925.0, 868.0, 868.0, 805.0, 568.0, 511.0, 454.0, 174.0, 454.0, 454.0, 455.0, 455.0, 455.0, 455.0, 455.0, 398.0, 398.0], \"yaxis\": \"y\"}, {\"hoverlabel\": {\"namelength\": 0}, \"hovertemplate\": \"year=2012<br>INFLOW_CUSECS=%{y}\", \"legendgroup\": \"year=2012\", \"line\": {\"color\": \"#EF553B\", \"dash\": \"solid\"}, \"mode\": \"lines\", \"name\": \"year=2012\", \"showlegend\": true, \"type\": \"scattergl\", \"xaxis\": \"x\", \"y\": [520.0, 72.0, 99.0, 67.0, 74.0, 74.0, 99.0, 407.0, 214.0, 74.0, 73.0, 56.0, 381.0, 268.0, 995.0, 542.0, 345.0, 231.0, 5724.0, 3807.0, 3247.0, 995.0, 2122.0, 1605.0, 1167.0, 4000.0, 2465.0, 1056.0, 1168.0, 879.0, 889.0, 2597.0, 2473.0, 2997.0, 5838.0, 5770.0, 3667.0, 2748.0, 1861.0, 3976.0, 1970.0, 2099.0, 1845.0, 1842.0, 2177.0, 3356.0, 1718.0, 1343.0, 1801.0, 2107.0, 1558.0, 1451.0, 2327.0, 5527.0, 5855.0, 4723.0, 3598.0, 7877.0, 6911.0, 5523.0, 3478.0, 1971.0, 5204.0, 1919.0, 2854.0, 1920.0, 2744.0, 4224.0, 13079.0, 19256.0, 17373.0, 17011.0, 13572.0, 12988.0, 13735.0, 12546.0, 4645.0, 3704.0, 3567.0, 3815.0, 3404.0, 2925.0, 2033.0, 1638.0, 1450.0, 1383.0, 1316.0, 1467.0, 1467.0, 2513.0, 2964.0, 4575.0, 8235.0, 8235.0, 8550.0, 6083.0, 7659.0, 9869.0, 9962.0, 8017.0, 7947.0, 7223.0, 7571.0, 13788.0, 9664.0, 8748.0, 7422.0, 7684.0, 7633.0, 7109.0, 5649.0, 5649.0, 3789.0, 2552.0, 2049.0, 2049.0, 1787.0, 1497.0, 1322.0, 1322.0, 1575.0, 1830.0, 1597.0, 1569.0, 1977.0, 2828.0, 2056.0, 1302.0, 1108.0, 957.0, 827.0, 970.0, 998.0, 1927.0, 800.0, 854.0, 1182.0, 1817.0, 2407.0, 1425.0, 1143.0, 699.0, 708.0, 780.0, 1460.0, 989.0, 884.0, 674.0, 544.0, 647.0, 698.0, 819.0, 1416.0, 1849.0, 4979.0, 2508.0, 730.0, 867.0, 932.0, 1394.0, 1205.0, 878.0, 750.0, 1490.0, 925.0, 786.0, 788.0, 754.0, 754.0, 753.0, 652.0, 837.0, 616.0, 630.0, 630.0, 629.0, 607.0, 860.0, 944.0, 807.0, 607.0, 524.0, 418.0, 282.0, 326.0, 331.0, 298.0, 373.0, 813.0, 629.0, 409.0, 379.0, 181.0, 181.0, 197.0, 187.0, 198.0, 195.0, 195.0, 193.0, 172.0, 176.0, 158.0, 158.0, 147.0, 166.0, 155.0, 151.0, 151.0, 175.0, 155.0, 153.0, 151.0, 151.0, 151.0], \"yaxis\": \"y\"}, {\"hoverlabel\": {\"namelength\": 0}, \"hovertemplate\": \"year=2014<br>INFLOW_CUSECS=%{y}\", \"legendgroup\": \"year=2014\", \"line\": {\"color\": \"#00cc96\", \"dash\": \"solid\"}, \"mode\": \"lines\", \"name\": \"year=2014\", \"showlegend\": true, \"type\": \"scattergl\", \"xaxis\": \"x\", \"y\": [306.0, 367.0, 306.0, 306.0, 369.0, 306.0, 306.0, 306.0, 306.0, 306.0, 306.0, 306.0, 243.0, 243.0, 243.0, 243.0, 243.0, 243.0, 243.0, 243.0, 243.0, 180.0, 180.0, 180.0, 181.0, 181.0, 181.0, 180.0, 118.0, 118.0, 118.0, 118.0, 118.0, 118.0, 118.0, 125.0, 181.0, 125.0, 125.0, 125.0, 188.0, 125.0, 125.0, 125.0, 125.0, 107.0, 132.0, 107.0, 132.0, 132.0, 132.0, 132.0, 79.0, 102.0, 137.0, 136.0, 136.0, 136.0, 102.0, 98.0, 96.0, 99.0, 98.0, 98.0, 71.0, 71.0, 72.0, 78.0, 78.0, 77.0, 77.0, 76.0, 76.0, 97.0, 98.0, 70.0, 86.0, 86.0, 56.0, 58.0, 58.0, 56.0, 56.0, 65.0, 79.0, 79.0, 60.0, 64.0, 60.0, 63.0, 42.0, 58.0, 76.0, 76.0, 52.0, 44.0, 41.0, 57.0, 117.0, 237.0, 183.0, 309.0, 416.0, 201.0, 522.0, 587.0, 399.0, 609.0, 1251.0, 885.0, 729.0, 152.0, 99.0, 99.0, 729.0, 94.0, 94.0, 94.0, 93.0, 760.0, 820.0, 1334.0, 800.0, 652.0, 854.0, 652.0, 601.0, 3549.0, 5484.0, 2107.0, 923.0, 714.0, 686.0, null, 308.0, 205.0, 205.0, 204.0, 820.0, 358.0, 313.0, 520.0, 166.0, 266.0, 165.0, 164.0, 131.0, 581.0, 1469.0, 720.0, 876.0, 593.0, 938.0, 712.0, 787.0, 592.0, 345.0, 433.0, 207.0, 370.0, 702.0, 845.0, 845.0, 1035.0, 892.0, 752.0, 754.0, 1071.0, 1309.0, 2254.0, 3723.0, 5171.0, 6461.0, 7251.0, 4822.0, 4147.0, 2855.0, 1780.0, 1955.0, 1772.0, 1893.0, 1625.0, 1952.0, 1505.0, 1114.0, 1438.0, 1201.0, 1201.0, 1089.0, 1927.0, 5417.0, 6779.0, 7829.0, 16255.0, 20580.0, 21453.0, 20744.0, 20186.0, 23805.0, 17085.0, 25338.0, 28086.0, 28640.0, 34872.0, 35159.0, 32565.0, 25842.0, 14574.0, 14090.0, 12820.0, 12576.0, 21679.0, 33467.0, 33358.0, 27805.0, 25948.0, 28080.0, 33248.0, 33351.0, 28007.0, 22220.0, 14540.0, 13047.0, 17937.0, 12369.0, 10060.0, 10003.0, 6112.0, 4804.0, 5833.0, 5452.0, 4145.0, 4844.0, 7384.0, 7151.0, 4177.0, 3089.0, 2581.0, 2500.0, 3451.0, 4612.0, 9052.0, 15007.0, 21873.0, 19565.0, 15622.0, 11741.0, 13347.0, 7100.0, 8649.0, 7721.0, 7262.0, 6660.0, 5460.0, 4305.0, 3461.0, 3461.0, 3386.0, 2597.0, 2747.0, 2296.0, 3800.0, 3786.0, 2713.0, 2447.0, 4556.0, 6263.0, 4104.0, 3623.0, 3681.0, 2703.0, 4406.0, 4206.0, 3457.0, 3332.0, 1827.0, 1827.0, 2804.0, 2804.0, 1826.0, 2485.0, 2576.0, 2140.0, 3519.0, 2140.0, 1918.0, 1522.0, 1739.0, 1909.0, 1829.0, 2409.0, 2336.0, 2263.0, 1788.0, 1438.0, 1927.0, 3393.0, 4314.0, 3360.0, 2562.0, 1972.0, 2420.0, 1484.0, 1298.0, 983.0, 1052.0, 982.0, 842.0, 792.0, 734.0, 597.0, 658.0, 567.0, 567.0, 1033.0, 1033.0, 517.0, 463.0, 444.0, 1081.0, 646.0, 337.0, 337.0, 284.0, 307.0, 296.0, 323.0, 337.0, 335.0, 272.0, 284.0, 261.0, 274.0, 287.0, 287.0, 297.0, 296.0, 371.0, 358.0, 317.0, 377.0, 448.0, 448.0, 1354.0, 3317.0, 2050.0, 3876.0, 4237.0, 4837.0, 3735.0, 3174.0, 1871.0, 1060.0, 871.0, 432.0, 306.0, 306.0, 306.0, 306.0, 369.0, 306.0, 306.0, 369.0, 369.0], \"yaxis\": \"y\"}, {\"hoverlabel\": {\"namelength\": 0}, \"hovertemplate\": \"year=2013<br>INFLOW_CUSECS=%{y}\", \"legendgroup\": \"year=2013\", \"line\": {\"color\": \"#ab63fa\", \"dash\": \"solid\"}, \"mode\": \"lines\", \"name\": \"year=2013\", \"showlegend\": true, \"type\": \"scattergl\", \"xaxis\": \"x\", \"y\": [1937.0, 2479.0, 3652.0, 2751.0, 5659.0, 9134.0, 14653.0, 15859.0, 15575.0, 9990.0, 13556.0, 11615.0, 8737.0, 10509.0, 17107.0, 28313.0, 35254.0, 32827.0, 25840.0, 10583.0, 5162.0, 3954.0, 6217.0, 22781.0, 42683.0, 36911.0, 31487.0, 29846.0, 24444.0, 15627.0, 12690.0, 15671.0, 15224.0, 14632.0, 15549.0, 11085.0, 15268.0, 16117.0, 15780.0, 29590.0, 33768.0, 24085.0, 23140.0, 20599.0, 22611.0, 30102.0, 31298.0, 27949.0, 27326.0, 18243.0, 19746.0, 30682.0, 43467.0, 4513.7, 35347.0, 23503.0, 26952.0, 20291.0, 17162.0, 9807.0, 8779.0, 7383.0, 6964.0, 6825.0, 5637.0, 5706.0, 5007.0, 4460.0, 4532.0, 4043.0, 3376.0, 2969.0, 3565.0, 3265.0, 3196.0, 2579.0, 3058.0, 1618.0, 2327.0, 2308.0, 1846.0, 2109.0, 2307.0, 2574.0, 2011.0, 2407.0, 2670.0, 3563.0, 2519.0, 2340.0, 2144.0, 3068.0, 2339.0, 2075.0, 2213.0, 3563.0, 2895.0, 2831.0, 8078.0, 3604.0, 4395.0, 6959.0, 6841.0, 9600.0, 12725.0, 2678.0, 2886.0, 2486.0, 2335.0, 1508.0, 1507.0, 1732.0, 1732.0, 1707.0, 1291.0, 1198.0, 907.0, 834.0, 1051.0, 1029.0, 1043.0, 1564.0, 1424.0, 1004.0, 864.0, 1073.0, 3651.0, 922.0, 784.0, 2261.0, 4129.0, 2347.0, 2524.0, 2260.0, 2764.0, 2078.0, 3056.0, 2777.0, 1901.0, 1342.0, 1202.0, 892.0, 837.0, 631.0, 476.0, 369.0, 236.0, 259.0, 222.0, 286.0, 258.0, 263.0, 263.0, 207.0, 218.0, 218.0, 223.0, 236.0, 269.0, 551.0, 1289.0, 1056.0, 661.0, 408.0, 767.0, 876.0, 1133.0, 1076.0, 660.0, 556.0, 846.0, 781.0, 971.0, 969.0, 657.0, 719.0, 969.0, 969.0, 657.0, 657.0, 657.0, 595.0, 657.0, 408.0, 657.0, 742.0, 492.0, 491.0, 429.0, 553.0, 242.0, 304.0, 304.0, 304.0, 305.0, 306.0, 306.0, 306.0, 306.0, 306.0, 369.0, 306.0, 126.0, 126.0, 125.0, 125.0, 125.0, 125.0, 125.0, 125.0, 98.0, 104.0, 104.0, 107.0, 107.0, 107.0], \"yaxis\": \"y\"}, {\"hoverlabel\": {\"namelength\": 0}, \"hovertemplate\": \"year=2010<br>INFLOW_CUSECS=%{y}\", \"legendgroup\": \"year=2010\", \"line\": {\"color\": \"#FFA15A\", \"dash\": \"solid\"}, \"mode\": \"lines\", \"name\": \"year=2010\", \"showlegend\": true, \"type\": \"scattergl\", \"xaxis\": \"x\", \"y\": [1007.0, 800.0], \"yaxis\": \"y\"}, {\"hoverlabel\": {\"namelength\": 0}, \"hovertemplate\": \"year=2015<br>INFLOW_CUSECS=%{y}\", \"legendgroup\": \"year=2015\", \"line\": {\"color\": \"#19d3f3\", \"dash\": \"solid\"}, \"mode\": \"lines\", \"name\": \"year=2015\", \"showlegend\": true, \"type\": \"scattergl\", \"xaxis\": \"x\", \"y\": [287.0, 306.0, 369.0, 369.0, 306.0, 369.0, 371.0, 309.0, 372.0, 372.0, 309.0, 309.0, 309.0, 309.0, 309.0, 309.0, 309.0, 245.0, 309.0, 309.0, 245.0, 309.0, 245.0, 245.0, 245.0, 245.0, 309.0, 246.0, 245.0, 245.0, 182.0, 182.0, 253.0, 190.0, 190.0, 126.0, 126.0, 126.0, 190.0, 126.0, 126.0, 189.0, 126.0, 126.0, 126.0, 126.0, 159.0, 119.0, 141.0, 127.0, 126.0, 103.0, 126.0, 149.0, 103.0, 107.0, 116.0, 117.0, 139.0, 145.0, 125.0, 128.0, 444.0, 132.0, 128.0, 119.0, 305.0, 305.0, 586.0, 221.0, 182.0, 123.0, 127.0, 126.0, 188.0, 158.0, 158.0, 96.0, 95.0, 95.0, 95.0, 95.0, 95.0, 95.0, 97.0, 110.0, 128.0, 128.0, 122.0, 75.0, 75.0, 122.0, 86.0, 85.0, 101.0, 101.0, 324.0, 215.0, 98.0, 305.0, 698.0, 870.0, 756.0, 584.0, 527.0, 355.0, 241.0, 242.0, 346.0, 206.0, 149.0, 208.0, 174.0, 231.0, 129.0, 289.0, 121.0, 120.0, 130.0, 297.0, 244.0, 159.0, 104.0, 158.0, 103.0, 102.0, 231.0, 1195.0, 337.0, 122.0, 122.0, 122.0, 1353.0, 2158.0, 2533.0, 1462.0, 1891.0, 2642.0, 1958.0, 1277.0, 683.0, 370.0, 315.0, 315.0, 261.0, 387.0, 341.0, 1387.0, 1387.0, 1491.0, 1334.0, 654.0, 405.0, 354.0, 373.0, 578.0, 422.0, 371.0, 322.0, 233.0, 344.0, 344.0, 495.0, 445.0, 243.0, 142.0, 192.0, 142.0, 1912.0, 1659.0, 2119.0, 7934.0, 13109.0, 15459.0, 18795.0, 19190.0, 21809.0, 32738.0, 25991.0, 20136.0, 13423.0, 10018.0, 5201.0, 3702.0, 3246.0, 3208.0, 2755.0, 2255.0, 2037.0, 3198.0, 3968.0, 3247.0, 4966.0, 5387.0, 4683.0, 3226.0, 3263.0, 3400.0, 5982.0, 15166.0, 18314.0, 16728.0, 12647.0, 8430.0, 9543.0, 8324.0, 6687.0, 5267.0, 5058.0, 4288.0, 4541.0, 2842.0, 1704.0, 1400.0, 1500.0, 1825.0, 1931.0, 1931.0, 2562.0, 1670.0, 3110.0, 3184.0, 1871.0, 2561.0, 5720.0, 5640.0, 4485.0, 4166.0, 4054.0, 3453.0, 4023.0, 3685.0, 2149.0, 2514.0, 3648.0, 4253.0, 2983.0, 2439.0, 1966.0, 1770.0, 1341.0, 1278.0, 778.0, 768.0, 878.0, 794.0, 807.0, 995.0, 1285.0, 2591.0, 2156.0, 6081.0, 3700.0, 2939.0, 2496.0, 2179.0, 1925.0, 1033.0, 873.0, 2124.0, 1934.0, 1978.0, 2914.0, 2052.0, 1876.0, 1536.0, 893.0, 929.0, 2483.0, 2127.0, 1755.0, 5638.0, 3810.0, 2260.0, 2361.0, 1718.0, 1191.0, 957.0, 1954.0, 3554.0, 3442.0, 4140.0, 3314.0, 2348.0, 1624.0, 1261.0, 3358.0, 2106.0, 1684.0, 1684.0, 1623.0, 1442.0, 1045.0, 875.0, 774.0, 598.0, 598.0, 571.0, 514.0, 456.0, 457.0, 490.0, 657.0, 657.0, 541.0, 440.0, 1210.0, 1374.0, 2250.0, 2568.0, 1776.0, 1446.0, 1223.0, 1279.0, 1335.0, 1223.0, 1447.0, 2563.0, 1949.0, 1368.0, 1087.0, 696.0, 640.0, 753.0, 1702.0, 1591.0, 1144.0, 1312.0, 1211.0, 1255.0, 1155.0, 748.0, 698.0, 730.0, 617.0, 614.0, 614.0, 677.0, 655.0, 637.0, 626.0, 626.0, 733.0, 673.0, 650.0, 628.0, 587.0, 545.0, 699.0, 802.0, 699.0, 750.0, 648.0, 596.0, 596.0, 545.0, 545.0, 545.0, 544.0, 511.0, 511.0, 460.0, 460.0, 460.0, 408.0], \"yaxis\": \"y\"}, {\"hoverlabel\": {\"namelength\": 0}, \"hovertemplate\": \"year=2016<br>INFLOW_CUSECS=%{y}\", \"legendgroup\": \"year=2016\", \"line\": {\"color\": \"#FF6692\", \"dash\": \"solid\"}, \"mode\": \"lines\", \"name\": \"year=2016\", \"showlegend\": true, \"type\": \"scattergl\", \"xaxis\": \"x\", \"y\": [409.0, 358.0, 358.0, 358.0, 358.0, 358.0, 358.0, 358.0, 358.0, 339.0, 299.0, 247.0, 247.0, 247.0, 247.0, 259.0, 259.0, 259.0, 259.0, 259.0, 208.0, 208.0, 208.0, 208.0, 208.0, 208.0, 259.0, 259.0, 259.0, 219.0, 248.0, 196.0, 191.0, 215.0, 214.0, 163.0, 194.0, 171.0, 171.0, 171.0, 170.0, 119.0, 121.0, 121.0, 121.0, 121.0, 121.0, 121.0, 121.0, 118.0, 118.0, 110.0, 110.0, 112.0, 101.0, 91.0, 108.0, 83.0, 115.0, 118.0, 118.0, 91.0, 90.0, 89.0, 88.0, 88.0, 87.0, 100.0, 86.0, 67.0, 67.0, 66.0, 66.0, 65.0, 83.0, 87.0, 87.0, 86.0, 86.0, 85.0, 85.0, 54.0, 60.0, 60.0, 60.0, 58.0, 60.0, 59.0, 59.0, 40.0, 57.0, 59.0, 55.0, 52.0, 51.0, 46.0, 50.0, 59.0, 60.0, 45.0, 32.0, 41.0, 28.0, 17.0, 103.0, 140.0, 140.0, 198.0, 210.0, 245.0, 280.0, 257.0, 287.0, 252.0, 251.0, 254.0, 230.0, 229.0, 163.0, 120.0, 121.0, 89.0, 114.0, 159.0, 186.0, 186.0, 168.0, 140.0, 299.0, 518.0, 299.0, 562.0, 638.0, 433.0, 126.0, 117.0, 120.0, 119.0, 116.0, 106.0, 108.0, 105.0, 111.0, 97.0, 100.0, 98.0, 97.0, 123.0, 139.0, 165.0, 140.0, 169.0, 139.0, 157.0, 156.0, 141.0, 122.0, 141.0, 161.0, 180.0, 177.0, 176.0, 180.0, 200.0, 199.0, 513.0, 533.0, 470.0, 454.0, 540.0, 1269.0, 1255.0, 1202.0, 1237.0, 1283.0, 1111.0, 1251.0, 2567.0, 2705.0, 3128.0, 15097.0, 16573.0, 16184.0, 10738.0, 4806.0, 3906.0, 5142.0, 6746.0, 7429.0, 8165.0, 7398.0, 5887.0, 6431.0, 10875.0, 8109.0, 7218.0, 5875.0, 5250.0, 6650.0, 4647.0, 4583.0, 3237.0, 3264.0, 4022.0, 4992.0, 5701.0, 5246.0, 4638.0, 4192.0, 3674.0, 3517.0, 4390.0, 4452.0, 4639.0, 3580.0, 3892.0, 3268.0, 3310.0, 4756.0, 6456.0, 4885.0, 5136.0, 4822.0, 4506.0, 3813.0, 3882.0, 3882.0, 6144.0, 5702.0, 5827.0, 7735.0, 10802.0, 8444.0, 6011.0, 4271.0, 3590.0, 3365.0, 3496.0, 3052.0, 3052.0, 2736.0, 3002.0, 3172.0, 3507.0, 3026.0, 2715.0, 2841.0, 1987.0, 1464.0, 1213.0, 1334.0, 1341.0, 1229.0, 901.0, 941.0, 765.0, 636.0, 636.0, 1427.0, 1345.0, 1710.0, 1981.0, 2087.0, 2270.0, 1996.0, 1539.0, 1595.0, 1657.0, 1673.0, 1617.0, 1560.0, 2018.0, 1789.0, 2168.0, 1642.0, 1272.0, 1155.0, 825.0, 809.0, 811.0, 792.0, 776.0, 788.0, 794.0, 776.0, 666.0, 782.0, 782.0, 1375.0, 1000.0, 733.0, 625.0, 640.0, 586.0, 476.0, 529.0, 476.0, 422.0, 439.0, 418.0, 433.0, 389.0, 371.0, 344.0, 317.0, 522.0, 870.0, 973.0, 665.0, 614.0, 665.0, 592.0, 485.0, 452.0, 421.0, 410.0, 417.0, 386.0, 335.0, 350.0, 306.0, 355.0, 306.0, 355.0, 257.0, 306.0, 293.0, 259.0, 210.0, 259.0, 238.0, 213.0, 202.0, 209.0, 159.0, 191.0, 155.0, 204.0, 155.0, 204.0, 167.0, 172.0, 219.0, 155.0, 176.0, 223.0, 176.0, 223.0, 175.0, 270.0, 212.0, 176.0, 187.0, 141.0, 187.0, 141.0, 186.0, 141.0, 186.0, 140.0, 185.0, 140.0, 185.0, 147.0, 152.0, 108.0], \"yaxis\": \"y\"}, {\"hoverlabel\": {\"namelength\": 0}, \"hovertemplate\": \"year=2017<br>INFLOW_CUSECS=%{y}\", \"legendgroup\": \"year=2017\", \"line\": {\"color\": \"#B6E880\", \"dash\": \"solid\"}, \"mode\": \"lines\", \"name\": \"year=2017\", \"showlegend\": true, \"type\": \"scattergl\", \"xaxis\": \"x\", \"y\": [152.0, 107.0, 151.0, 107.0, 151.0, 106.0, 150.0, 106.0, 122.0, 80.0, 122.0, 79.0, 121.0, 79.0, 121.0, 78.0, 120.0, 84.0, 92.0, 91.0, 92.0, 91.0, 92.0, 86.0, 91.0, 50.0, 50.0, 135.0, 139.0, 98.0, 58.0, 98.0, 62.0, 102.0, 59.0, 91.0, 65.0, 105.0, 65.0, 104.0, 64.0, 36.0, 90.0, 44.0, 83.0, 43.0, 82.0, 44.0, 56.0, 28.0, 66.0, 28.0, 65.0, 27.0, 16.0, 54.0, 17.0, 53.0, 43.0, 50.0, 17.0, 39.0, 38.0, 40.0, 19.0, 19.0, 28.0, 31.0, 63.0, 30.0, 63.0, 30.0, 62.0, 30.0, 62.0, 29.0, 62.0, 30.0, 61.0, 33.0, 37.0, 67.0, 36.0, 66.0, 36.0, 66.0, 35.0, 66.0, 35.0, 66.0, 35.0, 24.0, 55.0, 23.0, 53.0, 23.0, 53.0, 22.0, 53.0, 22.0, 52.0, 52.0, 52.0, 21.0, 30.0, 58.0, 29.0, 58.0, 29.0, 59.0, 29.0, 57.0, 36.0, 64.0, 35.0, 64.0, 35.0, 64.0, 35.0, 64.0, 35.0, 69.0, 40.0, 68.0, 33.0, 61.0, 32.0, 60.0, 31.0, 60.0, 31.0, 63.0, 37.0, 64.0, 37.0, 65.0, 36.0, 64.0, 36.0, 64.0, 64.0, 92.0, 64.0, 36.0, 64.0, 91.0, 64.0, 90.0, 118.0, 146.0, 63.0, 90.0, 118.0, 91.0, 118.0, 91.0, 118.0, 90.0, 118.0, 145.0, 118.0, 145.0, 502.0, 1601.0, 1423.0, 750.0, 492.0, 522.0, 551.0, 523.0, 552.0, 530.0, 639.0, 639.0, 1099.0, 5931.0, 1750.0, 1970.0, 4512.0, 13291.0, 9355.0, 7680.0, 4340.0, 3842.0, 3571.0, 3881.0, 3597.0, 3749.0, 3460.0, 3411.0, 2573.0, 2326.0, 2327.0, 3067.0, 2839.0, 4002.0, 3901.0, 4434.0, 5315.0, 7105.0, 13449.0, 17555.0, 13615.0, 9871.0, 6659.0, 5540.0, 4554.0, 4120.0, 3872.0, 4340.0, 4346.0, 3439.0, 3224.0, 3051.0, 2604.0, 3257.0, 4405.0, 7039.0, 8111.0, 5921.0, 3635.0, 3463.0, 3565.0, 3574.0, 2625.0, 2989.0, 2888.0, 3040.0, 3057.0, 2947.0, 2572.0, 4071.0, 7447.0, 7870.0, 8369.0, 7264.0, 5266.0, 3573.0, 3859.0, 7062.0, 10595.0, 14930.0, 12195.0, 8775.0, 4419.0, 3859.0, 4511.0, 4084.0, 6007.0, 4547.0, 3264.0, 3006.0, 3909.0, 2684.0, 2298.0, 1975.0, 1782.0, 2127.0, 2325.0, 4479.0, 12796.0, 18922.0, 19844.0, 15765.0, 10296.0, 8163.0, 6899.0, 4399.0, 3733.0, 3473.0, 3585.0, 3383.0, 2544.0, 2392.0, 2433.0, 2769.0, 2217.0, 2158.0, 1952.0, 2460.0, 1911.0, 1569.0, 1774.0, 1568.0, 2949.0, 2042.0, 1725.0, 1935.0, 1447.0, 1308.0, 1308.0, 1510.0, 1002.0, 785.0, 640.0, 672.0, 650.0, 587.0, 624.0, 623.0, 631.0, 2683.0, 1258.0, 991.0, 503.0, 556.0, 486.0, 485.0, 415.0, 424.0, 416.0, 602.0, 670.0, 633.0, 533.0, 464.0, 396.0, 327.0, 259.0, 258.0, 190.0, 189.0, 189.0, 258.0, 665.0, 1209.0, 500.0, 282.0, 281.0, 215.0, 214.0, 220.0, 203.0, 202.0, 207.0, 489.0, 809.0, 529.0, 249.0, 184.0, 184.0, 120.0, 120.0, 121.0, 120.0, 125.0, 124.0, 125.0, 124.0, 125.0, 111.0, 110.0, 138.0, 138.0, 144.0, 147.0, 148.0, 146.0, 151.0, 136.0, 135.0, 155.0, 93.0, 92.0, 130.0], \"yaxis\": \"y\"}, {\"hoverlabel\": {\"namelength\": 0}, \"hovertemplate\": \"year=2018<br>INFLOW_CUSECS=%{y}\", \"legendgroup\": \"year=2018\", \"line\": {\"color\": \"#FF97FF\", \"dash\": \"solid\"}, \"mode\": \"lines\", \"name\": \"year=2018\", \"showlegend\": true, \"type\": \"scattergl\", \"xaxis\": \"x\", \"y\": [129.0, 130.0, 129.0, 130.0, 131.0, 119.0, 118.0, 119.0, 118.0, 119.0, 118.0, 119.0, 118.0, 119.0, 118.0, 119.0, 118.0, 119.0, 118.0, 117.0, 118.0, 117.0, 118.0, 117.0, 118.0, 116.0, 117.0, 94.0, 96.0, 102.0, 103.0, 102.0, 128.0, 127.0, 128.0, 127.0, 127.0, 97.0, 89.0, 88.0, 109.0, 135.0, 160.0, 136.0, 151.0, 150.0, 137.0, 138.0, 132.0, 133.0, 117.0, 99.0, 100.0, 113.0, 112.0, 113.0, 126.0, 78.0, 77.0, 78.0, 66.0, 65.0, 66.0, 77.0, 54.0, 46.0, 62.0, 73.0, 70.0, 71.0, 68.0, 58.0, 129.0, 1649.0, 1064.0, 839.0, 479.0, 337.0, 242.0, 147.0, 109.0, 71.0, 70.0, 68.0, 65.0, 84.0, 97.0, 96.0, 95.0, 141.0, 140.0, 110.0, 123.0, 92.0, 95.0, 90.0, 95.0, 78.0, 99.0, 98.0, 91.0, 106.0, 105.0, 80.0, 72.0, 73.0, 154.0, 640.0, 362.0, 244.0, 305.0, 265.0, 304.0, 225.0, 186.0, 304.0, 225.0, 150.0, 118.0, 117.0, 156.0, 240.0, 278.0, 433.0, 355.0, 240.0, 212.0, 174.0, 626.0, 702.0, 475.0, 551.0, 702.0, 777.0, 588.0, 626.0, 664.0, 853.0, 777.0, 815.0, 777.0, 815.0, 777.0, 815.0, 740.0, 2349.0, 2450.0, 2240.0, 2378.0, 2405.0, 2635.0, 2043.0, 1203.0, 1038.0, 509.0, 551.0, 469.0, 510.0, 1017.0, 1878.0, 6932.0, 22937.0, 17921.0, 23487.0, 22098.0, 36650.0, 33153.0, 21517.0, 5805.0, 4436.0, 12153.0, 15690.0, 13788.0, 6115.0, 9593.0, 2440.0, 2591.0, 3919.0, 10591.0, 21353.0, 18997.0, 9028.0, 5334.0, 4681.0, 3956.0, 3956.0, 2278.0, 4361.0, 27814.0, 32635.0, 35685.0, 40363.0, 47547.0, 45455.0, 43400.0, 40002.0, 36137.0, 38289.0, 39568.0, 37311.0, 36400.0, 28573.0, 31420.0, 28838.0, 27558.0, 28079.0, 28022.0, 27262.0, 24215.0, 19815.0, 17044.0, 16174.0, 18541.0, 21094.0, 19520.0, 17222.0, 15568.0, 9925.0, 7072.0, 9776.0, 41692.0, 69471.0, 75380.0, 58229.0, 45750.0, 40589.0, 50618.0, 55960.0, 79577.0, 80032.0, 61449.0, 47529.0, 35251.0, 26182.0, 20645.0, 16803.0, 13116.0, 11368.0, 7021.0, 7457.0, 9296.0, 12489.0, 10749.0, 7578.0, 5118.0, 4932.0, 4756.0, 4075.0, 3774.0, 2426.0, 1977.0, 1751.0, 1752.0, 1626.0, 1551.0, 1701.0, 1476.0, 1175.0, 1099.0, 1098.0, 1023.0, 1022.0, 1045.0, 1006.0, 1021.0, 1020.0, 1673.0, 3849.0, 2036.0, 1890.0, 1745.0, 1890.0, 3063.0, 2701.0, 2655.0, 1495.0, 1494.0, 2147.0, 3163.0, 4542.0, 3092.0, 4008.0, 4163.0, 3095.0, 2151.0, 1173.0, 974.0, 1274.0, 1199.0, 2026.0, 7688.0, 2472.0, 3406.0, 2119.0, 1070.0, 1301.0, 1376.0, 1151.0, 699.0, 698.0, 472.0, 370.0, 339.0, 357.0, 261.0, 389.0, 219.0, 721.0, 511.0, 441.0, 440.0, 440.0, 253.0, 250.0, 236.0, 199.0, 219.0, 214.0, 204.0, 204.0, 205.0, 214.0, 218.0, 226.0, 234.0, 212.0, 198.0, 232.0, 929.0, 289.0, 233.0, 205.0, 191.0, 181.0, 188.0, 199.0, 188.0, 178.0, 218.0, 408.0, 408.0, 218.0, 178.0, 218.0, 178.0, 201.0, 207.0, 204.0, 174.0, 178.0, 191.0, 178.0, 201.0, 188.0, 189.0, 204.0, 195.0, 194.0, 195.0, 892.0, 258.0, 195.0, 194.0, 195.0, 194.0], \"yaxis\": \"y\"}, {\"hoverlabel\": {\"namelength\": 0}, \"hovertemplate\": \"year=2019<br>INFLOW_CUSECS=%{y}\", \"legendgroup\": \"year=2019\", \"line\": {\"color\": \"#FECB52\", \"dash\": \"solid\"}, \"mode\": \"lines\", \"name\": \"year=2019\", \"showlegend\": true, \"type\": \"scattergl\", \"xaxis\": \"x\", \"y\": [195.0, 258.0, 195.0, 194.0, 258.0, 222.0, 188.0, 251.0, 187.0, 188.0, 189.0, 191.0, 190.0, 204.0, 205.0, 204.0, 164.0, 187.0, 188.0, 187.0, 188.0, 190.0, 191.0, 191.0, 191.0, 193.0, 194.0, 205.0, 194.0, 176.0, 190.0, 191.0, 198.0, 197.0, 198.0, 135.0, 156.0, 136.0, 137.0, 136.0, 135.0, 134.0, 135.0, 134.0, 136.0, 138.0, 151.0, 140.0, 108.0, 136.0, 137.0, 75.0, 74.0, 75.0, 91.0, 93.0, 45.0, 37.0, 29.0, 49.0, 70.0, 69.0, 53.0, 34.0, 69.0, 68.0, 67.0, 66.0, 69.0, 33.0, 32.0, 33.0, 32.0, 31.0, 55.0, 45.0, 50.0, 51.0, 49.0, 51.0, 47.0, 63.0, 64.0, 68.0, 35.0, 40.0, 39.0, 55.0, 50.0, 49.0, 47.0, 42.0, 46.0, 44.0, 43.0, 30.0, 67.0, 66.0, 61.0, 50.0, 39.0, 56.0, 55.0, 28.0, 48.0, 46.0, 60.0, 112.0, 228.0, 1106.0, 869.0, 726.0, 644.0, 643.0, 642.0, 597.0, 552.0, 556.0, 515.0, 1104.0, 832.0, 586.0, 486.0, 459.0, 458.0, 413.0, 682.0, 669.0, 1642.0, 1553.0, 1464.0, 1818.0, 1110.0, 1454.0, 993.0, 237.0, 491.0, 575.0, 574.0, 490.0, 617.0, 659.0, 616.0, 705.0, 653.0, 486.0, 471.0, 291.0, 248.0, 198.0, 155.0, 261.0, 231.0, 109.0, 68.0, 67.0, 98.0, 304.0, 383.0, 146.0, 106.0, 105.0, 146.0, 1247.0, 1407.0, 1486.0, 1408.0, 1013.0, 382.0, 658.0, 552.0, 677.0, 558.0, 1189.0, 1466.0, 1708.0, 1366.0, 1326.0, 1083.0, 588.0, 538.0, 740.0, 1294.0, 687.0, 1577.0, 2169.0, 4261.0, 12551.0, 10102.0, 5984.0, 4533.0, 6161.0, 4157.0, 3213.0, 2227.0, 1626.0, 2009.0, 1627.0, 1644.0, 1315.0, 5048.0, 7524.0, 8876.0, 10498.0, 10656.0, 6335.0, 6165.0, 7593.0, 5555.0, 3490.0, 2089.0, 3613.0, 3998.0, 3148.0, 3387.0, 2792.0, 2349.0, 11352.0, 18417.0, 29498.0, 76486.0, 112511.0, 104084.0, 57944.0, 39973.0, 30027.0, 18994.0, 12378.0, 9899.0, 6743.0, 6409.0, 6273.0, 5746.0, 4205.0, 4875.0, 4599.0, 5170.0, 4298.0, 5940.0, 9743.0, 10590.0, 6673.0, 7125.0, 5846.0, 5528.0, 8412.0, 11475.0, 21962.0, 24321.0, 27342.0, 27342.0, 23218.0, 24044.0, 17092.0, 10457.0, 7888.0, 5522.0, 4754.0, 3926.0, 4378.0, 3325.0, 3167.0, 4402.0, 2235.0, 2152.0, 2077.0, 2227.0, 3485.0, 2902.0, 3152.0, 3217.0, 3717.0, 2550.0, 2217.0, 1166.0, 1165.0, 1316.0, 1541.0, 1541.0, 1466.0, 1692.0, 1090.0, 1315.0, 1466.0, 1315.0, 1541.0, 1691.0, 2142.0, 1465.0, 1102.0, 952.0, 2382.0, 3360.0, 2720.0, 5278.0, 4099.0, 3054.0, 5462.0, 8551.0, 8626.0, 3930.0, 2378.0, 1776.0, 1303.0, 3176.0, 3037.0, 2276.0, 1567.0, 1259.0, 1049.0, 1233.0, 1082.0, 1433.0, 1809.0, 1733.0, 1884.0, 1583.0, 1056.0, 830.0, 754.0, 987.0, 946.0, 728.0, 593.0, 444.0, 401.0, 383.0, 312.0, 311.0, 292.0, 300.0, 299.0, 261.0, 229.0, 228.0, 1742.0, 2666.0, 1770.0, 912.0, 917.0, 480.0, 481.0, 738.0, 609.0, 480.0, 423.0, 361.0, 381.0, 941.0, 684.0, 620.0, 619.0, 556.0, 363.0, 307.0, 294.0, 294.0, 301.0, 308.0, 372.0, 373.0, 372.0, 371.0, 308.0, 372.0], \"yaxis\": \"y\"}, {\"hoverlabel\": {\"namelength\": 0}, \"hovertemplate\": \"year=2020<br>INFLOW_CUSECS=%{y}\", \"legendgroup\": \"year=2020\", \"line\": {\"color\": \"#636efa\", \"dash\": \"solid\"}, \"mode\": \"lines\", \"name\": \"year=2020\", \"showlegend\": true, \"type\": \"scattergl\", \"xaxis\": \"x\", \"y\": [374.0, 309.0, 373.0, 310.0, 308.0, 371.0, 372.0, 310.0, 375.0, 311.0, 375.0, 310.0, 374.0, 324.0, 388.0, 325.0, 389.0, 324.0, 389.0, 325.0, 388.0, 324.0, 261.0, 325.0, 261.0, 325.0, 260.0, 388.0, 325.0, 261.0, 327.0, 262.0, 334.0, 270.0, 334.0, 270.0, 334.0, 270.0, 334.0, 270.0, 262.0, 261.0, 198.0, 262.0, 197.0, 205.0, 141.0, 142.0, 141.0, 142.0, 141.0, 140.0, 141.0, 142.0, 133.0, 132.0, 109.0, 132.0, 151.0, 112.0, 115.0, 171.0, 260.0, 196.0, 201.0, 209.0, 210.0, 209.0, 215.0, 159.0, 183.0, 181.0, 180.0, 119.0, 122.0, 161.0, 136.0, 135.0, 136.0, 196.0, 197.0, 134.0, 195.0, 319.0, 270.0, 210.0, 149.0, 148.0, 147.0, 171.0, 110.0, 147.0, 110.0, 109.0, 167.0, 108.0, 132.0, 252.0, 366.0, 339.0, 483.0, 140.0, 254.0, 323.0, 211.0, 155.0, 154.0, 210.0, 154.0, 153.0, 154.0, 102.0, 113.0, 138.0, 137.0, 135.0, 110.0, 329.0, 116.0, 606.0, 123.0, 122.0, 147.0, 254.0, 200.0, 253.0, 199.0, 247.0, 672.0, 881.0, 253.0, 262.0, 535.0, 278.0, 226.0, 208.0, 141.0, 114.0, 326.0, 380.0, 869.0, 287.0, 138.0, 146.0, 112.0, 110.0, 157.0, 109.0, 141.0, 165.0, 735.0, 687.0, 374.0, 572.0, 436.0, 374.0, 572.0, 436.0, 753.0, 980.0, 1026.0, 753.0, 3446.0, 1844.0, 641.0, 511.0, 909.0, 864.0, 999.0, 2451.0, 3329.0, 2399.0, 2019.0, 3104.0, 2212.0, 1499.0, 1146.0, 2066.0, 1543.0, 1163.0, 934.0, 773.0, 682.0, 681.0, 1225.0, 3222.0, 1907.0, 2847.0, 4997.0, 6315.0, 5992.0, 9045.0, 11324.0, 3250.0, 2875.0, 2754.0, 2729.0, 2476.0, 1862.0, 1719.0, 2084.0, 4459.0, 3115.0, 4331.0, 6133.0, 10564.0, 26056.0, 22912.0, 16112.0, 12546.0, 8732.0, 4782.0, 5154.0, 5480.0, 4597.0, 3960.0, 3265.0, 3265.0, 2248.0, 2473.0, 1646.0, 1420.0, 1242.0, 1241.0, 1166.0, 971.0, 1292.0, 1957.0, 2900.0, 1884.0, 2101.0, 2101.0, 2972.0, 4642.0, 2471.0, 2248.0, 3226.0, 5019.0, 6797.0, 5898.0, 5451.0, 3381.0, 3805.0, 3485.0, 4165.0, 12208.0, 28906.0, 26607.0, 15162.0, 14319.0, 5932.0, 4399.0, 3353.0, 2516.0, 2240.0, 2723.0, 1689.0, 1701.0, 1550.0, 1575.0, 1425.0, 1173.0, 947.0, 1172.0, 1097.0, 1632.0, 1967.0, 1725.0, 3329.0, 8136.0, 3193.0, 2451.0, 1648.0, 1274.0, 1048.0, 973.0, 972.0, 1047.0, 1138.0, 861.0, 770.0, 697.0, 478.0, 494.0, 489.0, 449.0, 409.0, 442.0, 434.0, 1001.0, 782.0, 526.0, 627.0, 1964.0, 975.0, 578.0, 546.0, 545.0, 485.0, 449.0, 463.0, 427.0, 413.0, 405.0, 553.0, 421.0, 446.0, 455.0, 439.0, 447.0, 408.0, 419.0, 437.0, 435.0, 437.0, 408.0, 411.0, 410.0, 396.0, 374.0, 384.0, 383.0, 574.0, 433.0, 492.0, 820.0, 813.0, 754.0, 584.0, 547.0, 488.0, 513.0, 503.0], \"yaxis\": \"y\"}],\n",
              "                        {\"legend\": {\"tracegroupgap\": 0}, \"margin\": {\"t\": 60}, \"template\": {\"data\": {\"bar\": [{\"error_x\": {\"color\": \"#2a3f5f\"}, \"error_y\": {\"color\": \"#2a3f5f\"}, \"marker\": {\"line\": {\"color\": \"#E5ECF6\", \"width\": 0.5}}, \"type\": \"bar\"}], \"barpolar\": [{\"marker\": {\"line\": {\"color\": \"#E5ECF6\", \"width\": 0.5}}, \"type\": \"barpolar\"}], \"carpet\": [{\"aaxis\": {\"endlinecolor\": \"#2a3f5f\", \"gridcolor\": \"white\", \"linecolor\": \"white\", \"minorgridcolor\": \"white\", \"startlinecolor\": \"#2a3f5f\"}, \"baxis\": {\"endlinecolor\": \"#2a3f5f\", \"gridcolor\": \"white\", \"linecolor\": \"white\", \"minorgridcolor\": \"white\", \"startlinecolor\": \"#2a3f5f\"}, \"type\": \"carpet\"}], \"choropleth\": [{\"colorbar\": {\"outlinewidth\": 0, \"ticks\": \"\"}, \"type\": \"choropleth\"}], \"contour\": [{\"colorbar\": {\"outlinewidth\": 0, \"ticks\": \"\"}, \"colorscale\": [[0.0, \"#0d0887\"], [0.1111111111111111, \"#46039f\"], [0.2222222222222222, \"#7201a8\"], [0.3333333333333333, \"#9c179e\"], [0.4444444444444444, \"#bd3786\"], [0.5555555555555556, \"#d8576b\"], [0.6666666666666666, \"#ed7953\"], [0.7777777777777778, \"#fb9f3a\"], [0.8888888888888888, \"#fdca26\"], [1.0, \"#f0f921\"]], \"type\": \"contour\"}], \"contourcarpet\": [{\"colorbar\": {\"outlinewidth\": 0, \"ticks\": \"\"}, \"type\": \"contourcarpet\"}], \"heatmap\": [{\"colorbar\": {\"outlinewidth\": 0, \"ticks\": \"\"}, \"colorscale\": [[0.0, \"#0d0887\"], [0.1111111111111111, \"#46039f\"], [0.2222222222222222, \"#7201a8\"], [0.3333333333333333, \"#9c179e\"], [0.4444444444444444, \"#bd3786\"], [0.5555555555555556, \"#d8576b\"], [0.6666666666666666, \"#ed7953\"], [0.7777777777777778, \"#fb9f3a\"], [0.8888888888888888, \"#fdca26\"], [1.0, \"#f0f921\"]], \"type\": \"heatmap\"}], \"heatmapgl\": [{\"colorbar\": {\"outlinewidth\": 0, \"ticks\": \"\"}, \"colorscale\": [[0.0, \"#0d0887\"], [0.1111111111111111, \"#46039f\"], [0.2222222222222222, \"#7201a8\"], [0.3333333333333333, \"#9c179e\"], [0.4444444444444444, \"#bd3786\"], [0.5555555555555556, \"#d8576b\"], [0.6666666666666666, \"#ed7953\"], [0.7777777777777778, \"#fb9f3a\"], [0.8888888888888888, \"#fdca26\"], [1.0, \"#f0f921\"]], \"type\": \"heatmapgl\"}], \"histogram\": [{\"marker\": {\"colorbar\": {\"outlinewidth\": 0, \"ticks\": \"\"}}, \"type\": \"histogram\"}], \"histogram2d\": [{\"colorbar\": {\"outlinewidth\": 0, \"ticks\": \"\"}, \"colorscale\": [[0.0, \"#0d0887\"], [0.1111111111111111, \"#46039f\"], [0.2222222222222222, \"#7201a8\"], [0.3333333333333333, \"#9c179e\"], [0.4444444444444444, \"#bd3786\"], [0.5555555555555556, \"#d8576b\"], [0.6666666666666666, \"#ed7953\"], [0.7777777777777778, \"#fb9f3a\"], [0.8888888888888888, \"#fdca26\"], [1.0, \"#f0f921\"]], \"type\": \"histogram2d\"}], \"histogram2dcontour\": [{\"colorbar\": {\"outlinewidth\": 0, \"ticks\": \"\"}, \"colorscale\": [[0.0, \"#0d0887\"], [0.1111111111111111, \"#46039f\"], [0.2222222222222222, \"#7201a8\"], [0.3333333333333333, \"#9c179e\"], [0.4444444444444444, \"#bd3786\"], [0.5555555555555556, \"#d8576b\"], [0.6666666666666666, \"#ed7953\"], [0.7777777777777778, \"#fb9f3a\"], [0.8888888888888888, \"#fdca26\"], [1.0, \"#f0f921\"]], \"type\": \"histogram2dcontour\"}], \"mesh3d\": [{\"colorbar\": {\"outlinewidth\": 0, \"ticks\": \"\"}, \"type\": \"mesh3d\"}], \"parcoords\": [{\"line\": {\"colorbar\": {\"outlinewidth\": 0, \"ticks\": \"\"}}, \"type\": \"parcoords\"}], \"pie\": [{\"automargin\": true, \"type\": \"pie\"}], \"scatter\": [{\"marker\": {\"colorbar\": {\"outlinewidth\": 0, \"ticks\": \"\"}}, \"type\": \"scatter\"}], \"scatter3d\": [{\"line\": {\"colorbar\": {\"outlinewidth\": 0, \"ticks\": \"\"}}, \"marker\": {\"colorbar\": {\"outlinewidth\": 0, \"ticks\": \"\"}}, \"type\": \"scatter3d\"}], \"scattercarpet\": [{\"marker\": {\"colorbar\": {\"outlinewidth\": 0, \"ticks\": \"\"}}, \"type\": \"scattercarpet\"}], \"scattergeo\": [{\"marker\": {\"colorbar\": {\"outlinewidth\": 0, \"ticks\": \"\"}}, \"type\": \"scattergeo\"}], \"scattergl\": [{\"marker\": {\"colorbar\": {\"outlinewidth\": 0, \"ticks\": \"\"}}, \"type\": \"scattergl\"}], \"scattermapbox\": [{\"marker\": {\"colorbar\": {\"outlinewidth\": 0, \"ticks\": \"\"}}, \"type\": \"scattermapbox\"}], \"scatterpolar\": [{\"marker\": {\"colorbar\": {\"outlinewidth\": 0, \"ticks\": \"\"}}, \"type\": \"scatterpolar\"}], \"scatterpolargl\": [{\"marker\": {\"colorbar\": {\"outlinewidth\": 0, \"ticks\": \"\"}}, \"type\": \"scatterpolargl\"}], \"scatterternary\": [{\"marker\": {\"colorbar\": {\"outlinewidth\": 0, \"ticks\": \"\"}}, \"type\": \"scatterternary\"}], \"surface\": [{\"colorbar\": {\"outlinewidth\": 0, \"ticks\": \"\"}, \"colorscale\": [[0.0, \"#0d0887\"], [0.1111111111111111, \"#46039f\"], [0.2222222222222222, \"#7201a8\"], [0.3333333333333333, \"#9c179e\"], [0.4444444444444444, \"#bd3786\"], [0.5555555555555556, \"#d8576b\"], [0.6666666666666666, \"#ed7953\"], [0.7777777777777778, \"#fb9f3a\"], [0.8888888888888888, \"#fdca26\"], [1.0, \"#f0f921\"]], \"type\": \"surface\"}], \"table\": [{\"cells\": {\"fill\": {\"color\": \"#EBF0F8\"}, \"line\": {\"color\": \"white\"}}, \"header\": {\"fill\": {\"color\": \"#C8D4E3\"}, \"line\": {\"color\": \"white\"}}, \"type\": \"table\"}]}, \"layout\": {\"annotationdefaults\": {\"arrowcolor\": \"#2a3f5f\", \"arrowhead\": 0, \"arrowwidth\": 1}, \"coloraxis\": {\"colorbar\": {\"outlinewidth\": 0, \"ticks\": \"\"}}, \"colorscale\": {\"diverging\": [[0, \"#8e0152\"], [0.1, \"#c51b7d\"], [0.2, \"#de77ae\"], [0.3, \"#f1b6da\"], [0.4, \"#fde0ef\"], [0.5, \"#f7f7f7\"], [0.6, \"#e6f5d0\"], [0.7, \"#b8e186\"], [0.8, \"#7fbc41\"], [0.9, \"#4d9221\"], [1, \"#276419\"]], \"sequential\": [[0.0, \"#0d0887\"], [0.1111111111111111, \"#46039f\"], [0.2222222222222222, \"#7201a8\"], [0.3333333333333333, \"#9c179e\"], [0.4444444444444444, \"#bd3786\"], [0.5555555555555556, \"#d8576b\"], [0.6666666666666666, \"#ed7953\"], [0.7777777777777778, \"#fb9f3a\"], [0.8888888888888888, \"#fdca26\"], [1.0, \"#f0f921\"]], \"sequentialminus\": [[0.0, \"#0d0887\"], [0.1111111111111111, \"#46039f\"], [0.2222222222222222, \"#7201a8\"], [0.3333333333333333, \"#9c179e\"], [0.4444444444444444, \"#bd3786\"], [0.5555555555555556, \"#d8576b\"], [0.6666666666666666, \"#ed7953\"], [0.7777777777777778, \"#fb9f3a\"], [0.8888888888888888, \"#fdca26\"], [1.0, \"#f0f921\"]]}, \"colorway\": [\"#636efa\", \"#EF553B\", \"#00cc96\", \"#ab63fa\", \"#FFA15A\", \"#19d3f3\", \"#FF6692\", \"#B6E880\", \"#FF97FF\", \"#FECB52\"], \"font\": {\"color\": \"#2a3f5f\"}, \"geo\": {\"bgcolor\": \"white\", \"lakecolor\": \"white\", \"landcolor\": \"#E5ECF6\", \"showlakes\": true, \"showland\": true, \"subunitcolor\": \"white\"}, \"hoverlabel\": {\"align\": \"left\"}, \"hovermode\": \"closest\", \"mapbox\": {\"style\": \"light\"}, \"paper_bgcolor\": \"white\", \"plot_bgcolor\": \"#E5ECF6\", \"polar\": {\"angularaxis\": {\"gridcolor\": \"white\", \"linecolor\": \"white\", \"ticks\": \"\"}, \"bgcolor\": \"#E5ECF6\", \"radialaxis\": {\"gridcolor\": \"white\", \"linecolor\": \"white\", \"ticks\": \"\"}}, \"scene\": {\"xaxis\": {\"backgroundcolor\": \"#E5ECF6\", \"gridcolor\": \"white\", \"gridwidth\": 2, \"linecolor\": \"white\", \"showbackground\": true, \"ticks\": \"\", \"zerolinecolor\": \"white\"}, \"yaxis\": {\"backgroundcolor\": \"#E5ECF6\", \"gridcolor\": \"white\", \"gridwidth\": 2, \"linecolor\": \"white\", \"showbackground\": true, \"ticks\": \"\", \"zerolinecolor\": \"white\"}, \"zaxis\": {\"backgroundcolor\": \"#E5ECF6\", \"gridcolor\": \"white\", \"gridwidth\": 2, \"linecolor\": \"white\", \"showbackground\": true, \"ticks\": \"\", \"zerolinecolor\": \"white\"}}, \"shapedefaults\": {\"line\": {\"color\": \"#2a3f5f\"}}, \"ternary\": {\"aaxis\": {\"gridcolor\": \"white\", \"linecolor\": \"white\", \"ticks\": \"\"}, \"baxis\": {\"gridcolor\": \"white\", \"linecolor\": \"white\", \"ticks\": \"\"}, \"bgcolor\": \"#E5ECF6\", \"caxis\": {\"gridcolor\": \"white\", \"linecolor\": \"white\", \"ticks\": \"\"}}, \"title\": {\"x\": 0.05}, \"xaxis\": {\"automargin\": true, \"gridcolor\": \"white\", \"linecolor\": \"white\", \"ticks\": \"\", \"title\": {\"standoff\": 15}, \"zerolinecolor\": \"white\", \"zerolinewidth\": 2}, \"yaxis\": {\"automargin\": true, \"gridcolor\": \"white\", \"linecolor\": \"white\", \"ticks\": \"\", \"title\": {\"standoff\": 15}, \"zerolinecolor\": \"white\", \"zerolinewidth\": 2}}}, \"xaxis\": {\"anchor\": \"y\", \"domain\": [0.0, 1.0]}, \"yaxis\": {\"anchor\": \"x\", \"domain\": [0.0, 1.0], \"title\": {\"text\": \"INFLOW_CUSECS\"}}},\n",
              "                        {\"responsive\": true}\n",
              "                    ).then(function(){\n",
              "                            \n",
              "var gd = document.getElementById('14ae20c5-f14f-4331-adec-b1afedccef75');\n",
              "var x = new MutationObserver(function (mutations, observer) {{\n",
              "        var display = window.getComputedStyle(gd).display;\n",
              "        if (!display || display === 'none') {{\n",
              "            console.log([gd, 'removed!']);\n",
              "            Plotly.purge(gd);\n",
              "            observer.disconnect();\n",
              "        }}\n",
              "}});\n",
              "\n",
              "// Listen for the removal of the full notebook cells\n",
              "var notebookContainer = gd.closest('#notebook-container');\n",
              "if (notebookContainer) {{\n",
              "    x.observe(notebookContainer, {childList: true});\n",
              "}}\n",
              "\n",
              "// Listen for the clearing of the current output cell\n",
              "var outputEl = gd.closest('.output');\n",
              "if (outputEl) {{\n",
              "    x.observe(outputEl, {childList: true});\n",
              "}}\n",
              "\n",
              "                        })\n",
              "                };\n",
              "                \n",
              "            </script>\n",
              "        </div>\n",
              "</body>\n",
              "</html>"
            ]
          },
          "metadata": {
            "tags": []
          }
        }
      ]
    },
    {
      "cell_type": "code",
      "metadata": {
        "id": "4jKbUeAu-eo3"
      },
      "source": [
        "weeklykabini = kabini_indexed.groupby(['year','WEEK_NO']).mean()"
      ],
      "execution_count": null,
      "outputs": []
    },
    {
      "cell_type": "code",
      "metadata": {
        "colab": {
          "base_uri": "https://localhost:8080/"
        },
        "id": "uDjLL__L-6sn",
        "outputId": "43b7ceed-9d91-4286-ccfe-24ebdbda2e70"
      },
      "source": [
        "weeklykabini.shape"
      ],
      "execution_count": null,
      "outputs": [
        {
          "output_type": "execute_result",
          "data": {
            "text/plain": [
              "(473, 6)"
            ]
          },
          "metadata": {
            "tags": []
          },
          "execution_count": 87
        }
      ]
    },
    {
      "cell_type": "code",
      "metadata": {
        "colab": {
          "base_uri": "https://localhost:8080/",
          "height": 230
        },
        "id": "RnVThfDV-x6a",
        "outputId": "a2ab72d5-072b-4583-ac09-7b9e92f87e95"
      },
      "source": [
        "weeklykabini.head()"
      ],
      "execution_count": null,
      "outputs": [
        {
          "output_type": "execute_result",
          "data": {
            "text/html": [
              "<div>\n",
              "<style scoped>\n",
              "    .dataframe tbody tr th:only-of-type {\n",
              "        vertical-align: middle;\n",
              "    }\n",
              "\n",
              "    .dataframe tbody tr th {\n",
              "        vertical-align: top;\n",
              "    }\n",
              "\n",
              "    .dataframe thead th {\n",
              "        text-align: right;\n",
              "    }\n",
              "</style>\n",
              "<table border=\"1\" class=\"dataframe\">\n",
              "  <thead>\n",
              "    <tr style=\"text-align: right;\">\n",
              "      <th></th>\n",
              "      <th></th>\n",
              "      <th>SL_NO</th>\n",
              "      <th>YEAR</th>\n",
              "      <th>PRESENT_STORAGE_TMC</th>\n",
              "      <th>RES_LEVEL_FT</th>\n",
              "      <th>INFLOW_CUSECS</th>\n",
              "      <th>OUTFLOW_CUECS</th>\n",
              "    </tr>\n",
              "    <tr>\n",
              "      <th>year</th>\n",
              "      <th>WEEK_NO</th>\n",
              "      <th></th>\n",
              "      <th></th>\n",
              "      <th></th>\n",
              "      <th></th>\n",
              "      <th></th>\n",
              "      <th></th>\n",
              "    </tr>\n",
              "  </thead>\n",
              "  <tbody>\n",
              "    <tr>\n",
              "      <th rowspan=\"2\" valign=\"top\">2010</th>\n",
              "      <th>39</th>\n",
              "      <td>13063.0</td>\n",
              "      <td>2010.0</td>\n",
              "      <td>17.390000</td>\n",
              "      <td>2280.590000</td>\n",
              "      <td>1007.000000</td>\n",
              "      <td>2490.000000</td>\n",
              "    </tr>\n",
              "    <tr>\n",
              "      <th>52</th>\n",
              "      <td>13232.0</td>\n",
              "      <td>2010.0</td>\n",
              "      <td>17.230000</td>\n",
              "      <td>2280.310000</td>\n",
              "      <td>800.000000</td>\n",
              "      <td>2490.000000</td>\n",
              "    </tr>\n",
              "    <tr>\n",
              "      <th rowspan=\"3\" valign=\"top\">2011</th>\n",
              "      <th>3</th>\n",
              "      <td>226.5</td>\n",
              "      <td>2011.0</td>\n",
              "      <td>16.550000</td>\n",
              "      <td>2279.130000</td>\n",
              "      <td>285.000000</td>\n",
              "      <td>50.000000</td>\n",
              "    </tr>\n",
              "    <tr>\n",
              "      <th>4</th>\n",
              "      <td>315.0</td>\n",
              "      <td>2011.0</td>\n",
              "      <td>16.587143</td>\n",
              "      <td>2279.195714</td>\n",
              "      <td>229.285714</td>\n",
              "      <td>168.714286</td>\n",
              "    </tr>\n",
              "    <tr>\n",
              "      <th>5</th>\n",
              "      <td>406.0</td>\n",
              "      <td>2011.0</td>\n",
              "      <td>16.310000</td>\n",
              "      <td>2278.702857</td>\n",
              "      <td>134.714286</td>\n",
              "      <td>665.142857</td>\n",
              "    </tr>\n",
              "  </tbody>\n",
              "</table>\n",
              "</div>"
            ],
            "text/plain": [
              "                SL_NO    YEAR  ...  INFLOW_CUSECS  OUTFLOW_CUECS\n",
              "year WEEK_NO                   ...                              \n",
              "2010 39       13063.0  2010.0  ...    1007.000000    2490.000000\n",
              "     52       13232.0  2010.0  ...     800.000000    2490.000000\n",
              "2011 3          226.5  2011.0  ...     285.000000      50.000000\n",
              "     4          315.0  2011.0  ...     229.285714     168.714286\n",
              "     5          406.0  2011.0  ...     134.714286     665.142857\n",
              "\n",
              "[5 rows x 6 columns]"
            ]
          },
          "metadata": {
            "tags": []
          },
          "execution_count": 90
        }
      ]
    },
    {
      "cell_type": "code",
      "metadata": {
        "colab": {
          "base_uri": "https://localhost:8080/",
          "height": 542
        },
        "id": "h_aRFHbeEEGF",
        "outputId": "f2bce364-ae11-4f03-b59d-1fc8507b9099"
      },
      "source": [
        "fig = px.line(data_frame=weeklykabini, y='INFLOW_CUSECS', color='YEAR')\n",
        "fig.show()"
      ],
      "execution_count": null,
      "outputs": [
        {
          "output_type": "display_data",
          "data": {
            "text/html": [
              "<html>\n",
              "<head><meta charset=\"utf-8\" /></head>\n",
              "<body>\n",
              "    <div>\n",
              "            <script src=\"https://cdnjs.cloudflare.com/ajax/libs/mathjax/2.7.5/MathJax.js?config=TeX-AMS-MML_SVG\"></script><script type=\"text/javascript\">if (window.MathJax) {MathJax.Hub.Config({SVG: {font: \"STIX-Web\"}});}</script>\n",
              "                <script type=\"text/javascript\">window.PlotlyConfig = {MathJaxConfig: 'local'};</script>\n",
              "        <script src=\"https://cdn.plot.ly/plotly-latest.min.js\"></script>    \n",
              "            <div id=\"ab6da55a-18eb-4434-a3df-78133c0cad6b\" class=\"plotly-graph-div\" style=\"height:525px; width:100%;\"></div>\n",
              "            <script type=\"text/javascript\">\n",
              "                \n",
              "                    window.PLOTLYENV=window.PLOTLYENV || {};\n",
              "                    \n",
              "                if (document.getElementById(\"ab6da55a-18eb-4434-a3df-78133c0cad6b\")) {\n",
              "                    Plotly.newPlot(\n",
              "                        'ab6da55a-18eb-4434-a3df-78133c0cad6b',\n",
              "                        [{\"hoverlabel\": {\"namelength\": 0}, \"hovertemplate\": \"YEAR=2010.0<br>INFLOW_CUSECS=%{y}\", \"legendgroup\": \"YEAR=2010.0\", \"line\": {\"color\": \"#636efa\", \"dash\": \"solid\"}, \"mode\": \"lines\", \"name\": \"YEAR=2010.0\", \"showlegend\": true, \"type\": \"scatter\", \"xaxis\": \"x\", \"y\": [1007.0, 800.0], \"yaxis\": \"y\"}, {\"hoverlabel\": {\"namelength\": 0}, \"hovertemplate\": \"YEAR=2011.0<br>INFLOW_CUSECS=%{y}\", \"legendgroup\": \"YEAR=2011.0\", \"line\": {\"color\": \"#EF553B\", \"dash\": \"solid\"}, \"mode\": \"lines\", \"name\": \"YEAR=2011.0\", \"showlegend\": true, \"type\": \"scatter\", \"xaxis\": \"x\", \"y\": [285.0, 229.28571428571428, 134.71428571428572, 122.42857142857143, 129.85714285714286, 105.14285714285714, 186.28571428571428, 108.71428571428571, 72.42857142857143, 54.285714285714285, 41.857142857142854, 133.85714285714286, 83.14285714285714, 615.4285714285714, 1998.5714285714287, 221.42857142857142, 156.85714285714286, 204.0, 210.0, 310.75, 3444.0, 4165.0, 8692.57142857143, 7434.428571428572, 2658.5714285714284, 17470.428571428572, 13491.0, 3969.8571428571427, 12115.42857142857, 5710.0, 4508.0, 12239.42857142857, 17092.714285714286, 3938.8333333333335, 2227.6428571428573, 828.6428571428571, 709.1428571428571, 1178.142857142857, 1822.5714285714287, 2425.0, 1708.4285714285713, 1936.7142857142858, 267.85714285714283, 161.71428571428572, 882.5714285714286, 998.2857142857143, 915.7142857142857, 547.7142857142857, 440.625], \"yaxis\": \"y\"}, {\"hoverlabel\": {\"namelength\": 0}, \"hovertemplate\": \"YEAR=2012.0<br>INFLOW_CUSECS=%{y}\", \"legendgroup\": \"YEAR=2012.0\", \"line\": {\"color\": \"#00cc96\", \"dash\": \"solid\"}, \"mode\": \"lines\", \"name\": \"YEAR=2012.0\", \"showlegend\": true, \"type\": \"scatter\", \"xaxis\": \"x\", \"y\": [520.0, 72.0, 123.7, 460.3333333333333, 2833.375, 1509.0, 3622.0, 2466.4285714285716, 1757.857142857143, 5716.285714285715, 2870.0, 13929.0, 6488.0, 1744.5714285714287, 5219.857142857143, 8108.571428571428, 8930.0, 4120.857142857143, 1561.4285714285713, 1685.2857142857142, 1079.7142857142858, 1282.7142857142858, 842.2857142857143, 1881.142857142857, 1082.0, 760.5714285714286, 702.2857142857143, 470.7142857142857, 440.2857142857143, 192.28571428571428, 161.71428571428572, 154.75], \"yaxis\": \"y\"}, {\"hoverlabel\": {\"namelength\": 0}, \"hovertemplate\": \"YEAR=2013.0<br>INFLOW_CUSECS=%{y}\", \"legendgroup\": \"YEAR=2013.0\", \"line\": {\"color\": \"#ab63fa\", \"dash\": \"solid\"}, \"mode\": \"lines\", \"name\": \"YEAR=2013.0\", \"showlegend\": true, \"type\": \"scatter\", \"xaxis\": \"x\", \"y\": [125.28571428571429, 107.42857142857143, 5752.142857142857, 12263.0, 22155.14285714286, 24839.85714285714, 16262.42857142857, 20813.285714285714, 26146.428571428572, 25071.67142857143, 13905.42857142857, 5172.857142857143, 3144.0, 2155.5714285714284, 2522.0, 2712.0, 7457.428571428572, 2161.714285714286, 1245.7142857142858, 1143.0, 2374.0, 2472.6666666666665, 896.6666666666666, 270.42857142857144, 233.42857142857142, 801.1428571428571, 860.4285714285714, 799.5714285714286, 601.1428571428571, 375.2857142857143, 313.75], \"yaxis\": \"y\"}, {\"hoverlabel\": {\"namelength\": 0}, \"hovertemplate\": \"YEAR=2014.0<br>INFLOW_CUSECS=%{y}\", \"legendgroup\": \"YEAR=2014.0\", \"line\": {\"color\": \"#FFA15A\", \"dash\": \"solid\"}, \"mode\": \"lines\", \"name\": \"YEAR=2014.0\", \"showlegend\": true, \"type\": \"scatter\", \"xaxis\": \"x\", \"y\": [323.7142857142857, 288.0, 243.0, 180.42857142857142, 118.0, 142.0, 121.85714285714286, 121.42857142857143, 109.28571428571429, 77.85714285714286, 82.85714285714286, 61.666666666666664, 67.14285714285714, 55.57142857142857, 217.14285714285714, 711.7142857142857, 194.42857142857142, 759.0, 2004.2857142857142, 404.6666666666667, 278.85714285714283, 725.25, 585.3, 832.1428571428571, 3891.4285714285716, 2746.285714285714, 1433.7142857142858, 8553.714285714286, 22385.285714285714, 26534.571428571428, 23950.428571428572, 24641.85714285714, 9588.285714285714, 5177.428571428572, 8439.42857142857, 11963.57142857143, 4856.428571428572, 2912.285714285714, 4190.857142857143, 2893.8571428571427, 2372.0, 2001.0, 2683.1428571428573, 1455.857142857143, 679.5714285714286, 745.2857142857143, 317.2857142857143, 285.7142857142857, 352.0, 2874.1428571428573, 1635.5714285714287, 329.625], \"yaxis\": \"y\"}, {\"hoverlabel\": {\"namelength\": 0}, \"hovertemplate\": \"YEAR=2015.0<br>INFLOW_CUSECS=%{y}\", \"legendgroup\": \"YEAR=2015.0\", \"line\": {\"color\": \"#19d3f3\", \"dash\": \"solid\"}, \"mode\": \"lines\", \"name\": \"YEAR=2015.0\", \"showlegend\": true, \"type\": \"scatter\", \"xaxis\": \"x\", \"y\": [339.57142857142856, 327.0, 290.7142857142857, 263.42857142857144, 212.42857142857142, 144.14285714285714, 131.85714285714286, 120.14285714285714, 173.42857142857142, 256.57142857142856, 151.71428571428572, 95.14285714285714, 105.0, 147.71428571428572, 548.2857142857143, 249.57142857142858, 170.57142857142858, 166.71428571428572, 497.42857142857144, 1988.7142857142858, 381.7142857142857, 1399.75, 405.6, 286.14285714285717, 8712.42857142857, 20472.14285714286, 3200.5714285714284, 4096.428571428572, 10785.714285714286, 6799.571428571428, 2249.0, 2412.714285714286, 4505.857142857143, 3095.8571428571427, 1254.142857142857, 2101.285714285714, 2163.5714285714284, 2059.1428571428573, 2519.285714285714, 1999.2857142857142, 2783.8571428571427, 1494.142857142857, 566.8571428571429, 767.0, 1696.7142857142858, 1476.142857142857, 1193.2857142857142, 831.0, 652.5714285714286, 654.8571428571429, 625.5714285714286, 487.375], \"yaxis\": \"y\"}, {\"hoverlabel\": {\"namelength\": 0}, \"hovertemplate\": \"YEAR=2016.0<br>INFLOW_CUSECS=%{y}\", \"legendgroup\": \"YEAR=2016.0\", \"line\": {\"color\": \"#FF6692\", \"dash\": \"solid\"}, \"mode\": \"lines\", \"name\": \"YEAR=2016.0\", \"showlegend\": true, \"type\": \"scatter\", \"xaxis\": \"x\", \"y\": [365.2857142857143, 299.2857142857143, 250.0, 222.57142857142858, 220.28571428571428, 165.57142857142858, 121.0, 108.57142857142857, 101.5, 83.28571428571429, 77.14285714285714, 70.0, 56.0, 53.285714285714285, 58.0, 231.0, 214.14285714285714, 146.14285714285714, 412.7142857142857, 116.0, 104.42857142857143, 152.14285714285714, 156.85714285714286, 364.14285714285717, 1128.142857142857, 8215.0, 6704.571428571428, 7399.0, 4521.857142857143, 4565.714285714285, 3933.0, 4910.571428571428, 6282.0, 4604.142857142857, 3030.0, 1629.857142857143, 950.1428571428571, 1882.5714285714287, 1783.142857142857, 1043.7142857142858, 766.2857142857143, 776.4285714285714, 443.7142857142857, 580.2857142857143, 519.8571428571429, 350.7142857142857, 277.0, 195.28571428571428, 182.28571428571428, 207.85714285714286, 165.57142857142858, 155.375], \"yaxis\": \"y\"}, {\"hoverlabel\": {\"namelength\": 0}, \"hovertemplate\": \"YEAR=2017.0<br>INFLOW_CUSECS=%{y}\", \"legendgroup\": \"YEAR=2017.0\", \"line\": {\"color\": \"#B6E880\", \"dash\": \"solid\"}, \"mode\": \"lines\", \"name\": \"YEAR=2017.0\", \"showlegend\": true, \"type\": \"scatter\", \"xaxis\": \"x\", \"y\": [132.0, 101.28571428571429, 96.85714285714286, 85.0, 88.0, 75.71428571428571, 63.142857142857146, 40.57142857142857, 36.714285714285715, 32.857142857142854, 48.285714285714285, 47.142857142857146, 48.42857142857143, 36.142857142857146, 40.285714285714285, 45.57142857142857, 47.57142857142857, 52.857142857142854, 44.857142857142854, 52.285714285714285, 67.85714285714286, 102.28571428571429, 114.0, 776.4285714285714, 647.5714285714286, 6355.571428571428, 3777.1428571428573, 2935.0, 9339.142857142857, 5565.142857142857, 3475.1428571428573, 5044.0, 2874.0, 6265.714285714285, 8833.57142857143, 4182.571428571428, 2442.8571428571427, 12895.0, 4002.285714285714, 2340.1428571428573, 1934.0, 1327.857142857143, 632.4285714285714, 994.5714285714286, 527.5714285714286, 297.57142857142856, 483.42857142857144, 250.0, 313.57142857142856, 123.42857142857143, 133.71428571428572, 129.75], \"yaxis\": \"y\"}, {\"hoverlabel\": {\"namelength\": 0}, \"hovertemplate\": \"YEAR=2018.0<br>INFLOW_CUSECS=%{y}\", \"legendgroup\": \"YEAR=2018.0\", \"line\": {\"color\": \"#FF97FF\", \"dash\": \"solid\"}, \"mode\": \"lines\", \"name\": \"YEAR=2018.0\", \"showlegend\": true, \"type\": \"scatter\", \"xaxis\": \"x\", \"y\": [126.57142857142857, 118.57142857142857, 118.14285714285714, 113.85714285714286, 112.28571428571429, 110.28571428571429, 143.42857142857142, 112.42857142857143, 79.42857142857143, 64.71428571428571, 612.2857142857143, 149.14285714285714, 102.57142857142857, 97.57142857142857, 93.0, 291.85714285714283, 216.0, 259.85714285714283, 491.7142857142857, 728.5714285714286, 1246.142857142857, 1991.7142857142858, 4350.375, 25804.333333333332, 9654.285714285714, 9845.57142857143, 7482.857142857143, 40726.71428571428, 35385.42857142857, 26255.571428571428, 17880.428571428572, 38792.142857142855, 59139.28571428572, 24413.428571428572, 8529.714285714286, 3384.4285714285716, 1482.857142857143, 1033.5714285714287, 2306.5714285714284, 2599.5714285714284, 2665.1428571428573, 2883.4285714285716, 966.7142857142857, 379.42857142857144, 367.2857142857143, 208.42857142857142, 321.2857142857143, 212.28571428571428, 256.57142857142856, 194.28571428571428, 192.28571428571428, 289.625], \"yaxis\": \"y\"}, {\"hoverlabel\": {\"namelength\": 0}, \"hovertemplate\": \"YEAR=2019.0<br>INFLOW_CUSECS=%{y}\", \"legendgroup\": \"YEAR=2019.0\", \"line\": {\"color\": \"#FECB52\", \"dash\": \"solid\"}, \"mode\": \"lines\", \"name\": \"YEAR=2019.0\", \"showlegend\": true, \"type\": \"scatter\", \"xaxis\": \"x\", \"y\": [215.71428571428572, 200.0, 189.0, 193.57142857142858, 192.0, 138.42857142857142, 134.57142857142858, 97.28571428571429, 50.285714285714285, 58.0, 39.714285714285715, 56.142857142857146, 45.0, 48.285714285714285, 48.142857142857146, 449.57142857142856, 592.7142857142857, 619.7142857142857, 1276.857142857143, 687.7142857142857, 601.0, 213.28571428571428, 167.42857142857142, 973.1428571428571, 783.1428571428571, 1049.857142857143, 4663.0, 3985.8571428571427, 4006.1428571428573, 7184.571428571428, 3053.714285714286, 58613.142857142855, 17774.714285714286, 5023.714285714285, 7349.285714285715, 20581.714285714286, 10526.142857142857, 3105.1428571428573, 3035.714285714286, 1487.4285714285713, 1444.2857142857142, 2017.5714285714287, 5571.428571428572, 2216.1428571428573, 1371.142857142857, 1148.5714285714287, 453.14285714285717, 478.7142857142857, 1137.7142857142858, 554.1428571428571, 436.14285714285717, 347.125], \"yaxis\": \"y\"}, {\"hoverlabel\": {\"namelength\": 0}, \"hovertemplate\": \"YEAR=2020.0<br>INFLOW_CUSECS=%{y}\", \"legendgroup\": \"YEAR=2020.0\", \"line\": {\"color\": \"#636efa\", \"dash\": \"solid\"}, \"mode\": \"lines\", \"name\": \"YEAR=2020.0\", \"showlegend\": true, \"type\": \"scatter\", \"xaxis\": \"x\", \"y\": [345.2857142857143, 339.85714285714283, 361.14285714285717, 306.2857142857143, 301.85714285714283, 285.85714285714283, 183.71428571428572, 138.71428571428572, 155.75, 198.0, 147.71428571428572, 206.71428571428572, 154.57142857142858, 177.71428571428572, 272.14285714285717, 148.57142857142858, 224.42857142857142, 185.42857142857142, 446.85714285714283, 323.42857142857144, 151.28571428571428, 444.2857142857143, 1082.5, 1637.4285714285713, 1941.2857142857142, 1240.0, 6061.0, 2523.5714285714284, 8106.0, 10816.857142857143, 3064.8571428571427, 1327.0, 2724.4285714285716, 4574.285714285715, 13476.857142857143, 5068.857142857143, 1437.142857142857, 2722.5714285714284, 1651.2857142857142, 783.5714285714286, 572.2857142857143, 823.0, 456.42857142857144, 433.57142857142856, 419.14285714285717, 494.2857142857143, 600.2857142857143], \"yaxis\": \"y\"}],\n",
              "                        {\"legend\": {\"tracegroupgap\": 0}, \"margin\": {\"t\": 60}, \"template\": {\"data\": {\"bar\": [{\"error_x\": {\"color\": \"#2a3f5f\"}, \"error_y\": {\"color\": \"#2a3f5f\"}, \"marker\": {\"line\": {\"color\": \"#E5ECF6\", \"width\": 0.5}}, \"type\": \"bar\"}], \"barpolar\": [{\"marker\": {\"line\": {\"color\": \"#E5ECF6\", \"width\": 0.5}}, \"type\": \"barpolar\"}], \"carpet\": [{\"aaxis\": {\"endlinecolor\": \"#2a3f5f\", \"gridcolor\": \"white\", \"linecolor\": \"white\", \"minorgridcolor\": \"white\", \"startlinecolor\": \"#2a3f5f\"}, \"baxis\": {\"endlinecolor\": \"#2a3f5f\", \"gridcolor\": \"white\", \"linecolor\": \"white\", \"minorgridcolor\": \"white\", \"startlinecolor\": \"#2a3f5f\"}, \"type\": \"carpet\"}], \"choropleth\": [{\"colorbar\": {\"outlinewidth\": 0, \"ticks\": \"\"}, \"type\": \"choropleth\"}], \"contour\": [{\"colorbar\": {\"outlinewidth\": 0, \"ticks\": \"\"}, \"colorscale\": [[0.0, \"#0d0887\"], [0.1111111111111111, \"#46039f\"], [0.2222222222222222, \"#7201a8\"], [0.3333333333333333, \"#9c179e\"], [0.4444444444444444, \"#bd3786\"], [0.5555555555555556, \"#d8576b\"], [0.6666666666666666, \"#ed7953\"], [0.7777777777777778, \"#fb9f3a\"], [0.8888888888888888, \"#fdca26\"], [1.0, \"#f0f921\"]], \"type\": \"contour\"}], \"contourcarpet\": [{\"colorbar\": {\"outlinewidth\": 0, \"ticks\": \"\"}, \"type\": \"contourcarpet\"}], \"heatmap\": [{\"colorbar\": {\"outlinewidth\": 0, \"ticks\": \"\"}, \"colorscale\": [[0.0, \"#0d0887\"], [0.1111111111111111, \"#46039f\"], [0.2222222222222222, \"#7201a8\"], [0.3333333333333333, \"#9c179e\"], [0.4444444444444444, \"#bd3786\"], [0.5555555555555556, \"#d8576b\"], [0.6666666666666666, \"#ed7953\"], [0.7777777777777778, \"#fb9f3a\"], [0.8888888888888888, \"#fdca26\"], [1.0, \"#f0f921\"]], \"type\": \"heatmap\"}], \"heatmapgl\": [{\"colorbar\": {\"outlinewidth\": 0, \"ticks\": \"\"}, \"colorscale\": [[0.0, \"#0d0887\"], [0.1111111111111111, \"#46039f\"], [0.2222222222222222, \"#7201a8\"], [0.3333333333333333, \"#9c179e\"], [0.4444444444444444, \"#bd3786\"], [0.5555555555555556, \"#d8576b\"], [0.6666666666666666, \"#ed7953\"], [0.7777777777777778, \"#fb9f3a\"], [0.8888888888888888, \"#fdca26\"], [1.0, \"#f0f921\"]], \"type\": \"heatmapgl\"}], \"histogram\": [{\"marker\": {\"colorbar\": {\"outlinewidth\": 0, \"ticks\": \"\"}}, \"type\": \"histogram\"}], \"histogram2d\": [{\"colorbar\": {\"outlinewidth\": 0, \"ticks\": \"\"}, \"colorscale\": [[0.0, \"#0d0887\"], [0.1111111111111111, \"#46039f\"], [0.2222222222222222, \"#7201a8\"], [0.3333333333333333, \"#9c179e\"], [0.4444444444444444, \"#bd3786\"], [0.5555555555555556, \"#d8576b\"], [0.6666666666666666, \"#ed7953\"], [0.7777777777777778, \"#fb9f3a\"], [0.8888888888888888, \"#fdca26\"], [1.0, \"#f0f921\"]], \"type\": \"histogram2d\"}], \"histogram2dcontour\": [{\"colorbar\": {\"outlinewidth\": 0, \"ticks\": \"\"}, \"colorscale\": [[0.0, \"#0d0887\"], [0.1111111111111111, \"#46039f\"], [0.2222222222222222, \"#7201a8\"], [0.3333333333333333, \"#9c179e\"], [0.4444444444444444, \"#bd3786\"], [0.5555555555555556, \"#d8576b\"], [0.6666666666666666, \"#ed7953\"], [0.7777777777777778, \"#fb9f3a\"], [0.8888888888888888, \"#fdca26\"], [1.0, \"#f0f921\"]], \"type\": \"histogram2dcontour\"}], \"mesh3d\": [{\"colorbar\": {\"outlinewidth\": 0, \"ticks\": \"\"}, \"type\": \"mesh3d\"}], \"parcoords\": [{\"line\": {\"colorbar\": {\"outlinewidth\": 0, \"ticks\": \"\"}}, \"type\": \"parcoords\"}], \"pie\": [{\"automargin\": true, \"type\": \"pie\"}], \"scatter\": [{\"marker\": {\"colorbar\": {\"outlinewidth\": 0, \"ticks\": \"\"}}, \"type\": \"scatter\"}], \"scatter3d\": [{\"line\": {\"colorbar\": {\"outlinewidth\": 0, \"ticks\": \"\"}}, \"marker\": {\"colorbar\": {\"outlinewidth\": 0, \"ticks\": \"\"}}, \"type\": \"scatter3d\"}], \"scattercarpet\": [{\"marker\": {\"colorbar\": {\"outlinewidth\": 0, \"ticks\": \"\"}}, \"type\": \"scattercarpet\"}], \"scattergeo\": [{\"marker\": {\"colorbar\": {\"outlinewidth\": 0, \"ticks\": \"\"}}, \"type\": \"scattergeo\"}], \"scattergl\": [{\"marker\": {\"colorbar\": {\"outlinewidth\": 0, \"ticks\": \"\"}}, \"type\": \"scattergl\"}], \"scattermapbox\": [{\"marker\": {\"colorbar\": {\"outlinewidth\": 0, \"ticks\": \"\"}}, \"type\": \"scattermapbox\"}], \"scatterpolar\": [{\"marker\": {\"colorbar\": {\"outlinewidth\": 0, \"ticks\": \"\"}}, \"type\": \"scatterpolar\"}], \"scatterpolargl\": [{\"marker\": {\"colorbar\": {\"outlinewidth\": 0, \"ticks\": \"\"}}, \"type\": \"scatterpolargl\"}], \"scatterternary\": [{\"marker\": {\"colorbar\": {\"outlinewidth\": 0, \"ticks\": \"\"}}, \"type\": \"scatterternary\"}], \"surface\": [{\"colorbar\": {\"outlinewidth\": 0, \"ticks\": \"\"}, \"colorscale\": [[0.0, \"#0d0887\"], [0.1111111111111111, \"#46039f\"], [0.2222222222222222, \"#7201a8\"], [0.3333333333333333, \"#9c179e\"], [0.4444444444444444, \"#bd3786\"], [0.5555555555555556, \"#d8576b\"], [0.6666666666666666, \"#ed7953\"], [0.7777777777777778, \"#fb9f3a\"], [0.8888888888888888, \"#fdca26\"], [1.0, \"#f0f921\"]], \"type\": \"surface\"}], \"table\": [{\"cells\": {\"fill\": {\"color\": \"#EBF0F8\"}, \"line\": {\"color\": \"white\"}}, \"header\": {\"fill\": {\"color\": \"#C8D4E3\"}, \"line\": {\"color\": \"white\"}}, \"type\": \"table\"}]}, \"layout\": {\"annotationdefaults\": {\"arrowcolor\": \"#2a3f5f\", \"arrowhead\": 0, \"arrowwidth\": 1}, \"coloraxis\": {\"colorbar\": {\"outlinewidth\": 0, \"ticks\": \"\"}}, \"colorscale\": {\"diverging\": [[0, \"#8e0152\"], [0.1, \"#c51b7d\"], [0.2, \"#de77ae\"], [0.3, \"#f1b6da\"], [0.4, \"#fde0ef\"], [0.5, \"#f7f7f7\"], [0.6, \"#e6f5d0\"], [0.7, \"#b8e186\"], [0.8, \"#7fbc41\"], [0.9, \"#4d9221\"], [1, \"#276419\"]], \"sequential\": [[0.0, \"#0d0887\"], [0.1111111111111111, \"#46039f\"], [0.2222222222222222, \"#7201a8\"], [0.3333333333333333, \"#9c179e\"], [0.4444444444444444, \"#bd3786\"], [0.5555555555555556, \"#d8576b\"], [0.6666666666666666, \"#ed7953\"], [0.7777777777777778, \"#fb9f3a\"], [0.8888888888888888, \"#fdca26\"], [1.0, \"#f0f921\"]], \"sequentialminus\": [[0.0, \"#0d0887\"], [0.1111111111111111, \"#46039f\"], [0.2222222222222222, \"#7201a8\"], [0.3333333333333333, \"#9c179e\"], [0.4444444444444444, \"#bd3786\"], [0.5555555555555556, \"#d8576b\"], [0.6666666666666666, \"#ed7953\"], [0.7777777777777778, \"#fb9f3a\"], [0.8888888888888888, \"#fdca26\"], [1.0, \"#f0f921\"]]}, \"colorway\": [\"#636efa\", \"#EF553B\", \"#00cc96\", \"#ab63fa\", \"#FFA15A\", \"#19d3f3\", \"#FF6692\", \"#B6E880\", \"#FF97FF\", \"#FECB52\"], \"font\": {\"color\": \"#2a3f5f\"}, \"geo\": {\"bgcolor\": \"white\", \"lakecolor\": \"white\", \"landcolor\": \"#E5ECF6\", \"showlakes\": true, \"showland\": true, \"subunitcolor\": \"white\"}, \"hoverlabel\": {\"align\": \"left\"}, \"hovermode\": \"closest\", \"mapbox\": {\"style\": \"light\"}, \"paper_bgcolor\": \"white\", \"plot_bgcolor\": \"#E5ECF6\", \"polar\": {\"angularaxis\": {\"gridcolor\": \"white\", \"linecolor\": \"white\", \"ticks\": \"\"}, \"bgcolor\": \"#E5ECF6\", \"radialaxis\": {\"gridcolor\": \"white\", \"linecolor\": \"white\", \"ticks\": \"\"}}, \"scene\": {\"xaxis\": {\"backgroundcolor\": \"#E5ECF6\", \"gridcolor\": \"white\", \"gridwidth\": 2, \"linecolor\": \"white\", \"showbackground\": true, \"ticks\": \"\", \"zerolinecolor\": \"white\"}, \"yaxis\": {\"backgroundcolor\": \"#E5ECF6\", \"gridcolor\": \"white\", \"gridwidth\": 2, \"linecolor\": \"white\", \"showbackground\": true, \"ticks\": \"\", \"zerolinecolor\": \"white\"}, \"zaxis\": {\"backgroundcolor\": \"#E5ECF6\", \"gridcolor\": \"white\", \"gridwidth\": 2, \"linecolor\": \"white\", \"showbackground\": true, \"ticks\": \"\", \"zerolinecolor\": \"white\"}}, \"shapedefaults\": {\"line\": {\"color\": \"#2a3f5f\"}}, \"ternary\": {\"aaxis\": {\"gridcolor\": \"white\", \"linecolor\": \"white\", \"ticks\": \"\"}, \"baxis\": {\"gridcolor\": \"white\", \"linecolor\": \"white\", \"ticks\": \"\"}, \"bgcolor\": \"#E5ECF6\", \"caxis\": {\"gridcolor\": \"white\", \"linecolor\": \"white\", \"ticks\": \"\"}}, \"title\": {\"x\": 0.05}, \"xaxis\": {\"automargin\": true, \"gridcolor\": \"white\", \"linecolor\": \"white\", \"ticks\": \"\", \"title\": {\"standoff\": 15}, \"zerolinecolor\": \"white\", \"zerolinewidth\": 2}, \"yaxis\": {\"automargin\": true, \"gridcolor\": \"white\", \"linecolor\": \"white\", \"ticks\": \"\", \"title\": {\"standoff\": 15}, \"zerolinecolor\": \"white\", \"zerolinewidth\": 2}}}, \"xaxis\": {\"anchor\": \"y\", \"domain\": [0.0, 1.0]}, \"yaxis\": {\"anchor\": \"x\", \"domain\": [0.0, 1.0], \"title\": {\"text\": \"INFLOW_CUSECS\"}}},\n",
              "                        {\"responsive\": true}\n",
              "                    ).then(function(){\n",
              "                            \n",
              "var gd = document.getElementById('ab6da55a-18eb-4434-a3df-78133c0cad6b');\n",
              "var x = new MutationObserver(function (mutations, observer) {{\n",
              "        var display = window.getComputedStyle(gd).display;\n",
              "        if (!display || display === 'none') {{\n",
              "            console.log([gd, 'removed!']);\n",
              "            Plotly.purge(gd);\n",
              "            observer.disconnect();\n",
              "        }}\n",
              "}});\n",
              "\n",
              "// Listen for the removal of the full notebook cells\n",
              "var notebookContainer = gd.closest('#notebook-container');\n",
              "if (notebookContainer) {{\n",
              "    x.observe(notebookContainer, {childList: true});\n",
              "}}\n",
              "\n",
              "// Listen for the clearing of the current output cell\n",
              "var outputEl = gd.closest('.output');\n",
              "if (outputEl) {{\n",
              "    x.observe(outputEl, {childList: true});\n",
              "}}\n",
              "\n",
              "                        })\n",
              "                };\n",
              "                \n",
              "            </script>\n",
              "        </div>\n",
              "</body>\n",
              "</html>"
            ]
          },
          "metadata": {
            "tags": []
          }
        }
      ]
    },
    {
      "cell_type": "code",
      "metadata": {
        "colab": {
          "base_uri": "https://localhost:8080/",
          "height": 542
        },
        "id": "xoTuGhi1Fd4n",
        "outputId": "48091e11-651b-4702-9a36-46912d97c6f9"
      },
      "source": [
        "fig = px.line(data_frame=weeklykabini, y='OUTFLOW_CUECS', color='YEAR')\n",
        "fig.show()"
      ],
      "execution_count": null,
      "outputs": [
        {
          "output_type": "display_data",
          "data": {
            "text/html": [
              "<html>\n",
              "<head><meta charset=\"utf-8\" /></head>\n",
              "<body>\n",
              "    <div>\n",
              "            <script src=\"https://cdnjs.cloudflare.com/ajax/libs/mathjax/2.7.5/MathJax.js?config=TeX-AMS-MML_SVG\"></script><script type=\"text/javascript\">if (window.MathJax) {MathJax.Hub.Config({SVG: {font: \"STIX-Web\"}});}</script>\n",
              "                <script type=\"text/javascript\">window.PlotlyConfig = {MathJaxConfig: 'local'};</script>\n",
              "        <script src=\"https://cdn.plot.ly/plotly-latest.min.js\"></script>    \n",
              "            <div id=\"e2a77c29-cba1-41df-9921-f46838275652\" class=\"plotly-graph-div\" style=\"height:525px; width:100%;\"></div>\n",
              "            <script type=\"text/javascript\">\n",
              "                \n",
              "                    window.PLOTLYENV=window.PLOTLYENV || {};\n",
              "                    \n",
              "                if (document.getElementById(\"e2a77c29-cba1-41df-9921-f46838275652\")) {\n",
              "                    Plotly.newPlot(\n",
              "                        'e2a77c29-cba1-41df-9921-f46838275652',\n",
              "                        [{\"hoverlabel\": {\"namelength\": 0}, \"hovertemplate\": \"YEAR=2010.0<br>OUTFLOW_CUECS=%{y}\", \"legendgroup\": \"YEAR=2010.0\", \"line\": {\"color\": \"#636efa\", \"dash\": \"solid\"}, \"mode\": \"lines\", \"name\": \"YEAR=2010.0\", \"showlegend\": true, \"type\": \"scatter\", \"xaxis\": \"x\", \"y\": [2490.0, 2490.0], \"yaxis\": \"y\"}, {\"hoverlabel\": {\"namelength\": 0}, \"hovertemplate\": \"YEAR=2011.0<br>OUTFLOW_CUECS=%{y}\", \"legendgroup\": \"YEAR=2011.0\", \"line\": {\"color\": \"#EF553B\", \"dash\": \"solid\"}, \"mode\": \"lines\", \"name\": \"YEAR=2011.0\", \"showlegend\": true, \"type\": \"scatter\", \"xaxis\": \"x\", \"y\": [50.0, 168.71428571428572, 665.1428571428571, 104.71428571428571, 764.2857142857143, 700.4285714285714, 1565.142857142857, 1787.5714285714287, 1629.0, 1325.7142857142858, 175.85714285714286, 1165.0, 1407.142857142857, 1347.142857142857, 200.57142857142858, 826.8571428571429, 1813.5714285714287, 1308.0, 90.0, 686.75, 1137.6, 762.5714285714286, 881.0, 4855.428571428572, 3157.714285714286, 17507.14285714286, 13358.42857142857, 2930.0, 9998.285714285714, 5456.714285714285, 4599.428571428572, 12884.57142857143, 14731.142857142857, 4156.666666666667, 2367.6428571428573, 1377.142857142857, 2518.5714285714284, 2658.5714285714284, 2464.285714285714, 2404.285714285714, 2370.0, 1564.142857142857, 2170.0, 1982.857142857143, 1154.857142857143, 750.0, 830.4285714285714, 492.57142857142856, 50.0], \"yaxis\": \"y\"}, {\"hoverlabel\": {\"namelength\": 0}, \"hovertemplate\": \"YEAR=2012.0<br>OUTFLOW_CUECS=%{y}\", \"legendgroup\": \"YEAR=2012.0\", \"line\": {\"color\": \"#00cc96\", \"dash\": \"solid\"}, \"mode\": \"lines\", \"name\": \"YEAR=2012.0\", \"showlegend\": true, \"type\": \"scatter\", \"xaxis\": \"x\", \"y\": [50.0, 800.0, 864.2, 933.3333333333334, 850.0, 666.6666666666666, 373.0, 400.0, 400.0, 494.0, 550.0, 0.0, 6755.428571428572, 2954.285714285714, 3431.4285714285716, 7484.285714285715, 10725.714285714286, 7431.428571428572, 3007.8571428571427, 5293.714285714285, 1951.857142857143, 1795.2857142857142, 1860.0, 969.1428571428571, 1551.142857142857, 1902.857142857143, 1714.2857142857142, 1438.5714285714287, 1184.2857142857142, 942.8571428571429, 807.1428571428571, 497.875], \"yaxis\": \"y\"}, {\"hoverlabel\": {\"namelength\": 0}, \"hovertemplate\": \"YEAR=2013.0<br>OUTFLOW_CUECS=%{y}\", \"legendgroup\": \"YEAR=2013.0\", \"line\": {\"color\": \"#ab63fa\", \"dash\": \"solid\"}, \"mode\": \"lines\", \"name\": \"YEAR=2013.0\", \"showlegend\": true, \"type\": \"scatter\", \"xaxis\": \"x\", \"y\": [500.0, 500.0, 100.0, 607.1428571428571, 17768.428571428572, 22778.85714285714, 17457.14285714286, 19738.0, 25502.14285714286, 30782.428571428572, 13124.142857142857, 5808.285714285715, 3641.0, 2967.1428571428573, 2749.4285714285716, 2075.5714285714284, 3361.714285714286, 2444.5714285714284, 2292.1428571428573, 2260.0, 2123.8571428571427, 1685.0, 2225.0, 2224.285714285714, 2046.857142857143, 1302.142857142857, 765.0, 590.0, 542.8571428571429, 50.0, 50.0], \"yaxis\": \"y\"}, {\"hoverlabel\": {\"namelength\": 0}, \"hovertemplate\": \"YEAR=2014.0<br>OUTFLOW_CUECS=%{y}\", \"legendgroup\": \"YEAR=2014.0\", \"line\": {\"color\": \"#FFA15A\", \"dash\": \"solid\"}, \"mode\": \"lines\", \"name\": \"YEAR=2014.0\", \"showlegend\": true, \"type\": \"scatter\", \"xaxis\": \"x\", \"y\": [50.0, 50.0, 50.0, 50.0, 50.0, 50.0, 50.0, 262.85714285714283, 698.7142857142857, 750.0, 761.8571428571429, 800.0, 893.2857142857143, 1205.857142857143, 945.0, 995.7142857142857, 982.8571428571429, 931.4285714285714, 904.2857142857143, 845.0, 990.0, 990.0, 947.5, 970.7142857142857, 3009.5714285714284, 4586.714285714285, 1552.857142857143, 1381.0, 18036.285714285714, 1626.142857142857, 21921.714285714286, 24084.285714285714, 10289.142857142857, 3228.5714285714284, 6978.571428571428, 11438.42857142857, 4523.142857142857, 3257.1428571428573, 3374.4285714285716, 3412.1428571428573, 3091.8571428571427, 2588.285714285714, 2349.0, 2267.8571428571427, 2403.5714285714284, 2265.714285714286, 2098.285714285714, 2011.142857142857, 1638.7142857142858, 1144.2857142857142, 407.14285714285717, 50.0], \"yaxis\": \"y\"}, {\"hoverlabel\": {\"namelength\": 0}, \"hovertemplate\": \"YEAR=2015.0<br>OUTFLOW_CUECS=%{y}\", \"legendgroup\": \"YEAR=2015.0\", \"line\": {\"color\": \"#19d3f3\", \"dash\": \"solid\"}, \"mode\": \"lines\", \"name\": \"YEAR=2015.0\", \"showlegend\": true, \"type\": \"scatter\", \"xaxis\": \"x\", \"y\": [314.2857142857143, 50.0, 50.0, 50.0, 50.0, 50.0, 245.85714285714286, 460.2857142857143, 1165.5714285714287, 673.8571428571429, 797.1428571428571, 290.0, 777.8571428571429, 990.0, 461.42857142857144, 836.0, 710.4285714285714, 907.1428571428571, 1050.0, 1092.857142857143, 1350.0, 1350.0, 1204.2, 550.0, 878.5714285714286, 11646.57142857143, 3166.5714285714284, 3823.0, 10809.57142857143, 6376.285714285715, 3971.8571428571427, 2479.5714285714284, 4817.428571428572, 5363.142857142857, 2947.1428571428573, 2072.1428571428573, 1964.2857142857142, 4457.142857142857, 3854.1428571428573, 1970.142857142857, 1700.0, 1850.0, 1750.0, 1750.0, 1135.5714285714287, 1264.2857142857142, 1386.857142857143, 2051.714285714286, 1523.2857142857142, 946.4285714285714, 900.0, 375.0], \"yaxis\": \"y\"}, {\"hoverlabel\": {\"namelength\": 0}, \"hovertemplate\": \"YEAR=2016.0<br>OUTFLOW_CUECS=%{y}\", \"legendgroup\": \"YEAR=2016.0\", \"line\": {\"color\": \"#FF6692\", \"dash\": \"solid\"}, \"mode\": \"lines\", \"name\": \"YEAR=2016.0\", \"showlegend\": true, \"type\": \"scatter\", \"xaxis\": \"x\", \"y\": [200.0, 405.42857142857144, 114.28571428571429, 50.0, 417.0, 253.57142857142858, 200.0, 973.2857142857143, 1033.875, 850.0, 600.0, 600.0, 562.5714285714286, 644.7142857142857, 1000.7142857142857, 1000.0, 1000.0, 1000.0, 773.8571428571429, 1000.0, 537.5714285714286, 472.0, 291.14285714285717, 200.0, 200.0, 1033.0, 2741.1428571428573, 3500.0, 2857.1428571428573, 2640.4285714285716, 3082.714285714286, 4028.5714285714284, 4745.857142857143, 5079.142857142857, 3556.0, 2532.0, 4460.714285714285, 2047.142857142857, 550.0, 2228.5714285714284, 2630.4285714285716, 414.2857142857143, 1564.2857142857142, 700.0, 829.0, 1250.0, 405.42857142857144, 542.8571428571429, 418.42857142857144, 591.7142857142857, 500.0, 500.0], \"yaxis\": \"y\"}, {\"hoverlabel\": {\"namelength\": 0}, \"hovertemplate\": \"YEAR=2017.0<br>OUTFLOW_CUECS=%{y}\", \"legendgroup\": \"YEAR=2017.0\", \"line\": {\"color\": \"#B6E880\", \"dash\": \"solid\"}, \"mode\": \"lines\", \"name\": \"YEAR=2017.0\", \"showlegend\": true, \"type\": \"scatter\", \"xaxis\": \"x\", \"y\": [500.0, 500.0, 500.0, 440.42857142857144, 528.5714285714286, 700.0, 557.1428571428571, 700.0, 771.4285714285714, 385.7142857142857, 100.0, 100.0, 100.0, 100.0, 100.0, 100.0, 50.0, 64.28571428571429, 100.0, 100.0, 100.0, 100.0, 100.0, 100.0, 100.0, 652.4285714285714, 2092.285714285714, 2000.0, 2256.0, 6000.0, 6000.0, 4984.571428571428, 4772.0, 3710.714285714286, 3236.8571428571427, 2178.5714285714284, 1914.2857142857142, 8161.0, 5948.857142857143, 3066.714285714286, 1269.0, 153.57142857142858, 946.4285714285714, 1525.0, 882.1428571428571, 525.0, 1360.7142857142858, 1882.142857142857, 757.1428571428571, 500.0, 1175.0, 868.25], \"yaxis\": \"y\"}, {\"hoverlabel\": {\"namelength\": 0}, \"hovertemplate\": \"YEAR=2018.0<br>OUTFLOW_CUECS=%{y}\", \"legendgroup\": \"YEAR=2018.0\", \"line\": {\"color\": \"#FF97FF\", \"dash\": \"solid\"}, \"mode\": \"lines\", \"name\": \"YEAR=2018.0\", \"showlegend\": true, \"type\": \"scatter\", \"xaxis\": \"x\", \"y\": [442.85714285714283, 300.0, 300.0, 314.2857142857143, 485.7142857142857, 1689.2857142857142, 2032.142857142857, 917.8571428571429, 757.1428571428571, 1728.5714285714287, 1182.142857142857, 392.85714285714283, 578.5714285714286, 914.2857142857143, 1514.2857142857142, 528.5714285714286, 600.0, 600.0, 600.0, 600.0, 525.0, 288.14285714285717, 100.0, 11709.666666666666, 8644.142857142857, 8053.571428571428, 7262.428571428572, 42169.0, 33163.0, 26709.0, 17360.714285714286, 43779.71428571428, 57106.0, 21636.85714285714, 7928.571428571428, 2678.5714285714284, 1507.142857142857, 2050.0, 2300.0, 2042.857142857143, 2014.2857142857142, 2041.0, 1617.2857142857142, 1957.142857142857, 1585.7142857142858, 1567.857142857143, 1078.0, 1046.4285714285713, 242.85714285714286, 542.8571428571429, 296.42857142857144, 0.0], \"yaxis\": \"y\"}, {\"hoverlabel\": {\"namelength\": 0}, \"hovertemplate\": \"YEAR=2019.0<br>OUTFLOW_CUECS=%{y}\", \"legendgroup\": \"YEAR=2019.0\", \"line\": {\"color\": \"#FECB52\", \"dash\": \"solid\"}, \"mode\": \"lines\", \"name\": \"YEAR=2019.0\", \"showlegend\": true, \"type\": \"scatter\", \"xaxis\": \"x\", \"y\": [111.57142857142857, 367.85714285714283, 392.85714285714283, 251.71428571428572, 417.42857142857144, 351.14285714285717, 783.0, 521.4285714285714, 827.2857142857143, 803.5714285714286, 836.8571428571429, 1438.142857142857, 1685.7142857142858, 632.1428571428571, 1609.5714285714287, 1300.0, 821.4285714285714, 714.2857142857143, 1688.0, 1071.4285714285713, 944.1428571428571, 835.7142857142857, 864.2857142857143, 700.0, 633.2857142857143, 558.5714285714286, 500.0, 500.0, 1753.0, 5547.571428571428, 1412.142857142857, 52850.42857142857, 14547.57142857143, 4879.714285714285, 7162.0, 20530.85714285714, 10013.142857142857, 2956.5714285714284, 2898.0, 1661.4285714285713, 1590.0, 1507.857142857143, 5436.857142857143, 2121.4285714285716, 1706.0, 1853.5714285714287, 2176.1428571428573, 2200.0, 1771.4285714285713, 1457.142857142857, 1014.2857142857143, 112.5], \"yaxis\": \"y\"}, {\"hoverlabel\": {\"namelength\": 0}, \"hovertemplate\": \"YEAR=2020.0<br>OUTFLOW_CUECS=%{y}\", \"legendgroup\": \"YEAR=2020.0\", \"line\": {\"color\": \"#636efa\", \"dash\": \"solid\"}, \"mode\": \"lines\", \"name\": \"YEAR=2020.0\", \"showlegend\": true, \"type\": \"scatter\", \"xaxis\": \"x\", \"y\": [50.0, 42.857142857142854, 0.0, 0.0, 0.0, 71.42857142857143, 107.14285714285714, 71.42857142857143, 1779.125, 1675.0, 732.1428571428571, 700.0, 860.7142857142857, 1325.0, 744.7142857142857, 739.2857142857143, 789.2857142857143, 700.0, 1450.0, 1719.0, 600.0, 796.4285714285714, 922.5, 1500.0, 1883.857142857143, 1500.0, 1500.0, 1941.2857142857142, 5320.285714285715, 10064.0, 2762.0, 2482.1428571428573, 2125.0, 3396.0, 13351.142857142857, 5082.0, 1976.857142857143, 2128.5714285714284, 2152.1428571428573, 1964.2857142857142, 2135.714285714286, 1918.5714285714287, 2240.0, 2398.5714285714284, 1911.142857142857, 1828.5714285714287, 482.14285714285717], \"yaxis\": \"y\"}],\n",
              "                        {\"legend\": {\"tracegroupgap\": 0}, \"margin\": {\"t\": 60}, \"template\": {\"data\": {\"bar\": [{\"error_x\": {\"color\": \"#2a3f5f\"}, \"error_y\": {\"color\": \"#2a3f5f\"}, \"marker\": {\"line\": {\"color\": \"#E5ECF6\", \"width\": 0.5}}, \"type\": \"bar\"}], \"barpolar\": [{\"marker\": {\"line\": {\"color\": \"#E5ECF6\", \"width\": 0.5}}, \"type\": \"barpolar\"}], \"carpet\": [{\"aaxis\": {\"endlinecolor\": \"#2a3f5f\", \"gridcolor\": \"white\", \"linecolor\": \"white\", \"minorgridcolor\": \"white\", \"startlinecolor\": \"#2a3f5f\"}, \"baxis\": {\"endlinecolor\": \"#2a3f5f\", \"gridcolor\": \"white\", \"linecolor\": \"white\", \"minorgridcolor\": \"white\", \"startlinecolor\": \"#2a3f5f\"}, \"type\": \"carpet\"}], \"choropleth\": [{\"colorbar\": {\"outlinewidth\": 0, \"ticks\": \"\"}, \"type\": \"choropleth\"}], \"contour\": [{\"colorbar\": {\"outlinewidth\": 0, \"ticks\": \"\"}, \"colorscale\": [[0.0, \"#0d0887\"], [0.1111111111111111, \"#46039f\"], [0.2222222222222222, \"#7201a8\"], [0.3333333333333333, \"#9c179e\"], [0.4444444444444444, \"#bd3786\"], [0.5555555555555556, \"#d8576b\"], [0.6666666666666666, \"#ed7953\"], [0.7777777777777778, \"#fb9f3a\"], [0.8888888888888888, \"#fdca26\"], [1.0, \"#f0f921\"]], \"type\": \"contour\"}], \"contourcarpet\": [{\"colorbar\": {\"outlinewidth\": 0, \"ticks\": \"\"}, \"type\": \"contourcarpet\"}], \"heatmap\": [{\"colorbar\": {\"outlinewidth\": 0, \"ticks\": \"\"}, \"colorscale\": [[0.0, \"#0d0887\"], [0.1111111111111111, \"#46039f\"], [0.2222222222222222, \"#7201a8\"], [0.3333333333333333, \"#9c179e\"], [0.4444444444444444, \"#bd3786\"], [0.5555555555555556, \"#d8576b\"], [0.6666666666666666, \"#ed7953\"], [0.7777777777777778, \"#fb9f3a\"], [0.8888888888888888, \"#fdca26\"], [1.0, \"#f0f921\"]], \"type\": \"heatmap\"}], \"heatmapgl\": [{\"colorbar\": {\"outlinewidth\": 0, \"ticks\": \"\"}, \"colorscale\": [[0.0, \"#0d0887\"], [0.1111111111111111, \"#46039f\"], [0.2222222222222222, \"#7201a8\"], [0.3333333333333333, \"#9c179e\"], [0.4444444444444444, \"#bd3786\"], [0.5555555555555556, \"#d8576b\"], [0.6666666666666666, \"#ed7953\"], [0.7777777777777778, \"#fb9f3a\"], [0.8888888888888888, \"#fdca26\"], [1.0, \"#f0f921\"]], \"type\": \"heatmapgl\"}], \"histogram\": [{\"marker\": {\"colorbar\": {\"outlinewidth\": 0, \"ticks\": \"\"}}, \"type\": \"histogram\"}], \"histogram2d\": [{\"colorbar\": {\"outlinewidth\": 0, \"ticks\": \"\"}, \"colorscale\": [[0.0, \"#0d0887\"], [0.1111111111111111, \"#46039f\"], [0.2222222222222222, \"#7201a8\"], [0.3333333333333333, \"#9c179e\"], [0.4444444444444444, \"#bd3786\"], [0.5555555555555556, \"#d8576b\"], [0.6666666666666666, \"#ed7953\"], [0.7777777777777778, \"#fb9f3a\"], [0.8888888888888888, \"#fdca26\"], [1.0, \"#f0f921\"]], \"type\": \"histogram2d\"}], \"histogram2dcontour\": [{\"colorbar\": {\"outlinewidth\": 0, \"ticks\": \"\"}, \"colorscale\": [[0.0, \"#0d0887\"], [0.1111111111111111, \"#46039f\"], [0.2222222222222222, \"#7201a8\"], [0.3333333333333333, \"#9c179e\"], [0.4444444444444444, \"#bd3786\"], [0.5555555555555556, \"#d8576b\"], [0.6666666666666666, \"#ed7953\"], [0.7777777777777778, \"#fb9f3a\"], [0.8888888888888888, \"#fdca26\"], [1.0, \"#f0f921\"]], \"type\": \"histogram2dcontour\"}], \"mesh3d\": [{\"colorbar\": {\"outlinewidth\": 0, \"ticks\": \"\"}, \"type\": \"mesh3d\"}], \"parcoords\": [{\"line\": {\"colorbar\": {\"outlinewidth\": 0, \"ticks\": \"\"}}, \"type\": \"parcoords\"}], \"pie\": [{\"automargin\": true, \"type\": \"pie\"}], \"scatter\": [{\"marker\": {\"colorbar\": {\"outlinewidth\": 0, \"ticks\": \"\"}}, \"type\": \"scatter\"}], \"scatter3d\": [{\"line\": {\"colorbar\": {\"outlinewidth\": 0, \"ticks\": \"\"}}, \"marker\": {\"colorbar\": {\"outlinewidth\": 0, \"ticks\": \"\"}}, \"type\": \"scatter3d\"}], \"scattercarpet\": [{\"marker\": {\"colorbar\": {\"outlinewidth\": 0, \"ticks\": \"\"}}, \"type\": \"scattercarpet\"}], \"scattergeo\": [{\"marker\": {\"colorbar\": {\"outlinewidth\": 0, \"ticks\": \"\"}}, \"type\": \"scattergeo\"}], \"scattergl\": [{\"marker\": {\"colorbar\": {\"outlinewidth\": 0, \"ticks\": \"\"}}, \"type\": \"scattergl\"}], \"scattermapbox\": [{\"marker\": {\"colorbar\": {\"outlinewidth\": 0, \"ticks\": \"\"}}, \"type\": \"scattermapbox\"}], \"scatterpolar\": [{\"marker\": {\"colorbar\": {\"outlinewidth\": 0, \"ticks\": \"\"}}, \"type\": \"scatterpolar\"}], \"scatterpolargl\": [{\"marker\": {\"colorbar\": {\"outlinewidth\": 0, \"ticks\": \"\"}}, \"type\": \"scatterpolargl\"}], \"scatterternary\": [{\"marker\": {\"colorbar\": {\"outlinewidth\": 0, \"ticks\": \"\"}}, \"type\": \"scatterternary\"}], \"surface\": [{\"colorbar\": {\"outlinewidth\": 0, \"ticks\": \"\"}, \"colorscale\": [[0.0, \"#0d0887\"], [0.1111111111111111, \"#46039f\"], [0.2222222222222222, \"#7201a8\"], [0.3333333333333333, \"#9c179e\"], [0.4444444444444444, \"#bd3786\"], [0.5555555555555556, \"#d8576b\"], [0.6666666666666666, \"#ed7953\"], [0.7777777777777778, \"#fb9f3a\"], [0.8888888888888888, \"#fdca26\"], [1.0, \"#f0f921\"]], \"type\": \"surface\"}], \"table\": [{\"cells\": {\"fill\": {\"color\": \"#EBF0F8\"}, \"line\": {\"color\": \"white\"}}, \"header\": {\"fill\": {\"color\": \"#C8D4E3\"}, \"line\": {\"color\": \"white\"}}, \"type\": \"table\"}]}, \"layout\": {\"annotationdefaults\": {\"arrowcolor\": \"#2a3f5f\", \"arrowhead\": 0, \"arrowwidth\": 1}, \"coloraxis\": {\"colorbar\": {\"outlinewidth\": 0, \"ticks\": \"\"}}, \"colorscale\": {\"diverging\": [[0, \"#8e0152\"], [0.1, \"#c51b7d\"], [0.2, \"#de77ae\"], [0.3, \"#f1b6da\"], [0.4, \"#fde0ef\"], [0.5, \"#f7f7f7\"], [0.6, \"#e6f5d0\"], [0.7, \"#b8e186\"], [0.8, \"#7fbc41\"], [0.9, \"#4d9221\"], [1, \"#276419\"]], \"sequential\": [[0.0, \"#0d0887\"], [0.1111111111111111, \"#46039f\"], [0.2222222222222222, \"#7201a8\"], [0.3333333333333333, \"#9c179e\"], [0.4444444444444444, \"#bd3786\"], [0.5555555555555556, \"#d8576b\"], [0.6666666666666666, \"#ed7953\"], [0.7777777777777778, \"#fb9f3a\"], [0.8888888888888888, \"#fdca26\"], [1.0, \"#f0f921\"]], \"sequentialminus\": [[0.0, \"#0d0887\"], [0.1111111111111111, \"#46039f\"], [0.2222222222222222, \"#7201a8\"], [0.3333333333333333, \"#9c179e\"], [0.4444444444444444, \"#bd3786\"], [0.5555555555555556, \"#d8576b\"], [0.6666666666666666, \"#ed7953\"], [0.7777777777777778, \"#fb9f3a\"], [0.8888888888888888, \"#fdca26\"], [1.0, \"#f0f921\"]]}, \"colorway\": [\"#636efa\", \"#EF553B\", \"#00cc96\", \"#ab63fa\", \"#FFA15A\", \"#19d3f3\", \"#FF6692\", \"#B6E880\", \"#FF97FF\", \"#FECB52\"], \"font\": {\"color\": \"#2a3f5f\"}, \"geo\": {\"bgcolor\": \"white\", \"lakecolor\": \"white\", \"landcolor\": \"#E5ECF6\", \"showlakes\": true, \"showland\": true, \"subunitcolor\": \"white\"}, \"hoverlabel\": {\"align\": \"left\"}, \"hovermode\": \"closest\", \"mapbox\": {\"style\": \"light\"}, \"paper_bgcolor\": \"white\", \"plot_bgcolor\": \"#E5ECF6\", \"polar\": {\"angularaxis\": {\"gridcolor\": \"white\", \"linecolor\": \"white\", \"ticks\": \"\"}, \"bgcolor\": \"#E5ECF6\", \"radialaxis\": {\"gridcolor\": \"white\", \"linecolor\": \"white\", \"ticks\": \"\"}}, \"scene\": {\"xaxis\": {\"backgroundcolor\": \"#E5ECF6\", \"gridcolor\": \"white\", \"gridwidth\": 2, \"linecolor\": \"white\", \"showbackground\": true, \"ticks\": \"\", \"zerolinecolor\": \"white\"}, \"yaxis\": {\"backgroundcolor\": \"#E5ECF6\", \"gridcolor\": \"white\", \"gridwidth\": 2, \"linecolor\": \"white\", \"showbackground\": true, \"ticks\": \"\", \"zerolinecolor\": \"white\"}, \"zaxis\": {\"backgroundcolor\": \"#E5ECF6\", \"gridcolor\": \"white\", \"gridwidth\": 2, \"linecolor\": \"white\", \"showbackground\": true, \"ticks\": \"\", \"zerolinecolor\": \"white\"}}, \"shapedefaults\": {\"line\": {\"color\": \"#2a3f5f\"}}, \"ternary\": {\"aaxis\": {\"gridcolor\": \"white\", \"linecolor\": \"white\", \"ticks\": \"\"}, \"baxis\": {\"gridcolor\": \"white\", \"linecolor\": \"white\", \"ticks\": \"\"}, \"bgcolor\": \"#E5ECF6\", \"caxis\": {\"gridcolor\": \"white\", \"linecolor\": \"white\", \"ticks\": \"\"}}, \"title\": {\"x\": 0.05}, \"xaxis\": {\"automargin\": true, \"gridcolor\": \"white\", \"linecolor\": \"white\", \"ticks\": \"\", \"title\": {\"standoff\": 15}, \"zerolinecolor\": \"white\", \"zerolinewidth\": 2}, \"yaxis\": {\"automargin\": true, \"gridcolor\": \"white\", \"linecolor\": \"white\", \"ticks\": \"\", \"title\": {\"standoff\": 15}, \"zerolinecolor\": \"white\", \"zerolinewidth\": 2}}}, \"xaxis\": {\"anchor\": \"y\", \"domain\": [0.0, 1.0]}, \"yaxis\": {\"anchor\": \"x\", \"domain\": [0.0, 1.0], \"title\": {\"text\": \"OUTFLOW_CUECS\"}}},\n",
              "                        {\"responsive\": true}\n",
              "                    ).then(function(){\n",
              "                            \n",
              "var gd = document.getElementById('e2a77c29-cba1-41df-9921-f46838275652');\n",
              "var x = new MutationObserver(function (mutations, observer) {{\n",
              "        var display = window.getComputedStyle(gd).display;\n",
              "        if (!display || display === 'none') {{\n",
              "            console.log([gd, 'removed!']);\n",
              "            Plotly.purge(gd);\n",
              "            observer.disconnect();\n",
              "        }}\n",
              "}});\n",
              "\n",
              "// Listen for the removal of the full notebook cells\n",
              "var notebookContainer = gd.closest('#notebook-container');\n",
              "if (notebookContainer) {{\n",
              "    x.observe(notebookContainer, {childList: true});\n",
              "}}\n",
              "\n",
              "// Listen for the clearing of the current output cell\n",
              "var outputEl = gd.closest('.output');\n",
              "if (outputEl) {{\n",
              "    x.observe(outputEl, {childList: true});\n",
              "}}\n",
              "\n",
              "                        })\n",
              "                };\n",
              "                \n",
              "            </script>\n",
              "        </div>\n",
              "</body>\n",
              "</html>"
            ]
          },
          "metadata": {
            "tags": []
          }
        }
      ]
    },
    {
      "cell_type": "code",
      "metadata": {
        "colab": {
          "base_uri": "https://localhost:8080/",
          "height": 542
        },
        "id": "ZU_dYM-wFi2l",
        "outputId": "6dde343f-8614-495a-a4e6-b69e866b1b1b"
      },
      "source": [
        "fig = px.line(data_frame=weeklykabini, y='RES_LEVEL_FT', color='YEAR')\n",
        "fig.show()"
      ],
      "execution_count": null,
      "outputs": [
        {
          "output_type": "display_data",
          "data": {
            "text/html": [
              "<html>\n",
              "<head><meta charset=\"utf-8\" /></head>\n",
              "<body>\n",
              "    <div>\n",
              "            <script src=\"https://cdnjs.cloudflare.com/ajax/libs/mathjax/2.7.5/MathJax.js?config=TeX-AMS-MML_SVG\"></script><script type=\"text/javascript\">if (window.MathJax) {MathJax.Hub.Config({SVG: {font: \"STIX-Web\"}});}</script>\n",
              "                <script type=\"text/javascript\">window.PlotlyConfig = {MathJaxConfig: 'local'};</script>\n",
              "        <script src=\"https://cdn.plot.ly/plotly-latest.min.js\"></script>    \n",
              "            <div id=\"3916fee0-1e6c-4b1e-a856-1debdfa1c7e1\" class=\"plotly-graph-div\" style=\"height:525px; width:100%;\"></div>\n",
              "            <script type=\"text/javascript\">\n",
              "                \n",
              "                    window.PLOTLYENV=window.PLOTLYENV || {};\n",
              "                    \n",
              "                if (document.getElementById(\"3916fee0-1e6c-4b1e-a856-1debdfa1c7e1\")) {\n",
              "                    Plotly.newPlot(\n",
              "                        '3916fee0-1e6c-4b1e-a856-1debdfa1c7e1',\n",
              "                        [{\"hoverlabel\": {\"namelength\": 0}, \"hovertemplate\": \"YEAR=2010.0<br>RES_LEVEL_FT=%{y}\", \"legendgroup\": \"YEAR=2010.0\", \"line\": {\"color\": \"#636efa\", \"dash\": \"solid\"}, \"mode\": \"lines\", \"name\": \"YEAR=2010.0\", \"showlegend\": true, \"type\": \"scatter\", \"xaxis\": \"x\", \"y\": [2280.59, 2280.31], \"yaxis\": \"y\"}, {\"hoverlabel\": {\"namelength\": 0}, \"hovertemplate\": \"YEAR=2011.0<br>RES_LEVEL_FT=%{y}\", \"legendgroup\": \"YEAR=2011.0\", \"line\": {\"color\": \"#EF553B\", \"dash\": \"solid\"}, \"mode\": \"lines\", \"name\": \"YEAR=2011.0\", \"showlegend\": true, \"type\": \"scatter\", \"xaxis\": \"x\", \"y\": [2279.13, 2279.195714285714, 2278.702857142857, 2278.4714285714285, 2277.98, 2277.2457142857143, 2276.017142857143, 2274.155714285714, 2272.1471428571426, 2270.2514285714287, 2269.5014285714287, 2268.4757142857143, 2348.0114285714285, 2264.707142857143, 2266.235714285714, 2266.2371428571428, 2264.3228571428567, 2261.905714285714, 2261.3800000000006, 2261.2575, 2263.04, 2267.7957142857144, 2276.1242857142856, 2280.485714285714, 2280.6114285714284, 2280.6899999999996, 2280.4114285714286, 2280.272857142857, 2282.615714285714, 2283.0214285714287, 2283.134285714286, 2282.92, 2283.6014285714286, 2281.4591666666665, 2280.735714285714, 2280.1671428571426, 2279.41, 2277.2914285714282, 2276.3114285714287, 2275.44, 2274.8914285714286, 2275.2128571428575, 2273.64, 2271.364285714286, 2269.9285714285716, 2270.1042857142857, 2270.12, 2270.4714285714285, 2270.79625], \"yaxis\": \"y\"}, {\"hoverlabel\": {\"namelength\": 0}, \"hovertemplate\": \"YEAR=2012.0<br>RES_LEVEL_FT=%{y}\", \"legendgroup\": \"YEAR=2012.0\", \"line\": {\"color\": \"#00cc96\", \"dash\": \"solid\"}, \"mode\": \"lines\", \"name\": \"YEAR=2012.0\", \"showlegend\": true, \"type\": \"scatter\", \"xaxis\": \"x\", \"y\": [2270.06, 2257.09, 2256.018, 2254.3333333333335, 2256.4375, 2258.095, 2261.898571428572, 2265.4199999999996, 2267.4557142857143, 2271.565714285714, 2275.9757142857147, 2280.582857142857, 2280.142857142857, 2279.5714285714284, 2279.35, 2281.11, 2280.845714285714, 2275.9942857142855, 2274.1714285714284, 2270.171428571429, 2267.922857142857, 2267.23, 2265.9642857142853, 2265.2214285714285, 2266.255714285714, 2264.741428571429, 2263.1071428571427, 2261.6728571428575, 2260.2157142857145, 2258.8857142857146, 2257.6085714285714, 2256.66875], \"yaxis\": \"y\"}, {\"hoverlabel\": {\"namelength\": 0}, \"hovertemplate\": \"YEAR=2013.0<br>RES_LEVEL_FT=%{y}\", \"legendgroup\": \"YEAR=2013.0\", \"line\": {\"color\": \"#ab63fa\", \"dash\": \"solid\"}, \"mode\": \"lines\", \"name\": \"YEAR=2013.0\", \"showlegend\": true, \"type\": \"scatter\", \"xaxis\": \"x\", \"y\": [2254.48, 2253.6628571428573, 2253.537142857143, 2269.842857142857, 2279.0299999999997, 2281.7242857142855, 2280.282857142857, 2280.21, 2281.9085714285716, 2281.404285714286, 2281.4757142857147, 2281.2799999999997, 2280.615714285714, 2279.757142857143, 2279.317142857143, 2279.25, 2281.812857142857, 2283.4814285714283, 2282.6642857142856, 2281.3957142857143, 2280.522857142857, 2281.153333333333, 2280.513333333334, 2278.467142857143, 2276.2228571428573, 2273.16, 2274.52, 2274.672857142857, 2274.677142857143, 2274.88, 2275.1175000000003], \"yaxis\": \"y\"}, {\"hoverlabel\": {\"namelength\": 0}, \"hovertemplate\": \"YEAR=2014.0<br>RES_LEVEL_FT=%{y}\", \"legendgroup\": \"YEAR=2014.0\", \"line\": {\"color\": \"#FFA15A\", \"dash\": \"solid\"}, \"mode\": \"lines\", \"name\": \"YEAR=2014.0\", \"showlegend\": true, \"type\": \"scatter\", \"xaxis\": \"x\", \"y\": [2275.367142857143, 2275.575714285714, 2275.7214285714285, 2275.82, 2275.85, 2275.862857142857, 2275.8314285714287, 2275.7157142857145, 2275.0257142857145, 2273.97, 2272.8457142857146, 2271.588333333333, 2270.425714285714, 2269.017142857143, 2267.6471428571426, 2266.84, 2265.9857142857145, 2265.0014285714283, 2265.6485714285714, 2265.588333333333, 2264.5842857142857, 2263.7825, 2263.334, 2262.5842857142857, 2267.0842857142857, 2270.6899999999996, 2269.362857142857, 2272.105714285714, 2281.4100000000003, 2280.381428571429, 2280.827142857143, 2281.8685714285716, 2281.2514285714283, 2282.0185714285712, 2283.0, 2283.6142857142854, 2283.98, 2283.637142857143, 2283.902857142857, 2283.6114285714284, 2282.83, 2282.1857142857143, 2281.902857142857, 2281.9, 2280.298571428572, 2278.51, 2276.552857142857, 2274.5842857142857, 2272.7414285714285, 2272.907142857143, 2275.2014285714286, 2275.6400000000003], \"yaxis\": \"y\"}, {\"hoverlabel\": {\"namelength\": 0}, \"hovertemplate\": \"YEAR=2015.0<br>RES_LEVEL_FT=%{y}\", \"legendgroup\": \"YEAR=2015.0\", \"line\": {\"color\": \"#19d3f3\", \"dash\": \"solid\"}, \"mode\": \"lines\", \"name\": \"YEAR=2015.0\", \"showlegend\": true, \"type\": \"scatter\", \"xaxis\": \"x\", \"y\": [2275.647142857143, 2276.155714285714, 2276.3557142857144, 2276.5257142857145, 2276.662857142857, 2276.7085714285713, 2276.6757142857145, 2276.3300000000004, 2275.2585714285715, 2274.442857142857, 2273.6657142857143, 2273.1800000000003, 2272.594285714286, 2271.412857142857, 2270.84, 2270.482857142857, 2269.4185714285713, 2268.574285714286, 2267.4828571428575, 2267.7542857142857, 2267.2771428571427, 2263.9624999999996, 2265.5150000000003, 2264.4728571428573, 2267.8642857142854, 2281.14, 2282.8185714285714, 2282.775714285714, 2282.8714285714286, 2283.232857142857, 2281.634285714286, 2280.9628571428575, 2281.0828571428574, 2279.39, 2277.0371428571425, 2275.7042857142856, 2276.502857142857, 2275.0185714285712, 2271.612857142857, 2271.287142857143, 2272.2114285714283, 2272.0657142857144, 2270.7428571428572, 2269.087142857143, 2269.07, 2269.5114285714285, 2269.1557142857146, 2268.2457142857143, 2266.6157142857146, 2265.9357142857143, 2265.4985714285717, 2265.2475], \"yaxis\": \"y\"}, {\"hoverlabel\": {\"namelength\": 0}, \"hovertemplate\": \"YEAR=2016.0<br>RES_LEVEL_FT=%{y}\", \"legendgroup\": \"YEAR=2016.0\", \"line\": {\"color\": \"#FF6692\", \"dash\": \"solid\"}, \"mode\": \"lines\", \"name\": \"YEAR=2016.0\", \"showlegend\": true, \"type\": \"scatter\", \"xaxis\": \"x\", \"y\": [2265.46, 2265.4557142857147, 2265.328571428571, 2265.4942857142855, 2265.422857142857, 2265.07, 2264.88, 2264.2214285714285, 2262.51125, 2260.9557142857143, 2259.888571428571, 2258.8957142857143, 2257.8571428571427, 2256.7685714285717, 2255.1785714285716, 2253.3885714285716, 2251.7000000000003, 2249.66, 2248.01, 2246.07, 2243.994285714286, 2242.9185714285713, 2241.902857142857, 2241.8785714285714, 2243.637142857143, 2250.4042857142854, 2263.2085714285718, 2268.308571428571, 2271.5742857142855, 2273.79, 2274.7971428571427, 2275.5914285714284, 2276.0342857142855, 2277.102857142857, 2275.7928571428574, 2275.6471428571426, 2271.934285714286, 2269.648571428571, 2270.614285714286, 2270.9914285714285, 2267.6985714285715, 2267.51, 2266.9957142857143, 2265.582857142857, 2265.717142857143, 2264.1971428571433, 2263.8385714285714, 2263.302857142857, 2262.9157142857143, 2262.312857142857, 2261.7171428571423, 2261.07625], \"yaxis\": \"y\"}, {\"hoverlabel\": {\"namelength\": 0}, \"hovertemplate\": \"YEAR=2017.0<br>RES_LEVEL_FT=%{y}\", \"legendgroup\": \"YEAR=2017.0\", \"line\": {\"color\": \"#B6E880\", \"dash\": \"solid\"}, \"mode\": \"lines\", \"name\": \"YEAR=2017.0\", \"showlegend\": true, \"type\": \"scatter\", \"xaxis\": \"x\", \"y\": [2260.382857142857, 2259.6871428571426, 2258.9471428571424, 2258.2485714285717, 2257.5000000000005, 2256.4300000000003, 2255.364285714286, 2254.191428571429, 2252.762857142857, 2251.492857142857, 2251.1928571428575, 2250.944285714286, 2250.697142857143, 2250.407142857143, 2250.1085714285714, 2249.772857142857, 2249.5371428571425, 2249.3542857142857, 2249.0671428571427, 2248.7528571428566, 2248.4657142857145, 2248.232857142857, 2248.0785714285716, 2248.875714285715, 2250.0628571428574, 2256.0542857142855, 2262.3571428571427, 2263.932857142857, 2268.187142857143, 2273.558571428571, 2270.9885714285715, 2270.158571428571, 2267.8300000000004, 2268.927142857143, 2273.7785714285715, 2277.7000000000003, 2278.9414285714283, 2282.4757142857143, 2282.2114285714283, 2280.9385714285713, 2280.7557142857145, 2281.964285714286, 2282.19, 2281.7185714285715, 2280.8928571428573, 2280.68, 2280.091428571429, 2278.4757142857143, 2277.328571428571, 2276.85, 2276.06, 2274.65625], \"yaxis\": \"y\"}, {\"hoverlabel\": {\"namelength\": 0}, \"hovertemplate\": \"YEAR=2018.0<br>RES_LEVEL_FT=%{y}\", \"legendgroup\": \"YEAR=2018.0\", \"line\": {\"color\": \"#FF97FF\", \"dash\": \"solid\"}, \"mode\": \"lines\", \"name\": \"YEAR=2018.0\", \"showlegend\": true, \"type\": \"scatter\", \"xaxis\": \"x\", \"y\": [2274.0728571428567, 2273.75, 2273.4700000000003, 2273.187142857143, 2272.784285714286, 2271.5571428571425, 2269.022857142857, 2267.4742857142855, 2266.4485714285715, 2264.76, 2262.652857142857, 2262.464285714286, 2261.662857142857, 2260.605714285714, 2258.4057142857146, 2256.905714285714, 2256.184285714286, 2255.298571428571, 2254.6885714285713, 2254.6014285714286, 2254.947142857143, 2257.6042857142857, 2260.0625, 2276.2566666666667, 2281.4357142857143, 2281.8700000000003, 2282.315714285714, 2281.902857142857, 2282.37, 2282.88, 2283.094285714286, 2282.0371428571425, 2278.73, 2282.0, 2282.9371428571426, 2283.6414285714286, 2283.652857142857, 2283.2000000000003, 2282.3771428571426, 2282.4614285714283, 2283.324285714286, 2283.6071428571427, 2283.6571428571433, 2282.345714285714, 2280.9842857142858, 2279.5214285714287, 2278.2157142857145, 2277.304285714286, 2276.87, 2276.647142857143, 2276.2771428571427, 2276.39875], \"yaxis\": \"y\"}, {\"hoverlabel\": {\"namelength\": 0}, \"hovertemplate\": \"YEAR=2019.0<br>RES_LEVEL_FT=%{y}\", \"legendgroup\": \"YEAR=2019.0\", \"line\": {\"color\": \"#FECB52\", \"dash\": \"solid\"}, \"mode\": \"lines\", \"name\": \"YEAR=2019.0\", \"showlegend\": true, \"type\": \"scatter\", \"xaxis\": \"x\", \"y\": [2276.5699999999997, 2276.3571428571427, 2276.1471428571426, 2275.8357142857144, 2275.6857142857143, 2275.33, 2274.832857142857, 2274.1057142857144, 2273.2785714285715, 2272.2585714285715, 2271.2142857142853, 2269.792857142857, 2267.5414285714287, 2266.1071428571427, 2264.5271428571427, 2262.2900000000004, 2261.73, 2261.3471428571424, 2260.5571428571425, 2259.797142857143, 2259.087142857143, 2257.972857142857, 2256.7614285714285, 2256.7400000000002, 2256.558571428571, 2257.37, 2259.557142857143, 2267.1400000000003, 2269.6585714285716, 2273.0042857142857, 2273.752857142857, 2280.2085714285718, 2283.3142857142857, 2283.8157142857144, 2283.828571428571, 2283.674285714286, 2283.82, 2283.982857142857, 2284.0, 2283.8485714285716, 2283.611428571429, 2283.7314285714283, 2283.8985714285714, 2283.938571428572, 2283.6685714285713, 2283.245714285714, 2281.855714285714, 2279.89, 2278.8971428571426, 2277.6957142857145, 2277.002857142857, 2276.71875], \"yaxis\": \"y\"}, {\"hoverlabel\": {\"namelength\": 0}, \"hovertemplate\": \"YEAR=2020.0<br>RES_LEVEL_FT=%{y}\", \"legendgroup\": \"YEAR=2020.0\", \"line\": {\"color\": \"#636efa\", \"dash\": \"solid\"}, \"mode\": \"lines\", \"name\": \"YEAR=2020.0\", \"showlegend\": true, \"type\": \"scatter\", \"xaxis\": \"x\", \"y\": [2276.991428571429, 2277.2385714285715, 2277.532857142857, 2277.8142857142857, 2278.072857142857, 2278.2971428571427, 2278.307142857143, 2278.3528571428574, 2277.0025, 2275.1342857142854, 2273.9371428571426, 2273.1914285714283, 2272.43, 2271.0585714285717, 2269.997142857143, 2269.197142857143, 2268.197142857143, 2267.402857142857, 2266.1385714285716, 2264.105714285715, 2262.8185714285714, 2262.0, 2261.924, 2261.837142857143, 2262.2885714285717, 2261.68, 2264.095714285714, 2276.8785714285714, 2278.1057142857144, 2283.0099999999998, 2283.882857142857, 2283.13, 2282.742857142857, 2283.612857142857, 2283.6214285714286, 2283.8328571428574, 2283.592857142857, 2283.155714285714, 2283.4957142857143, 2282.555714285714, 2280.942857142857, 2279.624285714286, 2277.8585714285714, 2272.112857142857, 2273.7557142857145, 2271.971428571429, 2271.3914285714286], \"yaxis\": \"y\"}],\n",
              "                        {\"legend\": {\"tracegroupgap\": 0}, \"margin\": {\"t\": 60}, \"template\": {\"data\": {\"bar\": [{\"error_x\": {\"color\": \"#2a3f5f\"}, \"error_y\": {\"color\": \"#2a3f5f\"}, \"marker\": {\"line\": {\"color\": \"#E5ECF6\", \"width\": 0.5}}, \"type\": \"bar\"}], \"barpolar\": [{\"marker\": {\"line\": {\"color\": \"#E5ECF6\", \"width\": 0.5}}, \"type\": \"barpolar\"}], \"carpet\": [{\"aaxis\": {\"endlinecolor\": \"#2a3f5f\", \"gridcolor\": \"white\", \"linecolor\": \"white\", \"minorgridcolor\": \"white\", \"startlinecolor\": \"#2a3f5f\"}, \"baxis\": {\"endlinecolor\": \"#2a3f5f\", \"gridcolor\": \"white\", \"linecolor\": \"white\", \"minorgridcolor\": \"white\", \"startlinecolor\": \"#2a3f5f\"}, \"type\": \"carpet\"}], \"choropleth\": [{\"colorbar\": {\"outlinewidth\": 0, \"ticks\": \"\"}, \"type\": \"choropleth\"}], \"contour\": [{\"colorbar\": {\"outlinewidth\": 0, \"ticks\": \"\"}, \"colorscale\": [[0.0, \"#0d0887\"], [0.1111111111111111, \"#46039f\"], [0.2222222222222222, \"#7201a8\"], [0.3333333333333333, \"#9c179e\"], [0.4444444444444444, \"#bd3786\"], [0.5555555555555556, \"#d8576b\"], [0.6666666666666666, \"#ed7953\"], [0.7777777777777778, \"#fb9f3a\"], [0.8888888888888888, \"#fdca26\"], [1.0, \"#f0f921\"]], \"type\": \"contour\"}], \"contourcarpet\": [{\"colorbar\": {\"outlinewidth\": 0, \"ticks\": \"\"}, \"type\": \"contourcarpet\"}], \"heatmap\": [{\"colorbar\": {\"outlinewidth\": 0, \"ticks\": \"\"}, \"colorscale\": [[0.0, \"#0d0887\"], [0.1111111111111111, \"#46039f\"], [0.2222222222222222, \"#7201a8\"], [0.3333333333333333, \"#9c179e\"], [0.4444444444444444, \"#bd3786\"], [0.5555555555555556, \"#d8576b\"], [0.6666666666666666, \"#ed7953\"], [0.7777777777777778, \"#fb9f3a\"], [0.8888888888888888, \"#fdca26\"], [1.0, \"#f0f921\"]], \"type\": \"heatmap\"}], \"heatmapgl\": [{\"colorbar\": {\"outlinewidth\": 0, \"ticks\": \"\"}, \"colorscale\": [[0.0, \"#0d0887\"], [0.1111111111111111, \"#46039f\"], [0.2222222222222222, \"#7201a8\"], [0.3333333333333333, \"#9c179e\"], [0.4444444444444444, \"#bd3786\"], [0.5555555555555556, \"#d8576b\"], [0.6666666666666666, \"#ed7953\"], [0.7777777777777778, \"#fb9f3a\"], [0.8888888888888888, \"#fdca26\"], [1.0, \"#f0f921\"]], \"type\": \"heatmapgl\"}], \"histogram\": [{\"marker\": {\"colorbar\": {\"outlinewidth\": 0, \"ticks\": \"\"}}, \"type\": \"histogram\"}], \"histogram2d\": [{\"colorbar\": {\"outlinewidth\": 0, \"ticks\": \"\"}, \"colorscale\": [[0.0, \"#0d0887\"], [0.1111111111111111, \"#46039f\"], [0.2222222222222222, \"#7201a8\"], [0.3333333333333333, \"#9c179e\"], [0.4444444444444444, \"#bd3786\"], [0.5555555555555556, \"#d8576b\"], [0.6666666666666666, \"#ed7953\"], [0.7777777777777778, \"#fb9f3a\"], [0.8888888888888888, \"#fdca26\"], [1.0, \"#f0f921\"]], \"type\": \"histogram2d\"}], \"histogram2dcontour\": [{\"colorbar\": {\"outlinewidth\": 0, \"ticks\": \"\"}, \"colorscale\": [[0.0, \"#0d0887\"], [0.1111111111111111, \"#46039f\"], [0.2222222222222222, \"#7201a8\"], [0.3333333333333333, \"#9c179e\"], [0.4444444444444444, \"#bd3786\"], [0.5555555555555556, \"#d8576b\"], [0.6666666666666666, \"#ed7953\"], [0.7777777777777778, \"#fb9f3a\"], [0.8888888888888888, \"#fdca26\"], [1.0, \"#f0f921\"]], \"type\": \"histogram2dcontour\"}], \"mesh3d\": [{\"colorbar\": {\"outlinewidth\": 0, \"ticks\": \"\"}, \"type\": \"mesh3d\"}], \"parcoords\": [{\"line\": {\"colorbar\": {\"outlinewidth\": 0, \"ticks\": \"\"}}, \"type\": \"parcoords\"}], \"pie\": [{\"automargin\": true, \"type\": \"pie\"}], \"scatter\": [{\"marker\": {\"colorbar\": {\"outlinewidth\": 0, \"ticks\": \"\"}}, \"type\": \"scatter\"}], \"scatter3d\": [{\"line\": {\"colorbar\": {\"outlinewidth\": 0, \"ticks\": \"\"}}, \"marker\": {\"colorbar\": {\"outlinewidth\": 0, \"ticks\": \"\"}}, \"type\": \"scatter3d\"}], \"scattercarpet\": [{\"marker\": {\"colorbar\": {\"outlinewidth\": 0, \"ticks\": \"\"}}, \"type\": \"scattercarpet\"}], \"scattergeo\": [{\"marker\": {\"colorbar\": {\"outlinewidth\": 0, \"ticks\": \"\"}}, \"type\": \"scattergeo\"}], \"scattergl\": [{\"marker\": {\"colorbar\": {\"outlinewidth\": 0, \"ticks\": \"\"}}, \"type\": \"scattergl\"}], \"scattermapbox\": [{\"marker\": {\"colorbar\": {\"outlinewidth\": 0, \"ticks\": \"\"}}, \"type\": \"scattermapbox\"}], \"scatterpolar\": [{\"marker\": {\"colorbar\": {\"outlinewidth\": 0, \"ticks\": \"\"}}, \"type\": \"scatterpolar\"}], \"scatterpolargl\": [{\"marker\": {\"colorbar\": {\"outlinewidth\": 0, \"ticks\": \"\"}}, \"type\": \"scatterpolargl\"}], \"scatterternary\": [{\"marker\": {\"colorbar\": {\"outlinewidth\": 0, \"ticks\": \"\"}}, \"type\": \"scatterternary\"}], \"surface\": [{\"colorbar\": {\"outlinewidth\": 0, \"ticks\": \"\"}, \"colorscale\": [[0.0, \"#0d0887\"], [0.1111111111111111, \"#46039f\"], [0.2222222222222222, \"#7201a8\"], [0.3333333333333333, \"#9c179e\"], [0.4444444444444444, \"#bd3786\"], [0.5555555555555556, \"#d8576b\"], [0.6666666666666666, \"#ed7953\"], [0.7777777777777778, \"#fb9f3a\"], [0.8888888888888888, \"#fdca26\"], [1.0, \"#f0f921\"]], \"type\": \"surface\"}], \"table\": [{\"cells\": {\"fill\": {\"color\": \"#EBF0F8\"}, \"line\": {\"color\": \"white\"}}, \"header\": {\"fill\": {\"color\": \"#C8D4E3\"}, \"line\": {\"color\": \"white\"}}, \"type\": \"table\"}]}, \"layout\": {\"annotationdefaults\": {\"arrowcolor\": \"#2a3f5f\", \"arrowhead\": 0, \"arrowwidth\": 1}, \"coloraxis\": {\"colorbar\": {\"outlinewidth\": 0, \"ticks\": \"\"}}, \"colorscale\": {\"diverging\": [[0, \"#8e0152\"], [0.1, \"#c51b7d\"], [0.2, \"#de77ae\"], [0.3, \"#f1b6da\"], [0.4, \"#fde0ef\"], [0.5, \"#f7f7f7\"], [0.6, \"#e6f5d0\"], [0.7, \"#b8e186\"], [0.8, \"#7fbc41\"], [0.9, \"#4d9221\"], [1, \"#276419\"]], \"sequential\": [[0.0, \"#0d0887\"], [0.1111111111111111, \"#46039f\"], [0.2222222222222222, \"#7201a8\"], [0.3333333333333333, \"#9c179e\"], [0.4444444444444444, \"#bd3786\"], [0.5555555555555556, \"#d8576b\"], [0.6666666666666666, \"#ed7953\"], [0.7777777777777778, \"#fb9f3a\"], [0.8888888888888888, \"#fdca26\"], [1.0, \"#f0f921\"]], \"sequentialminus\": [[0.0, \"#0d0887\"], [0.1111111111111111, \"#46039f\"], [0.2222222222222222, \"#7201a8\"], [0.3333333333333333, \"#9c179e\"], [0.4444444444444444, \"#bd3786\"], [0.5555555555555556, \"#d8576b\"], [0.6666666666666666, \"#ed7953\"], [0.7777777777777778, \"#fb9f3a\"], [0.8888888888888888, \"#fdca26\"], [1.0, \"#f0f921\"]]}, \"colorway\": [\"#636efa\", \"#EF553B\", \"#00cc96\", \"#ab63fa\", \"#FFA15A\", \"#19d3f3\", \"#FF6692\", \"#B6E880\", \"#FF97FF\", \"#FECB52\"], \"font\": {\"color\": \"#2a3f5f\"}, \"geo\": {\"bgcolor\": \"white\", \"lakecolor\": \"white\", \"landcolor\": \"#E5ECF6\", \"showlakes\": true, \"showland\": true, \"subunitcolor\": \"white\"}, \"hoverlabel\": {\"align\": \"left\"}, \"hovermode\": \"closest\", \"mapbox\": {\"style\": \"light\"}, \"paper_bgcolor\": \"white\", \"plot_bgcolor\": \"#E5ECF6\", \"polar\": {\"angularaxis\": {\"gridcolor\": \"white\", \"linecolor\": \"white\", \"ticks\": \"\"}, \"bgcolor\": \"#E5ECF6\", \"radialaxis\": {\"gridcolor\": \"white\", \"linecolor\": \"white\", \"ticks\": \"\"}}, \"scene\": {\"xaxis\": {\"backgroundcolor\": \"#E5ECF6\", \"gridcolor\": \"white\", \"gridwidth\": 2, \"linecolor\": \"white\", \"showbackground\": true, \"ticks\": \"\", \"zerolinecolor\": \"white\"}, \"yaxis\": {\"backgroundcolor\": \"#E5ECF6\", \"gridcolor\": \"white\", \"gridwidth\": 2, \"linecolor\": \"white\", \"showbackground\": true, \"ticks\": \"\", \"zerolinecolor\": \"white\"}, \"zaxis\": {\"backgroundcolor\": \"#E5ECF6\", \"gridcolor\": \"white\", \"gridwidth\": 2, \"linecolor\": \"white\", \"showbackground\": true, \"ticks\": \"\", \"zerolinecolor\": \"white\"}}, \"shapedefaults\": {\"line\": {\"color\": \"#2a3f5f\"}}, \"ternary\": {\"aaxis\": {\"gridcolor\": \"white\", \"linecolor\": \"white\", \"ticks\": \"\"}, \"baxis\": {\"gridcolor\": \"white\", \"linecolor\": \"white\", \"ticks\": \"\"}, \"bgcolor\": \"#E5ECF6\", \"caxis\": {\"gridcolor\": \"white\", \"linecolor\": \"white\", \"ticks\": \"\"}}, \"title\": {\"x\": 0.05}, \"xaxis\": {\"automargin\": true, \"gridcolor\": \"white\", \"linecolor\": \"white\", \"ticks\": \"\", \"title\": {\"standoff\": 15}, \"zerolinecolor\": \"white\", \"zerolinewidth\": 2}, \"yaxis\": {\"automargin\": true, \"gridcolor\": \"white\", \"linecolor\": \"white\", \"ticks\": \"\", \"title\": {\"standoff\": 15}, \"zerolinecolor\": \"white\", \"zerolinewidth\": 2}}}, \"xaxis\": {\"anchor\": \"y\", \"domain\": [0.0, 1.0]}, \"yaxis\": {\"anchor\": \"x\", \"domain\": [0.0, 1.0], \"title\": {\"text\": \"RES_LEVEL_FT\"}}},\n",
              "                        {\"responsive\": true}\n",
              "                    ).then(function(){\n",
              "                            \n",
              "var gd = document.getElementById('3916fee0-1e6c-4b1e-a856-1debdfa1c7e1');\n",
              "var x = new MutationObserver(function (mutations, observer) {{\n",
              "        var display = window.getComputedStyle(gd).display;\n",
              "        if (!display || display === 'none') {{\n",
              "            console.log([gd, 'removed!']);\n",
              "            Plotly.purge(gd);\n",
              "            observer.disconnect();\n",
              "        }}\n",
              "}});\n",
              "\n",
              "// Listen for the removal of the full notebook cells\n",
              "var notebookContainer = gd.closest('#notebook-container');\n",
              "if (notebookContainer) {{\n",
              "    x.observe(notebookContainer, {childList: true});\n",
              "}}\n",
              "\n",
              "// Listen for the clearing of the current output cell\n",
              "var outputEl = gd.closest('.output');\n",
              "if (outputEl) {{\n",
              "    x.observe(outputEl, {childList: true});\n",
              "}}\n",
              "\n",
              "                        })\n",
              "                };\n",
              "                \n",
              "            </script>\n",
              "        </div>\n",
              "</body>\n",
              "</html>"
            ]
          },
          "metadata": {
            "tags": []
          }
        }
      ]
    },
    {
      "cell_type": "code",
      "metadata": {
        "colab": {
          "base_uri": "https://localhost:8080/",
          "height": 542
        },
        "id": "-7Q9DiOeFxza",
        "outputId": "3092cfcc-0417-447a-e2c0-4d534eaface1"
      },
      "source": [
        "fig = px.line(data_frame=weeklykabini, y='PRESENT_STORAGE_TMC', color='YEAR')\n",
        "fig.show()"
      ],
      "execution_count": null,
      "outputs": [
        {
          "output_type": "display_data",
          "data": {
            "text/html": [
              "<html>\n",
              "<head><meta charset=\"utf-8\" /></head>\n",
              "<body>\n",
              "    <div>\n",
              "            <script src=\"https://cdnjs.cloudflare.com/ajax/libs/mathjax/2.7.5/MathJax.js?config=TeX-AMS-MML_SVG\"></script><script type=\"text/javascript\">if (window.MathJax) {MathJax.Hub.Config({SVG: {font: \"STIX-Web\"}});}</script>\n",
              "                <script type=\"text/javascript\">window.PlotlyConfig = {MathJaxConfig: 'local'};</script>\n",
              "        <script src=\"https://cdn.plot.ly/plotly-latest.min.js\"></script>    \n",
              "            <div id=\"05dc0fc2-01a3-441c-8369-42c19558c8fd\" class=\"plotly-graph-div\" style=\"height:525px; width:100%;\"></div>\n",
              "            <script type=\"text/javascript\">\n",
              "                \n",
              "                    window.PLOTLYENV=window.PLOTLYENV || {};\n",
              "                    \n",
              "                if (document.getElementById(\"05dc0fc2-01a3-441c-8369-42c19558c8fd\")) {\n",
              "                    Plotly.newPlot(\n",
              "                        '05dc0fc2-01a3-441c-8369-42c19558c8fd',\n",
              "                        [{\"hoverlabel\": {\"namelength\": 0}, \"hovertemplate\": \"YEAR=2010.0<br>PRESENT_STORAGE_TMC=%{y}\", \"legendgroup\": \"YEAR=2010.0\", \"line\": {\"color\": \"#636efa\", \"dash\": \"solid\"}, \"mode\": \"lines\", \"name\": \"YEAR=2010.0\", \"showlegend\": true, \"type\": \"scatter\", \"xaxis\": \"x\", \"y\": [17.39, 17.23], \"yaxis\": \"y\"}, {\"hoverlabel\": {\"namelength\": 0}, \"hovertemplate\": \"YEAR=2011.0<br>PRESENT_STORAGE_TMC=%{y}\", \"legendgroup\": \"YEAR=2011.0\", \"line\": {\"color\": \"#EF553B\", \"dash\": \"solid\"}, \"mode\": \"lines\", \"name\": \"YEAR=2011.0\", \"showlegend\": true, \"type\": \"scatter\", \"xaxis\": \"x\", \"y\": [16.549999999999997, 16.587142857142858, 16.31, 16.184285714285714, 15.909999999999998, 15.5, 14.828571428571431, 13.822857142857142, 12.76142857142857, 11.807142857142855, 11.44, 10.952857142857143, 9.152857142857142, 9.241428571428571, 9.921428571428569, 9.92, 9.077142857142857, 8.06142857142857, 7.8500000000000005, 7.802499999999999, 8.552, 10.642857142857142, 14.90857142857143, 17.341428571428573, 17.408571428571427, 17.454285714285714, 17.288571428571426, 17.20714285714286, 18.625714285714288, 18.882857142857144, 18.957142857142856, 18.818571428571428, 19.259999999999998, 17.97833333333333, 17.51642857142857, 17.157142857142855, 16.71, 15.528571428571428, 14.99, 14.514285714285714, 14.217142857142857, 14.388571428571428, 13.545714285714286, 12.36, 11.645714285714286, 11.732857142857142, 11.744285714285715, 11.914285714285715, 12.073750000000002], \"yaxis\": \"y\"}, {\"hoverlabel\": {\"namelength\": 0}, \"hovertemplate\": \"YEAR=2012.0<br>PRESENT_STORAGE_TMC=%{y}\", \"legendgroup\": \"YEAR=2012.0\", \"line\": {\"color\": \"#00cc96\", \"dash\": \"solid\"}, \"mode\": \"lines\", \"name\": \"YEAR=2012.0\", \"showlegend\": true, \"type\": \"scatter\", \"xaxis\": \"x\", \"y\": [11.71, 6.3, 5.9079999999999995, 5.3566666666666665, 6.06875, 6.636666666666667, 8.077142857142858, 9.558571428571428, 10.477142857142857, 12.48, 14.805714285714288, 17.408571428571427, 17.130000000000003, 16.8, 16.67857142857143, 17.705714285714286, 17.552857142857142, 14.814285714285713, 13.827142857142858, 11.775714285714287, 10.692857142857141, 10.370000000000001, 9.797142857142857, 9.468571428571428, 9.928571428571429, 9.258571428571429, 8.55285714285714, 6.8571428571428585, 7.4071428571428575, 6.918571428571427, 6.467142857142858, 6.142499999999999], \"yaxis\": \"y\"}, {\"hoverlabel\": {\"namelength\": 0}, \"hovertemplate\": \"YEAR=2013.0<br>PRESENT_STORAGE_TMC=%{y}\", \"legendgroup\": \"YEAR=2013.0\", \"line\": {\"color\": \"#ab63fa\", \"dash\": \"solid\"}, \"mode\": \"lines\", \"name\": \"YEAR=2013.0\", \"showlegend\": true, \"type\": \"scatter\", \"xaxis\": \"x\", \"y\": [5.408571428571428, 5.151428571428572, 5.174285714285714, 11.200000000000001, 15.042857142857144, 18.082857142857144, 17.211428571428574, 17.17142857142857, 18.192857142857143, 17.882857142857144, 17.925714285714285, 17.80857142857143, 17.41, 16.90857142857143, 16.655714285714286, 16.617142857142856, 18.148571428571426, 19.18142857142857, 18.66, 17.875714285714285, 17.352857142857143, 17.729999999999997, 17.350000000000005, 16.687142857142856, 14.941428571428572, 14.200000000000001, 12.012857142857143, 14.097142857142856, 14.102857142857143, 14.211428571428572, 14.33875], \"yaxis\": \"y\"}, {\"hoverlabel\": {\"namelength\": 0}, \"hovertemplate\": \"YEAR=2014.0<br>PRESENT_STORAGE_TMC=%{y}\", \"legendgroup\": \"YEAR=2014.0\", \"line\": {\"color\": \"#FFA15A\", \"dash\": \"solid\"}, \"mode\": \"lines\", \"name\": \"YEAR=2014.0\", \"showlegend\": true, \"type\": \"scatter\", \"xaxis\": \"x\", \"y\": [14.474285714285713, 14.585714285714285, 14.667142857142858, 14.72, 14.739999999999998, 14.742857142857144, 14.728571428571428, 14.664285714285713, 14.288571428571428, 13.72142857142857, 13.12142857142857, 12.471666666666666, 11.891428571428573, 11.209999999999999, 10.564285714285715, 10.192857142857141, 9.808571428571428, 9.370000000000001, 9.657142857142857, 8.252857142857144, 9.187142857142856, 8.84, 8.649, 8.337142857142856, 10.370000000000001, 12.02857142857143, 11.374285714285715, 12.781428571428572, 17.895714285714288, 17.277142857142856, 17.53857142857143, 18.15857142857143, 17.791428571428572, 18.261428571428574, 18.871428571428574, 19.264285714285716, 19.505714285714284, 19.28, 19.454285714285714, 19.312857142857144, 18.759999999999998, 18.357142857142858, 18.184285714285714, 18.184285714285714, 17.224285714285713, 16.202857142857145, 15.12142857142857, 14.051428571428573, 13.06857142857143, 13.155714285714286, 14.385714285714286, 14.6225], \"yaxis\": \"y\"}, {\"hoverlabel\": {\"namelength\": 0}, \"hovertemplate\": \"YEAR=2015.0<br>PRESENT_STORAGE_TMC=%{y}\", \"legendgroup\": \"YEAR=2015.0\", \"line\": {\"color\": \"#19d3f3\", \"dash\": \"solid\"}, \"mode\": \"lines\", \"name\": \"YEAR=2015.0\", \"showlegend\": true, \"type\": \"scatter\", \"xaxis\": \"x\", \"y\": [14.62857142857143, 14.902857142857144, 15.012857142857142, 15.107142857142858, 15.181428571428572, 15.207142857142859, 15.187142857142858, 14.995714285714287, 14.415714285714284, 13.975714285714286, 13.557142857142859, 13.297142857142855, 12.989999999999998, 12.384285714285715, 12.098571428571429, 11.92, 11.401428571428571, 11.000000000000002, 10.485714285714286, 10.612857142857141, 10.392857142857142, 10.07, 9.599, 9.137142857142857, 10.725714285714286, 17.784285714285712, 18.754285714285714, 18.72714285714286, 18.788571428571426, 19.020000000000003, 18.024285714285714, 17.615714285714287, 17.69, 16.701428571428572, 15.385714285714286, 14.657142857142857, 15.092857142857142, 14.288571428571428, 12.488571428571428, 12.321428571428571, 12.791428571428572, 12.718571428571428, 12.05142857142857, 11.242857142857144, 11.234285714285717, 11.445714285714285, 11.275714285714285, 10.842857142857143, 10.092857142857143, 9.784285714285716, 9.590000000000002, 9.4775], \"yaxis\": \"y\"}, {\"hoverlabel\": {\"namelength\": 0}, \"hovertemplate\": \"YEAR=2016.0<br>PRESENT_STORAGE_TMC=%{y}\", \"legendgroup\": \"YEAR=2016.0\", \"line\": {\"color\": \"#FF6692\", \"dash\": \"solid\"}, \"mode\": \"lines\", \"name\": \"YEAR=2016.0\", \"showlegend\": true, \"type\": \"scatter\", \"xaxis\": \"x\", \"y\": [9.572857142857142, 9.571428571428571, 9.515714285714285, 9.59, 9.558571428571428, 9.400000000000002, 9.317142857142857, 9.03, 8.30625, 7.6899999999999995, 7.284285714285716, 6.922857142857142, 6.554285714285714, 6.177142857142859, 5.638571428571429, 5.062857142857143, 4.5600000000000005, 4.014285714285715, 3.617142857142857, 3.1771428571428575, 2.7257142857142855, 2.511428571428571, 2.3242857142857147, 2.32, 2.6585714285714284, 4.384285714285714, 8.607142857142858, 10.884285714285713, 12.467142857142857, 13.624285714285715, 14.167142857142858, 14.595714285714285, 14.840000000000002, 15.424285714285714, 14.705714285714285, 14.625714285714285, 12.657142857142858, 11.512857142857143, 11.98857142857143, 12.174285714285714, 10.59, 10.501428571428573, 10.267142857142858, 9.62857142857143, 9.685714285714285, 9.02, 8.864285714285716, 8.635714285714286, 8.471428571428572, 8.224285714285713, 7.984285714285716, 7.734999999999999], \"yaxis\": \"y\"}, {\"hoverlabel\": {\"namelength\": 0}, \"hovertemplate\": \"YEAR=2017.0<br>PRESENT_STORAGE_TMC=%{y}\", \"legendgroup\": \"YEAR=2017.0\", \"line\": {\"color\": \"#B6E880\", \"dash\": \"solid\"}, \"mode\": \"lines\", \"name\": \"YEAR=2017.0\", \"showlegend\": true, \"type\": \"scatter\", \"xaxis\": \"x\", \"y\": [7.47, 7.20857142857143, 6.9399999999999995, 6.6899999999999995, 6.428571428571428, 6.062857142857143, 5.701428571428572, 5.317142857142857, 4.868571428571428, 4.501428571428571, 4.418571428571428, 4.3500000000000005, 4.28, 4.205714285714286, 4.13, 4.041428571428571, 3.9828571428571427, 3.937142857142857, 3.867142857142857, 3.79, 3.7228571428571433, 3.668571428571429, 3.6314285714285717, 3.8214285714285716, 4.117142857142857, 5.997142857142856, 8.285714285714286, 8.904285714285715, 10.862857142857143, 13.501428571428571, 12.175714285714283, 11.76142857142857, 10.651428571428571, 11.171428571428573, 13.644285714285715, 15.755714285714285, 16.442857142857143, 18.565714285714282, 18.374285714285715, 17.60142857142857, 17.494285714285713, 18.22142857142857, 18.360000000000003, 18.071428571428573, 17.572857142857142, 17.445714285714285, 17.102857142857143, 16.184285714285714, 15.547142857142859, 15.284285714285714, 14.852857142857143, 14.090000000000002], \"yaxis\": \"y\"}, {\"hoverlabel\": {\"namelength\": 0}, \"hovertemplate\": \"YEAR=2018.0<br>PRESENT_STORAGE_TMC=%{y}\", \"legendgroup\": \"YEAR=2018.0\", \"line\": {\"color\": \"#FF97FF\", \"dash\": \"solid\"}, \"mode\": \"lines\", \"name\": \"YEAR=2018.0\", \"showlegend\": true, \"type\": \"scatter\", \"xaxis\": \"x\", \"y\": [13.775714285714287, 13.602857142857143, 13.452857142857143, 13.302857142857144, 13.09, 12.462857142857144, 11.21285714285714, 10.482857142857142, 10.014285714285714, 9.267142857142858, 8.364285714285714, 8.287142857142857, 7.961428571428571, 7.557142857142857, 6.75, 6.227142857142858, 5.975714285714285, 5.681428571428571, 5.477142857142858, 5.4471428571428575, 5.562857142857142, 6.465714285714286, 7.3825, 15.011666666666665, 17.904285714285713, 18.165714285714284, 18.438571428571432, 18.0, 18.477142857142855, 18.794285714285714, 18.93, 18.294285714285714, 16.334285714285716, 18.250000000000004, 18.82857142857143, 19.284285714285712, 19.298571428571428, 19.000000000000004, 18.47714285714286, 18.53, 19.078571428571426, 19.262857142857143, 19.294285714285714, 18.458571428571428, 17.62857142857143, 16.77428571428571, 16.037142857142857, 15.534285714285716, 15.0, 15.171428571428569, 14.969999999999999, 15.03625], \"yaxis\": \"y\"}, {\"hoverlabel\": {\"namelength\": 0}, \"hovertemplate\": \"YEAR=2019.0<br>PRESENT_STORAGE_TMC=%{y}\", \"legendgroup\": \"YEAR=2019.0\", \"line\": {\"color\": \"#FECB52\", \"dash\": \"solid\"}, \"mode\": \"lines\", \"name\": \"YEAR=2019.0\", \"showlegend\": true, \"type\": \"scatter\", \"xaxis\": \"x\", \"y\": [15.13, 15.014285714285714, 14.900000000000002, 14.727142857142857, 14.645714285714286, 14.454285714285716, 14.184285714285712, 13.794285714285715, 13.350000000000003, 12.817142857142857, 12.295714285714284, 11.585714285714287, 10.515714285714285, 9.861428571428572, 9.164285714285715, 8.215714285714286, 7.991428571428571, 7.841428571428572, 7.5371428571428565, 7.249999999999999, 6.991428571428571, 6.594285714285713, 6.175714285714286, 6.168571428571428, 6.107142857142856, 6.384285714285715, 7.195714285714287, 10.335714285714285, 11.52285714285714, 13.207142857142857, 13.60714285714286, 14.997142857142858, 19.071428571428573, 19.395714285714284, 19.407142857142862, 19.304285714285715, 19.400000000000002, 19.508571428571425, 19.52, 19.41857142857143, 19.264285714285716, 19.344285714285714, 19.45285714285714, 19.47714285714286, 19.301428571428573, 19.02857142857143, 18.157142857142855, 16.987142857142857, 16.42142857142857, 15.751428571428573, 14.268571428571429, 15.211250000000001], \"yaxis\": \"y\"}, {\"hoverlabel\": {\"namelength\": 0}, \"hovertemplate\": \"YEAR=2020.0<br>PRESENT_STORAGE_TMC=%{y}\", \"legendgroup\": \"YEAR=2020.0\", \"line\": {\"color\": \"#636efa\", \"dash\": \"solid\"}, \"mode\": \"lines\", \"name\": \"YEAR=2020.0\", \"showlegend\": true, \"type\": \"scatter\", \"xaxis\": \"x\", \"y\": [15.360000000000001, 15.498571428571429, 15.662857142857144, 15.815714285714284, 15.959999999999999, 16.084285714285716, 16.09, 16.114285714285717, 15.419999999999998, 14.351428571428572, 13.702857142857141, 13.305714285714286, 12.905714285714286, 12.207142857142857, 11.681428571428572, 11.295714285714284, 10.819999999999997, 10.450000000000001, 9.877142857142857, 8.981428571428571, 8.434285714285714, 8.097142857142858, 8.067, 8.03, 8.214285714285714, 7.97, 8.997142857142858, 15.29857142857143, 15.982857142857144, 18.875714285714285, 19.442857142857143, 18.954285714285714, 18.70571428571429, 19.26571428571429, 19.27285714285714, 19.41, 19.252857142857142, 18.97, 19.189999999999998, 18.59, 17.60571428571429, 16.832857142857144, 15.838571428571427, 14.707142857142856, 13.605714285714287, 12.67, 12.372857142857145], \"yaxis\": \"y\"}],\n",
              "                        {\"legend\": {\"tracegroupgap\": 0}, \"margin\": {\"t\": 60}, \"template\": {\"data\": {\"bar\": [{\"error_x\": {\"color\": \"#2a3f5f\"}, \"error_y\": {\"color\": \"#2a3f5f\"}, \"marker\": {\"line\": {\"color\": \"#E5ECF6\", \"width\": 0.5}}, \"type\": \"bar\"}], \"barpolar\": [{\"marker\": {\"line\": {\"color\": \"#E5ECF6\", \"width\": 0.5}}, \"type\": \"barpolar\"}], \"carpet\": [{\"aaxis\": {\"endlinecolor\": \"#2a3f5f\", \"gridcolor\": \"white\", \"linecolor\": \"white\", \"minorgridcolor\": \"white\", \"startlinecolor\": \"#2a3f5f\"}, \"baxis\": {\"endlinecolor\": \"#2a3f5f\", \"gridcolor\": \"white\", \"linecolor\": \"white\", \"minorgridcolor\": \"white\", \"startlinecolor\": \"#2a3f5f\"}, \"type\": \"carpet\"}], \"choropleth\": [{\"colorbar\": {\"outlinewidth\": 0, \"ticks\": \"\"}, \"type\": \"choropleth\"}], \"contour\": [{\"colorbar\": {\"outlinewidth\": 0, \"ticks\": \"\"}, \"colorscale\": [[0.0, \"#0d0887\"], [0.1111111111111111, \"#46039f\"], [0.2222222222222222, \"#7201a8\"], [0.3333333333333333, \"#9c179e\"], [0.4444444444444444, \"#bd3786\"], [0.5555555555555556, \"#d8576b\"], [0.6666666666666666, \"#ed7953\"], [0.7777777777777778, \"#fb9f3a\"], [0.8888888888888888, \"#fdca26\"], [1.0, \"#f0f921\"]], \"type\": \"contour\"}], \"contourcarpet\": [{\"colorbar\": {\"outlinewidth\": 0, \"ticks\": \"\"}, \"type\": \"contourcarpet\"}], \"heatmap\": [{\"colorbar\": {\"outlinewidth\": 0, \"ticks\": \"\"}, \"colorscale\": [[0.0, \"#0d0887\"], [0.1111111111111111, \"#46039f\"], [0.2222222222222222, \"#7201a8\"], [0.3333333333333333, \"#9c179e\"], [0.4444444444444444, \"#bd3786\"], [0.5555555555555556, \"#d8576b\"], [0.6666666666666666, \"#ed7953\"], [0.7777777777777778, \"#fb9f3a\"], [0.8888888888888888, \"#fdca26\"], [1.0, \"#f0f921\"]], \"type\": \"heatmap\"}], \"heatmapgl\": [{\"colorbar\": {\"outlinewidth\": 0, \"ticks\": \"\"}, \"colorscale\": [[0.0, \"#0d0887\"], [0.1111111111111111, \"#46039f\"], [0.2222222222222222, \"#7201a8\"], [0.3333333333333333, \"#9c179e\"], [0.4444444444444444, \"#bd3786\"], [0.5555555555555556, \"#d8576b\"], [0.6666666666666666, \"#ed7953\"], [0.7777777777777778, \"#fb9f3a\"], [0.8888888888888888, \"#fdca26\"], [1.0, \"#f0f921\"]], \"type\": \"heatmapgl\"}], \"histogram\": [{\"marker\": {\"colorbar\": {\"outlinewidth\": 0, \"ticks\": \"\"}}, \"type\": \"histogram\"}], \"histogram2d\": [{\"colorbar\": {\"outlinewidth\": 0, \"ticks\": \"\"}, \"colorscale\": [[0.0, \"#0d0887\"], [0.1111111111111111, \"#46039f\"], [0.2222222222222222, \"#7201a8\"], [0.3333333333333333, \"#9c179e\"], [0.4444444444444444, \"#bd3786\"], [0.5555555555555556, \"#d8576b\"], [0.6666666666666666, \"#ed7953\"], [0.7777777777777778, \"#fb9f3a\"], [0.8888888888888888, \"#fdca26\"], [1.0, \"#f0f921\"]], \"type\": \"histogram2d\"}], \"histogram2dcontour\": [{\"colorbar\": {\"outlinewidth\": 0, \"ticks\": \"\"}, \"colorscale\": [[0.0, \"#0d0887\"], [0.1111111111111111, \"#46039f\"], [0.2222222222222222, \"#7201a8\"], [0.3333333333333333, \"#9c179e\"], [0.4444444444444444, \"#bd3786\"], [0.5555555555555556, \"#d8576b\"], [0.6666666666666666, \"#ed7953\"], [0.7777777777777778, \"#fb9f3a\"], [0.8888888888888888, \"#fdca26\"], [1.0, \"#f0f921\"]], \"type\": \"histogram2dcontour\"}], \"mesh3d\": [{\"colorbar\": {\"outlinewidth\": 0, \"ticks\": \"\"}, \"type\": \"mesh3d\"}], \"parcoords\": [{\"line\": {\"colorbar\": {\"outlinewidth\": 0, \"ticks\": \"\"}}, \"type\": \"parcoords\"}], \"pie\": [{\"automargin\": true, \"type\": \"pie\"}], \"scatter\": [{\"marker\": {\"colorbar\": {\"outlinewidth\": 0, \"ticks\": \"\"}}, \"type\": \"scatter\"}], \"scatter3d\": [{\"line\": {\"colorbar\": {\"outlinewidth\": 0, \"ticks\": \"\"}}, \"marker\": {\"colorbar\": {\"outlinewidth\": 0, \"ticks\": \"\"}}, \"type\": \"scatter3d\"}], \"scattercarpet\": [{\"marker\": {\"colorbar\": {\"outlinewidth\": 0, \"ticks\": \"\"}}, \"type\": \"scattercarpet\"}], \"scattergeo\": [{\"marker\": {\"colorbar\": {\"outlinewidth\": 0, \"ticks\": \"\"}}, \"type\": \"scattergeo\"}], \"scattergl\": [{\"marker\": {\"colorbar\": {\"outlinewidth\": 0, \"ticks\": \"\"}}, \"type\": \"scattergl\"}], \"scattermapbox\": [{\"marker\": {\"colorbar\": {\"outlinewidth\": 0, \"ticks\": \"\"}}, \"type\": \"scattermapbox\"}], \"scatterpolar\": [{\"marker\": {\"colorbar\": {\"outlinewidth\": 0, \"ticks\": \"\"}}, \"type\": \"scatterpolar\"}], \"scatterpolargl\": [{\"marker\": {\"colorbar\": {\"outlinewidth\": 0, \"ticks\": \"\"}}, \"type\": \"scatterpolargl\"}], \"scatterternary\": [{\"marker\": {\"colorbar\": {\"outlinewidth\": 0, \"ticks\": \"\"}}, \"type\": \"scatterternary\"}], \"surface\": [{\"colorbar\": {\"outlinewidth\": 0, \"ticks\": \"\"}, \"colorscale\": [[0.0, \"#0d0887\"], [0.1111111111111111, \"#46039f\"], [0.2222222222222222, \"#7201a8\"], [0.3333333333333333, \"#9c179e\"], [0.4444444444444444, \"#bd3786\"], [0.5555555555555556, \"#d8576b\"], [0.6666666666666666, \"#ed7953\"], [0.7777777777777778, \"#fb9f3a\"], [0.8888888888888888, \"#fdca26\"], [1.0, \"#f0f921\"]], \"type\": \"surface\"}], \"table\": [{\"cells\": {\"fill\": {\"color\": \"#EBF0F8\"}, \"line\": {\"color\": \"white\"}}, \"header\": {\"fill\": {\"color\": \"#C8D4E3\"}, \"line\": {\"color\": \"white\"}}, \"type\": \"table\"}]}, \"layout\": {\"annotationdefaults\": {\"arrowcolor\": \"#2a3f5f\", \"arrowhead\": 0, \"arrowwidth\": 1}, \"coloraxis\": {\"colorbar\": {\"outlinewidth\": 0, \"ticks\": \"\"}}, \"colorscale\": {\"diverging\": [[0, \"#8e0152\"], [0.1, \"#c51b7d\"], [0.2, \"#de77ae\"], [0.3, \"#f1b6da\"], [0.4, \"#fde0ef\"], [0.5, \"#f7f7f7\"], [0.6, \"#e6f5d0\"], [0.7, \"#b8e186\"], [0.8, \"#7fbc41\"], [0.9, \"#4d9221\"], [1, \"#276419\"]], \"sequential\": [[0.0, \"#0d0887\"], [0.1111111111111111, \"#46039f\"], [0.2222222222222222, \"#7201a8\"], [0.3333333333333333, \"#9c179e\"], [0.4444444444444444, \"#bd3786\"], [0.5555555555555556, \"#d8576b\"], [0.6666666666666666, \"#ed7953\"], [0.7777777777777778, \"#fb9f3a\"], [0.8888888888888888, \"#fdca26\"], [1.0, \"#f0f921\"]], \"sequentialminus\": [[0.0, \"#0d0887\"], [0.1111111111111111, \"#46039f\"], [0.2222222222222222, \"#7201a8\"], [0.3333333333333333, \"#9c179e\"], [0.4444444444444444, \"#bd3786\"], [0.5555555555555556, \"#d8576b\"], [0.6666666666666666, \"#ed7953\"], [0.7777777777777778, \"#fb9f3a\"], [0.8888888888888888, \"#fdca26\"], [1.0, \"#f0f921\"]]}, \"colorway\": [\"#636efa\", \"#EF553B\", \"#00cc96\", \"#ab63fa\", \"#FFA15A\", \"#19d3f3\", \"#FF6692\", \"#B6E880\", \"#FF97FF\", \"#FECB52\"], \"font\": {\"color\": \"#2a3f5f\"}, \"geo\": {\"bgcolor\": \"white\", \"lakecolor\": \"white\", \"landcolor\": \"#E5ECF6\", \"showlakes\": true, \"showland\": true, \"subunitcolor\": \"white\"}, \"hoverlabel\": {\"align\": \"left\"}, \"hovermode\": \"closest\", \"mapbox\": {\"style\": \"light\"}, \"paper_bgcolor\": \"white\", \"plot_bgcolor\": \"#E5ECF6\", \"polar\": {\"angularaxis\": {\"gridcolor\": \"white\", \"linecolor\": \"white\", \"ticks\": \"\"}, \"bgcolor\": \"#E5ECF6\", \"radialaxis\": {\"gridcolor\": \"white\", \"linecolor\": \"white\", \"ticks\": \"\"}}, \"scene\": {\"xaxis\": {\"backgroundcolor\": \"#E5ECF6\", \"gridcolor\": \"white\", \"gridwidth\": 2, \"linecolor\": \"white\", \"showbackground\": true, \"ticks\": \"\", \"zerolinecolor\": \"white\"}, \"yaxis\": {\"backgroundcolor\": \"#E5ECF6\", \"gridcolor\": \"white\", \"gridwidth\": 2, \"linecolor\": \"white\", \"showbackground\": true, \"ticks\": \"\", \"zerolinecolor\": \"white\"}, \"zaxis\": {\"backgroundcolor\": \"#E5ECF6\", \"gridcolor\": \"white\", \"gridwidth\": 2, \"linecolor\": \"white\", \"showbackground\": true, \"ticks\": \"\", \"zerolinecolor\": \"white\"}}, \"shapedefaults\": {\"line\": {\"color\": \"#2a3f5f\"}}, \"ternary\": {\"aaxis\": {\"gridcolor\": \"white\", \"linecolor\": \"white\", \"ticks\": \"\"}, \"baxis\": {\"gridcolor\": \"white\", \"linecolor\": \"white\", \"ticks\": \"\"}, \"bgcolor\": \"#E5ECF6\", \"caxis\": {\"gridcolor\": \"white\", \"linecolor\": \"white\", \"ticks\": \"\"}}, \"title\": {\"x\": 0.05}, \"xaxis\": {\"automargin\": true, \"gridcolor\": \"white\", \"linecolor\": \"white\", \"ticks\": \"\", \"title\": {\"standoff\": 15}, \"zerolinecolor\": \"white\", \"zerolinewidth\": 2}, \"yaxis\": {\"automargin\": true, \"gridcolor\": \"white\", \"linecolor\": \"white\", \"ticks\": \"\", \"title\": {\"standoff\": 15}, \"zerolinecolor\": \"white\", \"zerolinewidth\": 2}}}, \"xaxis\": {\"anchor\": \"y\", \"domain\": [0.0, 1.0]}, \"yaxis\": {\"anchor\": \"x\", \"domain\": [0.0, 1.0], \"title\": {\"text\": \"PRESENT_STORAGE_TMC\"}}},\n",
              "                        {\"responsive\": true}\n",
              "                    ).then(function(){\n",
              "                            \n",
              "var gd = document.getElementById('05dc0fc2-01a3-441c-8369-42c19558c8fd');\n",
              "var x = new MutationObserver(function (mutations, observer) {{\n",
              "        var display = window.getComputedStyle(gd).display;\n",
              "        if (!display || display === 'none') {{\n",
              "            console.log([gd, 'removed!']);\n",
              "            Plotly.purge(gd);\n",
              "            observer.disconnect();\n",
              "        }}\n",
              "}});\n",
              "\n",
              "// Listen for the removal of the full notebook cells\n",
              "var notebookContainer = gd.closest('#notebook-container');\n",
              "if (notebookContainer) {{\n",
              "    x.observe(notebookContainer, {childList: true});\n",
              "}}\n",
              "\n",
              "// Listen for the clearing of the current output cell\n",
              "var outputEl = gd.closest('.output');\n",
              "if (outputEl) {{\n",
              "    x.observe(outputEl, {childList: true});\n",
              "}}\n",
              "\n",
              "                        })\n",
              "                };\n",
              "                \n",
              "            </script>\n",
              "        </div>\n",
              "</body>\n",
              "</html>"
            ]
          },
          "metadata": {
            "tags": []
          }
        }
      ]
    },
    {
      "cell_type": "markdown",
      "metadata": {
        "id": "Z9WlvdRiGg9b"
      },
      "source": [
        "storage is decreasing and as soon as monsoon is coming storage is increasing and started declining from 48th week like that\n"
      ]
    },
    {
      "cell_type": "code",
      "metadata": {
        "id": "Hle3J3zUGMaZ"
      },
      "source": [
        ""
      ],
      "execution_count": null,
      "outputs": []
    }
  ]
}